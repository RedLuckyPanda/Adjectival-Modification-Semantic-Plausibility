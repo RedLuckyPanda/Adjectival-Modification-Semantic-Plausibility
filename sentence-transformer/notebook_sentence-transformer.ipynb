{
  "cells": [
    {
      "cell_type": "markdown",
      "metadata": {},
      "source": [
        "# Introduction\n",
        "\n",
        "In this notebook, we **fine-tune and test** **a pre-trained sentence transformer model on the ADEPT dataset**.\n",
        "\n",
        "ADEPT dataset: https://aclanthology.org/2021.acl-long.553/\n",
        "\n",
        "Model:\n",
        "* MPNet: https://huggingface.co/sentence-transformers/all-mpnet-base-v2\n",
        "\n",
        "Here we are going to demonstrate the fine-tuning and testing process."
      ]
    },
    {
      "cell_type": "markdown",
      "metadata": {
        "id": "kmcypoWk0F1s"
      },
      "source": [
        "# Setup"
      ]
    },
    {
      "cell_type": "code",
      "execution_count": 39,
      "metadata": {
        "id": "9lTVjC1_Tg6b"
      },
      "outputs": [],
      "source": [
        "import pandas as pd\n",
        "import numpy as np\n",
        "from tqdm import tqdm\n",
        "from typing import Tuple\n",
        "import random\n",
        "from sklearn.metrics import f1_score, confusion_matrix\n",
        "\n",
        "import matplotlib.pyplot as plt\n",
        "import seaborn as sns\n",
        "sns.set_theme()\n",
        "\n",
        "import torch\n",
        "from torch.utils.data import DataLoader, RandomSampler, SequentialSampler\n",
        "from sentence_transformers import SentenceTransformer, LoggingHandler, losses, util, InputExample"
      ]
    },
    {
      "cell_type": "code",
      "execution_count": 40,
      "metadata": {},
      "outputs": [],
      "source": [
        "# switch model here: currently only supports all-mpnet-base-v2\n",
        "model_name = \"all-mpnet-base-v2\"\n",
        "# switch between balanced and full dataset\n",
        "balanced = True\n",
        "run_ID = 9"
      ]
    },
    {
      "cell_type": "markdown",
      "metadata": {
        "id": "wQ5ppVxvPZ5F"
      },
      "source": [
        "Time formatting function"
      ]
    },
    {
      "cell_type": "code",
      "execution_count": 41,
      "metadata": {
        "id": "145_bvIlMo2M"
      },
      "outputs": [],
      "source": [
        "import time\n",
        "import datetime\n",
        "\n",
        "def format_time(elapsed):\n",
        "    '''\n",
        "    Takes a time in seconds and returns a string hh:mm:ss\n",
        "    '''\n",
        "    # Round to the nearest second.\n",
        "    elapsed_rounded = int(round((elapsed)))\n",
        "\n",
        "    # Format as hh:mm:ss\n",
        "    return str(datetime.timedelta(seconds=elapsed_rounded))"
      ]
    },
    {
      "cell_type": "markdown",
      "metadata": {
        "id": "xghORKo-PnW9"
      },
      "source": [
        "Set random seed values for reproducibility"
      ]
    },
    {
      "cell_type": "code",
      "execution_count": 42,
      "metadata": {
        "id": "iWDLeBDrPmps"
      },
      "outputs": [],
      "source": [
        "seed_val = 42\n",
        "\n",
        "random.seed(seed_val)\n",
        "np.random.seed(seed_val)\n",
        "torch.manual_seed(seed_val)\n",
        "torch.cuda.manual_seed_all(seed_val)"
      ]
    },
    {
      "cell_type": "markdown",
      "metadata": {
        "id": "ISrPk7CmUEU8"
      },
      "source": [
        "Introduce GPU"
      ]
    },
    {
      "cell_type": "code",
      "execution_count": 43,
      "metadata": {
        "colab": {
          "base_uri": "https://localhost:8080/"
        },
        "id": "52gn07RRUGhp",
        "outputId": "0462d239-e588-4524-c797-15303e8d0ec8"
      },
      "outputs": [
        {
          "data": {
            "text/plain": [
              "device(type='cuda')"
            ]
          },
          "execution_count": 43,
          "metadata": {},
          "output_type": "execute_result"
        }
      ],
      "source": [
        "device = torch.device('cuda') if torch.cuda.is_available() else torch.device('cpu')\n",
        "device"
      ]
    },
    {
      "cell_type": "markdown",
      "metadata": {
        "id": "hkyqsxGN0Y1Q"
      },
      "source": [
        "# Read the data"
      ]
    },
    {
      "cell_type": "code",
      "execution_count": 44,
      "metadata": {
        "id": "SE4g4J_2zsDp"
      },
      "outputs": [],
      "source": [
        "train = pd.read_json('../datasets/adept/train-dev-test-split/train.json')\n",
        "dev = pd.read_json('../datasets/adept/train-dev-test-split/val.json')\n",
        "test = pd.read_json('../datasets/adept/train-dev-test-split/test.json')\n",
        "\n",
        "train['set'] = 'train'\n",
        "dev['set'] = 'dev'\n",
        "test['set'] = 'test'\n",
        "df = pd.concat([train, dev, test])"
      ]
    },
    {
      "cell_type": "code",
      "execution_count": 45,
      "metadata": {
        "colab": {
          "base_uri": "https://localhost:8080/",
          "height": 223
        },
        "id": "I4216VEZ07rT",
        "outputId": "517765cc-1ac9-42d1-f1c9-53098a954784"
      },
      "outputs": [
        {
          "data": {
            "text/html": [
              "<div>\n",
              "<style scoped>\n",
              "    .dataframe tbody tr th:only-of-type {\n",
              "        vertical-align: middle;\n",
              "    }\n",
              "\n",
              "    .dataframe tbody tr th {\n",
              "        vertical-align: top;\n",
              "    }\n",
              "\n",
              "    .dataframe thead th {\n",
              "        text-align: right;\n",
              "    }\n",
              "</style>\n",
              "<table border=\"1\" class=\"dataframe\">\n",
              "  <thead>\n",
              "    <tr style=\"text-align: right;\">\n",
              "      <th></th>\n",
              "      <th>sentence1</th>\n",
              "      <th>sentence2</th>\n",
              "      <th>modifier</th>\n",
              "      <th>noun</th>\n",
              "      <th>label</th>\n",
              "      <th>idx</th>\n",
              "      <th>set</th>\n",
              "    </tr>\n",
              "  </thead>\n",
              "  <tbody>\n",
              "    <tr>\n",
              "      <th>0</th>\n",
              "      <td>The effect of sleeping is rejuvenation.</td>\n",
              "      <td>The effect of additional sleeping is rejuvenat...</td>\n",
              "      <td>additional</td>\n",
              "      <td>sleeping</td>\n",
              "      <td>3</td>\n",
              "      <td>13484</td>\n",
              "      <td>train</td>\n",
              "    </tr>\n",
              "    <tr>\n",
              "      <th>1</th>\n",
              "      <td>A toothbrush is for fresh breath.</td>\n",
              "      <td>A regular toothbrush is for fresh breath.</td>\n",
              "      <td>regular</td>\n",
              "      <td>toothbrush</td>\n",
              "      <td>2</td>\n",
              "      <td>2620</td>\n",
              "      <td>train</td>\n",
              "    </tr>\n",
              "    <tr>\n",
              "      <th>2</th>\n",
              "      <td>A scene is painted.</td>\n",
              "      <td>A negative scene is painted.</td>\n",
              "      <td>negative</td>\n",
              "      <td>scene</td>\n",
              "      <td>2</td>\n",
              "      <td>3324</td>\n",
              "      <td>train</td>\n",
              "    </tr>\n",
              "    <tr>\n",
              "      <th>3</th>\n",
              "      <td>A bone breaks a tooth.</td>\n",
              "      <td>An alleged bone breaks a tooth.</td>\n",
              "      <td>alleged</td>\n",
              "      <td>bone</td>\n",
              "      <td>2</td>\n",
              "      <td>10610</td>\n",
              "      <td>train</td>\n",
              "    </tr>\n",
              "    <tr>\n",
              "      <th>4</th>\n",
              "      <td>A trip causes a happening.</td>\n",
              "      <td>A fabulous trip causes a happening.</td>\n",
              "      <td>fabulous</td>\n",
              "      <td>trip</td>\n",
              "      <td>2</td>\n",
              "      <td>14917</td>\n",
              "      <td>train</td>\n",
              "    </tr>\n",
              "  </tbody>\n",
              "</table>\n",
              "</div>"
            ],
            "text/plain": [
              "                                 sentence1  \\\n",
              "0  The effect of sleeping is rejuvenation.   \n",
              "1        A toothbrush is for fresh breath.   \n",
              "2                      A scene is painted.   \n",
              "3                   A bone breaks a tooth.   \n",
              "4               A trip causes a happening.   \n",
              "\n",
              "                                           sentence2    modifier        noun  \\\n",
              "0  The effect of additional sleeping is rejuvenat...  additional    sleeping   \n",
              "1          A regular toothbrush is for fresh breath.     regular  toothbrush   \n",
              "2                       A negative scene is painted.    negative       scene   \n",
              "3                    An alleged bone breaks a tooth.     alleged        bone   \n",
              "4                A fabulous trip causes a happening.    fabulous        trip   \n",
              "\n",
              "   label    idx    set  \n",
              "0      3  13484  train  \n",
              "1      2   2620  train  \n",
              "2      2   3324  train  \n",
              "3      2  10610  train  \n",
              "4      2  14917  train  "
            ]
          },
          "execution_count": 45,
          "metadata": {},
          "output_type": "execute_result"
        }
      ],
      "source": [
        "df.head()"
      ]
    },
    {
      "cell_type": "code",
      "execution_count": 46,
      "metadata": {
        "colab": {
          "base_uri": "https://localhost:8080/"
        },
        "id": "PGylXrusOEjN",
        "outputId": "67b7527e-fea6-4233-cbe8-18a2c2a9c6ae"
      },
      "outputs": [
        {
          "data": {
            "text/plain": [
              "set\n",
              "train    12892\n",
              "test      1612\n",
              "dev       1611\n",
              "Name: count, dtype: int64"
            ]
          },
          "execution_count": 46,
          "metadata": {},
          "output_type": "execute_result"
        }
      ],
      "source": [
        "df['set'].value_counts()"
      ]
    },
    {
      "cell_type": "markdown",
      "metadata": {
        "id": "w4oLUaj1NWXL"
      },
      "source": [
        "Only keep label classes 1, 2 and 3 (comparison labels). Map them to 0, 1 and 2 for training convenience:\n",
        "\n",
        "* 1 => 0\n",
        "* 2 => 1\n",
        "* 3 => 2"
      ]
    },
    {
      "cell_type": "code",
      "execution_count": 47,
      "metadata": {
        "colab": {
          "base_uri": "https://localhost:8080/"
        },
        "id": "1afKI0w9NgKF",
        "outputId": "fa9fc61a-44d3-4c89-faa8-9d1d69ece91a"
      },
      "outputs": [
        {
          "data": {
            "text/plain": [
              "label\n",
              "2    10805\n",
              "1     1868\n",
              "3     1132\n",
              "Name: count, dtype: int64"
            ]
          },
          "execution_count": 47,
          "metadata": {},
          "output_type": "execute_result"
        }
      ],
      "source": [
        "df = df[df['label'].isin([1, 2, 3])]\n",
        "df['label'].value_counts()"
      ]
    },
    {
      "cell_type": "markdown",
      "metadata": {},
      "source": [
        "Since the sentence transformer only outputs a distance metric between embeddings,\n",
        "we have to take an extra step to map the outputs to our classes.\n",
        "To make that easier we have for now chosen to convert our classes to values\n",
        "ranging from 0 to 1, as this is similar to the original output range of the model.\n",
        "\n",
        "\n",
        "We map class 1 to 0, class 2 to 0.5 and class 3 to 1"
      ]
    },
    {
      "cell_type": "code",
      "execution_count": 48,
      "metadata": {
        "colab": {
          "base_uri": "https://localhost:8080/"
        },
        "id": "7X8GSft9Xurn",
        "outputId": "2212d847-cac3-49d9-b91a-d255d05901eb"
      },
      "outputs": [
        {
          "data": {
            "text/plain": [
              "label\n",
              "0.5    10805\n",
              "0.0     1868\n",
              "1.0     1132\n",
              "Name: count, dtype: int64"
            ]
          },
          "execution_count": 48,
          "metadata": {},
          "output_type": "execute_result"
        }
      ],
      "source": [
        "# map the labels to numbers between 1 and 0\n",
        "df['label'] = df['label'] * 0.5\n",
        "df['label'] -= 0.5\n",
        "df['label'].value_counts()"
      ]
    },
    {
      "cell_type": "markdown",
      "metadata": {
        "id": "o9a6d1ya0i8o"
      },
      "source": [
        "Filter out duplicated data points"
      ]
    },
    {
      "cell_type": "code",
      "execution_count": 49,
      "metadata": {
        "colab": {
          "base_uri": "https://localhost:8080/"
        },
        "id": "5lF3RoGX0tqI",
        "outputId": "7c4a1137-9759-447e-a5b8-70a0c7051748"
      },
      "outputs": [
        {
          "data": {
            "text/plain": [
              "label\n",
              "0.5    10800\n",
              "0.0     1866\n",
              "1.0     1129\n",
              "Name: count, dtype: int64"
            ]
          },
          "execution_count": 49,
          "metadata": {},
          "output_type": "execute_result"
        }
      ],
      "source": [
        "df = df.drop_duplicates(subset=['sentence2'], keep='first')\n",
        "df['label'].value_counts()"
      ]
    },
    {
      "cell_type": "markdown",
      "metadata": {},
      "source": [
        "# Class balance"
      ]
    },
    {
      "cell_type": "code",
      "execution_count": 50,
      "metadata": {
        "id": "hGipyS5KVq6G"
      },
      "outputs": [],
      "source": [
        "train = df[df['set'] == 'train']\n",
        "dev = df[df['set'] == 'dev']\n",
        "test = df[df['set'] == 'test']"
      ]
    },
    {
      "cell_type": "code",
      "execution_count": 51,
      "metadata": {
        "colab": {
          "base_uri": "https://localhost:8080/"
        },
        "id": "L8vAak_iV1-r",
        "outputId": "659214f9-8f97-4a13-b6ff-c1fbe7d0505e"
      },
      "outputs": [
        {
          "data": {
            "text/plain": [
              "label\n",
              "0.5    8631\n",
              "0.0    1503\n",
              "1.0     926\n",
              "Name: count, dtype: int64"
            ]
          },
          "execution_count": 51,
          "metadata": {},
          "output_type": "execute_result"
        }
      ],
      "source": [
        "train['label'].value_counts()"
      ]
    },
    {
      "cell_type": "markdown",
      "metadata": {},
      "source": [
        "The training data is heavily skewed towards class 1. As an option, we can balance the training data by randomly sampling 1500 examples from this class instead of using all of its samples"
      ]
    },
    {
      "cell_type": "code",
      "execution_count": 52,
      "metadata": {
        "colab": {
          "base_uri": "https://localhost:8080/"
        },
        "id": "Wzxn1y6CNxL-",
        "outputId": "8a83b9c1-4a89-4e34-e48b-af1ee9458f31"
      },
      "outputs": [
        {
          "data": {
            "text/plain": [
              "label\n",
              "0.0    1503\n",
              "0.5    1500\n",
              "1.0     926\n",
              "Name: count, dtype: int64"
            ]
          },
          "execution_count": 52,
          "metadata": {},
          "output_type": "execute_result"
        }
      ],
      "source": [
        "balance = True  # set to False to use the original, unbalanced training data\n",
        "\n",
        "if balanced:\n",
        "    train = pd.concat([\n",
        "        train[train['label'].isin([0, 1])],\n",
        "        train[train['label'] == 0.5].sample(1500, random_state=seed_val)\n",
        "    ])\n",
        "train['label'].value_counts()"
      ]
    },
    {
      "cell_type": "code",
      "execution_count": 53,
      "metadata": {
        "colab": {
          "base_uri": "https://localhost:8080/"
        },
        "id": "aYHgXbm-UwC6",
        "outputId": "7b3cf647-728b-45c7-a8bd-49cbf84f2115"
      },
      "outputs": [
        {
          "data": {
            "text/plain": [
              "(3929, 7)"
            ]
          },
          "execution_count": 53,
          "metadata": {},
          "output_type": "execute_result"
        }
      ],
      "source": [
        "train.shape"
      ]
    },
    {
      "cell_type": "markdown",
      "metadata": {
        "id": "rxzp1Gb4OwEy"
      },
      "source": [
        "Save the data frame to make the results reproducible"
      ]
    },
    {
      "cell_type": "code",
      "execution_count": 54,
      "metadata": {
        "id": "avmGaLmnOz_q"
      },
      "outputs": [],
      "source": [
        "train.to_csv('./datasets/adept/train_comparison_balanced.csv', index=False)"
      ]
    },
    {
      "cell_type": "code",
      "execution_count": 55,
      "metadata": {
        "colab": {
          "base_uri": "https://localhost:8080/",
          "height": 258
        },
        "id": "-PjtIcfpVWqF",
        "outputId": "3e64e791-0d38-43b2-d752-1aa22d1492a4"
      },
      "outputs": [
        {
          "data": {
            "text/html": [
              "<div>\n",
              "<style scoped>\n",
              "    .dataframe tbody tr th:only-of-type {\n",
              "        vertical-align: middle;\n",
              "    }\n",
              "\n",
              "    .dataframe tbody tr th {\n",
              "        vertical-align: top;\n",
              "    }\n",
              "\n",
              "    .dataframe thead th {\n",
              "        text-align: right;\n",
              "    }\n",
              "</style>\n",
              "<table border=\"1\" class=\"dataframe\">\n",
              "  <thead>\n",
              "    <tr style=\"text-align: right;\">\n",
              "      <th></th>\n",
              "      <th>sentence1</th>\n",
              "      <th>sentence2</th>\n",
              "      <th>modifier</th>\n",
              "      <th>noun</th>\n",
              "      <th>label</th>\n",
              "      <th>idx</th>\n",
              "      <th>set</th>\n",
              "    </tr>\n",
              "  </thead>\n",
              "  <tbody>\n",
              "    <tr>\n",
              "      <th>0</th>\n",
              "      <td>The effect of sleeping is rejuvenation.</td>\n",
              "      <td>The effect of additional sleeping is rejuvenat...</td>\n",
              "      <td>additional</td>\n",
              "      <td>sleeping</td>\n",
              "      <td>1.0</td>\n",
              "      <td>13484</td>\n",
              "      <td>train</td>\n",
              "    </tr>\n",
              "    <tr>\n",
              "      <th>1</th>\n",
              "      <td>Something that might happen as a consequence o...</td>\n",
              "      <td>Something that might happen as a consequence o...</td>\n",
              "      <td>evocative</td>\n",
              "      <td>singing</td>\n",
              "      <td>0.0</td>\n",
              "      <td>5134</td>\n",
              "      <td>train</td>\n",
              "    </tr>\n",
              "    <tr>\n",
              "      <th>2</th>\n",
              "      <td>Art is for enjoyment.</td>\n",
              "      <td>Natural art is for enjoyment.</td>\n",
              "      <td>natural</td>\n",
              "      <td>art</td>\n",
              "      <td>1.0</td>\n",
              "      <td>1008</td>\n",
              "      <td>train</td>\n",
              "    </tr>\n",
              "    <tr>\n",
              "      <th>3</th>\n",
              "      <td>Sometimes work causes exhaustion.</td>\n",
              "      <td>Sometimes former work causes exhaustion.</td>\n",
              "      <td>former</td>\n",
              "      <td>work</td>\n",
              "      <td>0.0</td>\n",
              "      <td>6706</td>\n",
              "      <td>train</td>\n",
              "    </tr>\n",
              "    <tr>\n",
              "      <th>4</th>\n",
              "      <td>A home is for a family.</td>\n",
              "      <td>A hot home is for a family.</td>\n",
              "      <td>hot</td>\n",
              "      <td>home</td>\n",
              "      <td>0.0</td>\n",
              "      <td>8797</td>\n",
              "      <td>train</td>\n",
              "    </tr>\n",
              "  </tbody>\n",
              "</table>\n",
              "</div>"
            ],
            "text/plain": [
              "                                           sentence1  \\\n",
              "0            The effect of sleeping is rejuvenation.   \n",
              "1  Something that might happen as a consequence o...   \n",
              "2                              Art is for enjoyment.   \n",
              "3                  Sometimes work causes exhaustion.   \n",
              "4                            A home is for a family.   \n",
              "\n",
              "                                           sentence2    modifier      noun  \\\n",
              "0  The effect of additional sleeping is rejuvenat...  additional  sleeping   \n",
              "1  Something that might happen as a consequence o...   evocative   singing   \n",
              "2                      Natural art is for enjoyment.     natural       art   \n",
              "3           Sometimes former work causes exhaustion.      former      work   \n",
              "4                        A hot home is for a family.         hot      home   \n",
              "\n",
              "   label    idx    set  \n",
              "0    1.0  13484  train  \n",
              "1    0.0   5134  train  \n",
              "2    1.0   1008  train  \n",
              "3    0.0   6706  train  \n",
              "4    0.0   8797  train  "
            ]
          },
          "execution_count": 55,
          "metadata": {},
          "output_type": "execute_result"
        }
      ],
      "source": [
        "train = pd.read_csv(f'./datasets/adept/train_comparison_balanced.csv')\n",
        "train.head()"
      ]
    },
    {
      "cell_type": "code",
      "execution_count": 56,
      "metadata": {
        "colab": {
          "base_uri": "https://localhost:8080/"
        },
        "id": "neCprKbTWRae",
        "outputId": "79a866f5-fec9-4901-b796-cba96ac58828"
      },
      "outputs": [
        {
          "data": {
            "text/plain": [
              "(6664, 7)"
            ]
          },
          "execution_count": 56,
          "metadata": {},
          "output_type": "execute_result"
        }
      ],
      "source": [
        "df = pd.concat([train, dev, test])\n",
        "df.reset_index(inplace=True, drop=True)\n",
        "df.shape"
      ]
    },
    {
      "cell_type": "markdown",
      "metadata": {
        "id": "3ghYHSbZ1lpH"
      },
      "source": [
        "# Preparing the Input"
      ]
    },
    {
      "cell_type": "markdown",
      "metadata": {
        "id": "NnqnutO85iXm"
      },
      "source": [
        "Our model input contains both sentences in a list, as well as the target label"
      ]
    },
    {
      "cell_type": "code",
      "execution_count": 57,
      "metadata": {
        "id": "yZ5XN78L5SzB"
      },
      "outputs": [],
      "source": [
        "df['sent_concat'] = df.apply(lambda row: InputExample(texts=[row['sentence1'], row['sentence2']], label=row['label']), axis=1)"
      ]
    },
    {
      "cell_type": "markdown",
      "metadata": {
        "id": "UMIpgKlo2cn7"
      },
      "source": [
        "Since the sentence-transformer model creates it's own embeddings from the data, we don't need a tokenizer."
      ]
    },
    {
      "cell_type": "markdown",
      "metadata": {
        "id": "O5cm7v8t_aFq"
      },
      "source": [
        "We create dataframes containing the correctly formatted input"
      ]
    },
    {
      "cell_type": "code",
      "execution_count": 58,
      "metadata": {
        "colab": {
          "base_uri": "https://localhost:8080/"
        },
        "id": "XpX9SRIZ27CI",
        "outputId": "a62f977c-4ea4-4999-de45-973bc34a2f2c"
      },
      "outputs": [],
      "source": [
        "# train\n",
        "train_docs = df[df['set'] == 'train']['sent_concat'].to_list()\n",
        "\n",
        "# validation (dev)\n",
        "dev_docs = df[df['set'] == 'dev']['sent_concat'].to_list()\n",
        "\n",
        "# test\n",
        "test_docs = df[df['set'] == 'dev']['sent_concat'].to_list()"
      ]
    },
    {
      "cell_type": "markdown",
      "metadata": {
        "id": "kicONCsgBWGq"
      },
      "source": [
        "Create a `torch` dataset and dataloader to conveniently load it into the model"
      ]
    },
    {
      "cell_type": "code",
      "execution_count": 59,
      "metadata": {
        "colab": {
          "base_uri": "https://localhost:8080/"
        },
        "id": "SxpHEe-GBucZ",
        "outputId": "e1e7faa9-eb4a-48ac-a524-d46b16957e9f"
      },
      "outputs": [
        {
          "name": "stdout",
          "output_type": "stream",
          "text": [
            "train:  3929 data points, 246 batches\n",
            "validation (dev): 1355 data points, 85 batches\n"
          ]
        }
      ],
      "source": [
        "batch_size = 16\n",
        "\n",
        "# train\n",
        "train_dataloader = DataLoader(\n",
        "            train_docs,\n",
        "            sampler=RandomSampler(train_docs),  # Select batches randomly\n",
        "            batch_size=batch_size\n",
        "        )\n",
        "\n",
        "# validation (dev)\n",
        "validation_dataloader = DataLoader(\n",
        "            dev_docs,\n",
        "            sampler=SequentialSampler(dev_docs),  # Pull out batches sequentially\n",
        "            batch_size=batch_size\n",
        "        )\n",
        "\n",
        "print(f'train:  {len(train_docs)} data points, {len(train_dataloader)} batches')\n",
        "print(f'validation (dev): {len(dev_docs)} data points, {len(validation_dataloader)} batches')"
      ]
    },
    {
      "cell_type": "markdown",
      "metadata": {
        "id": "m8R0qWGTMq7b"
      },
      "source": [
        "# Model\n",
        "\n",
        "With the data at the ready, we load the pre-trained model"
      ]
    },
    {
      "cell_type": "code",
      "execution_count": 60,
      "metadata": {
        "id": "7qxP2inQMCkw"
      },
      "outputs": [
        {
          "data": {
            "text/plain": [
              "SentenceTransformer(\n",
              "  (0): Transformer({'max_seq_length': 384, 'do_lower_case': False}) with Transformer model: MPNetModel \n",
              "  (1): Pooling({'word_embedding_dimension': 768, 'pooling_mode_cls_token': False, 'pooling_mode_mean_tokens': True, 'pooling_mode_max_tokens': False, 'pooling_mode_mean_sqrt_len_tokens': False})\n",
              "  (2): Normalize()\n",
              ")"
            ]
          },
          "execution_count": 60,
          "metadata": {},
          "output_type": "execute_result"
        }
      ],
      "source": [
        "model = SentenceTransformer('sentence-transformers/all-mpnet-base-v2')\n",
        "model.to(device)"
      ]
    },
    {
      "cell_type": "markdown",
      "metadata": {},
      "source": [
        "Initialize `AdamW` optimizer and learning rate scheduler. We are going to train for 4 epochs"
      ]
    },
    {
      "cell_type": "code",
      "execution_count": 61,
      "metadata": {
        "id": "j9Kd8sZVMQ_k"
      },
      "outputs": [],
      "source": [
        "from torch.optim import AdamW\n",
        "optimizer = AdamW(model.parameters(),\n",
        "                  lr = 2e-5,\n",
        "                  eps = 1e-8  # default\n",
        "                )\n",
        "\n",
        "train_loss = losses.CosineSimilarityLoss(model=model)"
      ]
    },
    {
      "cell_type": "markdown",
      "metadata": {
        "id": "6fVThWBKMwJX"
      },
      "source": [
        "# Training"
      ]
    },
    {
      "cell_type": "markdown",
      "metadata": {
        "id": "j1CaNSvWoVBM"
      },
      "source": [
        "## Training loop"
      ]
    },
    {
      "cell_type": "code",
      "execution_count": 62,
      "metadata": {},
      "outputs": [
        {
          "name": "stdout",
          "output_type": "stream",
          "text": [
            "2024-01-17 21:19:57 - Read STSbenchmark train dataset\n",
            "2024-01-17 21:19:57 - Read STSbenchmark dev dataset\n",
            "2024-01-17 21:19:57 - Warmup-steps: 99\n"
          ]
        },
        {
          "name": "stderr",
          "output_type": "stream",
          "text": [
            "Epoch:   0%|          | 0/4 [00:00<?, ?it/s]"
          ]
        },
        {
          "name": "stderr",
          "output_type": "stream",
          "text": [
            "Iteration: 100%|██████████| 246/246 [01:34<00:00,  2.60it/s]\n",
            "Epoch:   0%|          | 0/4 [01:34<?, ?it/s]"
          ]
        },
        {
          "name": "stdout",
          "output_type": "stream",
          "text": [
            "2024-01-17 21:21:32 - EmbeddingSimilarityEvaluator: Evaluating the model on sts-dev dataset after epoch 0:\n"
          ]
        },
        {
          "name": "stderr",
          "output_type": "stream",
          "text": [
            "Epoch:   0%|          | 0/4 [01:43<?, ?it/s]"
          ]
        },
        {
          "name": "stdout",
          "output_type": "stream",
          "text": [
            "2024-01-17 21:21:40 - Cosine-Similarity :\tPearson: 0.4187\tSpearman: 0.3995\n",
            "2024-01-17 21:21:40 - Manhattan-Distance:\tPearson: 0.4121\tSpearman: 0.3976\n",
            "2024-01-17 21:21:40 - Euclidean-Distance:\tPearson: 0.4132\tSpearman: 0.3995\n",
            "2024-01-17 21:21:40 - Dot-Product-Similarity:\tPearson: 0.4187\tSpearman: 0.3995\n",
            "2024-01-17 21:21:40 - Save model to output/training_stsbenchmark_continue_training-all-mpnet-base-v2-2024-01-17_21-19-57\n"
          ]
        },
        {
          "name": "stderr",
          "output_type": "stream",
          "text": [
            "Iteration: 100%|██████████| 246/246 [01:33<00:00,  2.62it/s]\n",
            "Epoch:  25%|██▌       | 1/4 [03:17<05:11, 103.99s/it]"
          ]
        },
        {
          "name": "stdout",
          "output_type": "stream",
          "text": [
            "2024-01-17 21:23:15 - EmbeddingSimilarityEvaluator: Evaluating the model on sts-dev dataset after epoch 1:\n"
          ]
        },
        {
          "name": "stderr",
          "output_type": "stream",
          "text": [
            "Epoch:  25%|██▌       | 1/4 [03:25<05:11, 103.99s/it]"
          ]
        },
        {
          "name": "stdout",
          "output_type": "stream",
          "text": [
            "2024-01-17 21:23:23 - Cosine-Similarity :\tPearson: 0.4302\tSpearman: 0.4108\n",
            "2024-01-17 21:23:23 - Manhattan-Distance:\tPearson: 0.4252\tSpearman: 0.4103\n",
            "2024-01-17 21:23:23 - Euclidean-Distance:\tPearson: 0.4257\tSpearman: 0.4108\n",
            "2024-01-17 21:23:23 - Dot-Product-Similarity:\tPearson: 0.4302\tSpearman: 0.4108\n",
            "2024-01-17 21:23:23 - Save model to output/training_stsbenchmark_continue_training-all-mpnet-base-v2-2024-01-17_21-19-57\n"
          ]
        },
        {
          "name": "stderr",
          "output_type": "stream",
          "text": [
            "Iteration: 100%|██████████| 246/246 [01:33<00:00,  2.62it/s]\n",
            "Epoch:  50%|█████     | 2/4 [05:00<03:26, 103.29s/it]"
          ]
        },
        {
          "name": "stdout",
          "output_type": "stream",
          "text": [
            "2024-01-17 21:24:58 - EmbeddingSimilarityEvaluator: Evaluating the model on sts-dev dataset after epoch 2:\n"
          ]
        },
        {
          "name": "stderr",
          "output_type": "stream",
          "text": [
            "Epoch:  50%|█████     | 2/4 [05:08<03:26, 103.29s/it]"
          ]
        },
        {
          "name": "stdout",
          "output_type": "stream",
          "text": [
            "2024-01-17 21:25:06 - Cosine-Similarity :\tPearson: 0.4310\tSpearman: 0.4184\n",
            "2024-01-17 21:25:06 - Manhattan-Distance:\tPearson: 0.4245\tSpearman: 0.4180\n",
            "2024-01-17 21:25:06 - Euclidean-Distance:\tPearson: 0.4245\tSpearman: 0.4184\n",
            "2024-01-17 21:25:06 - Dot-Product-Similarity:\tPearson: 0.4310\tSpearman: 0.4184\n",
            "2024-01-17 21:25:06 - Save model to output/training_stsbenchmark_continue_training-all-mpnet-base-v2-2024-01-17_21-19-57\n"
          ]
        },
        {
          "name": "stderr",
          "output_type": "stream",
          "text": [
            "Iteration: 100%|██████████| 246/246 [01:34<00:00,  2.61it/s]\n",
            "Epoch:  75%|███████▌  | 3/4 [06:44<01:43, 103.25s/it]"
          ]
        },
        {
          "name": "stdout",
          "output_type": "stream",
          "text": [
            "2024-01-17 21:26:42 - EmbeddingSimilarityEvaluator: Evaluating the model on sts-dev dataset after epoch 3:\n"
          ]
        },
        {
          "name": "stderr",
          "output_type": "stream",
          "text": [
            "Epoch: 100%|██████████| 4/4 [06:52<00:00, 103.18s/it]\n"
          ]
        },
        {
          "name": "stdout",
          "output_type": "stream",
          "text": [
            "2024-01-17 21:26:50 - Cosine-Similarity :\tPearson: 0.4249\tSpearman: 0.4121\n",
            "2024-01-17 21:26:50 - Manhattan-Distance:\tPearson: 0.4192\tSpearman: 0.4115\n",
            "2024-01-17 21:26:50 - Euclidean-Distance:\tPearson: 0.4193\tSpearman: 0.4121\n",
            "2024-01-17 21:26:50 - Dot-Product-Similarity:\tPearson: 0.4249\tSpearman: 0.4121\n",
            "2024-01-17 21:26:50 - Load pretrained SentenceTransformer: output/training_stsbenchmark_continue_training-all-mpnet-base-v2-2024-01-17_21-19-57\n",
            "2024-01-17 21:26:51 - Use pytorch device: cuda\n"
          ]
        }
      ],
      "source": [
        "from torch.utils.data import DataLoader\n",
        "import math\n",
        "from sentence_transformers import SentenceTransformer,  LoggingHandler, losses, models, util\n",
        "from sentence_transformers.evaluation import EmbeddingSimilarityEvaluator\n",
        "from sentence_transformers.readers import InputExample\n",
        "import logging\n",
        "from datetime import datetime\n",
        "\n",
        "logging.basicConfig(format='%(asctime)s - %(message)s',\n",
        "                    datefmt='%Y-%m-%d %H:%M:%S',\n",
        "                    level=logging.INFO,\n",
        "                    handlers=[LoggingHandler()])\n",
        "\n",
        "model_name = 'all-mpnet-base-v2'\n",
        "train_batch_size = 16\n",
        "num_epochs = 4\n",
        "model_save_path = 'output/training_stsbenchmark_continue_training-'+model_name+'-'+datetime.now().strftime(\"%Y-%m-%d_%H-%M-%S\")\n",
        "\n",
        "logging.info(\"Read STSbenchmark train dataset\")\n",
        "\n",
        "logging.info(\"Read STSbenchmark dev dataset\")\n",
        "\n",
        "warmup_steps = math.ceil(len(train_dataloader) * num_epochs * 0.1) #10% of train data for warm-up\n",
        "logging.info(\"Warmup-steps: {}\".format(warmup_steps))\n",
        "evaluator = EmbeddingSimilarityEvaluator.from_input_examples(dev_docs, name='sts-dev')\n",
        "\n",
        "# Train the model\n",
        "model.fit(train_objectives=[(train_dataloader, train_loss)],\n",
        "          evaluator=evaluator,\n",
        "          epochs=num_epochs,\n",
        "          evaluation_steps=1000,\n",
        "          warmup_steps=warmup_steps,\n",
        "          output_path=model_save_path)\n",
        "model = SentenceTransformer(model_save_path)"
      ]
    },
    {
      "cell_type": "code",
      "execution_count": 63,
      "metadata": {},
      "outputs": [
        {
          "data": {
            "text/plain": [
              "SentenceTransformer(\n",
              "  (0): Transformer({'max_seq_length': 384, 'do_lower_case': False}) with Transformer model: MPNetModel \n",
              "  (1): Pooling({'word_embedding_dimension': 768, 'pooling_mode_cls_token': False, 'pooling_mode_mean_tokens': True, 'pooling_mode_max_tokens': False, 'pooling_mode_mean_sqrt_len_tokens': False})\n",
              "  (2): Normalize()\n",
              ")"
            ]
          },
          "execution_count": 63,
          "metadata": {},
          "output_type": "execute_result"
        }
      ],
      "source": [
        "# put the model in evaluation mode and move model parameters back to the cpu, in case they were on the gpu before\n",
        "model.eval()\n",
        "model.cpu()"
      ]
    },
    {
      "cell_type": "markdown",
      "metadata": {},
      "source": [
        "# Validation"
      ]
    },
    {
      "cell_type": "markdown",
      "metadata": {},
      "source": [
        "To test model performance, we split the test and development data into two lists each, one containing sentence 1 of every instance, the other containing sentence 2"
      ]
    },
    {
      "cell_type": "code",
      "execution_count": 65,
      "metadata": {},
      "outputs": [],
      "source": [
        "# currently uses test set for validation, can change test to dev\n",
        "test_sent1 = df[df['set'] == 'test']['sentence1'].to_list()\n",
        "test_sent2 = df[df['set'] == 'test']['sentence2'].to_list()\n",
        "test_labels = df[df['set'] == 'test']['label'].to_list()\n",
        "dev_sent1 = df[df['set'] == 'dev']['sentence1'].to_list()\n",
        "dev_sent2 = df[df['set'] == 'dev']['sentence2'].to_list()\n",
        "dev_labels = df[df['set'] == 'dev']['label'].to_list()"
      ]
    },
    {
      "cell_type": "markdown",
      "metadata": {},
      "source": [
        "We compute the embeddings for each list and calculate their cosine similarity to extract the predictions."
      ]
    },
    {
      "cell_type": "code",
      "execution_count": 66,
      "metadata": {},
      "outputs": [
        {
          "name": "stderr",
          "output_type": "stream",
          "text": [
            "Batches: 100%|██████████| 44/44 [00:03<00:00, 13.90it/s]\n",
            "Batches: 100%|██████████| 44/44 [00:03<00:00, 11.98it/s]\n",
            "Batches: 100%|██████████| 43/43 [00:03<00:00, 13.61it/s]\n",
            "Batches: 100%|██████████| 43/43 [00:03<00:00, 11.91it/s]\n"
          ]
        }
      ],
      "source": [
        "#Compute embedding for both lists\n",
        "test_embeddings1 = model.encode(test_sent1, convert_to_tensor=True)\n",
        "test_embeddings2 = model.encode(test_sent2, convert_to_tensor=True)\n",
        "dev_embeddings1 = model.encode(dev_sent1, convert_to_tensor=True)\n",
        "dev_embeddings2 = model.encode(dev_sent2, convert_to_tensor=True)\n",
        "#Compute cosine-similarities\n",
        "test_cosine_scores = util.cos_sim(test_embeddings1, test_embeddings2)\n",
        "dev_cosine_scores = util.cos_sim(dev_embeddings1, dev_embeddings2)"
      ]
    },
    {
      "cell_type": "markdown",
      "metadata": {},
      "source": [
        "To see how the model works, let's output some sample sentence pairs with their cosine similarity scores."
      ]
    },
    {
      "cell_type": "code",
      "execution_count": 67,
      "metadata": {},
      "outputs": [
        {
          "name": "stdout",
          "output_type": "stream",
          "text": [
            "1.0 - Urine is tested to check for disease. \t\t Dark urine is tested to check for disease. \t\t Score: 0.2483\n",
            "0.0 - News is relevant. \t\t False news is relevant. \t\t Score: 0.1943\n",
            "0.5 - Rice is stirred. \t\t Fresh rice is stirred. \t\t Score: 0.7639\n",
            "0.5 - Plastic is made of carbon. \t\t Colorful plastic is made of carbon. \t\t Score: 0.3166\n",
            "0.5 - Sometimes hiking causes a smile. \t\t Sometimes abundant hiking causes a smile. \t\t Score: 0.8285\n"
          ]
        }
      ],
      "source": [
        "#Output sample pairs with their score\n",
        "for i in range(5):\n",
        "    print(\"{} - {} \\t\\t {} \\t\\t Score: {:.4f}\".format(test_labels[i], test_sent1[i], test_sent2[i], test_cosine_scores[i][i]))"
      ]
    },
    {
      "cell_type": "markdown",
      "metadata": {
        "id": "pZNsz937oQgT"
      },
      "source": [
        "We map the continous cosine similarities to the three classes\n",
        "\n",
        "\n",
        "Currently this is done using an arbitrary cut-off point,\n",
        "later we want to calculate a mean score for each class\n",
        "and use the distance to that score to determine the classes instead"
      ]
    },
    {
      "cell_type": "code",
      "execution_count": 68,
      "metadata": {
        "colab": {
          "base_uri": "https://localhost:8080/"
        },
        "id": "OnxdNtnvoZLz",
        "outputId": "55e242c2-874d-49ab-919f-6e007b9b275e"
      },
      "outputs": [],
      "source": [
        "test_y_pred = []\n",
        "for i in range(len(test_sent1)):\n",
        "    if test_cosine_scores[i][i] < 0.25:\n",
        "        test_y_pred.append(0)\n",
        "    elif test_cosine_scores[i][i] > 0.75:\n",
        "        test_y_pred.append(2)\n",
        "    else: test_y_pred.append(1)\n",
        "\n",
        "dev_y_pred = []\n",
        "for i in range(len(dev_sent1)):\n",
        "    if dev_cosine_scores[i][i] < 0.25:\n",
        "        dev_y_pred.append(0)\n",
        "    elif dev_cosine_scores[i][i] > 0.75:\n",
        "        dev_y_pred.append(2)\n",
        "    else: dev_y_pred.append(1)"
      ]
    },
    {
      "cell_type": "code",
      "execution_count": 69,
      "metadata": {},
      "outputs": [],
      "source": [
        "test_y_true = [x*2 for x in df[df['set'] == 'test']['label'].to_list()]\n",
        "dev_y_true = [x*2 for x in df[df['set'] == 'dev']['label'].to_list()]"
      ]
    },
    {
      "cell_type": "markdown",
      "metadata": {},
      "source": [
        "# Plots & Statistics"
      ]
    },
    {
      "cell_type": "markdown",
      "metadata": {
        "id": "D_rl3DNZn2pK"
      },
      "source": [
        "The authors of the original ADEPT paper plot the confusion matrix to illustrate the performance on the development (validation) set (see p. 7124, fig. 2 & 3). To compare our results to theirs, we will plot a confusion matrix as well"
      ]
    },
    {
      "cell_type": "code",
      "execution_count": 70,
      "metadata": {},
      "outputs": [],
      "source": [
        "# normalize='all' -- same as in Adept paper\n",
        "# normalize='true' -- normalize along rows\n",
        "norm_setting = 'true'\n",
        "\n",
        "test_conf_matr = confusion_matrix(test_y_true, test_y_pred, normalize=norm_setting)\n",
        "test_conf_matr = pd.DataFrame(test_conf_matr, columns=['Less likely', 'Equally likely', 'More likely'],\n",
        "                             index=['Less likely', 'Equally likely', 'More likely'])\n",
        "\n",
        "dev_conf_matr = confusion_matrix(dev_y_true, dev_y_pred, normalize=norm_setting)\n",
        "dev_conf_matr = pd.DataFrame(dev_conf_matr, columns=['Less likely', 'Equally likely', 'More likely'],\n",
        "                             index=['Less likely', 'Equally likely', 'More likely'])"
      ]
    },
    {
      "cell_type": "code",
      "execution_count": 71,
      "metadata": {},
      "outputs": [
        {
          "data": {
            "text/plain": [
              "Text(0.5, 20.049999999999997, 'Predicted')"
            ]
          },
          "execution_count": 71,
          "metadata": {},
          "output_type": "execute_result"
        },
        {
          "data": {
            "image/png": "[encoded data removed]",
            "text/plain": [
              "<Figure size 640x480 with 2 Axes>"
            ]
          },
          "metadata": {},
          "output_type": "display_data"
        }
      ],
      "source": [
        "sns.heatmap(dev_conf_matr, cmap='crest', annot=True, fmt=\".1%\")\n",
        "plt.title(f\"\"\"{model_name} fine tuned on comparison classes\n",
        "Run ID: {run_ID}; dev set\n",
        "(conf matrix normalize={norm_setting})\"\"\")\n",
        "plt.ylabel('Actual')\n",
        "plt.xlabel('Predicted')"
      ]
    },
    {
      "cell_type": "code",
      "execution_count": 72,
      "metadata": {},
      "outputs": [
        {
          "data": {
            "text/plain": [
              "Text(0.5, 20.049999999999997, 'Predicted')"
            ]
          },
          "execution_count": 72,
          "metadata": {},
          "output_type": "execute_result"
        },
        {
          "data": {
            "image/png": "[encoded data removed]",
            "text/plain": [
              "<Figure size 640x480 with 2 Axes>"
            ]
          },
          "metadata": {},
          "output_type": "display_data"
        }
      ],
      "source": [
        "sns.heatmap(test_conf_matr, cmap='crest', annot=True, fmt=\".1%\")\n",
        "plt.title(f\"\"\"{model_name} fine tuned on comparison classes\n",
        "Run ID: {run_ID}; test set\n",
        "(conf matrix normalize={norm_setting})\"\"\")\n",
        "plt.ylabel('Actual')\n",
        "plt.xlabel('Predicted')"
      ]
    },
    {
      "cell_type": "markdown",
      "metadata": {},
      "source": [
        "To otherwise evaluate the performance, we use macro F1 score, weighted F1 score and one-vs-all class-wise F1 scores"
      ]
    },
    {
      "cell_type": "markdown",
      "metadata": {},
      "source": [
        "Macro F1"
      ]
    },
    {
      "cell_type": "code",
      "execution_count": 73,
      "metadata": {},
      "outputs": [
        {
          "name": "stdout",
          "output_type": "stream",
          "text": [
            "Dev set: macro F1 = 0.506\n",
            "Test set: macro F1 = 0.483\n"
          ]
        }
      ],
      "source": [
        "print('Dev set: macro F1 = {:.3}'.format(f1_score(dev_y_true, dev_y_pred, average='macro')))\n",
        "print('Test set: macro F1 = {:.3}'.format(f1_score(test_y_true, test_y_pred, average='macro')))"
      ]
    },
    {
      "cell_type": "markdown",
      "metadata": {},
      "source": [
        "Weighted F1"
      ]
    },
    {
      "cell_type": "code",
      "execution_count": 74,
      "metadata": {},
      "outputs": [
        {
          "name": "stdout",
          "output_type": "stream",
          "text": [
            "Dev set: weighted F1 = 0.672\n",
            "Test set: weighted F1 = 0.671\n"
          ]
        }
      ],
      "source": [
        "print('Dev set: weighted F1 = {:.3}'.format(f1_score(dev_y_true, dev_y_pred, average='weighted')))\n",
        "print('Test set: weighted F1 = {:.3}'.format(f1_score(test_y_true, test_y_pred, average='weighted')))"
      ]
    },
    {
      "cell_type": "markdown",
      "metadata": {},
      "source": [
        "F1 \"one vs all\" for each class"
      ]
    },
    {
      "cell_type": "code",
      "execution_count": 75,
      "metadata": {},
      "outputs": [],
      "source": [
        "def f1_one_vs_all(true, pred, class_label):\n",
        "  true = [0 if v != class_label else 1 for v in true]\n",
        "  pred = [0 if v != class_label else 1 for v in pred]\n",
        "  return f1_score(true, pred)"
      ]
    },
    {
      "cell_type": "code",
      "execution_count": 76,
      "metadata": {},
      "outputs": [
        {
          "name": "stdout",
          "output_type": "stream",
          "text": [
            "Dev set: one-vs-all F1\n",
            "1 - Less likely: 0.49\n",
            "2 - Equally likely: 0.74\n",
            "3 - More likely: 0.29\n",
            "\n"
          ]
        }
      ],
      "source": [
        "f1_less, f1_eq, f1_more = f1_one_vs_all(dev_y_true, dev_y_pred, class_label=0), \\\n",
        "                          f1_one_vs_all(dev_y_true, dev_y_pred, class_label=1), \\\n",
        "                          f1_one_vs_all(dev_y_true, dev_y_pred, class_label=2)\n",
        "f1_less, f1_eq, f1_more\n",
        "print(f\"\"\"Dev set: one-vs-all F1\n",
        "1 - Less likely: {f1_less:.2f}\n",
        "2 - Equally likely: {f1_eq:.2f}\n",
        "3 - More likely: {f1_more:.2f}\n",
        "\"\"\")"
      ]
    },
    {
      "cell_type": "code",
      "execution_count": 77,
      "metadata": {},
      "outputs": [
        {
          "name": "stdout",
          "output_type": "stream",
          "text": [
            "Test set: one-vs-all F1\n",
            "1 - Less likely: 0.42\n",
            "2 - Equally likely: 0.75\n",
            "3 - More likely: 0.28\n"
          ]
        }
      ],
      "source": [
        "f1_less, f1_eq, f1_more = f1_one_vs_all(test_y_true, test_y_pred, class_label=0), \\\n",
        "                          f1_one_vs_all(test_y_true, test_y_pred, class_label=1), \\\n",
        "                          f1_one_vs_all(test_y_true, test_y_pred, class_label=2)\n",
        "f1_less, f1_eq, f1_more\n",
        "print(f\"\"\"Test set: one-vs-all F1\n",
        "1 - Less likely: {f1_less:.2f}\n",
        "2 - Equally likely: {f1_eq:.2f}\n",
        "3 - More likely: {f1_more:.2f}\"\"\")"
      ]
    },
    {
      "cell_type": "markdown",
      "metadata": {},
      "source": [
        "As we could not find a good way to calculate the auc-roc score for cosine similarities, the auc-roc score is missing from this evaluation."
      ]
    },
    {
      "cell_type": "markdown",
      "metadata": {},
      "source": [
        "Crossevaluation on the test set:"
      ]
    },
    {
      "cell_type": "code",
      "execution_count": null,
      "metadata": {},
      "outputs": [
        {
          "name": "stderr",
          "output_type": "stream",
          "text": [
            "Batches: 100%|██████████| 10/10 [00:01<00:00,  8.70it/s]\n",
            "Batches: 100%|██████████| 10/10 [00:00<00:00, 15.31it/s]\n",
            "Batches: 100%|██████████| 10/10 [00:00<00:00, 17.44it/s]\n",
            "Batches: 100%|██████████| 10/10 [00:00<00:00, 15.39it/s]\n",
            "Batches: 100%|██████████| 10/10 [00:00<00:00, 18.16it/s]\n",
            "Batches: 100%|██████████| 10/10 [00:00<00:00, 14.04it/s]\n",
            "Batches: 100%|██████████| 10/10 [00:00<00:00, 15.98it/s]\n",
            "Batches: 100%|██████████| 10/10 [00:00<00:00, 15.37it/s]\n",
            "Batches: 100%|██████████| 10/10 [00:00<00:00, 17.41it/s]\n",
            "Batches: 100%|██████████| 10/10 [00:00<00:00, 15.22it/s]\n",
            "Batches: 100%|██████████| 10/10 [00:00<00:00, 17.85it/s]\n",
            "Batches: 100%|██████████| 10/10 [00:00<00:00, 15.58it/s]\n",
            "Batches: 100%|██████████| 10/10 [00:00<00:00, 18.32it/s]\n",
            "Batches: 100%|██████████| 10/10 [00:00<00:00, 15.92it/s]\n",
            "Batches: 100%|██████████| 10/10 [00:00<00:00, 17.44it/s]\n",
            "Batches: 100%|██████████| 10/10 [00:00<00:00, 15.90it/s]\n",
            "Batches: 100%|██████████| 10/10 [00:00<00:00, 17.93it/s]\n",
            "Batches: 100%|██████████| 10/10 [00:00<00:00, 15.59it/s]\n",
            "Batches: 100%|██████████| 10/10 [00:00<00:00, 16.91it/s]\n",
            "Batches: 100%|██████████| 10/10 [00:00<00:00, 15.40it/s]\n",
            "Batches: 100%|██████████| 10/10 [00:00<00:00, 17.80it/s]\n",
            "Batches: 100%|██████████| 10/10 [00:00<00:00, 14.85it/s]"
          ]
        },
        {
          "name": "stdout",
          "output_type": "stream",
          "text": [
            "\n",
            "\n",
            "average stats\n",
            "macro F1:\n",
            "test set: 0.587\n",
            "\n",
            "class-wise F1 scores for the test set:\n",
            "1: 0.65\n",
            "2: 0.45\n",
            "3: 0.66\n"
          ]
        },
        {
          "name": "stderr",
          "output_type": "stream",
          "text": [
            "\n"
          ]
        }
      ],
      "source": [
        "step = 101\n",
        "df_list = []\n",
        "full_test_y_true = []\n",
        "full_test_y_pred = []\n",
        "all_macroF1 = 0\n",
        "all_label1_F1 = 0\n",
        "all_label2_F2 = 0\n",
        "all_label3_F3 = 0\n",
        "for i in range(1, len(df[df['set'] == 'test'].loc[(df['label'] == 0.5)]['label'].to_list())+1, step):\n",
        "    new_df = df[df['set'] == 'test'].loc[(df['label'] == 0)][i:i+step]\n",
        "    new_df = pd.concat([new_df, df[df['set'] == 'test'].loc[(df['label'] == 0.5)][i:i+step]]) \n",
        "    new_df = pd.concat([new_df, df[df['set'] == 'test'].loc[(df['label'] == 1)][i:i+step]]) \n",
        "    for i in [0, 0.5, 1]:\n",
        "        if len(new_df.loc[(new_df['label'] == i)]['label'].to_list()) < step:\n",
        "            wrap_around = step - len(new_df.loc[(new_df['label'] == i)]['label'].to_list())\n",
        "            new_df = pd.concat([new_df, df[df['set'] == 'test'].loc[(df['label'] == i)][:wrap_around]])\n",
        "    new_df = new_df.drop(columns=['sent_concat'])\n",
        "\n",
        "    # evaluation\n",
        "    test_sent1 = new_df['sentence1'].to_list()\n",
        "    test_sent2 = new_df['sentence2'].to_list()\n",
        "    test_labels = new_df['label'].to_list()\n",
        "\n",
        "    #Compute embedding for both lists\n",
        "    test_embeddings1 = model.encode(test_sent1, convert_to_tensor=True)\n",
        "    test_embeddings2 = model.encode(test_sent2, convert_to_tensor=True)\n",
        "    \n",
        "    #Compute cosine-similarities\n",
        "    test_cosine_scores = util.cos_sim(test_embeddings1, test_embeddings2)\n",
        "\n",
        "    # map the continous cosine similarities to the three classes\n",
        "    test_y_pred = []\n",
        "    for i in range(len(test_sent1)):\n",
        "        if test_cosine_scores[i][i] <= 0.33:\n",
        "            test_y_pred.append(0)\n",
        "        elif test_cosine_scores[i][i] >= 0.66:\n",
        "            test_y_pred.append(2)\n",
        "        else: test_y_pred.append(1)\n",
        "    test_y_true = [x*2 for x in new_df['label'].to_list()]\n",
        "    \n",
        "    full_test_y_true.extend(test_y_true)\n",
        "    full_test_y_pred.extend(test_y_pred)\n",
        "    \n",
        "    macro_f1 = f1_score(test_y_true, test_y_pred, average='macro')\n",
        "    all_macroF1 += macro_f1\n",
        "\n",
        "    f1_less, f1_eq, f1_more = f1_one_vs_all(test_y_true, test_y_pred, class_label=0), \\\n",
        "                            f1_one_vs_all(test_y_true, test_y_pred, class_label=1), \\\n",
        "                            f1_one_vs_all(test_y_true, test_y_pred, class_label=2)\n",
        "    all_label1_F1 += f1_less\n",
        "    all_label2_F2 += f1_eq\n",
        "    all_label3_F3 += f1_more\n",
        "\n",
        "print()\n",
        "print()\n",
        "print(\"average stats\")\n",
        "count = 11\n",
        "avr_MacroF1 = all_macroF1 / count\n",
        "print(\"macro F1:\")\n",
        "print('test set: {:.3}'.format(avr_MacroF1))\n",
        "avr_label1_F1 = all_label1_F1 / count\n",
        "avr_label2_F2 = all_label2_F2 / count\n",
        "avr_label3_F3 = all_label3_F3 / count\n",
        "print(\"\\nclass-wise F1 scores for the test set:\")\n",
        "print(f'1: {avr_label1_F1:.2f}\\n2: {avr_label2_F2:.2f}\\n3: {avr_label3_F3:.2f}')"
      ]
    },
    {
      "cell_type": "code",
      "execution_count": null,
      "metadata": {},
      "outputs": [],
      "source": [
        "# normalize='all' -- same as in Adept paper\n",
        "# normalize='true' -- normalize along rows\n",
        "norm_setting = 'true'\n",
        "\n",
        "test_conf_matr = confusion_matrix(full_test_y_true, full_test_y_pred, normalize=norm_setting)\n",
        "test_conf_matr = pd.DataFrame(test_conf_matr, columns=['Less likely', 'Equally likely', 'More likely'],\n",
        "                             index=['Less likely', 'Equally likely', 'More likely'])"
      ]
    },
    {
      "cell_type": "code",
      "execution_count": null,
      "metadata": {},
      "outputs": [
        {
          "data": {
            "text/plain": [
              "Text(0.5, 20.049999999999997, 'Predicted')"
            ]
          },
          "metadata": {},
          "output_type": "display_data"
        },
        {
          "data": {
            "image/png": "[encoded data removed]",
            "text/plain": [
              "<Figure size 640x480 with 2 Axes>"
            ]
          },
          "metadata": {},
          "output_type": "display_data"
        }
      ],
      "source": [
        "sns.heatmap(test_conf_matr, cmap='crest', annot=True, fmt=\".1%\")\n",
        "plt.title(f\"\"\"{model_name} fine tuned on comparison classes\n",
        "Run ID: {run_ID}; test set\n",
        "(conf matrix normalize={norm_setting})\"\"\")\n",
        "plt.ylabel('Actual')\n",
        "plt.xlabel('Predicted')"
      ]
    },
    {
      "cell_type": "markdown",
      "metadata": {},
      "source": [
        "Save the model for later use"
      ]
    },
    {
      "cell_type": "code",
      "execution_count": 78,
      "metadata": {},
      "outputs": [
        {
          "name": "stdout",
          "output_type": "stream",
          "text": [
            "all-mpnet-base-v2_9_full.pt\n"
          ]
        }
      ],
      "source": [
        "filename = model_name + \"_\" + str(run_ID) + \"_\" #+ \"ep\" +str(epochs) + \"_\"\n",
        "if len(train[train['label'] == 1]) == 1500:\n",
        "    filename += \"balanced\"\n",
        "else: \n",
        "    filename += \"full\"\n",
        "filename += \".pt\"\n",
        "print(filename)\n",
        "# torch.save(model, filename)"
      ]
    },
    {
      "cell_type": "markdown",
      "metadata": {},
      "source": [
        "We will report and compare results obtained from different models in the final project documentaion"
      ]
    }
  ],
  "metadata": {
    "colab": {
      "provenance": [],
      "toc_visible": true
    },
    "kernelspec": {
      "display_name": "msp_venv",
      "language": "python",
      "name": "msp_venv"
    },
    "language_info": {
      "codemirror_mode": {
        "name": "ipython",
        "version": 3
      },
      "file_extension": ".py",
      "mimetype": "text/x-python",
      "name": "python",
      "nbconvert_exporter": "python",
      "pygments_lexer": "ipython3",
      "version": "3.10.11"
    },
    "widgets": {
      "application/vnd.jupyter.widget-state+json": {
        "00d15f22792648a8854f15f45cf5bb25": {
          "model_module": "@jupyter-widgets/controls",
          "model_module_version": "1.5.0",
          "model_name": "HTMLModel",
          "state": {
            "_dom_classes": [],
            "_model_module": "@jupyter-widgets/controls",
            "_model_module_version": "1.5.0",
            "_model_name": "HTMLModel",
            "_view_count": null,
            "_view_module": "@jupyter-widgets/controls",
            "_view_module_version": "1.5.0",
            "_view_name": "HTMLView",
            "description": "",
            "description_tooltip": null,
            "layout": "IPY_MODEL_5877689488334d81ad143c3bcc33d6e7",
            "placeholder": "​",
            "style": "IPY_MODEL_4950dfbca6e84eed922e89de5bd57d0d",
            "value": " 899k/899k [00:00&lt;00:00, 7.19MB/s]"
          }
        },
        "013c8f0687914cc4b69b3eab569df4de": {
          "model_module": "@jupyter-widgets/controls",
          "model_module_version": "1.5.0",
          "model_name": "DescriptionStyleModel",
          "state": {
            "_model_module": "@jupyter-widgets/controls",
            "_model_module_version": "1.5.0",
            "_model_name": "DescriptionStyleModel",
            "_view_count": null,
            "_view_module": "@jupyter-widgets/base",
            "_view_module_version": "1.2.0",
            "_view_name": "StyleView",
            "description_width": ""
          }
        },
        "14f1bfa4e53947b5957406bd5bdb0709": {
          "model_module": "@jupyter-widgets/base",
          "model_module_version": "1.2.0",
          "model_name": "LayoutModel",
          "state": {
            "_model_module": "@jupyter-widgets/base",
            "_model_module_version": "1.2.0",
            "_model_name": "LayoutModel",
            "_view_count": null,
            "_view_module": "@jupyter-widgets/base",
            "_view_module_version": "1.2.0",
            "_view_name": "LayoutView",
            "align_content": null,
            "align_items": null,
            "align_self": null,
            "border": null,
            "bottom": null,
            "display": null,
            "flex": null,
            "flex_flow": null,
            "grid_area": null,
            "grid_auto_columns": null,
            "grid_auto_flow": null,
            "grid_auto_rows": null,
            "grid_column": null,
            "grid_gap": null,
            "grid_row": null,
            "grid_template_areas": null,
            "grid_template_columns": null,
            "grid_template_rows": null,
            "height": null,
            "justify_content": null,
            "justify_items": null,
            "left": null,
            "margin": null,
            "max_height": null,
            "max_width": null,
            "min_height": null,
            "min_width": null,
            "object_fit": null,
            "object_position": null,
            "order": null,
            "overflow": null,
            "overflow_x": null,
            "overflow_y": null,
            "padding": null,
            "right": null,
            "top": null,
            "visibility": null,
            "width": null
          }
        },
        "174463e194b945fdb1ead64163d7e21f": {
          "model_module": "@jupyter-widgets/controls",
          "model_module_version": "1.5.0",
          "model_name": "FloatProgressModel",
          "state": {
            "_dom_classes": [],
            "_model_module": "@jupyter-widgets/controls",
            "_model_module_version": "1.5.0",
            "_model_name": "FloatProgressModel",
            "_view_count": null,
            "_view_module": "@jupyter-widgets/controls",
            "_view_module_version": "1.5.0",
            "_view_name": "ProgressView",
            "bar_style": "success",
            "description": "",
            "description_tooltip": null,
            "layout": "IPY_MODEL_cb962d2ed5584c808b5a497528221108",
            "max": 898825,
            "min": 0,
            "orientation": "horizontal",
            "style": "IPY_MODEL_816973761eec488e9451973670d7f805",
            "value": 898825
          }
        },
        "198328fcc01344a286aab2878407c852": {
          "model_module": "@jupyter-widgets/controls",
          "model_module_version": "1.5.0",
          "model_name": "ProgressStyleModel",
          "state": {
            "_model_module": "@jupyter-widgets/controls",
            "_model_module_version": "1.5.0",
            "_model_name": "ProgressStyleModel",
            "_view_count": null,
            "_view_module": "@jupyter-widgets/base",
            "_view_module_version": "1.2.0",
            "_view_name": "StyleView",
            "bar_color": null,
            "description_width": ""
          }
        },
        "1d0f96fb12f644eaab16e6a91741b7ee": {
          "model_module": "@jupyter-widgets/controls",
          "model_module_version": "1.5.0",
          "model_name": "DescriptionStyleModel",
          "state": {
            "_model_module": "@jupyter-widgets/controls",
            "_model_module_version": "1.5.0",
            "_model_name": "DescriptionStyleModel",
            "_view_count": null,
            "_view_module": "@jupyter-widgets/base",
            "_view_module_version": "1.2.0",
            "_view_name": "StyleView",
            "description_width": ""
          }
        },
        "1e732112e4434abfb5a4c83fbe4690f9": {
          "model_module": "@jupyter-widgets/controls",
          "model_module_version": "1.5.0",
          "model_name": "ProgressStyleModel",
          "state": {
            "_model_module": "@jupyter-widgets/controls",
            "_model_module_version": "1.5.0",
            "_model_name": "ProgressStyleModel",
            "_view_count": null,
            "_view_module": "@jupyter-widgets/base",
            "_view_module_version": "1.2.0",
            "_view_name": "StyleView",
            "bar_color": null,
            "description_width": ""
          }
        },
        "20e5a1da82bc4d308192c10efe7b3c6d": {
          "model_module": "@jupyter-widgets/controls",
          "model_module_version": "1.5.0",
          "model_name": "HBoxModel",
          "state": {
            "_dom_classes": [],
            "_model_module": "@jupyter-widgets/controls",
            "_model_module_version": "1.5.0",
            "_model_name": "HBoxModel",
            "_view_count": null,
            "_view_module": "@jupyter-widgets/controls",
            "_view_module_version": "1.5.0",
            "_view_name": "HBoxView",
            "box_style": "",
            "children": [
              "IPY_MODEL_f24568f8b99343e2a09edcb4f7ca5850",
              "IPY_MODEL_b735683b3bc9413898fa39aba3ede408",
              "IPY_MODEL_5056e4f6d7cd4bc0b2d15b2857ae86d5"
            ],
            "layout": "IPY_MODEL_d142a241fa93403587dbabe15d76bfb0"
          }
        },
        "2197d25352ae4b589862abf924473a65": {
          "model_module": "@jupyter-widgets/base",
          "model_module_version": "1.2.0",
          "model_name": "LayoutModel",
          "state": {
            "_model_module": "@jupyter-widgets/base",
            "_model_module_version": "1.2.0",
            "_model_name": "LayoutModel",
            "_view_count": null,
            "_view_module": "@jupyter-widgets/base",
            "_view_module_version": "1.2.0",
            "_view_name": "LayoutView",
            "align_content": null,
            "align_items": null,
            "align_self": null,
            "border": null,
            "bottom": null,
            "display": null,
            "flex": null,
            "flex_flow": null,
            "grid_area": null,
            "grid_auto_columns": null,
            "grid_auto_flow": null,
            "grid_auto_rows": null,
            "grid_column": null,
            "grid_gap": null,
            "grid_row": null,
            "grid_template_areas": null,
            "grid_template_columns": null,
            "grid_template_rows": null,
            "height": null,
            "justify_content": null,
            "justify_items": null,
            "left": null,
            "margin": null,
            "max_height": null,
            "max_width": null,
            "min_height": null,
            "min_width": null,
            "object_fit": null,
            "object_position": null,
            "order": null,
            "overflow": null,
            "overflow_x": null,
            "overflow_y": null,
            "padding": null,
            "right": null,
            "top": null,
            "visibility": null,
            "width": null
          }
        },
        "2e4d10bb2833432fa9df48ad609de4fc": {
          "model_module": "@jupyter-widgets/controls",
          "model_module_version": "1.5.0",
          "model_name": "HTMLModel",
          "state": {
            "_dom_classes": [],
            "_model_module": "@jupyter-widgets/controls",
            "_model_module_version": "1.5.0",
            "_model_name": "HTMLModel",
            "_view_count": null,
            "_view_module": "@jupyter-widgets/controls",
            "_view_module_version": "1.5.0",
            "_view_name": "HTMLView",
            "description": "",
            "description_tooltip": null,
            "layout": "IPY_MODEL_61bab10defe54ac987ac56bcd85cc8b0",
            "placeholder": "​",
            "style": "IPY_MODEL_4526ef2b0a7c48f7a5c020afd50f0640",
            "value": "config.json: 100%"
          }
        },
        "4526ef2b0a7c48f7a5c020afd50f0640": {
          "model_module": "@jupyter-widgets/controls",
          "model_module_version": "1.5.0",
          "model_name": "DescriptionStyleModel",
          "state": {
            "_model_module": "@jupyter-widgets/controls",
            "_model_module_version": "1.5.0",
            "_model_name": "DescriptionStyleModel",
            "_view_count": null,
            "_view_module": "@jupyter-widgets/base",
            "_view_module_version": "1.2.0",
            "_view_name": "StyleView",
            "description_width": ""
          }
        },
        "4950dfbca6e84eed922e89de5bd57d0d": {
          "model_module": "@jupyter-widgets/controls",
          "model_module_version": "1.5.0",
          "model_name": "DescriptionStyleModel",
          "state": {
            "_model_module": "@jupyter-widgets/controls",
            "_model_module_version": "1.5.0",
            "_model_name": "DescriptionStyleModel",
            "_view_count": null,
            "_view_module": "@jupyter-widgets/base",
            "_view_module_version": "1.2.0",
            "_view_name": "StyleView",
            "description_width": ""
          }
        },
        "4af9fb3178a64681973b0742ab7aec3d": {
          "model_module": "@jupyter-widgets/base",
          "model_module_version": "1.2.0",
          "model_name": "LayoutModel",
          "state": {
            "_model_module": "@jupyter-widgets/base",
            "_model_module_version": "1.2.0",
            "_model_name": "LayoutModel",
            "_view_count": null,
            "_view_module": "@jupyter-widgets/base",
            "_view_module_version": "1.2.0",
            "_view_name": "LayoutView",
            "align_content": null,
            "align_items": null,
            "align_self": null,
            "border": null,
            "bottom": null,
            "display": null,
            "flex": null,
            "flex_flow": null,
            "grid_area": null,
            "grid_auto_columns": null,
            "grid_auto_flow": null,
            "grid_auto_rows": null,
            "grid_column": null,
            "grid_gap": null,
            "grid_row": null,
            "grid_template_areas": null,
            "grid_template_columns": null,
            "grid_template_rows": null,
            "height": null,
            "justify_content": null,
            "justify_items": null,
            "left": null,
            "margin": null,
            "max_height": null,
            "max_width": null,
            "min_height": null,
            "min_width": null,
            "object_fit": null,
            "object_position": null,
            "order": null,
            "overflow": null,
            "overflow_x": null,
            "overflow_y": null,
            "padding": null,
            "right": null,
            "top": null,
            "visibility": null,
            "width": null
          }
        },
        "5056e4f6d7cd4bc0b2d15b2857ae86d5": {
          "model_module": "@jupyter-widgets/controls",
          "model_module_version": "1.5.0",
          "model_name": "HTMLModel",
          "state": {
            "_dom_classes": [],
            "_model_module": "@jupyter-widgets/controls",
            "_model_module_version": "1.5.0",
            "_model_name": "HTMLModel",
            "_view_count": null,
            "_view_module": "@jupyter-widgets/controls",
            "_view_module_version": "1.5.0",
            "_view_name": "HTMLView",
            "description": "",
            "description_tooltip": null,
            "layout": "IPY_MODEL_9ef322355a71416f9c868f85a2375915",
            "placeholder": "​",
            "style": "IPY_MODEL_cd44bc2bd8bd4c068e5cb1b5344c0c0e",
            "value": " 456k/456k [00:00&lt;00:00, 3.60MB/s]"
          }
        },
        "56b20362400d420b94b6ae25480dce87": {
          "model_module": "@jupyter-widgets/base",
          "model_module_version": "1.2.0",
          "model_name": "LayoutModel",
          "state": {
            "_model_module": "@jupyter-widgets/base",
            "_model_module_version": "1.2.0",
            "_model_name": "LayoutModel",
            "_view_count": null,
            "_view_module": "@jupyter-widgets/base",
            "_view_module_version": "1.2.0",
            "_view_name": "LayoutView",
            "align_content": null,
            "align_items": null,
            "align_self": null,
            "border": null,
            "bottom": null,
            "display": null,
            "flex": null,
            "flex_flow": null,
            "grid_area": null,
            "grid_auto_columns": null,
            "grid_auto_flow": null,
            "grid_auto_rows": null,
            "grid_column": null,
            "grid_gap": null,
            "grid_row": null,
            "grid_template_areas": null,
            "grid_template_columns": null,
            "grid_template_rows": null,
            "height": null,
            "justify_content": null,
            "justify_items": null,
            "left": null,
            "margin": null,
            "max_height": null,
            "max_width": null,
            "min_height": null,
            "min_width": null,
            "object_fit": null,
            "object_position": null,
            "order": null,
            "overflow": null,
            "overflow_x": null,
            "overflow_y": null,
            "padding": null,
            "right": null,
            "top": null,
            "visibility": null,
            "width": null
          }
        },
        "5742c7ce1b3b41cd819590df6565f559": {
          "model_module": "@jupyter-widgets/controls",
          "model_module_version": "1.5.0",
          "model_name": "HTMLModel",
          "state": {
            "_dom_classes": [],
            "_model_module": "@jupyter-widgets/controls",
            "_model_module_version": "1.5.0",
            "_model_name": "HTMLModel",
            "_view_count": null,
            "_view_module": "@jupyter-widgets/controls",
            "_view_module_version": "1.5.0",
            "_view_name": "HTMLView",
            "description": "",
            "description_tooltip": null,
            "layout": "IPY_MODEL_5749da32ece74c83af573b90c5242db2",
            "placeholder": "​",
            "style": "IPY_MODEL_e3ec49f6d44f4516ab69925a815ec9d9",
            "value": " 52.0/52.0 [00:00&lt;00:00, 1.21kB/s]"
          }
        },
        "5749da32ece74c83af573b90c5242db2": {
          "model_module": "@jupyter-widgets/base",
          "model_module_version": "1.2.0",
          "model_name": "LayoutModel",
          "state": {
            "_model_module": "@jupyter-widgets/base",
            "_model_module_version": "1.2.0",
            "_model_name": "LayoutModel",
            "_view_count": null,
            "_view_module": "@jupyter-widgets/base",
            "_view_module_version": "1.2.0",
            "_view_name": "LayoutView",
            "align_content": null,
            "align_items": null,
            "align_self": null,
            "border": null,
            "bottom": null,
            "display": null,
            "flex": null,
            "flex_flow": null,
            "grid_area": null,
            "grid_auto_columns": null,
            "grid_auto_flow": null,
            "grid_auto_rows": null,
            "grid_column": null,
            "grid_gap": null,
            "grid_row": null,
            "grid_template_areas": null,
            "grid_template_columns": null,
            "grid_template_rows": null,
            "height": null,
            "justify_content": null,
            "justify_items": null,
            "left": null,
            "margin": null,
            "max_height": null,
            "max_width": null,
            "min_height": null,
            "min_width": null,
            "object_fit": null,
            "object_position": null,
            "order": null,
            "overflow": null,
            "overflow_x": null,
            "overflow_y": null,
            "padding": null,
            "right": null,
            "top": null,
            "visibility": null,
            "width": null
          }
        },
        "5877689488334d81ad143c3bcc33d6e7": {
          "model_module": "@jupyter-widgets/base",
          "model_module_version": "1.2.0",
          "model_name": "LayoutModel",
          "state": {
            "_model_module": "@jupyter-widgets/base",
            "_model_module_version": "1.2.0",
            "_model_name": "LayoutModel",
            "_view_count": null,
            "_view_module": "@jupyter-widgets/base",
            "_view_module_version": "1.2.0",
            "_view_name": "LayoutView",
            "align_content": null,
            "align_items": null,
            "align_self": null,
            "border": null,
            "bottom": null,
            "display": null,
            "flex": null,
            "flex_flow": null,
            "grid_area": null,
            "grid_auto_columns": null,
            "grid_auto_flow": null,
            "grid_auto_rows": null,
            "grid_column": null,
            "grid_gap": null,
            "grid_row": null,
            "grid_template_areas": null,
            "grid_template_columns": null,
            "grid_template_rows": null,
            "height": null,
            "justify_content": null,
            "justify_items": null,
            "left": null,
            "margin": null,
            "max_height": null,
            "max_width": null,
            "min_height": null,
            "min_width": null,
            "object_fit": null,
            "object_position": null,
            "order": null,
            "overflow": null,
            "overflow_x": null,
            "overflow_y": null,
            "padding": null,
            "right": null,
            "top": null,
            "visibility": null,
            "width": null
          }
        },
        "61bab10defe54ac987ac56bcd85cc8b0": {
          "model_module": "@jupyter-widgets/base",
          "model_module_version": "1.2.0",
          "model_name": "LayoutModel",
          "state": {
            "_model_module": "@jupyter-widgets/base",
            "_model_module_version": "1.2.0",
            "_model_name": "LayoutModel",
            "_view_count": null,
            "_view_module": "@jupyter-widgets/base",
            "_view_module_version": "1.2.0",
            "_view_name": "LayoutView",
            "align_content": null,
            "align_items": null,
            "align_self": null,
            "border": null,
            "bottom": null,
            "display": null,
            "flex": null,
            "flex_flow": null,
            "grid_area": null,
            "grid_auto_columns": null,
            "grid_auto_flow": null,
            "grid_auto_rows": null,
            "grid_column": null,
            "grid_gap": null,
            "grid_row": null,
            "grid_template_areas": null,
            "grid_template_columns": null,
            "grid_template_rows": null,
            "height": null,
            "justify_content": null,
            "justify_items": null,
            "left": null,
            "margin": null,
            "max_height": null,
            "max_width": null,
            "min_height": null,
            "min_width": null,
            "object_fit": null,
            "object_position": null,
            "order": null,
            "overflow": null,
            "overflow_x": null,
            "overflow_y": null,
            "padding": null,
            "right": null,
            "top": null,
            "visibility": null,
            "width": null
          }
        },
        "63ef8a5cc570477fb6492356eaf57eda": {
          "model_module": "@jupyter-widgets/controls",
          "model_module_version": "1.5.0",
          "model_name": "ProgressStyleModel",
          "state": {
            "_model_module": "@jupyter-widgets/controls",
            "_model_module_version": "1.5.0",
            "_model_name": "ProgressStyleModel",
            "_view_count": null,
            "_view_module": "@jupyter-widgets/base",
            "_view_module_version": "1.2.0",
            "_view_name": "StyleView",
            "bar_color": null,
            "description_width": ""
          }
        },
        "6b3dbf1d48a0478e9b9312f883fcde91": {
          "model_module": "@jupyter-widgets/base",
          "model_module_version": "1.2.0",
          "model_name": "LayoutModel",
          "state": {
            "_model_module": "@jupyter-widgets/base",
            "_model_module_version": "1.2.0",
            "_model_name": "LayoutModel",
            "_view_count": null,
            "_view_module": "@jupyter-widgets/base",
            "_view_module_version": "1.2.0",
            "_view_name": "LayoutView",
            "align_content": null,
            "align_items": null,
            "align_self": null,
            "border": null,
            "bottom": null,
            "display": null,
            "flex": null,
            "flex_flow": null,
            "grid_area": null,
            "grid_auto_columns": null,
            "grid_auto_flow": null,
            "grid_auto_rows": null,
            "grid_column": null,
            "grid_gap": null,
            "grid_row": null,
            "grid_template_areas": null,
            "grid_template_columns": null,
            "grid_template_rows": null,
            "height": null,
            "justify_content": null,
            "justify_items": null,
            "left": null,
            "margin": null,
            "max_height": null,
            "max_width": null,
            "min_height": null,
            "min_width": null,
            "object_fit": null,
            "object_position": null,
            "order": null,
            "overflow": null,
            "overflow_x": null,
            "overflow_y": null,
            "padding": null,
            "right": null,
            "top": null,
            "visibility": null,
            "width": null
          }
        },
        "78898eb4917a4fbfae0e7be9e7da130a": {
          "model_module": "@jupyter-widgets/controls",
          "model_module_version": "1.5.0",
          "model_name": "DescriptionStyleModel",
          "state": {
            "_model_module": "@jupyter-widgets/controls",
            "_model_module_version": "1.5.0",
            "_model_name": "DescriptionStyleModel",
            "_view_count": null,
            "_view_module": "@jupyter-widgets/base",
            "_view_module_version": "1.2.0",
            "_view_name": "StyleView",
            "description_width": ""
          }
        },
        "78ad16bfe6894474b66ea1e6336eff7f": {
          "model_module": "@jupyter-widgets/controls",
          "model_module_version": "1.5.0",
          "model_name": "HBoxModel",
          "state": {
            "_dom_classes": [],
            "_model_module": "@jupyter-widgets/controls",
            "_model_module_version": "1.5.0",
            "_model_name": "HBoxModel",
            "_view_count": null,
            "_view_module": "@jupyter-widgets/controls",
            "_view_module_version": "1.5.0",
            "_view_name": "HBoxView",
            "box_style": "",
            "children": [
              "IPY_MODEL_2e4d10bb2833432fa9df48ad609de4fc",
              "IPY_MODEL_da4f3ad1b572481f9a7709e44a293edf",
              "IPY_MODEL_ed61d20b0fab4664ac64087000cf1f19"
            ],
            "layout": "IPY_MODEL_4af9fb3178a64681973b0742ab7aec3d"
          }
        },
        "816973761eec488e9451973670d7f805": {
          "model_module": "@jupyter-widgets/controls",
          "model_module_version": "1.5.0",
          "model_name": "ProgressStyleModel",
          "state": {
            "_model_module": "@jupyter-widgets/controls",
            "_model_module_version": "1.5.0",
            "_model_name": "ProgressStyleModel",
            "_view_count": null,
            "_view_module": "@jupyter-widgets/base",
            "_view_module_version": "1.2.0",
            "_view_name": "StyleView",
            "bar_color": null,
            "description_width": ""
          }
        },
        "86eb3e5fe6904c7089d243f0dd9f2b32": {
          "model_module": "@jupyter-widgets/controls",
          "model_module_version": "1.5.0",
          "model_name": "HTMLModel",
          "state": {
            "_dom_classes": [],
            "_model_module": "@jupyter-widgets/controls",
            "_model_module_version": "1.5.0",
            "_model_name": "HTMLModel",
            "_view_count": null,
            "_view_module": "@jupyter-widgets/controls",
            "_view_module_version": "1.5.0",
            "_view_name": "HTMLView",
            "description": "",
            "description_tooltip": null,
            "layout": "IPY_MODEL_c63e94159a1a45d1abb09b45cd2788ad",
            "placeholder": "​",
            "style": "IPY_MODEL_78898eb4917a4fbfae0e7be9e7da130a",
            "value": "tokenizer_config.json: 100%"
          }
        },
        "92609c590579407dbe067663b4ba0ae2": {
          "model_module": "@jupyter-widgets/base",
          "model_module_version": "1.2.0",
          "model_name": "LayoutModel",
          "state": {
            "_model_module": "@jupyter-widgets/base",
            "_model_module_version": "1.2.0",
            "_model_name": "LayoutModel",
            "_view_count": null,
            "_view_module": "@jupyter-widgets/base",
            "_view_module_version": "1.2.0",
            "_view_name": "LayoutView",
            "align_content": null,
            "align_items": null,
            "align_self": null,
            "border": null,
            "bottom": null,
            "display": null,
            "flex": null,
            "flex_flow": null,
            "grid_area": null,
            "grid_auto_columns": null,
            "grid_auto_flow": null,
            "grid_auto_rows": null,
            "grid_column": null,
            "grid_gap": null,
            "grid_row": null,
            "grid_template_areas": null,
            "grid_template_columns": null,
            "grid_template_rows": null,
            "height": null,
            "justify_content": null,
            "justify_items": null,
            "left": null,
            "margin": null,
            "max_height": null,
            "max_width": null,
            "min_height": null,
            "min_width": null,
            "object_fit": null,
            "object_position": null,
            "order": null,
            "overflow": null,
            "overflow_x": null,
            "overflow_y": null,
            "padding": null,
            "right": null,
            "top": null,
            "visibility": null,
            "width": null
          }
        },
        "9ef322355a71416f9c868f85a2375915": {
          "model_module": "@jupyter-widgets/base",
          "model_module_version": "1.2.0",
          "model_name": "LayoutModel",
          "state": {
            "_model_module": "@jupyter-widgets/base",
            "_model_module_version": "1.2.0",
            "_model_name": "LayoutModel",
            "_view_count": null,
            "_view_module": "@jupyter-widgets/base",
            "_view_module_version": "1.2.0",
            "_view_name": "LayoutView",
            "align_content": null,
            "align_items": null,
            "align_self": null,
            "border": null,
            "bottom": null,
            "display": null,
            "flex": null,
            "flex_flow": null,
            "grid_area": null,
            "grid_auto_columns": null,
            "grid_auto_flow": null,
            "grid_auto_rows": null,
            "grid_column": null,
            "grid_gap": null,
            "grid_row": null,
            "grid_template_areas": null,
            "grid_template_columns": null,
            "grid_template_rows": null,
            "height": null,
            "justify_content": null,
            "justify_items": null,
            "left": null,
            "margin": null,
            "max_height": null,
            "max_width": null,
            "min_height": null,
            "min_width": null,
            "object_fit": null,
            "object_position": null,
            "order": null,
            "overflow": null,
            "overflow_x": null,
            "overflow_y": null,
            "padding": null,
            "right": null,
            "top": null,
            "visibility": null,
            "width": null
          }
        },
        "b3ac141a18384b55acd45a3abcb479c6": {
          "model_module": "@jupyter-widgets/controls",
          "model_module_version": "1.5.0",
          "model_name": "HBoxModel",
          "state": {
            "_dom_classes": [],
            "_model_module": "@jupyter-widgets/controls",
            "_model_module_version": "1.5.0",
            "_model_name": "HBoxModel",
            "_view_count": null,
            "_view_module": "@jupyter-widgets/controls",
            "_view_module_version": "1.5.0",
            "_view_name": "HBoxView",
            "box_style": "",
            "children": [
              "IPY_MODEL_d5fd81611ddd4baeb819b96151eab197",
              "IPY_MODEL_174463e194b945fdb1ead64163d7e21f",
              "IPY_MODEL_00d15f22792648a8854f15f45cf5bb25"
            ],
            "layout": "IPY_MODEL_6b3dbf1d48a0478e9b9312f883fcde91"
          }
        },
        "b735683b3bc9413898fa39aba3ede408": {
          "model_module": "@jupyter-widgets/controls",
          "model_module_version": "1.5.0",
          "model_name": "FloatProgressModel",
          "state": {
            "_dom_classes": [],
            "_model_module": "@jupyter-widgets/controls",
            "_model_module_version": "1.5.0",
            "_model_name": "FloatProgressModel",
            "_view_count": null,
            "_view_module": "@jupyter-widgets/controls",
            "_view_module_version": "1.5.0",
            "_view_name": "ProgressView",
            "bar_style": "success",
            "description": "",
            "description_tooltip": null,
            "layout": "IPY_MODEL_cfa8de11f4034e15a29c36314a913361",
            "max": 456318,
            "min": 0,
            "orientation": "horizontal",
            "style": "IPY_MODEL_63ef8a5cc570477fb6492356eaf57eda",
            "value": 456318
          }
        },
        "b9170e486d6b4631855bf084ae28afd3": {
          "model_module": "@jupyter-widgets/base",
          "model_module_version": "1.2.0",
          "model_name": "LayoutModel",
          "state": {
            "_model_module": "@jupyter-widgets/base",
            "_model_module_version": "1.2.0",
            "_model_name": "LayoutModel",
            "_view_count": null,
            "_view_module": "@jupyter-widgets/base",
            "_view_module_version": "1.2.0",
            "_view_name": "LayoutView",
            "align_content": null,
            "align_items": null,
            "align_self": null,
            "border": null,
            "bottom": null,
            "display": null,
            "flex": null,
            "flex_flow": null,
            "grid_area": null,
            "grid_auto_columns": null,
            "grid_auto_flow": null,
            "grid_auto_rows": null,
            "grid_column": null,
            "grid_gap": null,
            "grid_row": null,
            "grid_template_areas": null,
            "grid_template_columns": null,
            "grid_template_rows": null,
            "height": null,
            "justify_content": null,
            "justify_items": null,
            "left": null,
            "margin": null,
            "max_height": null,
            "max_width": null,
            "min_height": null,
            "min_width": null,
            "object_fit": null,
            "object_position": null,
            "order": null,
            "overflow": null,
            "overflow_x": null,
            "overflow_y": null,
            "padding": null,
            "right": null,
            "top": null,
            "visibility": null,
            "width": null
          }
        },
        "c63e94159a1a45d1abb09b45cd2788ad": {
          "model_module": "@jupyter-widgets/base",
          "model_module_version": "1.2.0",
          "model_name": "LayoutModel",
          "state": {
            "_model_module": "@jupyter-widgets/base",
            "_model_module_version": "1.2.0",
            "_model_name": "LayoutModel",
            "_view_count": null,
            "_view_module": "@jupyter-widgets/base",
            "_view_module_version": "1.2.0",
            "_view_name": "LayoutView",
            "align_content": null,
            "align_items": null,
            "align_self": null,
            "border": null,
            "bottom": null,
            "display": null,
            "flex": null,
            "flex_flow": null,
            "grid_area": null,
            "grid_auto_columns": null,
            "grid_auto_flow": null,
            "grid_auto_rows": null,
            "grid_column": null,
            "grid_gap": null,
            "grid_row": null,
            "grid_template_areas": null,
            "grid_template_columns": null,
            "grid_template_rows": null,
            "height": null,
            "justify_content": null,
            "justify_items": null,
            "left": null,
            "margin": null,
            "max_height": null,
            "max_width": null,
            "min_height": null,
            "min_width": null,
            "object_fit": null,
            "object_position": null,
            "order": null,
            "overflow": null,
            "overflow_x": null,
            "overflow_y": null,
            "padding": null,
            "right": null,
            "top": null,
            "visibility": null,
            "width": null
          }
        },
        "c7d3ffb4dba1458dbca8804c9ae31b12": {
          "model_module": "@jupyter-widgets/controls",
          "model_module_version": "1.5.0",
          "model_name": "HBoxModel",
          "state": {
            "_dom_classes": [],
            "_model_module": "@jupyter-widgets/controls",
            "_model_module_version": "1.5.0",
            "_model_name": "HBoxModel",
            "_view_count": null,
            "_view_module": "@jupyter-widgets/controls",
            "_view_module_version": "1.5.0",
            "_view_name": "HBoxView",
            "box_style": "",
            "children": [
              "IPY_MODEL_86eb3e5fe6904c7089d243f0dd9f2b32",
              "IPY_MODEL_dee52318c6fe4b359f4e5bd530fa158a",
              "IPY_MODEL_5742c7ce1b3b41cd819590df6565f559"
            ],
            "layout": "IPY_MODEL_14f1bfa4e53947b5957406bd5bdb0709"
          }
        },
        "cb962d2ed5584c808b5a497528221108": {
          "model_module": "@jupyter-widgets/base",
          "model_module_version": "1.2.0",
          "model_name": "LayoutModel",
          "state": {
            "_model_module": "@jupyter-widgets/base",
            "_model_module_version": "1.2.0",
            "_model_name": "LayoutModel",
            "_view_count": null,
            "_view_module": "@jupyter-widgets/base",
            "_view_module_version": "1.2.0",
            "_view_name": "LayoutView",
            "align_content": null,
            "align_items": null,
            "align_self": null,
            "border": null,
            "bottom": null,
            "display": null,
            "flex": null,
            "flex_flow": null,
            "grid_area": null,
            "grid_auto_columns": null,
            "grid_auto_flow": null,
            "grid_auto_rows": null,
            "grid_column": null,
            "grid_gap": null,
            "grid_row": null,
            "grid_template_areas": null,
            "grid_template_columns": null,
            "grid_template_rows": null,
            "height": null,
            "justify_content": null,
            "justify_items": null,
            "left": null,
            "margin": null,
            "max_height": null,
            "max_width": null,
            "min_height": null,
            "min_width": null,
            "object_fit": null,
            "object_position": null,
            "order": null,
            "overflow": null,
            "overflow_x": null,
            "overflow_y": null,
            "padding": null,
            "right": null,
            "top": null,
            "visibility": null,
            "width": null
          }
        },
        "cd44bc2bd8bd4c068e5cb1b5344c0c0e": {
          "model_module": "@jupyter-widgets/controls",
          "model_module_version": "1.5.0",
          "model_name": "DescriptionStyleModel",
          "state": {
            "_model_module": "@jupyter-widgets/controls",
            "_model_module_version": "1.5.0",
            "_model_name": "DescriptionStyleModel",
            "_view_count": null,
            "_view_module": "@jupyter-widgets/base",
            "_view_module_version": "1.2.0",
            "_view_name": "StyleView",
            "description_width": ""
          }
        },
        "cfa8de11f4034e15a29c36314a913361": {
          "model_module": "@jupyter-widgets/base",
          "model_module_version": "1.2.0",
          "model_name": "LayoutModel",
          "state": {
            "_model_module": "@jupyter-widgets/base",
            "_model_module_version": "1.2.0",
            "_model_name": "LayoutModel",
            "_view_count": null,
            "_view_module": "@jupyter-widgets/base",
            "_view_module_version": "1.2.0",
            "_view_name": "LayoutView",
            "align_content": null,
            "align_items": null,
            "align_self": null,
            "border": null,
            "bottom": null,
            "display": null,
            "flex": null,
            "flex_flow": null,
            "grid_area": null,
            "grid_auto_columns": null,
            "grid_auto_flow": null,
            "grid_auto_rows": null,
            "grid_column": null,
            "grid_gap": null,
            "grid_row": null,
            "grid_template_areas": null,
            "grid_template_columns": null,
            "grid_template_rows": null,
            "height": null,
            "justify_content": null,
            "justify_items": null,
            "left": null,
            "margin": null,
            "max_height": null,
            "max_width": null,
            "min_height": null,
            "min_width": null,
            "object_fit": null,
            "object_position": null,
            "order": null,
            "overflow": null,
            "overflow_x": null,
            "overflow_y": null,
            "padding": null,
            "right": null,
            "top": null,
            "visibility": null,
            "width": null
          }
        },
        "d142a241fa93403587dbabe15d76bfb0": {
          "model_module": "@jupyter-widgets/base",
          "model_module_version": "1.2.0",
          "model_name": "LayoutModel",
          "state": {
            "_model_module": "@jupyter-widgets/base",
            "_model_module_version": "1.2.0",
            "_model_name": "LayoutModel",
            "_view_count": null,
            "_view_module": "@jupyter-widgets/base",
            "_view_module_version": "1.2.0",
            "_view_name": "LayoutView",
            "align_content": null,
            "align_items": null,
            "align_self": null,
            "border": null,
            "bottom": null,
            "display": null,
            "flex": null,
            "flex_flow": null,
            "grid_area": null,
            "grid_auto_columns": null,
            "grid_auto_flow": null,
            "grid_auto_rows": null,
            "grid_column": null,
            "grid_gap": null,
            "grid_row": null,
            "grid_template_areas": null,
            "grid_template_columns": null,
            "grid_template_rows": null,
            "height": null,
            "justify_content": null,
            "justify_items": null,
            "left": null,
            "margin": null,
            "max_height": null,
            "max_width": null,
            "min_height": null,
            "min_width": null,
            "object_fit": null,
            "object_position": null,
            "order": null,
            "overflow": null,
            "overflow_x": null,
            "overflow_y": null,
            "padding": null,
            "right": null,
            "top": null,
            "visibility": null,
            "width": null
          }
        },
        "d5fd81611ddd4baeb819b96151eab197": {
          "model_module": "@jupyter-widgets/controls",
          "model_module_version": "1.5.0",
          "model_name": "HTMLModel",
          "state": {
            "_dom_classes": [],
            "_model_module": "@jupyter-widgets/controls",
            "_model_module_version": "1.5.0",
            "_model_name": "HTMLModel",
            "_view_count": null,
            "_view_module": "@jupyter-widgets/controls",
            "_view_module_version": "1.5.0",
            "_view_name": "HTMLView",
            "description": "",
            "description_tooltip": null,
            "layout": "IPY_MODEL_56b20362400d420b94b6ae25480dce87",
            "placeholder": "​",
            "style": "IPY_MODEL_013c8f0687914cc4b69b3eab569df4de",
            "value": "vocab.json: 100%"
          }
        },
        "d75643d6d1484ca582ae88c3174be19a": {
          "model_module": "@jupyter-widgets/base",
          "model_module_version": "1.2.0",
          "model_name": "LayoutModel",
          "state": {
            "_model_module": "@jupyter-widgets/base",
            "_model_module_version": "1.2.0",
            "_model_name": "LayoutModel",
            "_view_count": null,
            "_view_module": "@jupyter-widgets/base",
            "_view_module_version": "1.2.0",
            "_view_name": "LayoutView",
            "align_content": null,
            "align_items": null,
            "align_self": null,
            "border": null,
            "bottom": null,
            "display": null,
            "flex": null,
            "flex_flow": null,
            "grid_area": null,
            "grid_auto_columns": null,
            "grid_auto_flow": null,
            "grid_auto_rows": null,
            "grid_column": null,
            "grid_gap": null,
            "grid_row": null,
            "grid_template_areas": null,
            "grid_template_columns": null,
            "grid_template_rows": null,
            "height": null,
            "justify_content": null,
            "justify_items": null,
            "left": null,
            "margin": null,
            "max_height": null,
            "max_width": null,
            "min_height": null,
            "min_width": null,
            "object_fit": null,
            "object_position": null,
            "order": null,
            "overflow": null,
            "overflow_x": null,
            "overflow_y": null,
            "padding": null,
            "right": null,
            "top": null,
            "visibility": null,
            "width": null
          }
        },
        "da4f3ad1b572481f9a7709e44a293edf": {
          "model_module": "@jupyter-widgets/controls",
          "model_module_version": "1.5.0",
          "model_name": "FloatProgressModel",
          "state": {
            "_dom_classes": [],
            "_model_module": "@jupyter-widgets/controls",
            "_model_module_version": "1.5.0",
            "_model_name": "FloatProgressModel",
            "_view_count": null,
            "_view_module": "@jupyter-widgets/controls",
            "_view_module_version": "1.5.0",
            "_view_name": "ProgressView",
            "bar_style": "success",
            "description": "",
            "description_tooltip": null,
            "layout": "IPY_MODEL_92609c590579407dbe067663b4ba0ae2",
            "max": 474,
            "min": 0,
            "orientation": "horizontal",
            "style": "IPY_MODEL_1e732112e4434abfb5a4c83fbe4690f9",
            "value": 474
          }
        },
        "dee52318c6fe4b359f4e5bd530fa158a": {
          "model_module": "@jupyter-widgets/controls",
          "model_module_version": "1.5.0",
          "model_name": "FloatProgressModel",
          "state": {
            "_dom_classes": [],
            "_model_module": "@jupyter-widgets/controls",
            "_model_module_version": "1.5.0",
            "_model_name": "FloatProgressModel",
            "_view_count": null,
            "_view_module": "@jupyter-widgets/controls",
            "_view_module_version": "1.5.0",
            "_view_name": "ProgressView",
            "bar_style": "success",
            "description": "",
            "description_tooltip": null,
            "layout": "IPY_MODEL_2197d25352ae4b589862abf924473a65",
            "max": 52,
            "min": 0,
            "orientation": "horizontal",
            "style": "IPY_MODEL_198328fcc01344a286aab2878407c852",
            "value": 52
          }
        },
        "e3ec49f6d44f4516ab69925a815ec9d9": {
          "model_module": "@jupyter-widgets/controls",
          "model_module_version": "1.5.0",
          "model_name": "DescriptionStyleModel",
          "state": {
            "_model_module": "@jupyter-widgets/controls",
            "_model_module_version": "1.5.0",
            "_model_name": "DescriptionStyleModel",
            "_view_count": null,
            "_view_module": "@jupyter-widgets/base",
            "_view_module_version": "1.2.0",
            "_view_name": "StyleView",
            "description_width": ""
          }
        },
        "ea71ac5f9f33444b9452acacb7897414": {
          "model_module": "@jupyter-widgets/controls",
          "model_module_version": "1.5.0",
          "model_name": "DescriptionStyleModel",
          "state": {
            "_model_module": "@jupyter-widgets/controls",
            "_model_module_version": "1.5.0",
            "_model_name": "DescriptionStyleModel",
            "_view_count": null,
            "_view_module": "@jupyter-widgets/base",
            "_view_module_version": "1.2.0",
            "_view_name": "StyleView",
            "description_width": ""
          }
        },
        "ed61d20b0fab4664ac64087000cf1f19": {
          "model_module": "@jupyter-widgets/controls",
          "model_module_version": "1.5.0",
          "model_name": "HTMLModel",
          "state": {
            "_dom_classes": [],
            "_model_module": "@jupyter-widgets/controls",
            "_model_module_version": "1.5.0",
            "_model_name": "HTMLModel",
            "_view_count": null,
            "_view_module": "@jupyter-widgets/controls",
            "_view_module_version": "1.5.0",
            "_view_name": "HTMLView",
            "description": "",
            "description_tooltip": null,
            "layout": "IPY_MODEL_d75643d6d1484ca582ae88c3174be19a",
            "placeholder": "​",
            "style": "IPY_MODEL_1d0f96fb12f644eaab16e6a91741b7ee",
            "value": " 474/474 [00:00&lt;00:00, 14.0kB/s]"
          }
        },
        "f24568f8b99343e2a09edcb4f7ca5850": {
          "model_module": "@jupyter-widgets/controls",
          "model_module_version": "1.5.0",
          "model_name": "HTMLModel",
          "state": {
            "_dom_classes": [],
            "_model_module": "@jupyter-widgets/controls",
            "_model_module_version": "1.5.0",
            "_model_name": "HTMLModel",
            "_view_count": null,
            "_view_module": "@jupyter-widgets/controls",
            "_view_module_version": "1.5.0",
            "_view_name": "HTMLView",
            "description": "",
            "description_tooltip": null,
            "layout": "IPY_MODEL_b9170e486d6b4631855bf084ae28afd3",
            "placeholder": "​",
            "style": "IPY_MODEL_ea71ac5f9f33444b9452acacb7897414",
            "value": "merges.txt: 100%"
          }
        }
      }
    }
  },
  "nbformat": 4,
  "nbformat_minor": 0
}
