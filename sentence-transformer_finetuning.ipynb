{
  "cells": [
    {
      "cell_type": "markdown",
      "metadata": {
        "id": "kmcypoWk0F1s"
      },
      "source": [
        "# Setup"
      ]
    },
    {
      "cell_type": "code",
      "execution_count": 47,
      "metadata": {
        "id": "9lTVjC1_Tg6b"
      },
      "outputs": [],
      "source": [
        "import pandas as pd\n",
        "import numpy as np\n",
        "from tqdm import tqdm\n",
        "from typing import Tuple\n",
        "import random\n",
        "from sklearn.metrics import f1_score\n",
        "\n",
        "import matplotlib.pyplot as plt\n",
        "import seaborn as sns\n",
        "sns.set_theme()\n",
        "\n",
        "import torch\n",
        "from torch.utils.data import TensorDataset, DataLoader, RandomSampler, SequentialSampler"
      ]
    },
    {
      "cell_type": "code",
      "execution_count": 3,
      "metadata": {},
      "outputs": [
        {
          "name": "stderr",
          "output_type": "stream",
          "text": [
            "c:\\Users\\MZywi\\Documents\\Uni\\MSc2\\msp\\msp_venv\\lib\\site-packages\\tqdm\\auto.py:21: TqdmWarning: IProgress not found. Please update jupyter and ipywidgets. See https://ipywidgets.readthedocs.io/en/stable/user_install.html\n",
            "  from .autonotebook import tqdm as notebook_tqdm\n"
          ]
        }
      ],
      "source": [
        "from sentence_transformers import SentenceTransformer, LoggingHandler, losses, util, InputExample\n",
        "from sentence_transformers.evaluation import EmbeddingSimilarityEvaluator\n",
        "from transformers import AutoTokenizer, AutoModel"
      ]
    },
    {
      "cell_type": "code",
      "execution_count": 4,
      "metadata": {},
      "outputs": [],
      "source": [
        "# switch model here: BERT, DeBERTa, RoBERTa\n",
        "model_name = \"all-mpnet-base-v2\"\n",
        "# switch between balanced and full dataset\n",
        "balanced = True\n",
        "run_ID = 9"
      ]
    },
    {
      "cell_type": "markdown",
      "metadata": {
        "id": "wQ5ppVxvPZ5F"
      },
      "source": [
        "Time formatting function"
      ]
    },
    {
      "cell_type": "code",
      "execution_count": 5,
      "metadata": {
        "id": "145_bvIlMo2M"
      },
      "outputs": [],
      "source": [
        "import time\n",
        "import datetime\n",
        "\n",
        "def format_time(elapsed):\n",
        "    '''\n",
        "    Takes a time in seconds and returns a string hh:mm:ss\n",
        "    '''\n",
        "    # Round to the nearest second.\n",
        "    elapsed_rounded = int(round((elapsed)))\n",
        "\n",
        "    # Format as hh:mm:ss\n",
        "    return str(datetime.timedelta(seconds=elapsed_rounded))"
      ]
    },
    {
      "cell_type": "markdown",
      "metadata": {
        "id": "xghORKo-PnW9"
      },
      "source": [
        "Set random seed values for reproducibility"
      ]
    },
    {
      "cell_type": "code",
      "execution_count": 6,
      "metadata": {
        "id": "iWDLeBDrPmps"
      },
      "outputs": [],
      "source": [
        "seed_val = 42\n",
        "\n",
        "random.seed(seed_val)\n",
        "np.random.seed(seed_val)\n",
        "torch.manual_seed(seed_val)\n",
        "torch.cuda.manual_seed_all(seed_val)"
      ]
    },
    {
      "cell_type": "markdown",
      "metadata": {
        "id": "ISrPk7CmUEU8"
      },
      "source": [
        "Introduce GPU"
      ]
    },
    {
      "cell_type": "code",
      "execution_count": 7,
      "metadata": {
        "colab": {
          "base_uri": "https://localhost:8080/"
        },
        "id": "52gn07RRUGhp",
        "outputId": "0462d239-e588-4524-c797-15303e8d0ec8"
      },
      "outputs": [
        {
          "data": {
            "text/plain": [
              "device(type='cuda')"
            ]
          },
          "execution_count": 7,
          "metadata": {},
          "output_type": "execute_result"
        }
      ],
      "source": [
        "device = torch.device('cuda') if torch.cuda.is_available() else torch.device('cpu')\n",
        "device"
      ]
    },
    {
      "cell_type": "markdown",
      "metadata": {
        "id": "hkyqsxGN0Y1Q"
      },
      "source": [
        "# Read the data"
      ]
    },
    {
      "cell_type": "code",
      "execution_count": 8,
      "metadata": {
        "id": "SE4g4J_2zsDp"
      },
      "outputs": [],
      "source": [
        "train = pd.read_json('./datasets/adept/train-dev-test-split/train.json')\n",
        "dev = pd.read_json('./datasets/adept/train-dev-test-split/val.json')\n",
        "test = pd.read_json('./datasets/adept/train-dev-test-split/test.json')\n",
        "\n",
        "train['set'] = 'train'\n",
        "dev['set'] = 'dev'\n",
        "test['set'] = 'test'\n",
        "df = pd.concat([train, dev, test])"
      ]
    },
    {
      "cell_type": "code",
      "execution_count": 9,
      "metadata": {
        "colab": {
          "base_uri": "https://localhost:8080/",
          "height": 223
        },
        "id": "I4216VEZ07rT",
        "outputId": "517765cc-1ac9-42d1-f1c9-53098a954784"
      },
      "outputs": [
        {
          "data": {
            "text/html": [
              "<div>\n",
              "<style scoped>\n",
              "    .dataframe tbody tr th:only-of-type {\n",
              "        vertical-align: middle;\n",
              "    }\n",
              "\n",
              "    .dataframe tbody tr th {\n",
              "        vertical-align: top;\n",
              "    }\n",
              "\n",
              "    .dataframe thead th {\n",
              "        text-align: right;\n",
              "    }\n",
              "</style>\n",
              "<table border=\"1\" class=\"dataframe\">\n",
              "  <thead>\n",
              "    <tr style=\"text-align: right;\">\n",
              "      <th></th>\n",
              "      <th>sentence1</th>\n",
              "      <th>sentence2</th>\n",
              "      <th>modifier</th>\n",
              "      <th>noun</th>\n",
              "      <th>label</th>\n",
              "      <th>idx</th>\n",
              "      <th>set</th>\n",
              "    </tr>\n",
              "  </thead>\n",
              "  <tbody>\n",
              "    <tr>\n",
              "      <th>0</th>\n",
              "      <td>The effect of sleeping is rejuvenation.</td>\n",
              "      <td>The effect of additional sleeping is rejuvenat...</td>\n",
              "      <td>additional</td>\n",
              "      <td>sleeping</td>\n",
              "      <td>3</td>\n",
              "      <td>13484</td>\n",
              "      <td>train</td>\n",
              "    </tr>\n",
              "    <tr>\n",
              "      <th>1</th>\n",
              "      <td>A toothbrush is for fresh breath.</td>\n",
              "      <td>A regular toothbrush is for fresh breath.</td>\n",
              "      <td>regular</td>\n",
              "      <td>toothbrush</td>\n",
              "      <td>2</td>\n",
              "      <td>2620</td>\n",
              "      <td>train</td>\n",
              "    </tr>\n",
              "    <tr>\n",
              "      <th>2</th>\n",
              "      <td>A scene is painted.</td>\n",
              "      <td>A negative scene is painted.</td>\n",
              "      <td>negative</td>\n",
              "      <td>scene</td>\n",
              "      <td>2</td>\n",
              "      <td>3324</td>\n",
              "      <td>train</td>\n",
              "    </tr>\n",
              "    <tr>\n",
              "      <th>3</th>\n",
              "      <td>A bone breaks a tooth.</td>\n",
              "      <td>An alleged bone breaks a tooth.</td>\n",
              "      <td>alleged</td>\n",
              "      <td>bone</td>\n",
              "      <td>2</td>\n",
              "      <td>10610</td>\n",
              "      <td>train</td>\n",
              "    </tr>\n",
              "    <tr>\n",
              "      <th>4</th>\n",
              "      <td>A trip causes a happening.</td>\n",
              "      <td>A fabulous trip causes a happening.</td>\n",
              "      <td>fabulous</td>\n",
              "      <td>trip</td>\n",
              "      <td>2</td>\n",
              "      <td>14917</td>\n",
              "      <td>train</td>\n",
              "    </tr>\n",
              "  </tbody>\n",
              "</table>\n",
              "</div>"
            ],
            "text/plain": [
              "                                 sentence1  \\\n",
              "0  The effect of sleeping is rejuvenation.   \n",
              "1        A toothbrush is for fresh breath.   \n",
              "2                      A scene is painted.   \n",
              "3                   A bone breaks a tooth.   \n",
              "4               A trip causes a happening.   \n",
              "\n",
              "                                           sentence2    modifier        noun  \\\n",
              "0  The effect of additional sleeping is rejuvenat...  additional    sleeping   \n",
              "1          A regular toothbrush is for fresh breath.     regular  toothbrush   \n",
              "2                       A negative scene is painted.    negative       scene   \n",
              "3                    An alleged bone breaks a tooth.     alleged        bone   \n",
              "4                A fabulous trip causes a happening.    fabulous        trip   \n",
              "\n",
              "   label    idx    set  \n",
              "0      3  13484  train  \n",
              "1      2   2620  train  \n",
              "2      2   3324  train  \n",
              "3      2  10610  train  \n",
              "4      2  14917  train  "
            ]
          },
          "execution_count": 9,
          "metadata": {},
          "output_type": "execute_result"
        }
      ],
      "source": [
        "df.head()"
      ]
    },
    {
      "cell_type": "code",
      "execution_count": 10,
      "metadata": {
        "colab": {
          "base_uri": "https://localhost:8080/"
        },
        "id": "PGylXrusOEjN",
        "outputId": "67b7527e-fea6-4233-cbe8-18a2c2a9c6ae"
      },
      "outputs": [
        {
          "data": {
            "text/plain": [
              "set\n",
              "train    12892\n",
              "test      1612\n",
              "dev       1611\n",
              "Name: count, dtype: int64"
            ]
          },
          "execution_count": 10,
          "metadata": {},
          "output_type": "execute_result"
        }
      ],
      "source": [
        "df['set'].value_counts()"
      ]
    },
    {
      "cell_type": "markdown",
      "metadata": {
        "id": "w4oLUaj1NWXL"
      },
      "source": [
        "Only keep label classes 1, 2 and 3 (comparison labels). Map them to 0, 1 and 2 for training convenience:\n",
        "\n",
        "* 1 => 0\n",
        "* 2 => 1\n",
        "* 3 => 2"
      ]
    },
    {
      "cell_type": "code",
      "execution_count": 11,
      "metadata": {
        "colab": {
          "base_uri": "https://localhost:8080/"
        },
        "id": "1afKI0w9NgKF",
        "outputId": "fa9fc61a-44d3-4c89-faa8-9d1d69ece91a"
      },
      "outputs": [
        {
          "data": {
            "text/plain": [
              "label\n",
              "2    10805\n",
              "1     1868\n",
              "3     1132\n",
              "Name: count, dtype: int64"
            ]
          },
          "execution_count": 11,
          "metadata": {},
          "output_type": "execute_result"
        }
      ],
      "source": [
        "df = df[df['label'].isin([1, 2, 3])]\n",
        "df['label'].value_counts()"
      ]
    },
    {
      "cell_type": "code",
      "execution_count": 12,
      "metadata": {
        "colab": {
          "base_uri": "https://localhost:8080/"
        },
        "id": "7X8GSft9Xurn",
        "outputId": "2212d847-cac3-49d9-b91a-d255d05901eb"
      },
      "outputs": [
        {
          "data": {
            "text/plain": [
              "label\n",
              "0.5    10805\n",
              "0.0     1868\n",
              "1.0     1132\n",
              "Name: count, dtype: int64"
            ]
          },
          "execution_count": 12,
          "metadata": {},
          "output_type": "execute_result"
        }
      ],
      "source": [
        "# map the labels to numbers between 1 and 0\n",
        "df['label'] = df['label'] * 0.5\n",
        "df['label'] -= 0.5\n",
        "df['label'].value_counts()"
      ]
    },
    {
      "cell_type": "markdown",
      "metadata": {
        "id": "o9a6d1ya0i8o"
      },
      "source": [
        "Filter out duplicated data points"
      ]
    },
    {
      "cell_type": "code",
      "execution_count": 13,
      "metadata": {
        "colab": {
          "base_uri": "https://localhost:8080/"
        },
        "id": "5lF3RoGX0tqI",
        "outputId": "7c4a1137-9759-447e-a5b8-70a0c7051748"
      },
      "outputs": [
        {
          "data": {
            "text/plain": [
              "label\n",
              "0.5    10800\n",
              "0.0     1866\n",
              "1.0     1129\n",
              "Name: count, dtype: int64"
            ]
          },
          "execution_count": 13,
          "metadata": {},
          "output_type": "execute_result"
        }
      ],
      "source": [
        "df = df.drop_duplicates(subset=['sentence2'], keep='first')\n",
        "df['label'].value_counts()"
      ]
    },
    {
      "cell_type": "markdown",
      "metadata": {
        "id": "JlU8bYtXNvuW"
      },
      "source": [
        "Balance the training data by randomly sampling 1500 examples from class 1"
      ]
    },
    {
      "cell_type": "code",
      "execution_count": 14,
      "metadata": {
        "id": "hGipyS5KVq6G"
      },
      "outputs": [],
      "source": [
        "train = df[df['set'] == 'train']\n",
        "dev = df[df['set'] == 'dev']\n",
        "test = df[df['set'] == 'test']"
      ]
    },
    {
      "cell_type": "code",
      "execution_count": 15,
      "metadata": {
        "colab": {
          "base_uri": "https://localhost:8080/"
        },
        "id": "L8vAak_iV1-r",
        "outputId": "659214f9-8f97-4a13-b6ff-c1fbe7d0505e"
      },
      "outputs": [
        {
          "data": {
            "text/plain": [
              "label\n",
              "0.5    8631\n",
              "0.0    1503\n",
              "1.0     926\n",
              "Name: count, dtype: int64"
            ]
          },
          "execution_count": 15,
          "metadata": {},
          "output_type": "execute_result"
        }
      ],
      "source": [
        "train['label'].value_counts()"
      ]
    },
    {
      "cell_type": "code",
      "execution_count": 16,
      "metadata": {
        "colab": {
          "base_uri": "https://localhost:8080/"
        },
        "id": "Wzxn1y6CNxL-",
        "outputId": "8a83b9c1-4a89-4e34-e48b-af1ee9458f31"
      },
      "outputs": [
        {
          "data": {
            "text/plain": [
              "label\n",
              "0.0    1503\n",
              "0.5    1500\n",
              "1.0     926\n",
              "Name: count, dtype: int64"
            ]
          },
          "execution_count": 16,
          "metadata": {},
          "output_type": "execute_result"
        }
      ],
      "source": [
        "if balanced:\n",
        "    train = pd.concat([\n",
        "        train[train['label'].isin([0, 1])],\n",
        "        train[train['label'] == 0.5].sample(1500, random_state=seed_val)\n",
        "    ])\n",
        "train['label'].value_counts()"
      ]
    },
    {
      "cell_type": "code",
      "execution_count": 17,
      "metadata": {
        "colab": {
          "base_uri": "https://localhost:8080/"
        },
        "id": "aYHgXbm-UwC6",
        "outputId": "7b3cf647-728b-45c7-a8bd-49cbf84f2115"
      },
      "outputs": [
        {
          "data": {
            "text/plain": [
              "(3929, 7)"
            ]
          },
          "execution_count": 17,
          "metadata": {},
          "output_type": "execute_result"
        }
      ],
      "source": [
        "train.shape"
      ]
    },
    {
      "cell_type": "markdown",
      "metadata": {
        "id": "rxzp1Gb4OwEy"
      },
      "source": [
        "Save the data frame to make the results reproducible"
      ]
    },
    {
      "cell_type": "code",
      "execution_count": 18,
      "metadata": {
        "id": "avmGaLmnOz_q"
      },
      "outputs": [],
      "source": [
        "#train.to_csv(f'{mount}/datasets/adept/train_comparison_balanced.csv', index=False)"
      ]
    },
    {
      "cell_type": "code",
      "execution_count": 19,
      "metadata": {
        "colab": {
          "base_uri": "https://localhost:8080/",
          "height": 258
        },
        "id": "-PjtIcfpVWqF",
        "outputId": "3e64e791-0d38-43b2-d752-1aa22d1492a4"
      },
      "outputs": [],
      "source": [
        "#train = pd.read_csv(f'{mount}/datasets/adept/train_comparison_balanced.csv')\n",
        "#train.head()"
      ]
    },
    {
      "cell_type": "code",
      "execution_count": 20,
      "metadata": {
        "colab": {
          "base_uri": "https://localhost:8080/"
        },
        "id": "neCprKbTWRae",
        "outputId": "79a866f5-fec9-4901-b796-cba96ac58828"
      },
      "outputs": [
        {
          "data": {
            "text/plain": [
              "(6664, 7)"
            ]
          },
          "execution_count": 20,
          "metadata": {},
          "output_type": "execute_result"
        }
      ],
      "source": [
        "df = pd.concat([train, dev, test])\n",
        "df.reset_index(inplace=True, drop=True)\n",
        "df.shape"
      ]
    },
    {
      "cell_type": "markdown",
      "metadata": {
        "id": "3ghYHSbZ1lpH"
      },
      "source": [
        "# Tokenization"
      ]
    },
    {
      "cell_type": "markdown",
      "metadata": {
        "id": "NnqnutO85iXm"
      },
      "source": [
        "Our text input for the model will be sentence1 and sentence2 concatenated. Let's generate that input"
      ]
    },
    {
      "cell_type": "code",
      "execution_count": 21,
      "metadata": {
        "id": "yZ5XN78L5SzB"
      },
      "outputs": [],
      "source": [
        "df['sent_concat'] = df.apply(lambda row: InputExample(texts=[row['sentence1'], row['sentence2']], label=row['label']), axis=1)"
      ]
    },
    {
      "cell_type": "markdown",
      "metadata": {
        "id": "UMIpgKlo2cn7"
      },
      "source": [
        "Load tokenizer"
      ]
    },
    {
      "cell_type": "code",
      "execution_count": 22,
      "metadata": {
        "colab": {
          "base_uri": "https://localhost:8080/",
          "height": 145,
          "referenced_widgets": [
            "c7d3ffb4dba1458dbca8804c9ae31b12",
            "86eb3e5fe6904c7089d243f0dd9f2b32",
            "dee52318c6fe4b359f4e5bd530fa158a",
            "5742c7ce1b3b41cd819590df6565f559",
            "14f1bfa4e53947b5957406bd5bdb0709",
            "c63e94159a1a45d1abb09b45cd2788ad",
            "78898eb4917a4fbfae0e7be9e7da130a",
            "2197d25352ae4b589862abf924473a65",
            "198328fcc01344a286aab2878407c852",
            "5749da32ece74c83af573b90c5242db2",
            "e3ec49f6d44f4516ab69925a815ec9d9",
            "b3ac141a18384b55acd45a3abcb479c6",
            "d5fd81611ddd4baeb819b96151eab197",
            "174463e194b945fdb1ead64163d7e21f",
            "00d15f22792648a8854f15f45cf5bb25",
            "6b3dbf1d48a0478e9b9312f883fcde91",
            "56b20362400d420b94b6ae25480dce87",
            "013c8f0687914cc4b69b3eab569df4de",
            "cb962d2ed5584c808b5a497528221108",
            "816973761eec488e9451973670d7f805",
            "5877689488334d81ad143c3bcc33d6e7",
            "4950dfbca6e84eed922e89de5bd57d0d",
            "20e5a1da82bc4d308192c10efe7b3c6d",
            "f24568f8b99343e2a09edcb4f7ca5850",
            "b735683b3bc9413898fa39aba3ede408",
            "5056e4f6d7cd4bc0b2d15b2857ae86d5",
            "d142a241fa93403587dbabe15d76bfb0",
            "b9170e486d6b4631855bf084ae28afd3",
            "ea71ac5f9f33444b9452acacb7897414",
            "cfa8de11f4034e15a29c36314a913361",
            "63ef8a5cc570477fb6492356eaf57eda",
            "9ef322355a71416f9c868f85a2375915",
            "cd44bc2bd8bd4c068e5cb1b5344c0c0e",
            "78ad16bfe6894474b66ea1e6336eff7f",
            "2e4d10bb2833432fa9df48ad609de4fc",
            "da4f3ad1b572481f9a7709e44a293edf",
            "ed61d20b0fab4664ac64087000cf1f19",
            "4af9fb3178a64681973b0742ab7aec3d",
            "61bab10defe54ac987ac56bcd85cc8b0",
            "4526ef2b0a7c48f7a5c020afd50f0640",
            "92609c590579407dbe067663b4ba0ae2",
            "1e732112e4434abfb5a4c83fbe4690f9",
            "d75643d6d1484ca582ae88c3174be19a",
            "1d0f96fb12f644eaab16e6a91741b7ee"
          ]
        },
        "id": "akedJM762euc",
        "outputId": "49af3e5c-773f-4721-c113-5d10c7f0191e"
      },
      "outputs": [],
      "source": [
        "from transformers import AutoTokenizer\n",
        "tokenizer = AutoTokenizer.from_pretrained('sentence-transformers/all-mpnet-base-v2', do_lower_case=True)"
      ]
    },
    {
      "cell_type": "markdown",
      "metadata": {
        "id": "-wFpAD1Q2knP"
      },
      "source": [
        "Now let's calculate max input document length in tokens"
      ]
    },
    {
      "cell_type": "code",
      "execution_count": 23,
      "metadata": {
        "colab": {
          "base_uri": "https://localhost:8080/"
        },
        "id": "vf5WR1e41lAh",
        "outputId": "8c77ed86-58d9-4c84-b8e5-4a202211fa80"
      },
      "outputs": [],
      "source": [
        "# max_len = 0\n",
        "# for doc in df['sent_concat']:\n",
        "#     input_ids = tokenizer.encode(doc, add_special_tokens=True)\n",
        "#     max_len = max(max_len, len(input_ids))\n",
        "# max_len"
      ]
    },
    {
      "cell_type": "markdown",
      "metadata": {
        "id": "O5cm7v8t_aFq"
      },
      "source": [
        "Apply the tokenization function to the data"
      ]
    },
    {
      "cell_type": "code",
      "execution_count": 24,
      "metadata": {
        "colab": {
          "base_uri": "https://localhost:8080/"
        },
        "id": "XpX9SRIZ27CI",
        "outputId": "a62f977c-4ea4-4999-de45-973bc34a2f2c"
      },
      "outputs": [],
      "source": [
        "# train\n",
        "train_docs = df[df['set'] == 'train']['sent_concat'].to_list()\n",
        "\n",
        "# validation (dev)\n",
        "dev_docs = df[df['set'] == 'dev']['sent_concat'].to_list()\n",
        "\n",
        "# test\n",
        "test_docs = df[df['set'] == 'dev']['sent_concat'].to_list()"
      ]
    },
    {
      "cell_type": "markdown",
      "metadata": {
        "id": "kicONCsgBWGq"
      },
      "source": [
        "Create a `torch` dataset and dataloader to conveniently load it into the model"
      ]
    },
    {
      "cell_type": "code",
      "execution_count": 25,
      "metadata": {
        "colab": {
          "base_uri": "https://localhost:8080/"
        },
        "id": "SxpHEe-GBucZ",
        "outputId": "e1e7faa9-eb4a-48ac-a524-d46b16957e9f"
      },
      "outputs": [
        {
          "name": "stdout",
          "output_type": "stream",
          "text": [
            "train:  3929 data points, 246 batches\n",
            "validation (dev): 1355 data points, 85 batches\n"
          ]
        }
      ],
      "source": [
        "batch_size = 16\n",
        "\n",
        "# train\n",
        "train_dataloader = DataLoader(\n",
        "            train_docs,\n",
        "            sampler=RandomSampler(train_docs),  # Select batches randomly\n",
        "            batch_size=batch_size\n",
        "        )\n",
        "\n",
        "# validation (dev)\n",
        "validation_dataloader = DataLoader(\n",
        "            dev_docs,\n",
        "            sampler=SequentialSampler(dev_docs),  # Pull out batches sequentially\n",
        "            batch_size=batch_size\n",
        "        )\n",
        "\n",
        "print(f'train:  {len(train_docs)} data points, {len(train_dataloader)} batches')\n",
        "print(f'validation (dev): {len(dev_docs)} data points, {len(validation_dataloader)} batches')"
      ]
    },
    {
      "cell_type": "markdown",
      "metadata": {
        "id": "m8R0qWGTMq7b"
      },
      "source": [
        "# Model"
      ]
    },
    {
      "cell_type": "code",
      "execution_count": 26,
      "metadata": {
        "id": "s-kh6A1gUfLS"
      },
      "outputs": [],
      "source": [
        "# match model_name:\n",
        "#     case \"BERT\":\n",
        "#         from transformers import BertForSequenceClassification\n",
        "#     case \"DeBERTa\":\n",
        "#         from transformers import DebertaForSequenceClassification\n",
        "#     case \"RoBERTa\":\n",
        "#         from transformers import RobertaForSequenceClassification\n",
        "#     case _:\n",
        "#         from transformers import BertForSequenceClassification\n",
        "\n",
        "from transformers import get_linear_schedule_with_warmup\n",
        "from torch.optim import AdamW"
      ]
    },
    {
      "cell_type": "code",
      "execution_count": 27,
      "metadata": {
        "id": "7qxP2inQMCkw"
      },
      "outputs": [
        {
          "data": {
            "text/plain": [
              "SentenceTransformer(\n",
              "  (0): Transformer({'max_seq_length': 384, 'do_lower_case': False}) with Transformer model: MPNetModel \n",
              "  (1): Pooling({'word_embedding_dimension': 768, 'pooling_mode_cls_token': False, 'pooling_mode_mean_tokens': True, 'pooling_mode_max_tokens': False, 'pooling_mode_mean_sqrt_len_tokens': False})\n",
              "  (2): Normalize()\n",
              ")"
            ]
          },
          "execution_count": 27,
          "metadata": {},
          "output_type": "execute_result"
        }
      ],
      "source": [
        "model = SentenceTransformer('sentence-transformers/all-mpnet-base-v2')\n",
        "model.cuda()"
      ]
    },
    {
      "cell_type": "code",
      "execution_count": 28,
      "metadata": {
        "id": "j9Kd8sZVMQ_k"
      },
      "outputs": [],
      "source": [
        "optimizer = AdamW(model.parameters(),\n",
        "                  lr = 2e-5,\n",
        "                  eps = 1e-8  # default\n",
        "                )\n",
        "\n",
        "train_loss = losses.CosineSimilarityLoss(model=model)"
      ]
    },
    {
      "cell_type": "markdown",
      "metadata": {
        "id": "6fVThWBKMwJX"
      },
      "source": [
        "# Training"
      ]
    },
    {
      "cell_type": "markdown",
      "metadata": {
        "id": "j1CaNSvWoVBM"
      },
      "source": [
        "## Training loop"
      ]
    },
    {
      "cell_type": "code",
      "execution_count": 32,
      "metadata": {},
      "outputs": [
        {
          "name": "stdout",
          "output_type": "stream",
          "text": [
            "2024-01-04 18:21:18 - Read STSbenchmark train dataset\n",
            "2024-01-04 18:21:18 - Read STSbenchmark dev dataset\n",
            "2024-01-04 18:21:18 - Warmup-steps: 99\n"
          ]
        },
        {
          "name": "stderr",
          "output_type": "stream",
          "text": [
            "Epoch:   0%|          | 0/4 [00:00<?, ?it/s]"
          ]
        },
        {
          "name": "stderr",
          "output_type": "stream",
          "text": [
            "Iteration: 100%|██████████| 246/246 [01:22<00:00,  2.97it/s]\n",
            "Epoch:   0%|          | 0/4 [01:22<?, ?it/s]"
          ]
        },
        {
          "name": "stdout",
          "output_type": "stream",
          "text": [
            "2024-01-04 18:22:41 - EmbeddingSimilarityEvaluator: Evaluating the model on sts-dev dataset after epoch 0:\n"
          ]
        },
        {
          "name": "stderr",
          "output_type": "stream",
          "text": [
            "Epoch:   0%|          | 0/4 [01:29<?, ?it/s]"
          ]
        },
        {
          "name": "stdout",
          "output_type": "stream",
          "text": [
            "2024-01-04 18:22:48 - Cosine-Similarity :\tPearson: 0.4187\tSpearman: 0.3995\n",
            "2024-01-04 18:22:48 - Manhattan-Distance:\tPearson: 0.4121\tSpearman: 0.3976\n",
            "2024-01-04 18:22:48 - Euclidean-Distance:\tPearson: 0.4132\tSpearman: 0.3995\n",
            "2024-01-04 18:22:48 - Dot-Product-Similarity:\tPearson: 0.4187\tSpearman: 0.3995\n",
            "2024-01-04 18:22:48 - Save model to output/training_stsbenchmark_continue_training-all-mpnet-base-v2-2024-01-04_18-21-18\n"
          ]
        },
        {
          "name": "stderr",
          "output_type": "stream",
          "text": [
            "Iteration: 100%|██████████| 246/246 [01:22<00:00,  2.99it/s]\n",
            "Epoch:  25%|██▌       | 1/4 [02:53<04:32, 90.73s/it]"
          ]
        },
        {
          "name": "stdout",
          "output_type": "stream",
          "text": [
            "2024-01-04 18:24:11 - EmbeddingSimilarityEvaluator: Evaluating the model on sts-dev dataset after epoch 1:\n"
          ]
        },
        {
          "name": "stderr",
          "output_type": "stream",
          "text": [
            "Epoch:  25%|██▌       | 1/4 [03:00<04:32, 90.73s/it]"
          ]
        },
        {
          "name": "stdout",
          "output_type": "stream",
          "text": [
            "2024-01-04 18:24:18 - Cosine-Similarity :\tPearson: 0.4302\tSpearman: 0.4108\n",
            "2024-01-04 18:24:18 - Manhattan-Distance:\tPearson: 0.4252\tSpearman: 0.4103\n",
            "2024-01-04 18:24:18 - Euclidean-Distance:\tPearson: 0.4257\tSpearman: 0.4108\n",
            "2024-01-04 18:24:18 - Dot-Product-Similarity:\tPearson: 0.4302\tSpearman: 0.4108\n",
            "2024-01-04 18:24:18 - Save model to output/training_stsbenchmark_continue_training-all-mpnet-base-v2-2024-01-04_18-21-18\n"
          ]
        },
        {
          "name": "stderr",
          "output_type": "stream",
          "text": [
            "Iteration: 100%|██████████| 246/246 [01:22<00:00,  3.00it/s]\n",
            "Epoch:  50%|█████     | 2/4 [04:23<03:00, 90.46s/it]"
          ]
        },
        {
          "name": "stdout",
          "output_type": "stream",
          "text": [
            "2024-01-04 18:25:41 - EmbeddingSimilarityEvaluator: Evaluating the model on sts-dev dataset after epoch 2:\n"
          ]
        },
        {
          "name": "stderr",
          "output_type": "stream",
          "text": [
            "Epoch:  50%|█████     | 2/4 [04:30<03:00, 90.46s/it]"
          ]
        },
        {
          "name": "stdout",
          "output_type": "stream",
          "text": [
            "2024-01-04 18:25:48 - Cosine-Similarity :\tPearson: 0.4310\tSpearman: 0.4184\n",
            "2024-01-04 18:25:48 - Manhattan-Distance:\tPearson: 0.4245\tSpearman: 0.4180\n",
            "2024-01-04 18:25:48 - Euclidean-Distance:\tPearson: 0.4245\tSpearman: 0.4184\n",
            "2024-01-04 18:25:48 - Dot-Product-Similarity:\tPearson: 0.4310\tSpearman: 0.4184\n",
            "2024-01-04 18:25:48 - Save model to output/training_stsbenchmark_continue_training-all-mpnet-base-v2-2024-01-04_18-21-18\n"
          ]
        },
        {
          "name": "stderr",
          "output_type": "stream",
          "text": [
            "Iteration: 100%|██████████| 246/246 [01:22<00:00,  3.00it/s]\n",
            "Epoch:  75%|███████▌  | 3/4 [05:52<01:30, 90.24s/it]"
          ]
        },
        {
          "name": "stdout",
          "output_type": "stream",
          "text": [
            "2024-01-04 18:27:11 - EmbeddingSimilarityEvaluator: Evaluating the model on sts-dev dataset after epoch 3:\n"
          ]
        },
        {
          "name": "stderr",
          "output_type": "stream",
          "text": [
            "Epoch: 100%|██████████| 4/4 [05:59<00:00, 89.99s/it]\n"
          ]
        },
        {
          "name": "stdout",
          "output_type": "stream",
          "text": [
            "2024-01-04 18:27:18 - Cosine-Similarity :\tPearson: 0.4249\tSpearman: 0.4121\n",
            "2024-01-04 18:27:18 - Manhattan-Distance:\tPearson: 0.4192\tSpearman: 0.4115\n",
            "2024-01-04 18:27:18 - Euclidean-Distance:\tPearson: 0.4193\tSpearman: 0.4121\n",
            "2024-01-04 18:27:18 - Dot-Product-Similarity:\tPearson: 0.4249\tSpearman: 0.4121\n",
            "2024-01-04 18:27:18 - Load pretrained SentenceTransformer: output/training_stsbenchmark_continue_training-all-mpnet-base-v2-2024-01-04_18-21-18\n",
            "2024-01-04 18:27:18 - Use pytorch device: cuda\n"
          ]
        }
      ],
      "source": [
        "from torch.utils.data import DataLoader\n",
        "import math\n",
        "from sentence_transformers import SentenceTransformer,  LoggingHandler, losses, models, util\n",
        "from sentence_transformers.evaluation import EmbeddingSimilarityEvaluator\n",
        "from sentence_transformers.readers import InputExample\n",
        "import logging\n",
        "from datetime import datetime\n",
        "\n",
        "logging.basicConfig(format='%(asctime)s - %(message)s',\n",
        "                    datefmt='%Y-%m-%d %H:%M:%S',\n",
        "                    level=logging.INFO,\n",
        "                    handlers=[LoggingHandler()])\n",
        "\n",
        "model_name = 'all-mpnet-base-v2'\n",
        "train_batch_size = 16\n",
        "num_epochs = 4\n",
        "model_save_path = 'output/training_stsbenchmark_continue_training-'+model_name+'-'+datetime.now().strftime(\"%Y-%m-%d_%H-%M-%S\")\n",
        "\n",
        "logging.info(\"Read STSbenchmark train dataset\")\n",
        "\n",
        "logging.info(\"Read STSbenchmark dev dataset\")\n",
        "\n",
        "warmup_steps = math.ceil(len(train_dataloader) * num_epochs * 0.1) #10% of train data for warm-up\n",
        "logging.info(\"Warmup-steps: {}\".format(warmup_steps))\n",
        "evaluator = EmbeddingSimilarityEvaluator.from_input_examples(dev_docs, name='sts-dev')\n",
        "\n",
        "# Train the model\n",
        "model.fit(train_objectives=[(train_dataloader, train_loss)],\n",
        "          evaluator=evaluator,\n",
        "          epochs=num_epochs,\n",
        "          evaluation_steps=1000,\n",
        "          warmup_steps=warmup_steps,\n",
        "          output_path=model_save_path)\n",
        "model = SentenceTransformer(model_save_path)"
      ]
    },
    {
      "cell_type": "code",
      "execution_count": 29,
      "metadata": {},
      "outputs": [
        {
          "data": {
            "text/plain": [
              "0.41842977199395665"
            ]
          },
          "execution_count": 29,
          "metadata": {},
          "output_type": "execute_result"
        }
      ],
      "source": [
        "model_save_path = \"./runs/run9/training_stsbenchmark_continue_training-all-mpnet-base-v2-2024-01-04_18-21-18\"\n",
        "model = SentenceTransformer(model_save_path)\n",
        "test_evaluator = EmbeddingSimilarityEvaluator.from_input_examples(test_docs, name='sts-test')\n",
        "test_evaluator(model, output_path=model_save_path)"
      ]
    },
    {
      "cell_type": "code",
      "execution_count": 31,
      "metadata": {},
      "outputs": [
        {
          "name": "stdout",
          "output_type": "stream",
          "text": [
            "[['An ottoman is for reclining your legs.', 'A comfortable ottoman is for reclining your legs.']]\n"
          ]
        }
      ],
      "source": [
        "import torch.nn.functional as F\n",
        "def mean_pooling(model_output, attention_mask):\n",
        "    token_embeddings = model_output['token_embeddings'] #First element of model_output contains all token embeddings\n",
        "    input_mask_expanded = attention_mask.unsqueeze(-1).expand(token_embeddings.size()).float()\n",
        "    return torch.sum(token_embeddings * input_mask_expanded, 1) / torch.clamp(input_mask_expanded.sum(1), min=1e-9)\n",
        "\n",
        "# general test of the model, can be removed later\n",
        "model.eval()\n",
        "model.cpu()\n",
        "sent1 = \"The sun is bright.\"\n",
        "sent2 = \"The shining sun is bright.\"\n",
        "sent3 = \"The scared sun is bright.\"\n",
        "#print(model.encode(tokenizer(sent1), tokenize(sent2)))\n",
        "#print(model.encode())\n",
        "input = []\n",
        "for texts in test_docs[:1]:\n",
        "    input.append(texts.texts)\n",
        "print(input)\n",
        "encoded_input = tokenizer(input, padding=True, truncation=True, return_tensors='pt')\n",
        "with torch.no_grad():\n",
        "    output = model(encoded_input)\n",
        "sentence_embeddings = mean_pooling(output, encoded_input['attention_mask'])\n",
        "sentence_embeddings = F.normalize(sentence_embeddings, p=2, dim=1)\n"
      ]
    },
    {
      "cell_type": "code",
      "execution_count": 32,
      "metadata": {},
      "outputs": [],
      "source": [
        "# currently uses test set for validation, can change test to dev\n",
        "test_sent1 = df[df['set'] == 'test']['sentence1'].to_list()\n",
        "test_sent2 = df[df['set'] == 'test']['sentence2'].to_list()\n",
        "test_labels = df[df['set'] == 'test']['label'].to_list()\n",
        "dev_sent1 = df[df['set'] == 'dev']['sentence1'].to_list()\n",
        "dev_sent2 = df[df['set'] == 'dev']['sentence2'].to_list()\n",
        "dev_labels = df[df['set'] == 'dev']['label'].to_list()\n",
        "\n",
        "#Compute embedding for both lists\n",
        "test_embeddings1 = model.encode(test_sent1, convert_to_tensor=True)\n",
        "test_embeddings2 = model.encode(test_sent2, convert_to_tensor=True)\n",
        "dev_embeddings1 = model.encode(dev_sent1, convert_to_tensor=True)\n",
        "dev_embeddings2 = model.encode(dev_sent2, convert_to_tensor=True)\n",
        "#Compute cosine-similarities\n",
        "test_cosine_scores = util.cos_sim(test_embeddings1, test_embeddings2)\n",
        "dev_cosine_scores = util.cos_sim(dev_embeddings1, dev_embeddings2)"
      ]
    },
    {
      "cell_type": "code",
      "execution_count": 33,
      "metadata": {},
      "outputs": [
        {
          "name": "stdout",
          "output_type": "stream",
          "text": [
            "1.0 - Urine is tested to check for disease. \t\t Dark urine is tested to check for disease. \t\t Score: 0.2483\n",
            "0.0 - News is relevant. \t\t False news is relevant. \t\t Score: 0.1943\n",
            "0.5 - Rice is stirred. \t\t Fresh rice is stirred. \t\t Score: 0.7639\n",
            "0.5 - Plastic is made of carbon. \t\t Colorful plastic is made of carbon. \t\t Score: 0.3166\n",
            "0.5 - Sometimes hiking causes a smile. \t\t Sometimes abundant hiking causes a smile. \t\t Score: 0.8285\n"
          ]
        }
      ],
      "source": [
        "#Output sample pairs with their score\n",
        "for i in range(5):\n",
        "    print(\"{} - {} \\t\\t {} \\t\\t Score: {:.4f}\".format(test_labels[i], test_sent1[i], test_sent2[i], test_cosine_scores[i][i]))"
      ]
    },
    {
      "cell_type": "markdown",
      "metadata": {
        "id": "pZNsz937oQgT"
      },
      "source": [
        "# Validation\n",
        "\n",
        "Run validation to compare performance to the one reported in the Adept paper"
      ]
    },
    {
      "cell_type": "code",
      "execution_count": 38,
      "metadata": {
        "colab": {
          "base_uri": "https://localhost:8080/"
        },
        "id": "OnxdNtnvoZLz",
        "outputId": "55e242c2-874d-49ab-919f-6e007b9b275e"
      },
      "outputs": [],
      "source": [
        "test_y_pred = []\n",
        "for i in range(len(test_sent1)):\n",
        "    if test_cosine_scores[i][i] < 0.25:\n",
        "        test_y_pred.append(0)\n",
        "    elif test_cosine_scores[i][i] > 0.75:\n",
        "        test_y_pred.append(2)\n",
        "    else: test_y_pred.append(1)\n",
        "\n",
        "dev_y_pred = []\n",
        "for i in range(len(dev_sent1)):\n",
        "    if dev_cosine_scores[i][i] < 0.25:\n",
        "        dev_y_pred.append(0)\n",
        "    elif dev_cosine_scores[i][i] > 0.75:\n",
        "        dev_y_pred.append(2)\n",
        "    else: dev_y_pred.append(1)"
      ]
    },
    {
      "cell_type": "code",
      "execution_count": 39,
      "metadata": {},
      "outputs": [],
      "source": [
        "test_y_true = [x*2 for x in df[df['set'] == 'test']['label'].to_list()]\n",
        "dev_y_true = [x*2 for x in df[df['set'] == 'dev']['label'].to_list()]"
      ]
    },
    {
      "cell_type": "markdown",
      "metadata": {
        "id": "D_rl3DNZn2pK"
      },
      "source": [
        "Confusion matrix"
      ]
    },
    {
      "cell_type": "code",
      "execution_count": 40,
      "metadata": {
        "id": "92_bABhBn8QU"
      },
      "outputs": [],
      "source": [
        "from sklearn.metrics import confusion_matrix"
      ]
    },
    {
      "cell_type": "code",
      "execution_count": 41,
      "metadata": {},
      "outputs": [],
      "source": [
        "# normalize='all' -- same as in Adept paper\n",
        "# normalize='true' -- normalize along rows\n",
        "norm_setting = 'true'\n",
        "\n",
        "test_conf_matr = confusion_matrix(test_y_true, test_y_pred, normalize=norm_setting)\n",
        "#test_conf_matr = confusion_matrix(df[df['set'] == 'dev']['label'].to_list(), test_y_pred,\n",
        "#                                 normalize=norm_setting)\n",
        "test_conf_matr = pd.DataFrame(test_conf_matr, columns=['Less likely', 'Equally likely', 'More likely'],\n",
        "                             index=['Less likely', 'Equally likely', 'More likely'])\n",
        "\n",
        "dev_conf_matr = confusion_matrix(dev_y_true, dev_y_pred, normalize=norm_setting)\n",
        "#dev_conf_matr = confusion_matrix(df[df['set'] == 'dev']['label'].to_list(), dev_set_predictions,\n",
        "#                                 normalize=norm_setting)\n",
        "dev_conf_matr = pd.DataFrame(dev_conf_matr, columns=['Less likely', 'Equally likely', 'More likely'],\n",
        "                             index=['Less likely', 'Equally likely', 'More likely'])"
      ]
    },
    {
      "cell_type": "code",
      "execution_count": 44,
      "metadata": {},
      "outputs": [
        {
          "data": {
            "text/plain": [
              "Text(0.5, 20.049999999999997, 'Predicted')"
            ]
          },
          "execution_count": 44,
          "metadata": {},
          "output_type": "execute_result"
        },
        {
          "data": {
            "image/png": "[encoded data removed]",
            "text/plain": [
              "<Figure size 640x480 with 2 Axes>"
            ]
          },
          "metadata": {},
          "output_type": "display_data"
        }
      ],
      "source": [
        "sns.heatmap(dev_conf_matr, cmap='crest', annot=True, fmt=\".1%\")\n",
        "plt.title(f'{model_name} for sequence classification fine tuned on comparison classes \\nRun ID: {run_ID}, dev set \\n(normalize={norm_setting})')\n",
        "plt.ylabel('True')\n",
        "plt.xlabel('Predicted')"
      ]
    },
    {
      "cell_type": "code",
      "execution_count": 45,
      "metadata": {},
      "outputs": [
        {
          "data": {
            "text/plain": [
              "Text(0.5, 20.049999999999997, 'Predicted')"
            ]
          },
          "execution_count": 45,
          "metadata": {},
          "output_type": "execute_result"
        },
        {
          "data": {
            "image/png": "[encoded data removed]",
            "text/plain": [
              "<Figure size 640x480 with 2 Axes>"
            ]
          },
          "metadata": {},
          "output_type": "display_data"
        }
      ],
      "source": [
        "sns.heatmap(test_conf_matr, cmap='crest', annot=True, fmt=\".1%\")\n",
        "plt.title(f'{model_name} for sequence classification fine tuned on comparison classes \\nRun ID: {run_ID}, test set \\n(normalize={norm_setting})')\n",
        "plt.ylabel('True')\n",
        "plt.xlabel('Predicted')"
      ]
    },
    {
      "cell_type": "markdown",
      "metadata": {},
      "source": [
        "Macro F1"
      ]
    },
    {
      "cell_type": "code",
      "execution_count": 48,
      "metadata": {},
      "outputs": [
        {
          "name": "stdout",
          "output_type": "stream",
          "text": [
            "dev set: 0.506\n",
            "test set: 0.483\n"
          ]
        }
      ],
      "source": [
        "print('dev set: {:.3}'.format(f1_score(dev_y_true, dev_y_pred, average='macro')))\n",
        "print('test set: {:.3}'.format(f1_score(test_y_true, test_y_pred, average='macro')))"
      ]
    },
    {
      "cell_type": "markdown",
      "metadata": {},
      "source": [
        "Weighted F1"
      ]
    },
    {
      "cell_type": "code",
      "execution_count": 49,
      "metadata": {},
      "outputs": [
        {
          "name": "stdout",
          "output_type": "stream",
          "text": [
            "dev set: 0.672\n",
            "test set: 0.671\n"
          ]
        }
      ],
      "source": [
        "print('dev set: {:.3}'.format(f1_score(dev_y_true, dev_y_pred, average='weighted')))\n",
        "print('test set: {:.3}'.format(f1_score(test_y_true, test_y_pred, average='weighted')))"
      ]
    },
    {
      "cell_type": "markdown",
      "metadata": {},
      "source": [
        "F1 \"one vs all\" for each class"
      ]
    },
    {
      "cell_type": "code",
      "execution_count": 50,
      "metadata": {},
      "outputs": [],
      "source": [
        "def f1_one_vs_all(true, pred, class_label):\n",
        "  true = [0 if v != class_label else 1 for v in true]\n",
        "  pred = [0 if v != class_label else 1 for v in pred]\n",
        "  return f1_score(true, pred)"
      ]
    },
    {
      "cell_type": "code",
      "execution_count": 59,
      "metadata": {},
      "outputs": [
        {
          "name": "stdout",
          "output_type": "stream",
          "text": [
            "dev set:\n",
            "1: 0.49\n",
            "2: 0.74\n",
            "3: 0.29\n"
          ]
        }
      ],
      "source": [
        "f1_less, f1_eq, f1_more = f1_one_vs_all(dev_y_true, dev_y_pred, class_label=0), \\\n",
        "                          f1_one_vs_all(dev_y_true, dev_y_pred, class_label=1), \\\n",
        "                          f1_one_vs_all(dev_y_true, dev_y_pred, class_label=2)\n",
        "f1_less, f1_eq, f1_more\n",
        "print('dev set:')\n",
        "print(f'1: {f1_less:.2f}\\n2: {f1_eq:.2f}\\n3: {f1_more:.2f}')"
      ]
    },
    {
      "cell_type": "code",
      "execution_count": 60,
      "metadata": {},
      "outputs": [
        {
          "name": "stdout",
          "output_type": "stream",
          "text": [
            "test set:\n",
            "1: 0.42\n",
            "2: 0.75\n",
            "3: 0.28\n"
          ]
        }
      ],
      "source": [
        "f1_less, f1_eq, f1_more = f1_one_vs_all(test_y_true, test_y_pred, class_label=0), \\\n",
        "                          f1_one_vs_all(test_y_true, test_y_pred, class_label=1), \\\n",
        "                          f1_one_vs_all(test_y_true, test_y_pred, class_label=2)\n",
        "f1_less, f1_eq, f1_more\n",
        "print('test set:')\n",
        "print(f'1: {f1_less:.2f}\\n2: {f1_eq:.2f}\\n3: {f1_more:.2f}')"
      ]
    },
    {
      "cell_type": "markdown",
      "metadata": {},
      "source": [
        "Save the model for later use"
      ]
    },
    {
      "cell_type": "code",
      "execution_count": 190,
      "metadata": {},
      "outputs": [
        {
          "name": "stdout",
          "output_type": "stream",
          "text": [
            "all-mpnet-base-v2_9_full.pt\n"
          ]
        }
      ],
      "source": [
        "filename = model_name + \"_\" + str(run_ID) + \"_\" #+ \"ep\" +str(epochs) + \"_\"\n",
        "if len(train[train['label'] == 1]) == 1500:\n",
        "    filename += \"balanced\"\n",
        "else: \n",
        "    filename += \"full\"\n",
        "filename += \".pt\"\n",
        "print(filename)\n",
        "torch.save(model, filename)"
      ]
    }
  ],
  "metadata": {
    "colab": {
      "provenance": [],
      "toc_visible": true
    },
    "kernelspec": {
      "display_name": "msp_venv",
      "language": "python",
      "name": "python3"
    },
    "language_info": {
      "codemirror_mode": {
        "name": "ipython",
        "version": 3
      },
      "file_extension": ".py",
      "mimetype": "text/x-python",
      "name": "python",
      "nbconvert_exporter": "python",
      "pygments_lexer": "ipython3",
      "version": "3.10.11"
    },
    "widgets": {
      "application/vnd.jupyter.widget-state+json": {
        "00d15f22792648a8854f15f45cf5bb25": {
          "model_module": "@jupyter-widgets/controls",
          "model_module_version": "1.5.0",
          "model_name": "HTMLModel",
          "state": {
            "_dom_classes": [],
            "_model_module": "@jupyter-widgets/controls",
            "_model_module_version": "1.5.0",
            "_model_name": "HTMLModel",
            "_view_count": null,
            "_view_module": "@jupyter-widgets/controls",
            "_view_module_version": "1.5.0",
            "_view_name": "HTMLView",
            "description": "",
            "description_tooltip": null,
            "layout": "IPY_MODEL_5877689488334d81ad143c3bcc33d6e7",
            "placeholder": "​",
            "style": "IPY_MODEL_4950dfbca6e84eed922e89de5bd57d0d",
            "value": " 899k/899k [00:00&lt;00:00, 7.19MB/s]"
          }
        },
        "013c8f0687914cc4b69b3eab569df4de": {
          "model_module": "@jupyter-widgets/controls",
          "model_module_version": "1.5.0",
          "model_name": "DescriptionStyleModel",
          "state": {
            "_model_module": "@jupyter-widgets/controls",
            "_model_module_version": "1.5.0",
            "_model_name": "DescriptionStyleModel",
            "_view_count": null,
            "_view_module": "@jupyter-widgets/base",
            "_view_module_version": "1.2.0",
            "_view_name": "StyleView",
            "description_width": ""
          }
        },
        "14f1bfa4e53947b5957406bd5bdb0709": {
          "model_module": "@jupyter-widgets/base",
          "model_module_version": "1.2.0",
          "model_name": "LayoutModel",
          "state": {
            "_model_module": "@jupyter-widgets/base",
            "_model_module_version": "1.2.0",
            "_model_name": "LayoutModel",
            "_view_count": null,
            "_view_module": "@jupyter-widgets/base",
            "_view_module_version": "1.2.0",
            "_view_name": "LayoutView",
            "align_content": null,
            "align_items": null,
            "align_self": null,
            "border": null,
            "bottom": null,
            "display": null,
            "flex": null,
            "flex_flow": null,
            "grid_area": null,
            "grid_auto_columns": null,
            "grid_auto_flow": null,
            "grid_auto_rows": null,
            "grid_column": null,
            "grid_gap": null,
            "grid_row": null,
            "grid_template_areas": null,
            "grid_template_columns": null,
            "grid_template_rows": null,
            "height": null,
            "justify_content": null,
            "justify_items": null,
            "left": null,
            "margin": null,
            "max_height": null,
            "max_width": null,
            "min_height": null,
            "min_width": null,
            "object_fit": null,
            "object_position": null,
            "order": null,
            "overflow": null,
            "overflow_x": null,
            "overflow_y": null,
            "padding": null,
            "right": null,
            "top": null,
            "visibility": null,
            "width": null
          }
        },
        "174463e194b945fdb1ead64163d7e21f": {
          "model_module": "@jupyter-widgets/controls",
          "model_module_version": "1.5.0",
          "model_name": "FloatProgressModel",
          "state": {
            "_dom_classes": [],
            "_model_module": "@jupyter-widgets/controls",
            "_model_module_version": "1.5.0",
            "_model_name": "FloatProgressModel",
            "_view_count": null,
            "_view_module": "@jupyter-widgets/controls",
            "_view_module_version": "1.5.0",
            "_view_name": "ProgressView",
            "bar_style": "success",
            "description": "",
            "description_tooltip": null,
            "layout": "IPY_MODEL_cb962d2ed5584c808b5a497528221108",
            "max": 898825,
            "min": 0,
            "orientation": "horizontal",
            "style": "IPY_MODEL_816973761eec488e9451973670d7f805",
            "value": 898825
          }
        },
        "198328fcc01344a286aab2878407c852": {
          "model_module": "@jupyter-widgets/controls",
          "model_module_version": "1.5.0",
          "model_name": "ProgressStyleModel",
          "state": {
            "_model_module": "@jupyter-widgets/controls",
            "_model_module_version": "1.5.0",
            "_model_name": "ProgressStyleModel",
            "_view_count": null,
            "_view_module": "@jupyter-widgets/base",
            "_view_module_version": "1.2.0",
            "_view_name": "StyleView",
            "bar_color": null,
            "description_width": ""
          }
        },
        "1d0f96fb12f644eaab16e6a91741b7ee": {
          "model_module": "@jupyter-widgets/controls",
          "model_module_version": "1.5.0",
          "model_name": "DescriptionStyleModel",
          "state": {
            "_model_module": "@jupyter-widgets/controls",
            "_model_module_version": "1.5.0",
            "_model_name": "DescriptionStyleModel",
            "_view_count": null,
            "_view_module": "@jupyter-widgets/base",
            "_view_module_version": "1.2.0",
            "_view_name": "StyleView",
            "description_width": ""
          }
        },
        "1e732112e4434abfb5a4c83fbe4690f9": {
          "model_module": "@jupyter-widgets/controls",
          "model_module_version": "1.5.0",
          "model_name": "ProgressStyleModel",
          "state": {
            "_model_module": "@jupyter-widgets/controls",
            "_model_module_version": "1.5.0",
            "_model_name": "ProgressStyleModel",
            "_view_count": null,
            "_view_module": "@jupyter-widgets/base",
            "_view_module_version": "1.2.0",
            "_view_name": "StyleView",
            "bar_color": null,
            "description_width": ""
          }
        },
        "20e5a1da82bc4d308192c10efe7b3c6d": {
          "model_module": "@jupyter-widgets/controls",
          "model_module_version": "1.5.0",
          "model_name": "HBoxModel",
          "state": {
            "_dom_classes": [],
            "_model_module": "@jupyter-widgets/controls",
            "_model_module_version": "1.5.0",
            "_model_name": "HBoxModel",
            "_view_count": null,
            "_view_module": "@jupyter-widgets/controls",
            "_view_module_version": "1.5.0",
            "_view_name": "HBoxView",
            "box_style": "",
            "children": [
              "IPY_MODEL_f24568f8b99343e2a09edcb4f7ca5850",
              "IPY_MODEL_b735683b3bc9413898fa39aba3ede408",
              "IPY_MODEL_5056e4f6d7cd4bc0b2d15b2857ae86d5"
            ],
            "layout": "IPY_MODEL_d142a241fa93403587dbabe15d76bfb0"
          }
        },
        "2197d25352ae4b589862abf924473a65": {
          "model_module": "@jupyter-widgets/base",
          "model_module_version": "1.2.0",
          "model_name": "LayoutModel",
          "state": {
            "_model_module": "@jupyter-widgets/base",
            "_model_module_version": "1.2.0",
            "_model_name": "LayoutModel",
            "_view_count": null,
            "_view_module": "@jupyter-widgets/base",
            "_view_module_version": "1.2.0",
            "_view_name": "LayoutView",
            "align_content": null,
            "align_items": null,
            "align_self": null,
            "border": null,
            "bottom": null,
            "display": null,
            "flex": null,
            "flex_flow": null,
            "grid_area": null,
            "grid_auto_columns": null,
            "grid_auto_flow": null,
            "grid_auto_rows": null,
            "grid_column": null,
            "grid_gap": null,
            "grid_row": null,
            "grid_template_areas": null,
            "grid_template_columns": null,
            "grid_template_rows": null,
            "height": null,
            "justify_content": null,
            "justify_items": null,
            "left": null,
            "margin": null,
            "max_height": null,
            "max_width": null,
            "min_height": null,
            "min_width": null,
            "object_fit": null,
            "object_position": null,
            "order": null,
            "overflow": null,
            "overflow_x": null,
            "overflow_y": null,
            "padding": null,
            "right": null,
            "top": null,
            "visibility": null,
            "width": null
          }
        },
        "2e4d10bb2833432fa9df48ad609de4fc": {
          "model_module": "@jupyter-widgets/controls",
          "model_module_version": "1.5.0",
          "model_name": "HTMLModel",
          "state": {
            "_dom_classes": [],
            "_model_module": "@jupyter-widgets/controls",
            "_model_module_version": "1.5.0",
            "_model_name": "HTMLModel",
            "_view_count": null,
            "_view_module": "@jupyter-widgets/controls",
            "_view_module_version": "1.5.0",
            "_view_name": "HTMLView",
            "description": "",
            "description_tooltip": null,
            "layout": "IPY_MODEL_61bab10defe54ac987ac56bcd85cc8b0",
            "placeholder": "​",
            "style": "IPY_MODEL_4526ef2b0a7c48f7a5c020afd50f0640",
            "value": "config.json: 100%"
          }
        },
        "4526ef2b0a7c48f7a5c020afd50f0640": {
          "model_module": "@jupyter-widgets/controls",
          "model_module_version": "1.5.0",
          "model_name": "DescriptionStyleModel",
          "state": {
            "_model_module": "@jupyter-widgets/controls",
            "_model_module_version": "1.5.0",
            "_model_name": "DescriptionStyleModel",
            "_view_count": null,
            "_view_module": "@jupyter-widgets/base",
            "_view_module_version": "1.2.0",
            "_view_name": "StyleView",
            "description_width": ""
          }
        },
        "4950dfbca6e84eed922e89de5bd57d0d": {
          "model_module": "@jupyter-widgets/controls",
          "model_module_version": "1.5.0",
          "model_name": "DescriptionStyleModel",
          "state": {
            "_model_module": "@jupyter-widgets/controls",
            "_model_module_version": "1.5.0",
            "_model_name": "DescriptionStyleModel",
            "_view_count": null,
            "_view_module": "@jupyter-widgets/base",
            "_view_module_version": "1.2.0",
            "_view_name": "StyleView",
            "description_width": ""
          }
        },
        "4af9fb3178a64681973b0742ab7aec3d": {
          "model_module": "@jupyter-widgets/base",
          "model_module_version": "1.2.0",
          "model_name": "LayoutModel",
          "state": {
            "_model_module": "@jupyter-widgets/base",
            "_model_module_version": "1.2.0",
            "_model_name": "LayoutModel",
            "_view_count": null,
            "_view_module": "@jupyter-widgets/base",
            "_view_module_version": "1.2.0",
            "_view_name": "LayoutView",
            "align_content": null,
            "align_items": null,
            "align_self": null,
            "border": null,
            "bottom": null,
            "display": null,
            "flex": null,
            "flex_flow": null,
            "grid_area": null,
            "grid_auto_columns": null,
            "grid_auto_flow": null,
            "grid_auto_rows": null,
            "grid_column": null,
            "grid_gap": null,
            "grid_row": null,
            "grid_template_areas": null,
            "grid_template_columns": null,
            "grid_template_rows": null,
            "height": null,
            "justify_content": null,
            "justify_items": null,
            "left": null,
            "margin": null,
            "max_height": null,
            "max_width": null,
            "min_height": null,
            "min_width": null,
            "object_fit": null,
            "object_position": null,
            "order": null,
            "overflow": null,
            "overflow_x": null,
            "overflow_y": null,
            "padding": null,
            "right": null,
            "top": null,
            "visibility": null,
            "width": null
          }
        },
        "5056e4f6d7cd4bc0b2d15b2857ae86d5": {
          "model_module": "@jupyter-widgets/controls",
          "model_module_version": "1.5.0",
          "model_name": "HTMLModel",
          "state": {
            "_dom_classes": [],
            "_model_module": "@jupyter-widgets/controls",
            "_model_module_version": "1.5.0",
            "_model_name": "HTMLModel",
            "_view_count": null,
            "_view_module": "@jupyter-widgets/controls",
            "_view_module_version": "1.5.0",
            "_view_name": "HTMLView",
            "description": "",
            "description_tooltip": null,
            "layout": "IPY_MODEL_9ef322355a71416f9c868f85a2375915",
            "placeholder": "​",
            "style": "IPY_MODEL_cd44bc2bd8bd4c068e5cb1b5344c0c0e",
            "value": " 456k/456k [00:00&lt;00:00, 3.60MB/s]"
          }
        },
        "56b20362400d420b94b6ae25480dce87": {
          "model_module": "@jupyter-widgets/base",
          "model_module_version": "1.2.0",
          "model_name": "LayoutModel",
          "state": {
            "_model_module": "@jupyter-widgets/base",
            "_model_module_version": "1.2.0",
            "_model_name": "LayoutModel",
            "_view_count": null,
            "_view_module": "@jupyter-widgets/base",
            "_view_module_version": "1.2.0",
            "_view_name": "LayoutView",
            "align_content": null,
            "align_items": null,
            "align_self": null,
            "border": null,
            "bottom": null,
            "display": null,
            "flex": null,
            "flex_flow": null,
            "grid_area": null,
            "grid_auto_columns": null,
            "grid_auto_flow": null,
            "grid_auto_rows": null,
            "grid_column": null,
            "grid_gap": null,
            "grid_row": null,
            "grid_template_areas": null,
            "grid_template_columns": null,
            "grid_template_rows": null,
            "height": null,
            "justify_content": null,
            "justify_items": null,
            "left": null,
            "margin": null,
            "max_height": null,
            "max_width": null,
            "min_height": null,
            "min_width": null,
            "object_fit": null,
            "object_position": null,
            "order": null,
            "overflow": null,
            "overflow_x": null,
            "overflow_y": null,
            "padding": null,
            "right": null,
            "top": null,
            "visibility": null,
            "width": null
          }
        },
        "5742c7ce1b3b41cd819590df6565f559": {
          "model_module": "@jupyter-widgets/controls",
          "model_module_version": "1.5.0",
          "model_name": "HTMLModel",
          "state": {
            "_dom_classes": [],
            "_model_module": "@jupyter-widgets/controls",
            "_model_module_version": "1.5.0",
            "_model_name": "HTMLModel",
            "_view_count": null,
            "_view_module": "@jupyter-widgets/controls",
            "_view_module_version": "1.5.0",
            "_view_name": "HTMLView",
            "description": "",
            "description_tooltip": null,
            "layout": "IPY_MODEL_5749da32ece74c83af573b90c5242db2",
            "placeholder": "​",
            "style": "IPY_MODEL_e3ec49f6d44f4516ab69925a815ec9d9",
            "value": " 52.0/52.0 [00:00&lt;00:00, 1.21kB/s]"
          }
        },
        "5749da32ece74c83af573b90c5242db2": {
          "model_module": "@jupyter-widgets/base",
          "model_module_version": "1.2.0",
          "model_name": "LayoutModel",
          "state": {
            "_model_module": "@jupyter-widgets/base",
            "_model_module_version": "1.2.0",
            "_model_name": "LayoutModel",
            "_view_count": null,
            "_view_module": "@jupyter-widgets/base",
            "_view_module_version": "1.2.0",
            "_view_name": "LayoutView",
            "align_content": null,
            "align_items": null,
            "align_self": null,
            "border": null,
            "bottom": null,
            "display": null,
            "flex": null,
            "flex_flow": null,
            "grid_area": null,
            "grid_auto_columns": null,
            "grid_auto_flow": null,
            "grid_auto_rows": null,
            "grid_column": null,
            "grid_gap": null,
            "grid_row": null,
            "grid_template_areas": null,
            "grid_template_columns": null,
            "grid_template_rows": null,
            "height": null,
            "justify_content": null,
            "justify_items": null,
            "left": null,
            "margin": null,
            "max_height": null,
            "max_width": null,
            "min_height": null,
            "min_width": null,
            "object_fit": null,
            "object_position": null,
            "order": null,
            "overflow": null,
            "overflow_x": null,
            "overflow_y": null,
            "padding": null,
            "right": null,
            "top": null,
            "visibility": null,
            "width": null
          }
        },
        "5877689488334d81ad143c3bcc33d6e7": {
          "model_module": "@jupyter-widgets/base",
          "model_module_version": "1.2.0",
          "model_name": "LayoutModel",
          "state": {
            "_model_module": "@jupyter-widgets/base",
            "_model_module_version": "1.2.0",
            "_model_name": "LayoutModel",
            "_view_count": null,
            "_view_module": "@jupyter-widgets/base",
            "_view_module_version": "1.2.0",
            "_view_name": "LayoutView",
            "align_content": null,
            "align_items": null,
            "align_self": null,
            "border": null,
            "bottom": null,
            "display": null,
            "flex": null,
            "flex_flow": null,
            "grid_area": null,
            "grid_auto_columns": null,
            "grid_auto_flow": null,
            "grid_auto_rows": null,
            "grid_column": null,
            "grid_gap": null,
            "grid_row": null,
            "grid_template_areas": null,
            "grid_template_columns": null,
            "grid_template_rows": null,
            "height": null,
            "justify_content": null,
            "justify_items": null,
            "left": null,
            "margin": null,
            "max_height": null,
            "max_width": null,
            "min_height": null,
            "min_width": null,
            "object_fit": null,
            "object_position": null,
            "order": null,
            "overflow": null,
            "overflow_x": null,
            "overflow_y": null,
            "padding": null,
            "right": null,
            "top": null,
            "visibility": null,
            "width": null
          }
        },
        "61bab10defe54ac987ac56bcd85cc8b0": {
          "model_module": "@jupyter-widgets/base",
          "model_module_version": "1.2.0",
          "model_name": "LayoutModel",
          "state": {
            "_model_module": "@jupyter-widgets/base",
            "_model_module_version": "1.2.0",
            "_model_name": "LayoutModel",
            "_view_count": null,
            "_view_module": "@jupyter-widgets/base",
            "_view_module_version": "1.2.0",
            "_view_name": "LayoutView",
            "align_content": null,
            "align_items": null,
            "align_self": null,
            "border": null,
            "bottom": null,
            "display": null,
            "flex": null,
            "flex_flow": null,
            "grid_area": null,
            "grid_auto_columns": null,
            "grid_auto_flow": null,
            "grid_auto_rows": null,
            "grid_column": null,
            "grid_gap": null,
            "grid_row": null,
            "grid_template_areas": null,
            "grid_template_columns": null,
            "grid_template_rows": null,
            "height": null,
            "justify_content": null,
            "justify_items": null,
            "left": null,
            "margin": null,
            "max_height": null,
            "max_width": null,
            "min_height": null,
            "min_width": null,
            "object_fit": null,
            "object_position": null,
            "order": null,
            "overflow": null,
            "overflow_x": null,
            "overflow_y": null,
            "padding": null,
            "right": null,
            "top": null,
            "visibility": null,
            "width": null
          }
        },
        "63ef8a5cc570477fb6492356eaf57eda": {
          "model_module": "@jupyter-widgets/controls",
          "model_module_version": "1.5.0",
          "model_name": "ProgressStyleModel",
          "state": {
            "_model_module": "@jupyter-widgets/controls",
            "_model_module_version": "1.5.0",
            "_model_name": "ProgressStyleModel",
            "_view_count": null,
            "_view_module": "@jupyter-widgets/base",
            "_view_module_version": "1.2.0",
            "_view_name": "StyleView",
            "bar_color": null,
            "description_width": ""
          }
        },
        "6b3dbf1d48a0478e9b9312f883fcde91": {
          "model_module": "@jupyter-widgets/base",
          "model_module_version": "1.2.0",
          "model_name": "LayoutModel",
          "state": {
            "_model_module": "@jupyter-widgets/base",
            "_model_module_version": "1.2.0",
            "_model_name": "LayoutModel",
            "_view_count": null,
            "_view_module": "@jupyter-widgets/base",
            "_view_module_version": "1.2.0",
            "_view_name": "LayoutView",
            "align_content": null,
            "align_items": null,
            "align_self": null,
            "border": null,
            "bottom": null,
            "display": null,
            "flex": null,
            "flex_flow": null,
            "grid_area": null,
            "grid_auto_columns": null,
            "grid_auto_flow": null,
            "grid_auto_rows": null,
            "grid_column": null,
            "grid_gap": null,
            "grid_row": null,
            "grid_template_areas": null,
            "grid_template_columns": null,
            "grid_template_rows": null,
            "height": null,
            "justify_content": null,
            "justify_items": null,
            "left": null,
            "margin": null,
            "max_height": null,
            "max_width": null,
            "min_height": null,
            "min_width": null,
            "object_fit": null,
            "object_position": null,
            "order": null,
            "overflow": null,
            "overflow_x": null,
            "overflow_y": null,
            "padding": null,
            "right": null,
            "top": null,
            "visibility": null,
            "width": null
          }
        },
        "78898eb4917a4fbfae0e7be9e7da130a": {
          "model_module": "@jupyter-widgets/controls",
          "model_module_version": "1.5.0",
          "model_name": "DescriptionStyleModel",
          "state": {
            "_model_module": "@jupyter-widgets/controls",
            "_model_module_version": "1.5.0",
            "_model_name": "DescriptionStyleModel",
            "_view_count": null,
            "_view_module": "@jupyter-widgets/base",
            "_view_module_version": "1.2.0",
            "_view_name": "StyleView",
            "description_width": ""
          }
        },
        "78ad16bfe6894474b66ea1e6336eff7f": {
          "model_module": "@jupyter-widgets/controls",
          "model_module_version": "1.5.0",
          "model_name": "HBoxModel",
          "state": {
            "_dom_classes": [],
            "_model_module": "@jupyter-widgets/controls",
            "_model_module_version": "1.5.0",
            "_model_name": "HBoxModel",
            "_view_count": null,
            "_view_module": "@jupyter-widgets/controls",
            "_view_module_version": "1.5.0",
            "_view_name": "HBoxView",
            "box_style": "",
            "children": [
              "IPY_MODEL_2e4d10bb2833432fa9df48ad609de4fc",
              "IPY_MODEL_da4f3ad1b572481f9a7709e44a293edf",
              "IPY_MODEL_ed61d20b0fab4664ac64087000cf1f19"
            ],
            "layout": "IPY_MODEL_4af9fb3178a64681973b0742ab7aec3d"
          }
        },
        "816973761eec488e9451973670d7f805": {
          "model_module": "@jupyter-widgets/controls",
          "model_module_version": "1.5.0",
          "model_name": "ProgressStyleModel",
          "state": {
            "_model_module": "@jupyter-widgets/controls",
            "_model_module_version": "1.5.0",
            "_model_name": "ProgressStyleModel",
            "_view_count": null,
            "_view_module": "@jupyter-widgets/base",
            "_view_module_version": "1.2.0",
            "_view_name": "StyleView",
            "bar_color": null,
            "description_width": ""
          }
        },
        "86eb3e5fe6904c7089d243f0dd9f2b32": {
          "model_module": "@jupyter-widgets/controls",
          "model_module_version": "1.5.0",
          "model_name": "HTMLModel",
          "state": {
            "_dom_classes": [],
            "_model_module": "@jupyter-widgets/controls",
            "_model_module_version": "1.5.0",
            "_model_name": "HTMLModel",
            "_view_count": null,
            "_view_module": "@jupyter-widgets/controls",
            "_view_module_version": "1.5.0",
            "_view_name": "HTMLView",
            "description": "",
            "description_tooltip": null,
            "layout": "IPY_MODEL_c63e94159a1a45d1abb09b45cd2788ad",
            "placeholder": "​",
            "style": "IPY_MODEL_78898eb4917a4fbfae0e7be9e7da130a",
            "value": "tokenizer_config.json: 100%"
          }
        },
        "92609c590579407dbe067663b4ba0ae2": {
          "model_module": "@jupyter-widgets/base",
          "model_module_version": "1.2.0",
          "model_name": "LayoutModel",
          "state": {
            "_model_module": "@jupyter-widgets/base",
            "_model_module_version": "1.2.0",
            "_model_name": "LayoutModel",
            "_view_count": null,
            "_view_module": "@jupyter-widgets/base",
            "_view_module_version": "1.2.0",
            "_view_name": "LayoutView",
            "align_content": null,
            "align_items": null,
            "align_self": null,
            "border": null,
            "bottom": null,
            "display": null,
            "flex": null,
            "flex_flow": null,
            "grid_area": null,
            "grid_auto_columns": null,
            "grid_auto_flow": null,
            "grid_auto_rows": null,
            "grid_column": null,
            "grid_gap": null,
            "grid_row": null,
            "grid_template_areas": null,
            "grid_template_columns": null,
            "grid_template_rows": null,
            "height": null,
            "justify_content": null,
            "justify_items": null,
            "left": null,
            "margin": null,
            "max_height": null,
            "max_width": null,
            "min_height": null,
            "min_width": null,
            "object_fit": null,
            "object_position": null,
            "order": null,
            "overflow": null,
            "overflow_x": null,
            "overflow_y": null,
            "padding": null,
            "right": null,
            "top": null,
            "visibility": null,
            "width": null
          }
        },
        "9ef322355a71416f9c868f85a2375915": {
          "model_module": "@jupyter-widgets/base",
          "model_module_version": "1.2.0",
          "model_name": "LayoutModel",
          "state": {
            "_model_module": "@jupyter-widgets/base",
            "_model_module_version": "1.2.0",
            "_model_name": "LayoutModel",
            "_view_count": null,
            "_view_module": "@jupyter-widgets/base",
            "_view_module_version": "1.2.0",
            "_view_name": "LayoutView",
            "align_content": null,
            "align_items": null,
            "align_self": null,
            "border": null,
            "bottom": null,
            "display": null,
            "flex": null,
            "flex_flow": null,
            "grid_area": null,
            "grid_auto_columns": null,
            "grid_auto_flow": null,
            "grid_auto_rows": null,
            "grid_column": null,
            "grid_gap": null,
            "grid_row": null,
            "grid_template_areas": null,
            "grid_template_columns": null,
            "grid_template_rows": null,
            "height": null,
            "justify_content": null,
            "justify_items": null,
            "left": null,
            "margin": null,
            "max_height": null,
            "max_width": null,
            "min_height": null,
            "min_width": null,
            "object_fit": null,
            "object_position": null,
            "order": null,
            "overflow": null,
            "overflow_x": null,
            "overflow_y": null,
            "padding": null,
            "right": null,
            "top": null,
            "visibility": null,
            "width": null
          }
        },
        "b3ac141a18384b55acd45a3abcb479c6": {
          "model_module": "@jupyter-widgets/controls",
          "model_module_version": "1.5.0",
          "model_name": "HBoxModel",
          "state": {
            "_dom_classes": [],
            "_model_module": "@jupyter-widgets/controls",
            "_model_module_version": "1.5.0",
            "_model_name": "HBoxModel",
            "_view_count": null,
            "_view_module": "@jupyter-widgets/controls",
            "_view_module_version": "1.5.0",
            "_view_name": "HBoxView",
            "box_style": "",
            "children": [
              "IPY_MODEL_d5fd81611ddd4baeb819b96151eab197",
              "IPY_MODEL_174463e194b945fdb1ead64163d7e21f",
              "IPY_MODEL_00d15f22792648a8854f15f45cf5bb25"
            ],
            "layout": "IPY_MODEL_6b3dbf1d48a0478e9b9312f883fcde91"
          }
        },
        "b735683b3bc9413898fa39aba3ede408": {
          "model_module": "@jupyter-widgets/controls",
          "model_module_version": "1.5.0",
          "model_name": "FloatProgressModel",
          "state": {
            "_dom_classes": [],
            "_model_module": "@jupyter-widgets/controls",
            "_model_module_version": "1.5.0",
            "_model_name": "FloatProgressModel",
            "_view_count": null,
            "_view_module": "@jupyter-widgets/controls",
            "_view_module_version": "1.5.0",
            "_view_name": "ProgressView",
            "bar_style": "success",
            "description": "",
            "description_tooltip": null,
            "layout": "IPY_MODEL_cfa8de11f4034e15a29c36314a913361",
            "max": 456318,
            "min": 0,
            "orientation": "horizontal",
            "style": "IPY_MODEL_63ef8a5cc570477fb6492356eaf57eda",
            "value": 456318
          }
        },
        "b9170e486d6b4631855bf084ae28afd3": {
          "model_module": "@jupyter-widgets/base",
          "model_module_version": "1.2.0",
          "model_name": "LayoutModel",
          "state": {
            "_model_module": "@jupyter-widgets/base",
            "_model_module_version": "1.2.0",
            "_model_name": "LayoutModel",
            "_view_count": null,
            "_view_module": "@jupyter-widgets/base",
            "_view_module_version": "1.2.0",
            "_view_name": "LayoutView",
            "align_content": null,
            "align_items": null,
            "align_self": null,
            "border": null,
            "bottom": null,
            "display": null,
            "flex": null,
            "flex_flow": null,
            "grid_area": null,
            "grid_auto_columns": null,
            "grid_auto_flow": null,
            "grid_auto_rows": null,
            "grid_column": null,
            "grid_gap": null,
            "grid_row": null,
            "grid_template_areas": null,
            "grid_template_columns": null,
            "grid_template_rows": null,
            "height": null,
            "justify_content": null,
            "justify_items": null,
            "left": null,
            "margin": null,
            "max_height": null,
            "max_width": null,
            "min_height": null,
            "min_width": null,
            "object_fit": null,
            "object_position": null,
            "order": null,
            "overflow": null,
            "overflow_x": null,
            "overflow_y": null,
            "padding": null,
            "right": null,
            "top": null,
            "visibility": null,
            "width": null
          }
        },
        "c63e94159a1a45d1abb09b45cd2788ad": {
          "model_module": "@jupyter-widgets/base",
          "model_module_version": "1.2.0",
          "model_name": "LayoutModel",
          "state": {
            "_model_module": "@jupyter-widgets/base",
            "_model_module_version": "1.2.0",
            "_model_name": "LayoutModel",
            "_view_count": null,
            "_view_module": "@jupyter-widgets/base",
            "_view_module_version": "1.2.0",
            "_view_name": "LayoutView",
            "align_content": null,
            "align_items": null,
            "align_self": null,
            "border": null,
            "bottom": null,
            "display": null,
            "flex": null,
            "flex_flow": null,
            "grid_area": null,
            "grid_auto_columns": null,
            "grid_auto_flow": null,
            "grid_auto_rows": null,
            "grid_column": null,
            "grid_gap": null,
            "grid_row": null,
            "grid_template_areas": null,
            "grid_template_columns": null,
            "grid_template_rows": null,
            "height": null,
            "justify_content": null,
            "justify_items": null,
            "left": null,
            "margin": null,
            "max_height": null,
            "max_width": null,
            "min_height": null,
            "min_width": null,
            "object_fit": null,
            "object_position": null,
            "order": null,
            "overflow": null,
            "overflow_x": null,
            "overflow_y": null,
            "padding": null,
            "right": null,
            "top": null,
            "visibility": null,
            "width": null
          }
        },
        "c7d3ffb4dba1458dbca8804c9ae31b12": {
          "model_module": "@jupyter-widgets/controls",
          "model_module_version": "1.5.0",
          "model_name": "HBoxModel",
          "state": {
            "_dom_classes": [],
            "_model_module": "@jupyter-widgets/controls",
            "_model_module_version": "1.5.0",
            "_model_name": "HBoxModel",
            "_view_count": null,
            "_view_module": "@jupyter-widgets/controls",
            "_view_module_version": "1.5.0",
            "_view_name": "HBoxView",
            "box_style": "",
            "children": [
              "IPY_MODEL_86eb3e5fe6904c7089d243f0dd9f2b32",
              "IPY_MODEL_dee52318c6fe4b359f4e5bd530fa158a",
              "IPY_MODEL_5742c7ce1b3b41cd819590df6565f559"
            ],
            "layout": "IPY_MODEL_14f1bfa4e53947b5957406bd5bdb0709"
          }
        },
        "cb962d2ed5584c808b5a497528221108": {
          "model_module": "@jupyter-widgets/base",
          "model_module_version": "1.2.0",
          "model_name": "LayoutModel",
          "state": {
            "_model_module": "@jupyter-widgets/base",
            "_model_module_version": "1.2.0",
            "_model_name": "LayoutModel",
            "_view_count": null,
            "_view_module": "@jupyter-widgets/base",
            "_view_module_version": "1.2.0",
            "_view_name": "LayoutView",
            "align_content": null,
            "align_items": null,
            "align_self": null,
            "border": null,
            "bottom": null,
            "display": null,
            "flex": null,
            "flex_flow": null,
            "grid_area": null,
            "grid_auto_columns": null,
            "grid_auto_flow": null,
            "grid_auto_rows": null,
            "grid_column": null,
            "grid_gap": null,
            "grid_row": null,
            "grid_template_areas": null,
            "grid_template_columns": null,
            "grid_template_rows": null,
            "height": null,
            "justify_content": null,
            "justify_items": null,
            "left": null,
            "margin": null,
            "max_height": null,
            "max_width": null,
            "min_height": null,
            "min_width": null,
            "object_fit": null,
            "object_position": null,
            "order": null,
            "overflow": null,
            "overflow_x": null,
            "overflow_y": null,
            "padding": null,
            "right": null,
            "top": null,
            "visibility": null,
            "width": null
          }
        },
        "cd44bc2bd8bd4c068e5cb1b5344c0c0e": {
          "model_module": "@jupyter-widgets/controls",
          "model_module_version": "1.5.0",
          "model_name": "DescriptionStyleModel",
          "state": {
            "_model_module": "@jupyter-widgets/controls",
            "_model_module_version": "1.5.0",
            "_model_name": "DescriptionStyleModel",
            "_view_count": null,
            "_view_module": "@jupyter-widgets/base",
            "_view_module_version": "1.2.0",
            "_view_name": "StyleView",
            "description_width": ""
          }
        },
        "cfa8de11f4034e15a29c36314a913361": {
          "model_module": "@jupyter-widgets/base",
          "model_module_version": "1.2.0",
          "model_name": "LayoutModel",
          "state": {
            "_model_module": "@jupyter-widgets/base",
            "_model_module_version": "1.2.0",
            "_model_name": "LayoutModel",
            "_view_count": null,
            "_view_module": "@jupyter-widgets/base",
            "_view_module_version": "1.2.0",
            "_view_name": "LayoutView",
            "align_content": null,
            "align_items": null,
            "align_self": null,
            "border": null,
            "bottom": null,
            "display": null,
            "flex": null,
            "flex_flow": null,
            "grid_area": null,
            "grid_auto_columns": null,
            "grid_auto_flow": null,
            "grid_auto_rows": null,
            "grid_column": null,
            "grid_gap": null,
            "grid_row": null,
            "grid_template_areas": null,
            "grid_template_columns": null,
            "grid_template_rows": null,
            "height": null,
            "justify_content": null,
            "justify_items": null,
            "left": null,
            "margin": null,
            "max_height": null,
            "max_width": null,
            "min_height": null,
            "min_width": null,
            "object_fit": null,
            "object_position": null,
            "order": null,
            "overflow": null,
            "overflow_x": null,
            "overflow_y": null,
            "padding": null,
            "right": null,
            "top": null,
            "visibility": null,
            "width": null
          }
        },
        "d142a241fa93403587dbabe15d76bfb0": {
          "model_module": "@jupyter-widgets/base",
          "model_module_version": "1.2.0",
          "model_name": "LayoutModel",
          "state": {
            "_model_module": "@jupyter-widgets/base",
            "_model_module_version": "1.2.0",
            "_model_name": "LayoutModel",
            "_view_count": null,
            "_view_module": "@jupyter-widgets/base",
            "_view_module_version": "1.2.0",
            "_view_name": "LayoutView",
            "align_content": null,
            "align_items": null,
            "align_self": null,
            "border": null,
            "bottom": null,
            "display": null,
            "flex": null,
            "flex_flow": null,
            "grid_area": null,
            "grid_auto_columns": null,
            "grid_auto_flow": null,
            "grid_auto_rows": null,
            "grid_column": null,
            "grid_gap": null,
            "grid_row": null,
            "grid_template_areas": null,
            "grid_template_columns": null,
            "grid_template_rows": null,
            "height": null,
            "justify_content": null,
            "justify_items": null,
            "left": null,
            "margin": null,
            "max_height": null,
            "max_width": null,
            "min_height": null,
            "min_width": null,
            "object_fit": null,
            "object_position": null,
            "order": null,
            "overflow": null,
            "overflow_x": null,
            "overflow_y": null,
            "padding": null,
            "right": null,
            "top": null,
            "visibility": null,
            "width": null
          }
        },
        "d5fd81611ddd4baeb819b96151eab197": {
          "model_module": "@jupyter-widgets/controls",
          "model_module_version": "1.5.0",
          "model_name": "HTMLModel",
          "state": {
            "_dom_classes": [],
            "_model_module": "@jupyter-widgets/controls",
            "_model_module_version": "1.5.0",
            "_model_name": "HTMLModel",
            "_view_count": null,
            "_view_module": "@jupyter-widgets/controls",
            "_view_module_version": "1.5.0",
            "_view_name": "HTMLView",
            "description": "",
            "description_tooltip": null,
            "layout": "IPY_MODEL_56b20362400d420b94b6ae25480dce87",
            "placeholder": "​",
            "style": "IPY_MODEL_013c8f0687914cc4b69b3eab569df4de",
            "value": "vocab.json: 100%"
          }
        },
        "d75643d6d1484ca582ae88c3174be19a": {
          "model_module": "@jupyter-widgets/base",
          "model_module_version": "1.2.0",
          "model_name": "LayoutModel",
          "state": {
            "_model_module": "@jupyter-widgets/base",
            "_model_module_version": "1.2.0",
            "_model_name": "LayoutModel",
            "_view_count": null,
            "_view_module": "@jupyter-widgets/base",
            "_view_module_version": "1.2.0",
            "_view_name": "LayoutView",
            "align_content": null,
            "align_items": null,
            "align_self": null,
            "border": null,
            "bottom": null,
            "display": null,
            "flex": null,
            "flex_flow": null,
            "grid_area": null,
            "grid_auto_columns": null,
            "grid_auto_flow": null,
            "grid_auto_rows": null,
            "grid_column": null,
            "grid_gap": null,
            "grid_row": null,
            "grid_template_areas": null,
            "grid_template_columns": null,
            "grid_template_rows": null,
            "height": null,
            "justify_content": null,
            "justify_items": null,
            "left": null,
            "margin": null,
            "max_height": null,
            "max_width": null,
            "min_height": null,
            "min_width": null,
            "object_fit": null,
            "object_position": null,
            "order": null,
            "overflow": null,
            "overflow_x": null,
            "overflow_y": null,
            "padding": null,
            "right": null,
            "top": null,
            "visibility": null,
            "width": null
          }
        },
        "da4f3ad1b572481f9a7709e44a293edf": {
          "model_module": "@jupyter-widgets/controls",
          "model_module_version": "1.5.0",
          "model_name": "FloatProgressModel",
          "state": {
            "_dom_classes": [],
            "_model_module": "@jupyter-widgets/controls",
            "_model_module_version": "1.5.0",
            "_model_name": "FloatProgressModel",
            "_view_count": null,
            "_view_module": "@jupyter-widgets/controls",
            "_view_module_version": "1.5.0",
            "_view_name": "ProgressView",
            "bar_style": "success",
            "description": "",
            "description_tooltip": null,
            "layout": "IPY_MODEL_92609c590579407dbe067663b4ba0ae2",
            "max": 474,
            "min": 0,
            "orientation": "horizontal",
            "style": "IPY_MODEL_1e732112e4434abfb5a4c83fbe4690f9",
            "value": 474
          }
        },
        "dee52318c6fe4b359f4e5bd530fa158a": {
          "model_module": "@jupyter-widgets/controls",
          "model_module_version": "1.5.0",
          "model_name": "FloatProgressModel",
          "state": {
            "_dom_classes": [],
            "_model_module": "@jupyter-widgets/controls",
            "_model_module_version": "1.5.0",
            "_model_name": "FloatProgressModel",
            "_view_count": null,
            "_view_module": "@jupyter-widgets/controls",
            "_view_module_version": "1.5.0",
            "_view_name": "ProgressView",
            "bar_style": "success",
            "description": "",
            "description_tooltip": null,
            "layout": "IPY_MODEL_2197d25352ae4b589862abf924473a65",
            "max": 52,
            "min": 0,
            "orientation": "horizontal",
            "style": "IPY_MODEL_198328fcc01344a286aab2878407c852",
            "value": 52
          }
        },
        "e3ec49f6d44f4516ab69925a815ec9d9": {
          "model_module": "@jupyter-widgets/controls",
          "model_module_version": "1.5.0",
          "model_name": "DescriptionStyleModel",
          "state": {
            "_model_module": "@jupyter-widgets/controls",
            "_model_module_version": "1.5.0",
            "_model_name": "DescriptionStyleModel",
            "_view_count": null,
            "_view_module": "@jupyter-widgets/base",
            "_view_module_version": "1.2.0",
            "_view_name": "StyleView",
            "description_width": ""
          }
        },
        "ea71ac5f9f33444b9452acacb7897414": {
          "model_module": "@jupyter-widgets/controls",
          "model_module_version": "1.5.0",
          "model_name": "DescriptionStyleModel",
          "state": {
            "_model_module": "@jupyter-widgets/controls",
            "_model_module_version": "1.5.0",
            "_model_name": "DescriptionStyleModel",
            "_view_count": null,
            "_view_module": "@jupyter-widgets/base",
            "_view_module_version": "1.2.0",
            "_view_name": "StyleView",
            "description_width": ""
          }
        },
        "ed61d20b0fab4664ac64087000cf1f19": {
          "model_module": "@jupyter-widgets/controls",
          "model_module_version": "1.5.0",
          "model_name": "HTMLModel",
          "state": {
            "_dom_classes": [],
            "_model_module": "@jupyter-widgets/controls",
            "_model_module_version": "1.5.0",
            "_model_name": "HTMLModel",
            "_view_count": null,
            "_view_module": "@jupyter-widgets/controls",
            "_view_module_version": "1.5.0",
            "_view_name": "HTMLView",
            "description": "",
            "description_tooltip": null,
            "layout": "IPY_MODEL_d75643d6d1484ca582ae88c3174be19a",
            "placeholder": "​",
            "style": "IPY_MODEL_1d0f96fb12f644eaab16e6a91741b7ee",
            "value": " 474/474 [00:00&lt;00:00, 14.0kB/s]"
          }
        },
        "f24568f8b99343e2a09edcb4f7ca5850": {
          "model_module": "@jupyter-widgets/controls",
          "model_module_version": "1.5.0",
          "model_name": "HTMLModel",
          "state": {
            "_dom_classes": [],
            "_model_module": "@jupyter-widgets/controls",
            "_model_module_version": "1.5.0",
            "_model_name": "HTMLModel",
            "_view_count": null,
            "_view_module": "@jupyter-widgets/controls",
            "_view_module_version": "1.5.0",
            "_view_name": "HTMLView",
            "description": "",
            "description_tooltip": null,
            "layout": "IPY_MODEL_b9170e486d6b4631855bf084ae28afd3",
            "placeholder": "​",
            "style": "IPY_MODEL_ea71ac5f9f33444b9452acacb7897414",
            "value": "merges.txt: 100%"
          }
        }
      }
    }
  },
  "nbformat": 4,
  "nbformat_minor": 0
}
