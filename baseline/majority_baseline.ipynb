{
  "nbformat": 4,
  "nbformat_minor": 0,
  "metadata": {
    "colab": {
      "provenance": [],
      "toc_visible": true
    },
    "kernelspec": {
      "name": "python3",
      "display_name": "Python 3"
    },
    "language_info": {
      "name": "python"
    }
  },
  "cells": [
    {
      "cell_type": "markdown",
      "source": [
        "# Setup\n",
        "\n",
        "The prerequisites to running the code are as follows:\n",
        "\n",
        "1. Having all dependencies installed. This should have been achieved once you ran `pip install -r requirements.txt` and it finished successfully\n",
        "\n",
        "2. Having the `datasets` folder with its contents stored in the same directory as this notebook. This should have been achieved when you cloned the repository to your local system"
      ],
      "metadata": {
        "id": "kmcypoWk0F1s"
      }
    },
    {
      "cell_type": "markdown",
      "source": [
        "Import dependencies"
      ],
      "metadata": {
        "id": "GD5wf3KeeQVK"
      }
    },
    {
      "cell_type": "code",
      "execution_count": null,
      "metadata": {
        "id": "9lTVjC1_Tg6b"
      },
      "outputs": [],
      "source": [
        "import pandas as pd\n",
        "import numpy as np\n",
        "from tqdm import tqdm\n",
        "from typing import Tuple\n",
        "import random\n",
        "import os\n",
        "\n",
        "from sklearn.metrics import confusion_matrix, f1_score, accuracy_score"
      ]
    },
    {
      "cell_type": "markdown",
      "source": [
        "Set random seed values for reproducibility"
      ],
      "metadata": {
        "id": "xghORKo-PnW9"
      }
    },
    {
      "cell_type": "code",
      "source": [
        "seed_val = 17  # 42, 17, 6\n",
        "\n",
        "random.seed(seed_val)\n",
        "np.random.seed(seed_val)"
      ],
      "metadata": {
        "id": "iWDLeBDrPmps"
      },
      "execution_count": null,
      "outputs": []
    },
    {
      "cell_type": "code",
      "source": [
        "# from google.colab import drive\n",
        "# drive.mount('/content/drive')"
      ],
      "metadata": {
        "colab": {
          "base_uri": "https://localhost:8080/"
        },
        "id": "fsKduiJqeH9t",
        "outputId": "673957cb-a6bf-44b5-b395-053ae35a7346"
      },
      "execution_count": null,
      "outputs": [
        {
          "output_type": "stream",
          "name": "stdout",
          "text": [
            "Mounted at /content/drive\n"
          ]
        }
      ]
    },
    {
      "cell_type": "code",
      "source": [
        "# mount = '/content/drive/MyDrive/Uni Stuttgart/Plausibility'\n",
        "mount = '..'"
      ],
      "metadata": {
        "id": "BuLv5gKSeR-H"
      },
      "execution_count": null,
      "outputs": []
    },
    {
      "cell_type": "markdown",
      "source": [
        "# Read the data"
      ],
      "metadata": {
        "id": "hkyqsxGN0Y1Q"
      }
    },
    {
      "cell_type": "code",
      "execution_count": null,
      "metadata": {
        "id": "SE4g4J_2zsDp"
      },
      "outputs": [],
      "source": [
        "train = pd.read_json(f'{mount}/datasets/adept/train-dev-test-split/train.json')\n",
        "dev = pd.read_json(f'{mount}/datasets/adept/train-dev-test-split/val.json')\n",
        "test = pd.read_json(f'{mount}/datasets/adept/train-dev-test-split/test.json')\n",
        "\n",
        "train['set'] = 'train'\n",
        "dev['set'] = 'dev'\n",
        "test['set'] = 'test'\n",
        "df = pd.concat([train, dev, test])"
      ]
    },
    {
      "cell_type": "code",
      "source": [
        "df.head()"
      ],
      "metadata": {
        "colab": {
          "base_uri": "https://localhost:8080/",
          "height": 223
        },
        "id": "I4216VEZ07rT",
        "outputId": "ce488728-7837-4975-b3dc-e6cf549395e7"
      },
      "execution_count": null,
      "outputs": [
        {
          "output_type": "execute_result",
          "data": {
            "text/plain": [
              "                                 sentence1  \\\n",
              "0  The effect of sleeping is rejuvenation.   \n",
              "1        A toothbrush is for fresh breath.   \n",
              "2                      A scene is painted.   \n",
              "3                   A bone breaks a tooth.   \n",
              "4               A trip causes a happening.   \n",
              "\n",
              "                                           sentence2    modifier        noun  \\\n",
              "0  The effect of additional sleeping is rejuvenat...  additional    sleeping   \n",
              "1          A regular toothbrush is for fresh breath.     regular  toothbrush   \n",
              "2                       A negative scene is painted.    negative       scene   \n",
              "3                    An alleged bone breaks a tooth.     alleged        bone   \n",
              "4                A fabulous trip causes a happening.    fabulous        trip   \n",
              "\n",
              "   label    idx    set  \n",
              "0      3  13484  train  \n",
              "1      2   2620  train  \n",
              "2      2   3324  train  \n",
              "3      2  10610  train  \n",
              "4      2  14917  train  "
            ],
            "text/html": [
              "\n",
              "  <div id=\"df-e064b66f-5ae2-4fdb-aee6-e2b6bb621e88\" class=\"colab-df-container\">\n",
              "    <div>\n",
              "<style scoped>\n",
              "    .dataframe tbody tr th:only-of-type {\n",
              "        vertical-align: middle;\n",
              "    }\n",
              "\n",
              "    .dataframe tbody tr th {\n",
              "        vertical-align: top;\n",
              "    }\n",
              "\n",
              "    .dataframe thead th {\n",
              "        text-align: right;\n",
              "    }\n",
              "</style>\n",
              "<table border=\"1\" class=\"dataframe\">\n",
              "  <thead>\n",
              "    <tr style=\"text-align: right;\">\n",
              "      <th></th>\n",
              "      <th>sentence1</th>\n",
              "      <th>sentence2</th>\n",
              "      <th>modifier</th>\n",
              "      <th>noun</th>\n",
              "      <th>label</th>\n",
              "      <th>idx</th>\n",
              "      <th>set</th>\n",
              "    </tr>\n",
              "  </thead>\n",
              "  <tbody>\n",
              "    <tr>\n",
              "      <th>0</th>\n",
              "      <td>The effect of sleeping is rejuvenation.</td>\n",
              "      <td>The effect of additional sleeping is rejuvenat...</td>\n",
              "      <td>additional</td>\n",
              "      <td>sleeping</td>\n",
              "      <td>3</td>\n",
              "      <td>13484</td>\n",
              "      <td>train</td>\n",
              "    </tr>\n",
              "    <tr>\n",
              "      <th>1</th>\n",
              "      <td>A toothbrush is for fresh breath.</td>\n",
              "      <td>A regular toothbrush is for fresh breath.</td>\n",
              "      <td>regular</td>\n",
              "      <td>toothbrush</td>\n",
              "      <td>2</td>\n",
              "      <td>2620</td>\n",
              "      <td>train</td>\n",
              "    </tr>\n",
              "    <tr>\n",
              "      <th>2</th>\n",
              "      <td>A scene is painted.</td>\n",
              "      <td>A negative scene is painted.</td>\n",
              "      <td>negative</td>\n",
              "      <td>scene</td>\n",
              "      <td>2</td>\n",
              "      <td>3324</td>\n",
              "      <td>train</td>\n",
              "    </tr>\n",
              "    <tr>\n",
              "      <th>3</th>\n",
              "      <td>A bone breaks a tooth.</td>\n",
              "      <td>An alleged bone breaks a tooth.</td>\n",
              "      <td>alleged</td>\n",
              "      <td>bone</td>\n",
              "      <td>2</td>\n",
              "      <td>10610</td>\n",
              "      <td>train</td>\n",
              "    </tr>\n",
              "    <tr>\n",
              "      <th>4</th>\n",
              "      <td>A trip causes a happening.</td>\n",
              "      <td>A fabulous trip causes a happening.</td>\n",
              "      <td>fabulous</td>\n",
              "      <td>trip</td>\n",
              "      <td>2</td>\n",
              "      <td>14917</td>\n",
              "      <td>train</td>\n",
              "    </tr>\n",
              "  </tbody>\n",
              "</table>\n",
              "</div>\n",
              "    <div class=\"colab-df-buttons\">\n",
              "\n",
              "  <div class=\"colab-df-container\">\n",
              "    <button class=\"colab-df-convert\" onclick=\"convertToInteractive('df-e064b66f-5ae2-4fdb-aee6-e2b6bb621e88')\"\n",
              "            title=\"Convert this dataframe to an interactive table.\"\n",
              "            style=\"display:none;\">\n",
              "\n",
              "  <svg xmlns=\"http://www.w3.org/2000/svg\" height=\"24px\" viewBox=\"0 -960 960 960\">\n",
              "    <path d=\"M120-120v-720h720v720H120Zm60-500h600v-160H180v160Zm220 220h160v-160H400v160Zm0 220h160v-160H400v160ZM180-400h160v-160H180v160Zm440 0h160v-160H620v160ZM180-180h160v-160H180v160Zm440 0h160v-160H620v160Z\"/>\n",
              "  </svg>\n",
              "    </button>\n",
              "\n",
              "  <style>\n",
              "    .colab-df-container {\n",
              "      display:flex;\n",
              "      gap: 12px;\n",
              "    }\n",
              "\n",
              "    .colab-df-convert {\n",
              "      background-color: #E8F0FE;\n",
              "      border: none;\n",
              "      border-radius: 50%;\n",
              "      cursor: pointer;\n",
              "      display: none;\n",
              "      fill: #1967D2;\n",
              "      height: 32px;\n",
              "      padding: 0 0 0 0;\n",
              "      width: 32px;\n",
              "    }\n",
              "\n",
              "    .colab-df-convert:hover {\n",
              "      background-color: #E2EBFA;\n",
              "      box-shadow: 0px 1px 2px rgba(60, 64, 67, 0.3), 0px 1px 3px 1px rgba(60, 64, 67, 0.15);\n",
              "      fill: #174EA6;\n",
              "    }\n",
              "\n",
              "    .colab-df-buttons div {\n",
              "      margin-bottom: 4px;\n",
              "    }\n",
              "\n",
              "    [theme=dark] .colab-df-convert {\n",
              "      background-color: #3B4455;\n",
              "      fill: #D2E3FC;\n",
              "    }\n",
              "\n",
              "    [theme=dark] .colab-df-convert:hover {\n",
              "      background-color: #434B5C;\n",
              "      box-shadow: 0px 1px 3px 1px rgba(0, 0, 0, 0.15);\n",
              "      filter: drop-shadow(0px 1px 2px rgba(0, 0, 0, 0.3));\n",
              "      fill: #FFFFFF;\n",
              "    }\n",
              "  </style>\n",
              "\n",
              "    <script>\n",
              "      const buttonEl =\n",
              "        document.querySelector('#df-e064b66f-5ae2-4fdb-aee6-e2b6bb621e88 button.colab-df-convert');\n",
              "      buttonEl.style.display =\n",
              "        google.colab.kernel.accessAllowed ? 'block' : 'none';\n",
              "\n",
              "      async function convertToInteractive(key) {\n",
              "        const element = document.querySelector('#df-e064b66f-5ae2-4fdb-aee6-e2b6bb621e88');\n",
              "        const dataTable =\n",
              "          await google.colab.kernel.invokeFunction('convertToInteractive',\n",
              "                                                    [key], {});\n",
              "        if (!dataTable) return;\n",
              "\n",
              "        const docLinkHtml = 'Like what you see? Visit the ' +\n",
              "          '<a target=\"_blank\" href=https://colab.research.google.com/notebooks/data_table.ipynb>data table notebook</a>'\n",
              "          + ' to learn more about interactive tables.';\n",
              "        element.innerHTML = '';\n",
              "        dataTable['output_type'] = 'display_data';\n",
              "        await google.colab.output.renderOutput(dataTable, element);\n",
              "        const docLink = document.createElement('div');\n",
              "        docLink.innerHTML = docLinkHtml;\n",
              "        element.appendChild(docLink);\n",
              "      }\n",
              "    </script>\n",
              "  </div>\n",
              "\n",
              "\n",
              "    <div id=\"df-acbcf66a-5932-47bb-b333-6726899fa423\">\n",
              "      <button class=\"colab-df-quickchart\" onclick=\"quickchart('df-acbcf66a-5932-47bb-b333-6726899fa423')\"\n",
              "                title=\"Suggest charts\"\n",
              "                style=\"display:none;\">\n",
              "\n",
              "<svg xmlns=\"http://www.w3.org/2000/svg\" height=\"24px\"viewBox=\"0 0 24 24\"\n",
              "     width=\"24px\">\n",
              "    <g>\n",
              "        <path d=\"M19 3H5c-1.1 0-2 .9-2 2v14c0 1.1.9 2 2 2h14c1.1 0 2-.9 2-2V5c0-1.1-.9-2-2-2zM9 17H7v-7h2v7zm4 0h-2V7h2v10zm4 0h-2v-4h2v4z\"/>\n",
              "    </g>\n",
              "</svg>\n",
              "      </button>\n",
              "\n",
              "<style>\n",
              "  .colab-df-quickchart {\n",
              "      --bg-color: #E8F0FE;\n",
              "      --fill-color: #1967D2;\n",
              "      --hover-bg-color: #E2EBFA;\n",
              "      --hover-fill-color: #174EA6;\n",
              "      --disabled-fill-color: #AAA;\n",
              "      --disabled-bg-color: #DDD;\n",
              "  }\n",
              "\n",
              "  [theme=dark] .colab-df-quickchart {\n",
              "      --bg-color: #3B4455;\n",
              "      --fill-color: #D2E3FC;\n",
              "      --hover-bg-color: #434B5C;\n",
              "      --hover-fill-color: #FFFFFF;\n",
              "      --disabled-bg-color: #3B4455;\n",
              "      --disabled-fill-color: #666;\n",
              "  }\n",
              "\n",
              "  .colab-df-quickchart {\n",
              "    background-color: var(--bg-color);\n",
              "    border: none;\n",
              "    border-radius: 50%;\n",
              "    cursor: pointer;\n",
              "    display: none;\n",
              "    fill: var(--fill-color);\n",
              "    height: 32px;\n",
              "    padding: 0;\n",
              "    width: 32px;\n",
              "  }\n",
              "\n",
              "  .colab-df-quickchart:hover {\n",
              "    background-color: var(--hover-bg-color);\n",
              "    box-shadow: 0 1px 2px rgba(60, 64, 67, 0.3), 0 1px 3px 1px rgba(60, 64, 67, 0.15);\n",
              "    fill: var(--button-hover-fill-color);\n",
              "  }\n",
              "\n",
              "  .colab-df-quickchart-complete:disabled,\n",
              "  .colab-df-quickchart-complete:disabled:hover {\n",
              "    background-color: var(--disabled-bg-color);\n",
              "    fill: var(--disabled-fill-color);\n",
              "    box-shadow: none;\n",
              "  }\n",
              "\n",
              "  .colab-df-spinner {\n",
              "    border: 2px solid var(--fill-color);\n",
              "    border-color: transparent;\n",
              "    border-bottom-color: var(--fill-color);\n",
              "    animation:\n",
              "      spin 1s steps(1) infinite;\n",
              "  }\n",
              "\n",
              "  @keyframes spin {\n",
              "    0% {\n",
              "      border-color: transparent;\n",
              "      border-bottom-color: var(--fill-color);\n",
              "      border-left-color: var(--fill-color);\n",
              "    }\n",
              "    20% {\n",
              "      border-color: transparent;\n",
              "      border-left-color: var(--fill-color);\n",
              "      border-top-color: var(--fill-color);\n",
              "    }\n",
              "    30% {\n",
              "      border-color: transparent;\n",
              "      border-left-color: var(--fill-color);\n",
              "      border-top-color: var(--fill-color);\n",
              "      border-right-color: var(--fill-color);\n",
              "    }\n",
              "    40% {\n",
              "      border-color: transparent;\n",
              "      border-right-color: var(--fill-color);\n",
              "      border-top-color: var(--fill-color);\n",
              "    }\n",
              "    60% {\n",
              "      border-color: transparent;\n",
              "      border-right-color: var(--fill-color);\n",
              "    }\n",
              "    80% {\n",
              "      border-color: transparent;\n",
              "      border-right-color: var(--fill-color);\n",
              "      border-bottom-color: var(--fill-color);\n",
              "    }\n",
              "    90% {\n",
              "      border-color: transparent;\n",
              "      border-bottom-color: var(--fill-color);\n",
              "    }\n",
              "  }\n",
              "</style>\n",
              "\n",
              "      <script>\n",
              "        async function quickchart(key) {\n",
              "          const quickchartButtonEl =\n",
              "            document.querySelector('#' + key + ' button');\n",
              "          quickchartButtonEl.disabled = true;  // To prevent multiple clicks.\n",
              "          quickchartButtonEl.classList.add('colab-df-spinner');\n",
              "          try {\n",
              "            const charts = await google.colab.kernel.invokeFunction(\n",
              "                'suggestCharts', [key], {});\n",
              "          } catch (error) {\n",
              "            console.error('Error during call to suggestCharts:', error);\n",
              "          }\n",
              "          quickchartButtonEl.classList.remove('colab-df-spinner');\n",
              "          quickchartButtonEl.classList.add('colab-df-quickchart-complete');\n",
              "        }\n",
              "        (() => {\n",
              "          let quickchartButtonEl =\n",
              "            document.querySelector('#df-acbcf66a-5932-47bb-b333-6726899fa423 button');\n",
              "          quickchartButtonEl.style.display =\n",
              "            google.colab.kernel.accessAllowed ? 'block' : 'none';\n",
              "        })();\n",
              "      </script>\n",
              "    </div>\n",
              "\n",
              "    </div>\n",
              "  </div>\n"
            ],
            "application/vnd.google.colaboratory.intrinsic+json": {
              "type": "dataframe",
              "variable_name": "df",
              "summary": "{\n  \"name\": \"df\",\n  \"rows\": 16115,\n  \"fields\": [\n    {\n      \"column\": \"sentence1\",\n      \"properties\": {\n        \"dtype\": \"string\",\n        \"num_unique_values\": 14853,\n        \"samples\": [\n          \"A mug has a handle.\",\n          \"A bidet is found in expensive hotel rooms.\",\n          \"Everyone is afraid of something.\"\n        ],\n        \"semantic_type\": \"\",\n        \"description\": \"\"\n      }\n    },\n    {\n      \"column\": \"sentence2\",\n      \"properties\": {\n        \"dtype\": \"string\",\n        \"num_unique_values\": 16102,\n        \"samples\": [\n          \"Basic lettuce is made of water.\",\n          \"Financial infidelity divides spouses.\",\n          \"That potential win evens up the score.\"\n        ],\n        \"semantic_type\": \"\",\n        \"description\": \"\"\n      }\n    },\n    {\n      \"column\": \"modifier\",\n      \"properties\": {\n        \"dtype\": \"category\",\n        \"num_unique_values\": 3151,\n        \"samples\": [\n          \"textile\",\n          \"deranged\",\n          \"glacial\"\n        ],\n        \"semantic_type\": \"\",\n        \"description\": \"\"\n      }\n    },\n    {\n      \"column\": \"noun\",\n      \"properties\": {\n        \"dtype\": \"category\",\n        \"num_unique_values\": 2942,\n        \"samples\": [\n          \"switch\",\n          \"village\",\n          \"neon\"\n        ],\n        \"semantic_type\": \"\",\n        \"description\": \"\"\n      }\n    },\n    {\n      \"column\": \"label\",\n      \"properties\": {\n        \"dtype\": \"number\",\n        \"std\": 0,\n        \"min\": 0,\n        \"max\": 4,\n        \"num_unique_values\": 5,\n        \"samples\": [\n          2,\n          4,\n          1\n        ],\n        \"semantic_type\": \"\",\n        \"description\": \"\"\n      }\n    },\n    {\n      \"column\": \"idx\",\n      \"properties\": {\n        \"dtype\": \"number\",\n        \"std\": 4652,\n        \"min\": 0,\n        \"max\": 16114,\n        \"num_unique_values\": 16115,\n        \"samples\": [\n          6684,\n          14416,\n          3751\n        ],\n        \"semantic_type\": \"\",\n        \"description\": \"\"\n      }\n    },\n    {\n      \"column\": \"set\",\n      \"properties\": {\n        \"dtype\": \"category\",\n        \"num_unique_values\": 3,\n        \"samples\": [\n          \"train\",\n          \"dev\",\n          \"test\"\n        ],\n        \"semantic_type\": \"\",\n        \"description\": \"\"\n      }\n    }\n  ]\n}"
            }
          },
          "metadata": {},
          "execution_count": 107
        }
      ]
    },
    {
      "cell_type": "code",
      "source": [
        "df['set'].value_counts()"
      ],
      "metadata": {
        "colab": {
          "base_uri": "https://localhost:8080/",
          "height": 209
        },
        "id": "PGylXrusOEjN",
        "outputId": "0598bed3-8881-408a-92b1-862d534cfd81"
      },
      "execution_count": null,
      "outputs": [
        {
          "output_type": "execute_result",
          "data": {
            "text/plain": [
              "set\n",
              "train    12892\n",
              "test      1612\n",
              "dev       1611\n",
              "Name: count, dtype: int64"
            ],
            "text/html": [
              "<div>\n",
              "<style scoped>\n",
              "    .dataframe tbody tr th:only-of-type {\n",
              "        vertical-align: middle;\n",
              "    }\n",
              "\n",
              "    .dataframe tbody tr th {\n",
              "        vertical-align: top;\n",
              "    }\n",
              "\n",
              "    .dataframe thead th {\n",
              "        text-align: right;\n",
              "    }\n",
              "</style>\n",
              "<table border=\"1\" class=\"dataframe\">\n",
              "  <thead>\n",
              "    <tr style=\"text-align: right;\">\n",
              "      <th></th>\n",
              "      <th>count</th>\n",
              "    </tr>\n",
              "    <tr>\n",
              "      <th>set</th>\n",
              "      <th></th>\n",
              "    </tr>\n",
              "  </thead>\n",
              "  <tbody>\n",
              "    <tr>\n",
              "      <th>train</th>\n",
              "      <td>12892</td>\n",
              "    </tr>\n",
              "    <tr>\n",
              "      <th>test</th>\n",
              "      <td>1612</td>\n",
              "    </tr>\n",
              "    <tr>\n",
              "      <th>dev</th>\n",
              "      <td>1611</td>\n",
              "    </tr>\n",
              "  </tbody>\n",
              "</table>\n",
              "</div><br><label><b>dtype:</b> int64</label>"
            ]
          },
          "metadata": {},
          "execution_count": 108
        }
      ]
    },
    {
      "cell_type": "markdown",
      "source": [
        "Only keep label classes 1, 2 and 3 (comparison labels). Map them to 0, 1 and 2 for training convenience:\n",
        "\n",
        "* 1 => 0\n",
        "* 2 => 1\n",
        "* 3 => 2"
      ],
      "metadata": {
        "id": "w4oLUaj1NWXL"
      }
    },
    {
      "cell_type": "code",
      "source": [
        "df = df[df['label'].isin([1, 2, 3])]\n",
        "df['label'].value_counts()"
      ],
      "metadata": {
        "colab": {
          "base_uri": "https://localhost:8080/",
          "height": 209
        },
        "id": "1afKI0w9NgKF",
        "outputId": "082672c9-d287-4e64-b5ed-8ccb9f9a7ae4"
      },
      "execution_count": null,
      "outputs": [
        {
          "output_type": "execute_result",
          "data": {
            "text/plain": [
              "label\n",
              "2    10805\n",
              "1     1868\n",
              "3     1132\n",
              "Name: count, dtype: int64"
            ],
            "text/html": [
              "<div>\n",
              "<style scoped>\n",
              "    .dataframe tbody tr th:only-of-type {\n",
              "        vertical-align: middle;\n",
              "    }\n",
              "\n",
              "    .dataframe tbody tr th {\n",
              "        vertical-align: top;\n",
              "    }\n",
              "\n",
              "    .dataframe thead th {\n",
              "        text-align: right;\n",
              "    }\n",
              "</style>\n",
              "<table border=\"1\" class=\"dataframe\">\n",
              "  <thead>\n",
              "    <tr style=\"text-align: right;\">\n",
              "      <th></th>\n",
              "      <th>count</th>\n",
              "    </tr>\n",
              "    <tr>\n",
              "      <th>label</th>\n",
              "      <th></th>\n",
              "    </tr>\n",
              "  </thead>\n",
              "  <tbody>\n",
              "    <tr>\n",
              "      <th>2</th>\n",
              "      <td>10805</td>\n",
              "    </tr>\n",
              "    <tr>\n",
              "      <th>1</th>\n",
              "      <td>1868</td>\n",
              "    </tr>\n",
              "    <tr>\n",
              "      <th>3</th>\n",
              "      <td>1132</td>\n",
              "    </tr>\n",
              "  </tbody>\n",
              "</table>\n",
              "</div><br><label><b>dtype:</b> int64</label>"
            ]
          },
          "metadata": {},
          "execution_count": 109
        }
      ]
    },
    {
      "cell_type": "code",
      "source": [
        "df['label'] -= 1\n",
        "df['label'].value_counts()"
      ],
      "metadata": {
        "colab": {
          "base_uri": "https://localhost:8080/",
          "height": 209
        },
        "id": "7X8GSft9Xurn",
        "outputId": "a9f81bea-7279-4a8c-997f-44d99a215eb1"
      },
      "execution_count": null,
      "outputs": [
        {
          "output_type": "execute_result",
          "data": {
            "text/plain": [
              "label\n",
              "1    10805\n",
              "0     1868\n",
              "2     1132\n",
              "Name: count, dtype: int64"
            ],
            "text/html": [
              "<div>\n",
              "<style scoped>\n",
              "    .dataframe tbody tr th:only-of-type {\n",
              "        vertical-align: middle;\n",
              "    }\n",
              "\n",
              "    .dataframe tbody tr th {\n",
              "        vertical-align: top;\n",
              "    }\n",
              "\n",
              "    .dataframe thead th {\n",
              "        text-align: right;\n",
              "    }\n",
              "</style>\n",
              "<table border=\"1\" class=\"dataframe\">\n",
              "  <thead>\n",
              "    <tr style=\"text-align: right;\">\n",
              "      <th></th>\n",
              "      <th>count</th>\n",
              "    </tr>\n",
              "    <tr>\n",
              "      <th>label</th>\n",
              "      <th></th>\n",
              "    </tr>\n",
              "  </thead>\n",
              "  <tbody>\n",
              "    <tr>\n",
              "      <th>1</th>\n",
              "      <td>10805</td>\n",
              "    </tr>\n",
              "    <tr>\n",
              "      <th>0</th>\n",
              "      <td>1868</td>\n",
              "    </tr>\n",
              "    <tr>\n",
              "      <th>2</th>\n",
              "      <td>1132</td>\n",
              "    </tr>\n",
              "  </tbody>\n",
              "</table>\n",
              "</div><br><label><b>dtype:</b> int64</label>"
            ]
          },
          "metadata": {},
          "execution_count": 110
        }
      ]
    },
    {
      "cell_type": "markdown",
      "source": [
        "Filter out duplicated data points"
      ],
      "metadata": {
        "id": "o9a6d1ya0i8o"
      }
    },
    {
      "cell_type": "code",
      "source": [
        "df = df.drop_duplicates(subset=['sentence2'], keep='first')\n",
        "df['label'].value_counts()"
      ],
      "metadata": {
        "colab": {
          "base_uri": "https://localhost:8080/",
          "height": 209
        },
        "id": "5lF3RoGX0tqI",
        "outputId": "7af1fd5a-7038-4c79-cd1c-a9324ea8053e"
      },
      "execution_count": null,
      "outputs": [
        {
          "output_type": "execute_result",
          "data": {
            "text/plain": [
              "label\n",
              "1    10800\n",
              "0     1866\n",
              "2     1129\n",
              "Name: count, dtype: int64"
            ],
            "text/html": [
              "<div>\n",
              "<style scoped>\n",
              "    .dataframe tbody tr th:only-of-type {\n",
              "        vertical-align: middle;\n",
              "    }\n",
              "\n",
              "    .dataframe tbody tr th {\n",
              "        vertical-align: top;\n",
              "    }\n",
              "\n",
              "    .dataframe thead th {\n",
              "        text-align: right;\n",
              "    }\n",
              "</style>\n",
              "<table border=\"1\" class=\"dataframe\">\n",
              "  <thead>\n",
              "    <tr style=\"text-align: right;\">\n",
              "      <th></th>\n",
              "      <th>count</th>\n",
              "    </tr>\n",
              "    <tr>\n",
              "      <th>label</th>\n",
              "      <th></th>\n",
              "    </tr>\n",
              "  </thead>\n",
              "  <tbody>\n",
              "    <tr>\n",
              "      <th>1</th>\n",
              "      <td>10800</td>\n",
              "    </tr>\n",
              "    <tr>\n",
              "      <th>0</th>\n",
              "      <td>1866</td>\n",
              "    </tr>\n",
              "    <tr>\n",
              "      <th>2</th>\n",
              "      <td>1129</td>\n",
              "    </tr>\n",
              "  </tbody>\n",
              "</table>\n",
              "</div><br><label><b>dtype:</b> int64</label>"
            ]
          },
          "metadata": {},
          "execution_count": 111
        }
      ]
    },
    {
      "cell_type": "code",
      "source": [
        "train = df[df['set'] == 'train']\n",
        "dev = df[df['set'] == 'dev']\n",
        "test = df[df['set'] == 'test']"
      ],
      "metadata": {
        "id": "hGipyS5KVq6G"
      },
      "execution_count": null,
      "outputs": []
    },
    {
      "cell_type": "markdown",
      "source": [
        "# Class balance"
      ],
      "metadata": {
        "id": "mJkbaaldeu2f"
      }
    },
    {
      "cell_type": "code",
      "source": [
        "train['label'].value_counts()"
      ],
      "metadata": {
        "colab": {
          "base_uri": "https://localhost:8080/",
          "height": 209
        },
        "id": "L8vAak_iV1-r",
        "outputId": "649bf18a-1cb8-463f-c4e2-a1110a4b835b"
      },
      "execution_count": null,
      "outputs": [
        {
          "output_type": "execute_result",
          "data": {
            "text/plain": [
              "label\n",
              "1    8631\n",
              "0    1503\n",
              "2     926\n",
              "Name: count, dtype: int64"
            ],
            "text/html": [
              "<div>\n",
              "<style scoped>\n",
              "    .dataframe tbody tr th:only-of-type {\n",
              "        vertical-align: middle;\n",
              "    }\n",
              "\n",
              "    .dataframe tbody tr th {\n",
              "        vertical-align: top;\n",
              "    }\n",
              "\n",
              "    .dataframe thead th {\n",
              "        text-align: right;\n",
              "    }\n",
              "</style>\n",
              "<table border=\"1\" class=\"dataframe\">\n",
              "  <thead>\n",
              "    <tr style=\"text-align: right;\">\n",
              "      <th></th>\n",
              "      <th>count</th>\n",
              "    </tr>\n",
              "    <tr>\n",
              "      <th>label</th>\n",
              "      <th></th>\n",
              "    </tr>\n",
              "  </thead>\n",
              "  <tbody>\n",
              "    <tr>\n",
              "      <th>1</th>\n",
              "      <td>8631</td>\n",
              "    </tr>\n",
              "    <tr>\n",
              "      <th>0</th>\n",
              "      <td>1503</td>\n",
              "    </tr>\n",
              "    <tr>\n",
              "      <th>2</th>\n",
              "      <td>926</td>\n",
              "    </tr>\n",
              "  </tbody>\n",
              "</table>\n",
              "</div><br><label><b>dtype:</b> int64</label>"
            ]
          },
          "metadata": {},
          "execution_count": 113
        }
      ]
    },
    {
      "cell_type": "markdown",
      "source": [
        "The training data is heavily skewed towards class 1. As an option, we can balance the training data by randomly sampling 1500 examples from this class instead of using all of its samples"
      ],
      "metadata": {
        "id": "JlU8bYtXNvuW"
      }
    },
    {
      "cell_type": "code",
      "source": [
        "balance = False  # set to True to balance training data\n",
        "\n",
        "if balance:\n",
        "  train = pd.concat([\n",
        "      train[train['label'].isin([0, 2])],\n",
        "      train[train['label'] == 1].sample(1500, random_state=seed_val)\n",
        "  ])\n",
        "train['label'].value_counts()"
      ],
      "metadata": {
        "colab": {
          "base_uri": "https://localhost:8080/",
          "height": 209
        },
        "id": "Wzxn1y6CNxL-",
        "outputId": "7c41d98d-7ef2-42e8-e408-90b5400239dd"
      },
      "execution_count": null,
      "outputs": [
        {
          "output_type": "execute_result",
          "data": {
            "text/plain": [
              "label\n",
              "1    8631\n",
              "0    1503\n",
              "2     926\n",
              "Name: count, dtype: int64"
            ],
            "text/html": [
              "<div>\n",
              "<style scoped>\n",
              "    .dataframe tbody tr th:only-of-type {\n",
              "        vertical-align: middle;\n",
              "    }\n",
              "\n",
              "    .dataframe tbody tr th {\n",
              "        vertical-align: top;\n",
              "    }\n",
              "\n",
              "    .dataframe thead th {\n",
              "        text-align: right;\n",
              "    }\n",
              "</style>\n",
              "<table border=\"1\" class=\"dataframe\">\n",
              "  <thead>\n",
              "    <tr style=\"text-align: right;\">\n",
              "      <th></th>\n",
              "      <th>count</th>\n",
              "    </tr>\n",
              "    <tr>\n",
              "      <th>label</th>\n",
              "      <th></th>\n",
              "    </tr>\n",
              "  </thead>\n",
              "  <tbody>\n",
              "    <tr>\n",
              "      <th>1</th>\n",
              "      <td>8631</td>\n",
              "    </tr>\n",
              "    <tr>\n",
              "      <th>0</th>\n",
              "      <td>1503</td>\n",
              "    </tr>\n",
              "    <tr>\n",
              "      <th>2</th>\n",
              "      <td>926</td>\n",
              "    </tr>\n",
              "  </tbody>\n",
              "</table>\n",
              "</div><br><label><b>dtype:</b> int64</label>"
            ]
          },
          "metadata": {},
          "execution_count": 114
        }
      ]
    },
    {
      "cell_type": "code",
      "source": [
        "train.shape"
      ],
      "metadata": {
        "colab": {
          "base_uri": "https://localhost:8080/"
        },
        "id": "aYHgXbm-UwC6",
        "outputId": "53173187-ffa6-49f8-fbec-468e8b2cd31a"
      },
      "execution_count": null,
      "outputs": [
        {
          "output_type": "execute_result",
          "data": {
            "text/plain": [
              "(11060, 7)"
            ]
          },
          "metadata": {},
          "execution_count": 115
        }
      ]
    },
    {
      "cell_type": "code",
      "source": [
        "df = pd.concat([train, dev, test])\n",
        "df.reset_index(inplace=True, drop=True)\n",
        "df.shape"
      ],
      "metadata": {
        "colab": {
          "base_uri": "https://localhost:8080/"
        },
        "id": "neCprKbTWRae",
        "outputId": "00857a27-3102-4280-b4fb-0d2b78649c6a"
      },
      "execution_count": null,
      "outputs": [
        {
          "output_type": "execute_result",
          "data": {
            "text/plain": [
              "(13795, 7)"
            ]
          },
          "metadata": {},
          "execution_count": 116
        }
      ]
    },
    {
      "cell_type": "markdown",
      "source": [
        "# Majority prediction\n",
        "\n",
        "The majority baseline always predicts:\n",
        "* *equally likely* (2) for the FULL train set\n",
        "* *less likely* (1) for the BALANCED train set\n",
        "\n",
        "The classes *equally likely* and *less likely* are distributed equally in the BALANCED train set, but the latter technically outnumbers the former by 4 instances."
      ],
      "metadata": {
        "id": "IwcDrgVebP67"
      }
    },
    {
      "cell_type": "code",
      "source": [
        "def majority_pred(df):\n",
        "  if balance:\n",
        "    return [2 for _ in range(df.shape[0])]  # equally likely\n",
        "  return [1 for _ in range(df.shape[0])]    # less likely"
      ],
      "metadata": {
        "id": "XpEd_uBhbTbz"
      },
      "execution_count": null,
      "outputs": []
    },
    {
      "cell_type": "markdown",
      "source": [
        "# Cross-balanced evaluation"
      ],
      "metadata": {
        "id": "uH4dBtN3dXPh"
      }
    },
    {
      "cell_type": "code",
      "source": [
        "def f1_one_vs_all(true, pred, class_label):\n",
        "  true = [0 if v != class_label else 1 for v in true]\n",
        "  pred = [0 if v != class_label else 1 for v in pred]\n",
        "  return f1_score(true, pred)"
      ],
      "metadata": {
        "id": "JJkcUJzbfC_2"
      },
      "execution_count": null,
      "outputs": []
    },
    {
      "cell_type": "code",
      "source": [
        "def cross_balanced_eval(df, model_name, dev_or_test='test'):\n",
        "    if dev_or_test == 'test':\n",
        "        step = 101 # equal to the number of instances in the smallest class\n",
        "    else:\n",
        "        dev_or_test = 'dev'\n",
        "        step = 102\n",
        "\n",
        "    full_test_y_true = []\n",
        "    full_test_y_pred = []\n",
        "    all_macroF1 = 0\n",
        "    all_label1_F1 = 0\n",
        "    all_label2_F2 = 0\n",
        "    all_label3_F3 = 0\n",
        "    all_accuracy = 0\n",
        "    iterations = 0\n",
        "\n",
        "    for i in tqdm(range(\n",
        "        1, len(df[df['set'] == dev_or_test].loc[(df['label'] == 1)]['label'].to_list())+1, step)):\n",
        "        # get df slices containing 101 entries for each label\n",
        "        new_df = df[df['set'] == dev_or_test].loc[(df['label'] == 0)][i:i+step]\n",
        "        new_df = pd.concat([new_df, df[df['set'] == dev_or_test].loc[(df['label'] == 1)][i:i+step]])\n",
        "        new_df = pd.concat([new_df, df[df['set'] == dev_or_test].loc[(df['label'] == 2)][i:i+step]])\n",
        "        for i in [0, 1, 2]:\n",
        "            if len(new_df.loc[(new_df['label'] == i)]['label'].to_list()) < step:\n",
        "                wrap_around = step - len(new_df.loc[(new_df['label'] == i)]['label'].to_list())\n",
        "                new_df = pd.concat([new_df, df[df['set'] == dev_or_test].loc[(df['label'] == i)][:wrap_around]])\n",
        "\n",
        "        # evaluation\n",
        "        test_set_predictions = majority_pred(new_df)\n",
        "        test_labels = new_df['label'].to_list()\n",
        "\n",
        "        full_test_y_true.extend(test_labels)\n",
        "        full_test_y_pred.extend(test_set_predictions)\n",
        "\n",
        "        macro_f1 = f1_score(test_labels, test_set_predictions, average='macro')\n",
        "        all_macroF1 += macro_f1\n",
        "\n",
        "        f1_less, f1_eq, f1_more = f1_one_vs_all(test_labels, test_set_predictions, class_label=0), \\\n",
        "                                f1_one_vs_all(test_labels, test_set_predictions, class_label=1), \\\n",
        "                                f1_one_vs_all(test_labels, test_set_predictions, class_label=2)\n",
        "        all_label1_F1 += f1_less\n",
        "        all_label2_F2 += f1_eq\n",
        "        all_label3_F3 += f1_more\n",
        "\n",
        "        accuracy = accuracy_score(test_labels, test_set_predictions)\n",
        "        all_accuracy += accuracy\n",
        "\n",
        "        iterations += 1\n",
        "\n",
        "    print(\"\")\n",
        "    print(f\"{model_name} - {dev_or_test} set: average stats\")\n",
        "    avr_MacroF1 = all_macroF1 / iterations\n",
        "    print(f\"macro F1: {avr_MacroF1:.3}\")\n",
        "    avr_accuracy = all_accuracy / iterations\n",
        "    print(f'Accuracy: {avr_accuracy:.3f}')\n",
        "\n",
        "    avr_label1_F1 = all_label1_F1 / iterations\n",
        "    avr_label2_F2 = all_label2_F2 / iterations\n",
        "    avr_label3_F3 = all_label3_F3 / iterations\n",
        "    print(f'\\nclass-wise F1 scores')\n",
        "    print(f'1: {avr_label1_F1:.3f}\\n2: {avr_label2_F2:.3f}\\n3: {avr_label3_F3:.3f}')\n",
        "\n",
        "    # create confusion matrix\n",
        "    norm_setting = 'true'\n",
        "    test_conf_matr = confusion_matrix(full_test_y_true, full_test_y_pred, normalize=norm_setting)\n",
        "    test_conf_matr = pd.DataFrame(test_conf_matr, columns=['Less likely', 'Equally likely', 'More likely'],\n",
        "                                index=['Less likely', 'Equally likely', 'More likely'])\n",
        "    print(\"\")\n",
        "    print(\"True\\\\Predicted:\")\n",
        "    print(test_conf_matr)"
      ],
      "metadata": {
        "id": "puXwxetndWCl"
      },
      "execution_count": null,
      "outputs": []
    },
    {
      "cell_type": "code",
      "source": [
        "print('BALANCED:', balance)\n",
        "cross_balanced_eval(df, 'Majority Prediction', dev_or_test='test')"
      ],
      "metadata": {
        "colab": {
          "base_uri": "https://localhost:8080/"
        },
        "id": "x7pX17asfPoT",
        "outputId": "cdd3571b-90a6-4987-dc5e-eb010f1a373d"
      },
      "execution_count": null,
      "outputs": [
        {
          "output_type": "stream",
          "name": "stdout",
          "text": [
            "BALANCED: False\n"
          ]
        },
        {
          "output_type": "stream",
          "name": "stderr",
          "text": [
            "100%|██████████| 11/11 [00:00<00:00, 38.08it/s]"
          ]
        },
        {
          "output_type": "stream",
          "name": "stdout",
          "text": [
            "\n",
            "Majority Prediction - test set: average stats\n",
            "macro F1: 0.167\n",
            "Accuracy: 0.333\n",
            "\n",
            "class-wise F1 scores\n",
            "1: 0.000\n",
            "2: 0.500\n",
            "3: 0.000\n",
            "\n",
            "True\\Predicted:\n",
            "                Less likely  Equally likely  More likely\n",
            "Less likely             0.0             1.0          0.0\n",
            "Equally likely          0.0             1.0          0.0\n",
            "More likely             0.0             1.0          0.0\n"
          ]
        },
        {
          "output_type": "stream",
          "name": "stderr",
          "text": [
            "\n"
          ]
        }
      ]
    },
    {
      "cell_type": "markdown",
      "source": [
        "# Standard evaluation"
      ],
      "metadata": {
        "id": "jOu9EQgNbdwk"
      }
    },
    {
      "cell_type": "code",
      "source": [
        "test_set_predictions = majority_pred(df[df['set'] == 'test'])\n",
        "test_labels = df[df['set'] == 'test']['label'].to_list()"
      ],
      "metadata": {
        "id": "4iAqmxvt9q6w"
      },
      "execution_count": 118,
      "outputs": []
    },
    {
      "cell_type": "code",
      "source": [
        "macro_f1_test = f1_score(test_labels, test_set_predictions, average='macro')\n",
        "print(f'Test set: macro F1 = {macro_f1_test:.3f}')"
      ],
      "metadata": {
        "colab": {
          "base_uri": "https://localhost:8080/"
        },
        "id": "MS3M7hTjt9w9",
        "outputId": "044be2d9-fd6b-4e6b-b9f3-8118755f7bad"
      },
      "execution_count": 119,
      "outputs": [
        {
          "output_type": "stream",
          "name": "stdout",
          "text": [
            "Test set: macro F1 = 0.296\n"
          ]
        }
      ]
    },
    {
      "cell_type": "code",
      "source": [
        "f1_less, f1_eq, f1_more = f1_one_vs_all(test_labels, test_set_predictions, class_label=0), \\\n",
        "                          f1_one_vs_all(test_labels, test_set_predictions, class_label=1), \\\n",
        "                          f1_one_vs_all(test_labels, test_set_predictions, class_label=2)\n",
        "f1_less, f1_eq, f1_more\n",
        "print(f\"\"\"Test set: one-vs-all F1\n",
        "1: {f1_less:.3f}\n",
        "2: {f1_eq:.3f}\n",
        "3: {f1_more:.3f}\"\"\")"
      ],
      "metadata": {
        "colab": {
          "base_uri": "https://localhost:8080/"
        },
        "id": "LssEpCsLidpO",
        "outputId": "637ac39e-5237-483c-c34c-116f6d05ba63"
      },
      "execution_count": 120,
      "outputs": [
        {
          "output_type": "stream",
          "name": "stdout",
          "text": [
            "Test set: one-vs-all F1\n",
            "1: 0.000\n",
            "2: 0.888\n",
            "3: 0.000\n"
          ]
        }
      ]
    },
    {
      "cell_type": "code",
      "source": [
        "acc_test = accuracy_score(test_labels, test_set_predictions)\n",
        "print(f'Test set: accuracy = {acc_test:.3f}')"
      ],
      "metadata": {
        "colab": {
          "base_uri": "https://localhost:8080/"
        },
        "id": "Wmupvkpxiqku",
        "outputId": "2dbb7b8e-76de-4813-91db-7cdea77a02ee"
      },
      "execution_count": 121,
      "outputs": [
        {
          "output_type": "stream",
          "name": "stdout",
          "text": [
            "Test set: accuracy = 0.798\n"
          ]
        }
      ]
    }
  ]
}