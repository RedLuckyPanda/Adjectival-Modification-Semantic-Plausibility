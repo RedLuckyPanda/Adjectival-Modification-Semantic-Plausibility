{
  "nbformat": 4,
  "nbformat_minor": 0,
  "metadata": {
    "colab": {
      "provenance": [],
      "gpuType": "T4",
      "toc_visible": true
    },
    "kernelspec": {
      "name": "python3",
      "display_name": "Python 3"
    },
    "language_info": {
      "name": "python"
    },
    "widgets": {
      "application/vnd.jupyter.widget-state+json": {
        "5d1c293384ea44e18f5b9dc6abc7b4ce": {
          "model_module": "@jupyter-widgets/controls",
          "model_name": "HBoxModel",
          "model_module_version": "1.5.0",
          "state": {
            "_dom_classes": [],
            "_model_module": "@jupyter-widgets/controls",
            "_model_module_version": "1.5.0",
            "_model_name": "HBoxModel",
            "_view_count": null,
            "_view_module": "@jupyter-widgets/controls",
            "_view_module_version": "1.5.0",
            "_view_name": "HBoxView",
            "box_style": "",
            "children": [
              "IPY_MODEL_e675ce04f6be46ff9d1b24c16fdc9ecf",
              "IPY_MODEL_1f21645ce0e04e148d467340b3480481",
              "IPY_MODEL_ad41f5e739b74d30a0ef9b6b9d3c08fc"
            ],
            "layout": "IPY_MODEL_ec57ded57c5246cfbc2fa053069e8d87"
          }
        },
        "e675ce04f6be46ff9d1b24c16fdc9ecf": {
          "model_module": "@jupyter-widgets/controls",
          "model_name": "HTMLModel",
          "model_module_version": "1.5.0",
          "state": {
            "_dom_classes": [],
            "_model_module": "@jupyter-widgets/controls",
            "_model_module_version": "1.5.0",
            "_model_name": "HTMLModel",
            "_view_count": null,
            "_view_module": "@jupyter-widgets/controls",
            "_view_module_version": "1.5.0",
            "_view_name": "HTMLView",
            "description": "",
            "description_tooltip": null,
            "layout": "IPY_MODEL_b8280301253b4f178e6cfaf7c8662490",
            "placeholder": "​",
            "style": "IPY_MODEL_77cbe1f5194f4112bd58bf201a8113bd",
            "value": "tokenizer_config.json: 100%"
          }
        },
        "1f21645ce0e04e148d467340b3480481": {
          "model_module": "@jupyter-widgets/controls",
          "model_name": "FloatProgressModel",
          "model_module_version": "1.5.0",
          "state": {
            "_dom_classes": [],
            "_model_module": "@jupyter-widgets/controls",
            "_model_module_version": "1.5.0",
            "_model_name": "FloatProgressModel",
            "_view_count": null,
            "_view_module": "@jupyter-widgets/controls",
            "_view_module_version": "1.5.0",
            "_view_name": "ProgressView",
            "bar_style": "success",
            "description": "",
            "description_tooltip": null,
            "layout": "IPY_MODEL_8fed457b4dd24729bfbfc74275e27b4d",
            "max": 52,
            "min": 0,
            "orientation": "horizontal",
            "style": "IPY_MODEL_dfc2f3e593544a3399177c584353f5b3",
            "value": 52
          }
        },
        "ad41f5e739b74d30a0ef9b6b9d3c08fc": {
          "model_module": "@jupyter-widgets/controls",
          "model_name": "HTMLModel",
          "model_module_version": "1.5.0",
          "state": {
            "_dom_classes": [],
            "_model_module": "@jupyter-widgets/controls",
            "_model_module_version": "1.5.0",
            "_model_name": "HTMLModel",
            "_view_count": null,
            "_view_module": "@jupyter-widgets/controls",
            "_view_module_version": "1.5.0",
            "_view_name": "HTMLView",
            "description": "",
            "description_tooltip": null,
            "layout": "IPY_MODEL_36224062f8544c91868a0c43ed06bc2e",
            "placeholder": "​",
            "style": "IPY_MODEL_1ebb4d06c508450ebc434f802697e1b4",
            "value": " 52.0/52.0 [00:00&lt;00:00, 3.55kB/s]"
          }
        },
        "ec57ded57c5246cfbc2fa053069e8d87": {
          "model_module": "@jupyter-widgets/base",
          "model_name": "LayoutModel",
          "model_module_version": "1.2.0",
          "state": {
            "_model_module": "@jupyter-widgets/base",
            "_model_module_version": "1.2.0",
            "_model_name": "LayoutModel",
            "_view_count": null,
            "_view_module": "@jupyter-widgets/base",
            "_view_module_version": "1.2.0",
            "_view_name": "LayoutView",
            "align_content": null,
            "align_items": null,
            "align_self": null,
            "border": null,
            "bottom": null,
            "display": null,
            "flex": null,
            "flex_flow": null,
            "grid_area": null,
            "grid_auto_columns": null,
            "grid_auto_flow": null,
            "grid_auto_rows": null,
            "grid_column": null,
            "grid_gap": null,
            "grid_row": null,
            "grid_template_areas": null,
            "grid_template_columns": null,
            "grid_template_rows": null,
            "height": null,
            "justify_content": null,
            "justify_items": null,
            "left": null,
            "margin": null,
            "max_height": null,
            "max_width": null,
            "min_height": null,
            "min_width": null,
            "object_fit": null,
            "object_position": null,
            "order": null,
            "overflow": null,
            "overflow_x": null,
            "overflow_y": null,
            "padding": null,
            "right": null,
            "top": null,
            "visibility": null,
            "width": null
          }
        },
        "b8280301253b4f178e6cfaf7c8662490": {
          "model_module": "@jupyter-widgets/base",
          "model_name": "LayoutModel",
          "model_module_version": "1.2.0",
          "state": {
            "_model_module": "@jupyter-widgets/base",
            "_model_module_version": "1.2.0",
            "_model_name": "LayoutModel",
            "_view_count": null,
            "_view_module": "@jupyter-widgets/base",
            "_view_module_version": "1.2.0",
            "_view_name": "LayoutView",
            "align_content": null,
            "align_items": null,
            "align_self": null,
            "border": null,
            "bottom": null,
            "display": null,
            "flex": null,
            "flex_flow": null,
            "grid_area": null,
            "grid_auto_columns": null,
            "grid_auto_flow": null,
            "grid_auto_rows": null,
            "grid_column": null,
            "grid_gap": null,
            "grid_row": null,
            "grid_template_areas": null,
            "grid_template_columns": null,
            "grid_template_rows": null,
            "height": null,
            "justify_content": null,
            "justify_items": null,
            "left": null,
            "margin": null,
            "max_height": null,
            "max_width": null,
            "min_height": null,
            "min_width": null,
            "object_fit": null,
            "object_position": null,
            "order": null,
            "overflow": null,
            "overflow_x": null,
            "overflow_y": null,
            "padding": null,
            "right": null,
            "top": null,
            "visibility": null,
            "width": null
          }
        },
        "77cbe1f5194f4112bd58bf201a8113bd": {
          "model_module": "@jupyter-widgets/controls",
          "model_name": "DescriptionStyleModel",
          "model_module_version": "1.5.0",
          "state": {
            "_model_module": "@jupyter-widgets/controls",
            "_model_module_version": "1.5.0",
            "_model_name": "DescriptionStyleModel",
            "_view_count": null,
            "_view_module": "@jupyter-widgets/base",
            "_view_module_version": "1.2.0",
            "_view_name": "StyleView",
            "description_width": ""
          }
        },
        "8fed457b4dd24729bfbfc74275e27b4d": {
          "model_module": "@jupyter-widgets/base",
          "model_name": "LayoutModel",
          "model_module_version": "1.2.0",
          "state": {
            "_model_module": "@jupyter-widgets/base",
            "_model_module_version": "1.2.0",
            "_model_name": "LayoutModel",
            "_view_count": null,
            "_view_module": "@jupyter-widgets/base",
            "_view_module_version": "1.2.0",
            "_view_name": "LayoutView",
            "align_content": null,
            "align_items": null,
            "align_self": null,
            "border": null,
            "bottom": null,
            "display": null,
            "flex": null,
            "flex_flow": null,
            "grid_area": null,
            "grid_auto_columns": null,
            "grid_auto_flow": null,
            "grid_auto_rows": null,
            "grid_column": null,
            "grid_gap": null,
            "grid_row": null,
            "grid_template_areas": null,
            "grid_template_columns": null,
            "grid_template_rows": null,
            "height": null,
            "justify_content": null,
            "justify_items": null,
            "left": null,
            "margin": null,
            "max_height": null,
            "max_width": null,
            "min_height": null,
            "min_width": null,
            "object_fit": null,
            "object_position": null,
            "order": null,
            "overflow": null,
            "overflow_x": null,
            "overflow_y": null,
            "padding": null,
            "right": null,
            "top": null,
            "visibility": null,
            "width": null
          }
        },
        "dfc2f3e593544a3399177c584353f5b3": {
          "model_module": "@jupyter-widgets/controls",
          "model_name": "ProgressStyleModel",
          "model_module_version": "1.5.0",
          "state": {
            "_model_module": "@jupyter-widgets/controls",
            "_model_module_version": "1.5.0",
            "_model_name": "ProgressStyleModel",
            "_view_count": null,
            "_view_module": "@jupyter-widgets/base",
            "_view_module_version": "1.2.0",
            "_view_name": "StyleView",
            "bar_color": null,
            "description_width": ""
          }
        },
        "36224062f8544c91868a0c43ed06bc2e": {
          "model_module": "@jupyter-widgets/base",
          "model_name": "LayoutModel",
          "model_module_version": "1.2.0",
          "state": {
            "_model_module": "@jupyter-widgets/base",
            "_model_module_version": "1.2.0",
            "_model_name": "LayoutModel",
            "_view_count": null,
            "_view_module": "@jupyter-widgets/base",
            "_view_module_version": "1.2.0",
            "_view_name": "LayoutView",
            "align_content": null,
            "align_items": null,
            "align_self": null,
            "border": null,
            "bottom": null,
            "display": null,
            "flex": null,
            "flex_flow": null,
            "grid_area": null,
            "grid_auto_columns": null,
            "grid_auto_flow": null,
            "grid_auto_rows": null,
            "grid_column": null,
            "grid_gap": null,
            "grid_row": null,
            "grid_template_areas": null,
            "grid_template_columns": null,
            "grid_template_rows": null,
            "height": null,
            "justify_content": null,
            "justify_items": null,
            "left": null,
            "margin": null,
            "max_height": null,
            "max_width": null,
            "min_height": null,
            "min_width": null,
            "object_fit": null,
            "object_position": null,
            "order": null,
            "overflow": null,
            "overflow_x": null,
            "overflow_y": null,
            "padding": null,
            "right": null,
            "top": null,
            "visibility": null,
            "width": null
          }
        },
        "1ebb4d06c508450ebc434f802697e1b4": {
          "model_module": "@jupyter-widgets/controls",
          "model_name": "DescriptionStyleModel",
          "model_module_version": "1.5.0",
          "state": {
            "_model_module": "@jupyter-widgets/controls",
            "_model_module_version": "1.5.0",
            "_model_name": "DescriptionStyleModel",
            "_view_count": null,
            "_view_module": "@jupyter-widgets/base",
            "_view_module_version": "1.2.0",
            "_view_name": "StyleView",
            "description_width": ""
          }
        },
        "5def4c0a254d4e5c9c7a908cb6074f8d": {
          "model_module": "@jupyter-widgets/controls",
          "model_name": "HBoxModel",
          "model_module_version": "1.5.0",
          "state": {
            "_dom_classes": [],
            "_model_module": "@jupyter-widgets/controls",
            "_model_module_version": "1.5.0",
            "_model_name": "HBoxModel",
            "_view_count": null,
            "_view_module": "@jupyter-widgets/controls",
            "_view_module_version": "1.5.0",
            "_view_name": "HBoxView",
            "box_style": "",
            "children": [
              "IPY_MODEL_958d7d5535ca4465b8380542f024ee5e",
              "IPY_MODEL_5195c08a64a1488aae4cedb16ea2d440",
              "IPY_MODEL_62fbdb955c104623b598698b06d5b07b"
            ],
            "layout": "IPY_MODEL_a9bc0d46e8d6476589f6a013b3cc19ad"
          }
        },
        "958d7d5535ca4465b8380542f024ee5e": {
          "model_module": "@jupyter-widgets/controls",
          "model_name": "HTMLModel",
          "model_module_version": "1.5.0",
          "state": {
            "_dom_classes": [],
            "_model_module": "@jupyter-widgets/controls",
            "_model_module_version": "1.5.0",
            "_model_name": "HTMLModel",
            "_view_count": null,
            "_view_module": "@jupyter-widgets/controls",
            "_view_module_version": "1.5.0",
            "_view_name": "HTMLView",
            "description": "",
            "description_tooltip": null,
            "layout": "IPY_MODEL_4a013a090b2e48e3828b8f634e0387ff",
            "placeholder": "​",
            "style": "IPY_MODEL_44f2a67d54664843986ab38a161471d6",
            "value": "vocab.json: 100%"
          }
        },
        "5195c08a64a1488aae4cedb16ea2d440": {
          "model_module": "@jupyter-widgets/controls",
          "model_name": "FloatProgressModel",
          "model_module_version": "1.5.0",
          "state": {
            "_dom_classes": [],
            "_model_module": "@jupyter-widgets/controls",
            "_model_module_version": "1.5.0",
            "_model_name": "FloatProgressModel",
            "_view_count": null,
            "_view_module": "@jupyter-widgets/controls",
            "_view_module_version": "1.5.0",
            "_view_name": "ProgressView",
            "bar_style": "success",
            "description": "",
            "description_tooltip": null,
            "layout": "IPY_MODEL_087bedaa5da8450eb68d00f09de53cb0",
            "max": 898825,
            "min": 0,
            "orientation": "horizontal",
            "style": "IPY_MODEL_8f134233611a41e1ad995e68a3700bb6",
            "value": 898825
          }
        },
        "62fbdb955c104623b598698b06d5b07b": {
          "model_module": "@jupyter-widgets/controls",
          "model_name": "HTMLModel",
          "model_module_version": "1.5.0",
          "state": {
            "_dom_classes": [],
            "_model_module": "@jupyter-widgets/controls",
            "_model_module_version": "1.5.0",
            "_model_name": "HTMLModel",
            "_view_count": null,
            "_view_module": "@jupyter-widgets/controls",
            "_view_module_version": "1.5.0",
            "_view_name": "HTMLView",
            "description": "",
            "description_tooltip": null,
            "layout": "IPY_MODEL_216af55db1454918b7c91d4b032df9d3",
            "placeholder": "​",
            "style": "IPY_MODEL_c88d54e3ca9144488ef9abecac03a1ab",
            "value": " 899k/899k [00:00&lt;00:00, 13.5MB/s]"
          }
        },
        "a9bc0d46e8d6476589f6a013b3cc19ad": {
          "model_module": "@jupyter-widgets/base",
          "model_name": "LayoutModel",
          "model_module_version": "1.2.0",
          "state": {
            "_model_module": "@jupyter-widgets/base",
            "_model_module_version": "1.2.0",
            "_model_name": "LayoutModel",
            "_view_count": null,
            "_view_module": "@jupyter-widgets/base",
            "_view_module_version": "1.2.0",
            "_view_name": "LayoutView",
            "align_content": null,
            "align_items": null,
            "align_self": null,
            "border": null,
            "bottom": null,
            "display": null,
            "flex": null,
            "flex_flow": null,
            "grid_area": null,
            "grid_auto_columns": null,
            "grid_auto_flow": null,
            "grid_auto_rows": null,
            "grid_column": null,
            "grid_gap": null,
            "grid_row": null,
            "grid_template_areas": null,
            "grid_template_columns": null,
            "grid_template_rows": null,
            "height": null,
            "justify_content": null,
            "justify_items": null,
            "left": null,
            "margin": null,
            "max_height": null,
            "max_width": null,
            "min_height": null,
            "min_width": null,
            "object_fit": null,
            "object_position": null,
            "order": null,
            "overflow": null,
            "overflow_x": null,
            "overflow_y": null,
            "padding": null,
            "right": null,
            "top": null,
            "visibility": null,
            "width": null
          }
        },
        "4a013a090b2e48e3828b8f634e0387ff": {
          "model_module": "@jupyter-widgets/base",
          "model_name": "LayoutModel",
          "model_module_version": "1.2.0",
          "state": {
            "_model_module": "@jupyter-widgets/base",
            "_model_module_version": "1.2.0",
            "_model_name": "LayoutModel",
            "_view_count": null,
            "_view_module": "@jupyter-widgets/base",
            "_view_module_version": "1.2.0",
            "_view_name": "LayoutView",
            "align_content": null,
            "align_items": null,
            "align_self": null,
            "border": null,
            "bottom": null,
            "display": null,
            "flex": null,
            "flex_flow": null,
            "grid_area": null,
            "grid_auto_columns": null,
            "grid_auto_flow": null,
            "grid_auto_rows": null,
            "grid_column": null,
            "grid_gap": null,
            "grid_row": null,
            "grid_template_areas": null,
            "grid_template_columns": null,
            "grid_template_rows": null,
            "height": null,
            "justify_content": null,
            "justify_items": null,
            "left": null,
            "margin": null,
            "max_height": null,
            "max_width": null,
            "min_height": null,
            "min_width": null,
            "object_fit": null,
            "object_position": null,
            "order": null,
            "overflow": null,
            "overflow_x": null,
            "overflow_y": null,
            "padding": null,
            "right": null,
            "top": null,
            "visibility": null,
            "width": null
          }
        },
        "44f2a67d54664843986ab38a161471d6": {
          "model_module": "@jupyter-widgets/controls",
          "model_name": "DescriptionStyleModel",
          "model_module_version": "1.5.0",
          "state": {
            "_model_module": "@jupyter-widgets/controls",
            "_model_module_version": "1.5.0",
            "_model_name": "DescriptionStyleModel",
            "_view_count": null,
            "_view_module": "@jupyter-widgets/base",
            "_view_module_version": "1.2.0",
            "_view_name": "StyleView",
            "description_width": ""
          }
        },
        "087bedaa5da8450eb68d00f09de53cb0": {
          "model_module": "@jupyter-widgets/base",
          "model_name": "LayoutModel",
          "model_module_version": "1.2.0",
          "state": {
            "_model_module": "@jupyter-widgets/base",
            "_model_module_version": "1.2.0",
            "_model_name": "LayoutModel",
            "_view_count": null,
            "_view_module": "@jupyter-widgets/base",
            "_view_module_version": "1.2.0",
            "_view_name": "LayoutView",
            "align_content": null,
            "align_items": null,
            "align_self": null,
            "border": null,
            "bottom": null,
            "display": null,
            "flex": null,
            "flex_flow": null,
            "grid_area": null,
            "grid_auto_columns": null,
            "grid_auto_flow": null,
            "grid_auto_rows": null,
            "grid_column": null,
            "grid_gap": null,
            "grid_row": null,
            "grid_template_areas": null,
            "grid_template_columns": null,
            "grid_template_rows": null,
            "height": null,
            "justify_content": null,
            "justify_items": null,
            "left": null,
            "margin": null,
            "max_height": null,
            "max_width": null,
            "min_height": null,
            "min_width": null,
            "object_fit": null,
            "object_position": null,
            "order": null,
            "overflow": null,
            "overflow_x": null,
            "overflow_y": null,
            "padding": null,
            "right": null,
            "top": null,
            "visibility": null,
            "width": null
          }
        },
        "8f134233611a41e1ad995e68a3700bb6": {
          "model_module": "@jupyter-widgets/controls",
          "model_name": "ProgressStyleModel",
          "model_module_version": "1.5.0",
          "state": {
            "_model_module": "@jupyter-widgets/controls",
            "_model_module_version": "1.5.0",
            "_model_name": "ProgressStyleModel",
            "_view_count": null,
            "_view_module": "@jupyter-widgets/base",
            "_view_module_version": "1.2.0",
            "_view_name": "StyleView",
            "bar_color": null,
            "description_width": ""
          }
        },
        "216af55db1454918b7c91d4b032df9d3": {
          "model_module": "@jupyter-widgets/base",
          "model_name": "LayoutModel",
          "model_module_version": "1.2.0",
          "state": {
            "_model_module": "@jupyter-widgets/base",
            "_model_module_version": "1.2.0",
            "_model_name": "LayoutModel",
            "_view_count": null,
            "_view_module": "@jupyter-widgets/base",
            "_view_module_version": "1.2.0",
            "_view_name": "LayoutView",
            "align_content": null,
            "align_items": null,
            "align_self": null,
            "border": null,
            "bottom": null,
            "display": null,
            "flex": null,
            "flex_flow": null,
            "grid_area": null,
            "grid_auto_columns": null,
            "grid_auto_flow": null,
            "grid_auto_rows": null,
            "grid_column": null,
            "grid_gap": null,
            "grid_row": null,
            "grid_template_areas": null,
            "grid_template_columns": null,
            "grid_template_rows": null,
            "height": null,
            "justify_content": null,
            "justify_items": null,
            "left": null,
            "margin": null,
            "max_height": null,
            "max_width": null,
            "min_height": null,
            "min_width": null,
            "object_fit": null,
            "object_position": null,
            "order": null,
            "overflow": null,
            "overflow_x": null,
            "overflow_y": null,
            "padding": null,
            "right": null,
            "top": null,
            "visibility": null,
            "width": null
          }
        },
        "c88d54e3ca9144488ef9abecac03a1ab": {
          "model_module": "@jupyter-widgets/controls",
          "model_name": "DescriptionStyleModel",
          "model_module_version": "1.5.0",
          "state": {
            "_model_module": "@jupyter-widgets/controls",
            "_model_module_version": "1.5.0",
            "_model_name": "DescriptionStyleModel",
            "_view_count": null,
            "_view_module": "@jupyter-widgets/base",
            "_view_module_version": "1.2.0",
            "_view_name": "StyleView",
            "description_width": ""
          }
        },
        "c529337440b9462d831db963e225b88b": {
          "model_module": "@jupyter-widgets/controls",
          "model_name": "HBoxModel",
          "model_module_version": "1.5.0",
          "state": {
            "_dom_classes": [],
            "_model_module": "@jupyter-widgets/controls",
            "_model_module_version": "1.5.0",
            "_model_name": "HBoxModel",
            "_view_count": null,
            "_view_module": "@jupyter-widgets/controls",
            "_view_module_version": "1.5.0",
            "_view_name": "HBoxView",
            "box_style": "",
            "children": [
              "IPY_MODEL_53a199726e434555b590cc535f598535",
              "IPY_MODEL_cdb8ae30a94948aabf1c6e4406541149",
              "IPY_MODEL_07d0ffb7e4d241e49d0a15dc8a161ca7"
            ],
            "layout": "IPY_MODEL_0975597e4426442d957b9ec09c6b3540"
          }
        },
        "53a199726e434555b590cc535f598535": {
          "model_module": "@jupyter-widgets/controls",
          "model_name": "HTMLModel",
          "model_module_version": "1.5.0",
          "state": {
            "_dom_classes": [],
            "_model_module": "@jupyter-widgets/controls",
            "_model_module_version": "1.5.0",
            "_model_name": "HTMLModel",
            "_view_count": null,
            "_view_module": "@jupyter-widgets/controls",
            "_view_module_version": "1.5.0",
            "_view_name": "HTMLView",
            "description": "",
            "description_tooltip": null,
            "layout": "IPY_MODEL_54cb4d4fed704befa522440babcf59b1",
            "placeholder": "​",
            "style": "IPY_MODEL_5d70da18e7764349829630ed7dde42c6",
            "value": "merges.txt: 100%"
          }
        },
        "cdb8ae30a94948aabf1c6e4406541149": {
          "model_module": "@jupyter-widgets/controls",
          "model_name": "FloatProgressModel",
          "model_module_version": "1.5.0",
          "state": {
            "_dom_classes": [],
            "_model_module": "@jupyter-widgets/controls",
            "_model_module_version": "1.5.0",
            "_model_name": "FloatProgressModel",
            "_view_count": null,
            "_view_module": "@jupyter-widgets/controls",
            "_view_module_version": "1.5.0",
            "_view_name": "ProgressView",
            "bar_style": "success",
            "description": "",
            "description_tooltip": null,
            "layout": "IPY_MODEL_04de7ceb68464f7582494de7712f7274",
            "max": 456318,
            "min": 0,
            "orientation": "horizontal",
            "style": "IPY_MODEL_f4f4c1d8f1404dad8e1eeefc03ab95bd",
            "value": 456318
          }
        },
        "07d0ffb7e4d241e49d0a15dc8a161ca7": {
          "model_module": "@jupyter-widgets/controls",
          "model_name": "HTMLModel",
          "model_module_version": "1.5.0",
          "state": {
            "_dom_classes": [],
            "_model_module": "@jupyter-widgets/controls",
            "_model_module_version": "1.5.0",
            "_model_name": "HTMLModel",
            "_view_count": null,
            "_view_module": "@jupyter-widgets/controls",
            "_view_module_version": "1.5.0",
            "_view_name": "HTMLView",
            "description": "",
            "description_tooltip": null,
            "layout": "IPY_MODEL_7f44714e6ced40c0be5fc61dd5226a5c",
            "placeholder": "​",
            "style": "IPY_MODEL_496d78d3690e4a1d90cd81203550e852",
            "value": " 456k/456k [00:00&lt;00:00, 27.0MB/s]"
          }
        },
        "0975597e4426442d957b9ec09c6b3540": {
          "model_module": "@jupyter-widgets/base",
          "model_name": "LayoutModel",
          "model_module_version": "1.2.0",
          "state": {
            "_model_module": "@jupyter-widgets/base",
            "_model_module_version": "1.2.0",
            "_model_name": "LayoutModel",
            "_view_count": null,
            "_view_module": "@jupyter-widgets/base",
            "_view_module_version": "1.2.0",
            "_view_name": "LayoutView",
            "align_content": null,
            "align_items": null,
            "align_self": null,
            "border": null,
            "bottom": null,
            "display": null,
            "flex": null,
            "flex_flow": null,
            "grid_area": null,
            "grid_auto_columns": null,
            "grid_auto_flow": null,
            "grid_auto_rows": null,
            "grid_column": null,
            "grid_gap": null,
            "grid_row": null,
            "grid_template_areas": null,
            "grid_template_columns": null,
            "grid_template_rows": null,
            "height": null,
            "justify_content": null,
            "justify_items": null,
            "left": null,
            "margin": null,
            "max_height": null,
            "max_width": null,
            "min_height": null,
            "min_width": null,
            "object_fit": null,
            "object_position": null,
            "order": null,
            "overflow": null,
            "overflow_x": null,
            "overflow_y": null,
            "padding": null,
            "right": null,
            "top": null,
            "visibility": null,
            "width": null
          }
        },
        "54cb4d4fed704befa522440babcf59b1": {
          "model_module": "@jupyter-widgets/base",
          "model_name": "LayoutModel",
          "model_module_version": "1.2.0",
          "state": {
            "_model_module": "@jupyter-widgets/base",
            "_model_module_version": "1.2.0",
            "_model_name": "LayoutModel",
            "_view_count": null,
            "_view_module": "@jupyter-widgets/base",
            "_view_module_version": "1.2.0",
            "_view_name": "LayoutView",
            "align_content": null,
            "align_items": null,
            "align_self": null,
            "border": null,
            "bottom": null,
            "display": null,
            "flex": null,
            "flex_flow": null,
            "grid_area": null,
            "grid_auto_columns": null,
            "grid_auto_flow": null,
            "grid_auto_rows": null,
            "grid_column": null,
            "grid_gap": null,
            "grid_row": null,
            "grid_template_areas": null,
            "grid_template_columns": null,
            "grid_template_rows": null,
            "height": null,
            "justify_content": null,
            "justify_items": null,
            "left": null,
            "margin": null,
            "max_height": null,
            "max_width": null,
            "min_height": null,
            "min_width": null,
            "object_fit": null,
            "object_position": null,
            "order": null,
            "overflow": null,
            "overflow_x": null,
            "overflow_y": null,
            "padding": null,
            "right": null,
            "top": null,
            "visibility": null,
            "width": null
          }
        },
        "5d70da18e7764349829630ed7dde42c6": {
          "model_module": "@jupyter-widgets/controls",
          "model_name": "DescriptionStyleModel",
          "model_module_version": "1.5.0",
          "state": {
            "_model_module": "@jupyter-widgets/controls",
            "_model_module_version": "1.5.0",
            "_model_name": "DescriptionStyleModel",
            "_view_count": null,
            "_view_module": "@jupyter-widgets/base",
            "_view_module_version": "1.2.0",
            "_view_name": "StyleView",
            "description_width": ""
          }
        },
        "04de7ceb68464f7582494de7712f7274": {
          "model_module": "@jupyter-widgets/base",
          "model_name": "LayoutModel",
          "model_module_version": "1.2.0",
          "state": {
            "_model_module": "@jupyter-widgets/base",
            "_model_module_version": "1.2.0",
            "_model_name": "LayoutModel",
            "_view_count": null,
            "_view_module": "@jupyter-widgets/base",
            "_view_module_version": "1.2.0",
            "_view_name": "LayoutView",
            "align_content": null,
            "align_items": null,
            "align_self": null,
            "border": null,
            "bottom": null,
            "display": null,
            "flex": null,
            "flex_flow": null,
            "grid_area": null,
            "grid_auto_columns": null,
            "grid_auto_flow": null,
            "grid_auto_rows": null,
            "grid_column": null,
            "grid_gap": null,
            "grid_row": null,
            "grid_template_areas": null,
            "grid_template_columns": null,
            "grid_template_rows": null,
            "height": null,
            "justify_content": null,
            "justify_items": null,
            "left": null,
            "margin": null,
            "max_height": null,
            "max_width": null,
            "min_height": null,
            "min_width": null,
            "object_fit": null,
            "object_position": null,
            "order": null,
            "overflow": null,
            "overflow_x": null,
            "overflow_y": null,
            "padding": null,
            "right": null,
            "top": null,
            "visibility": null,
            "width": null
          }
        },
        "f4f4c1d8f1404dad8e1eeefc03ab95bd": {
          "model_module": "@jupyter-widgets/controls",
          "model_name": "ProgressStyleModel",
          "model_module_version": "1.5.0",
          "state": {
            "_model_module": "@jupyter-widgets/controls",
            "_model_module_version": "1.5.0",
            "_model_name": "ProgressStyleModel",
            "_view_count": null,
            "_view_module": "@jupyter-widgets/base",
            "_view_module_version": "1.2.0",
            "_view_name": "StyleView",
            "bar_color": null,
            "description_width": ""
          }
        },
        "7f44714e6ced40c0be5fc61dd5226a5c": {
          "model_module": "@jupyter-widgets/base",
          "model_name": "LayoutModel",
          "model_module_version": "1.2.0",
          "state": {
            "_model_module": "@jupyter-widgets/base",
            "_model_module_version": "1.2.0",
            "_model_name": "LayoutModel",
            "_view_count": null,
            "_view_module": "@jupyter-widgets/base",
            "_view_module_version": "1.2.0",
            "_view_name": "LayoutView",
            "align_content": null,
            "align_items": null,
            "align_self": null,
            "border": null,
            "bottom": null,
            "display": null,
            "flex": null,
            "flex_flow": null,
            "grid_area": null,
            "grid_auto_columns": null,
            "grid_auto_flow": null,
            "grid_auto_rows": null,
            "grid_column": null,
            "grid_gap": null,
            "grid_row": null,
            "grid_template_areas": null,
            "grid_template_columns": null,
            "grid_template_rows": null,
            "height": null,
            "justify_content": null,
            "justify_items": null,
            "left": null,
            "margin": null,
            "max_height": null,
            "max_width": null,
            "min_height": null,
            "min_width": null,
            "object_fit": null,
            "object_position": null,
            "order": null,
            "overflow": null,
            "overflow_x": null,
            "overflow_y": null,
            "padding": null,
            "right": null,
            "top": null,
            "visibility": null,
            "width": null
          }
        },
        "496d78d3690e4a1d90cd81203550e852": {
          "model_module": "@jupyter-widgets/controls",
          "model_name": "DescriptionStyleModel",
          "model_module_version": "1.5.0",
          "state": {
            "_model_module": "@jupyter-widgets/controls",
            "_model_module_version": "1.5.0",
            "_model_name": "DescriptionStyleModel",
            "_view_count": null,
            "_view_module": "@jupyter-widgets/base",
            "_view_module_version": "1.2.0",
            "_view_name": "StyleView",
            "description_width": ""
          }
        },
        "62ed804c36ca434fb22e865d821a7974": {
          "model_module": "@jupyter-widgets/controls",
          "model_name": "HBoxModel",
          "model_module_version": "1.5.0",
          "state": {
            "_dom_classes": [],
            "_model_module": "@jupyter-widgets/controls",
            "_model_module_version": "1.5.0",
            "_model_name": "HBoxModel",
            "_view_count": null,
            "_view_module": "@jupyter-widgets/controls",
            "_view_module_version": "1.5.0",
            "_view_name": "HBoxView",
            "box_style": "",
            "children": [
              "IPY_MODEL_13d60ccc91044247bd9218d8fe2a4e02",
              "IPY_MODEL_b1e9da971d844413b4f4d7f4827862c5",
              "IPY_MODEL_067ac1f81a914763a5fd3d119ee3d60c"
            ],
            "layout": "IPY_MODEL_3bc70e8f48ee412795cced31e999adc8"
          }
        },
        "13d60ccc91044247bd9218d8fe2a4e02": {
          "model_module": "@jupyter-widgets/controls",
          "model_name": "HTMLModel",
          "model_module_version": "1.5.0",
          "state": {
            "_dom_classes": [],
            "_model_module": "@jupyter-widgets/controls",
            "_model_module_version": "1.5.0",
            "_model_name": "HTMLModel",
            "_view_count": null,
            "_view_module": "@jupyter-widgets/controls",
            "_view_module_version": "1.5.0",
            "_view_name": "HTMLView",
            "description": "",
            "description_tooltip": null,
            "layout": "IPY_MODEL_4a3f23c228904dd2a7db6becbb082ed1",
            "placeholder": "​",
            "style": "IPY_MODEL_7c75926817274bd694769f204acc95d9",
            "value": "config.json: 100%"
          }
        },
        "b1e9da971d844413b4f4d7f4827862c5": {
          "model_module": "@jupyter-widgets/controls",
          "model_name": "FloatProgressModel",
          "model_module_version": "1.5.0",
          "state": {
            "_dom_classes": [],
            "_model_module": "@jupyter-widgets/controls",
            "_model_module_version": "1.5.0",
            "_model_name": "FloatProgressModel",
            "_view_count": null,
            "_view_module": "@jupyter-widgets/controls",
            "_view_module_version": "1.5.0",
            "_view_name": "ProgressView",
            "bar_style": "success",
            "description": "",
            "description_tooltip": null,
            "layout": "IPY_MODEL_b094fb2e741b44fbba2d8dcab76dfa3f",
            "max": 474,
            "min": 0,
            "orientation": "horizontal",
            "style": "IPY_MODEL_1651fc931ca0402dba76f0af07f2aade",
            "value": 474
          }
        },
        "067ac1f81a914763a5fd3d119ee3d60c": {
          "model_module": "@jupyter-widgets/controls",
          "model_name": "HTMLModel",
          "model_module_version": "1.5.0",
          "state": {
            "_dom_classes": [],
            "_model_module": "@jupyter-widgets/controls",
            "_model_module_version": "1.5.0",
            "_model_name": "HTMLModel",
            "_view_count": null,
            "_view_module": "@jupyter-widgets/controls",
            "_view_module_version": "1.5.0",
            "_view_name": "HTMLView",
            "description": "",
            "description_tooltip": null,
            "layout": "IPY_MODEL_7e014aab7489479d9b81e44ddd2ae590",
            "placeholder": "​",
            "style": "IPY_MODEL_cd608003633a48b4b60eea8a9444c8bc",
            "value": " 474/474 [00:00&lt;00:00, 34.2kB/s]"
          }
        },
        "3bc70e8f48ee412795cced31e999adc8": {
          "model_module": "@jupyter-widgets/base",
          "model_name": "LayoutModel",
          "model_module_version": "1.2.0",
          "state": {
            "_model_module": "@jupyter-widgets/base",
            "_model_module_version": "1.2.0",
            "_model_name": "LayoutModel",
            "_view_count": null,
            "_view_module": "@jupyter-widgets/base",
            "_view_module_version": "1.2.0",
            "_view_name": "LayoutView",
            "align_content": null,
            "align_items": null,
            "align_self": null,
            "border": null,
            "bottom": null,
            "display": null,
            "flex": null,
            "flex_flow": null,
            "grid_area": null,
            "grid_auto_columns": null,
            "grid_auto_flow": null,
            "grid_auto_rows": null,
            "grid_column": null,
            "grid_gap": null,
            "grid_row": null,
            "grid_template_areas": null,
            "grid_template_columns": null,
            "grid_template_rows": null,
            "height": null,
            "justify_content": null,
            "justify_items": null,
            "left": null,
            "margin": null,
            "max_height": null,
            "max_width": null,
            "min_height": null,
            "min_width": null,
            "object_fit": null,
            "object_position": null,
            "order": null,
            "overflow": null,
            "overflow_x": null,
            "overflow_y": null,
            "padding": null,
            "right": null,
            "top": null,
            "visibility": null,
            "width": null
          }
        },
        "4a3f23c228904dd2a7db6becbb082ed1": {
          "model_module": "@jupyter-widgets/base",
          "model_name": "LayoutModel",
          "model_module_version": "1.2.0",
          "state": {
            "_model_module": "@jupyter-widgets/base",
            "_model_module_version": "1.2.0",
            "_model_name": "LayoutModel",
            "_view_count": null,
            "_view_module": "@jupyter-widgets/base",
            "_view_module_version": "1.2.0",
            "_view_name": "LayoutView",
            "align_content": null,
            "align_items": null,
            "align_self": null,
            "border": null,
            "bottom": null,
            "display": null,
            "flex": null,
            "flex_flow": null,
            "grid_area": null,
            "grid_auto_columns": null,
            "grid_auto_flow": null,
            "grid_auto_rows": null,
            "grid_column": null,
            "grid_gap": null,
            "grid_row": null,
            "grid_template_areas": null,
            "grid_template_columns": null,
            "grid_template_rows": null,
            "height": null,
            "justify_content": null,
            "justify_items": null,
            "left": null,
            "margin": null,
            "max_height": null,
            "max_width": null,
            "min_height": null,
            "min_width": null,
            "object_fit": null,
            "object_position": null,
            "order": null,
            "overflow": null,
            "overflow_x": null,
            "overflow_y": null,
            "padding": null,
            "right": null,
            "top": null,
            "visibility": null,
            "width": null
          }
        },
        "7c75926817274bd694769f204acc95d9": {
          "model_module": "@jupyter-widgets/controls",
          "model_name": "DescriptionStyleModel",
          "model_module_version": "1.5.0",
          "state": {
            "_model_module": "@jupyter-widgets/controls",
            "_model_module_version": "1.5.0",
            "_model_name": "DescriptionStyleModel",
            "_view_count": null,
            "_view_module": "@jupyter-widgets/base",
            "_view_module_version": "1.2.0",
            "_view_name": "StyleView",
            "description_width": ""
          }
        },
        "b094fb2e741b44fbba2d8dcab76dfa3f": {
          "model_module": "@jupyter-widgets/base",
          "model_name": "LayoutModel",
          "model_module_version": "1.2.0",
          "state": {
            "_model_module": "@jupyter-widgets/base",
            "_model_module_version": "1.2.0",
            "_model_name": "LayoutModel",
            "_view_count": null,
            "_view_module": "@jupyter-widgets/base",
            "_view_module_version": "1.2.0",
            "_view_name": "LayoutView",
            "align_content": null,
            "align_items": null,
            "align_self": null,
            "border": null,
            "bottom": null,
            "display": null,
            "flex": null,
            "flex_flow": null,
            "grid_area": null,
            "grid_auto_columns": null,
            "grid_auto_flow": null,
            "grid_auto_rows": null,
            "grid_column": null,
            "grid_gap": null,
            "grid_row": null,
            "grid_template_areas": null,
            "grid_template_columns": null,
            "grid_template_rows": null,
            "height": null,
            "justify_content": null,
            "justify_items": null,
            "left": null,
            "margin": null,
            "max_height": null,
            "max_width": null,
            "min_height": null,
            "min_width": null,
            "object_fit": null,
            "object_position": null,
            "order": null,
            "overflow": null,
            "overflow_x": null,
            "overflow_y": null,
            "padding": null,
            "right": null,
            "top": null,
            "visibility": null,
            "width": null
          }
        },
        "1651fc931ca0402dba76f0af07f2aade": {
          "model_module": "@jupyter-widgets/controls",
          "model_name": "ProgressStyleModel",
          "model_module_version": "1.5.0",
          "state": {
            "_model_module": "@jupyter-widgets/controls",
            "_model_module_version": "1.5.0",
            "_model_name": "ProgressStyleModel",
            "_view_count": null,
            "_view_module": "@jupyter-widgets/base",
            "_view_module_version": "1.2.0",
            "_view_name": "StyleView",
            "bar_color": null,
            "description_width": ""
          }
        },
        "7e014aab7489479d9b81e44ddd2ae590": {
          "model_module": "@jupyter-widgets/base",
          "model_name": "LayoutModel",
          "model_module_version": "1.2.0",
          "state": {
            "_model_module": "@jupyter-widgets/base",
            "_model_module_version": "1.2.0",
            "_model_name": "LayoutModel",
            "_view_count": null,
            "_view_module": "@jupyter-widgets/base",
            "_view_module_version": "1.2.0",
            "_view_name": "LayoutView",
            "align_content": null,
            "align_items": null,
            "align_self": null,
            "border": null,
            "bottom": null,
            "display": null,
            "flex": null,
            "flex_flow": null,
            "grid_area": null,
            "grid_auto_columns": null,
            "grid_auto_flow": null,
            "grid_auto_rows": null,
            "grid_column": null,
            "grid_gap": null,
            "grid_row": null,
            "grid_template_areas": null,
            "grid_template_columns": null,
            "grid_template_rows": null,
            "height": null,
            "justify_content": null,
            "justify_items": null,
            "left": null,
            "margin": null,
            "max_height": null,
            "max_width": null,
            "min_height": null,
            "min_width": null,
            "object_fit": null,
            "object_position": null,
            "order": null,
            "overflow": null,
            "overflow_x": null,
            "overflow_y": null,
            "padding": null,
            "right": null,
            "top": null,
            "visibility": null,
            "width": null
          }
        },
        "cd608003633a48b4b60eea8a9444c8bc": {
          "model_module": "@jupyter-widgets/controls",
          "model_name": "DescriptionStyleModel",
          "model_module_version": "1.5.0",
          "state": {
            "_model_module": "@jupyter-widgets/controls",
            "_model_module_version": "1.5.0",
            "_model_name": "DescriptionStyleModel",
            "_view_count": null,
            "_view_module": "@jupyter-widgets/base",
            "_view_module_version": "1.2.0",
            "_view_name": "StyleView",
            "description_width": ""
          }
        },
        "ed7cc112428049f083d8ae4db2d9e7aa": {
          "model_module": "@jupyter-widgets/controls",
          "model_name": "HBoxModel",
          "model_module_version": "1.5.0",
          "state": {
            "_dom_classes": [],
            "_model_module": "@jupyter-widgets/controls",
            "_model_module_version": "1.5.0",
            "_model_name": "HBoxModel",
            "_view_count": null,
            "_view_module": "@jupyter-widgets/controls",
            "_view_module_version": "1.5.0",
            "_view_name": "HBoxView",
            "box_style": "",
            "children": [
              "IPY_MODEL_37c94b5cf4a44c3c8f78bddf9794b48e",
              "IPY_MODEL_33c78b2c3b13444ea4e93b12dad46ec8",
              "IPY_MODEL_ce2c3007245743b0855d51757597e7e5"
            ],
            "layout": "IPY_MODEL_39eaecbf06ea4d9b801b88695f85fcd5"
          }
        },
        "37c94b5cf4a44c3c8f78bddf9794b48e": {
          "model_module": "@jupyter-widgets/controls",
          "model_name": "HTMLModel",
          "model_module_version": "1.5.0",
          "state": {
            "_dom_classes": [],
            "_model_module": "@jupyter-widgets/controls",
            "_model_module_version": "1.5.0",
            "_model_name": "HTMLModel",
            "_view_count": null,
            "_view_module": "@jupyter-widgets/controls",
            "_view_module_version": "1.5.0",
            "_view_name": "HTMLView",
            "description": "",
            "description_tooltip": null,
            "layout": "IPY_MODEL_5be7284f58394762938f0951c3ce2c57",
            "placeholder": "​",
            "style": "IPY_MODEL_045e46e3d87b485c94909d872961fcaf",
            "value": "pytorch_model.bin: 100%"
          }
        },
        "33c78b2c3b13444ea4e93b12dad46ec8": {
          "model_module": "@jupyter-widgets/controls",
          "model_name": "FloatProgressModel",
          "model_module_version": "1.5.0",
          "state": {
            "_dom_classes": [],
            "_model_module": "@jupyter-widgets/controls",
            "_model_module_version": "1.5.0",
            "_model_name": "FloatProgressModel",
            "_view_count": null,
            "_view_module": "@jupyter-widgets/controls",
            "_view_module_version": "1.5.0",
            "_view_name": "ProgressView",
            "bar_style": "success",
            "description": "",
            "description_tooltip": null,
            "layout": "IPY_MODEL_72dffff958574b27a6f0fd8e8cf18ff4",
            "max": 558614189,
            "min": 0,
            "orientation": "horizontal",
            "style": "IPY_MODEL_490708bf10f84283ac98c6bf7ae049e1",
            "value": 558614189
          }
        },
        "ce2c3007245743b0855d51757597e7e5": {
          "model_module": "@jupyter-widgets/controls",
          "model_name": "HTMLModel",
          "model_module_version": "1.5.0",
          "state": {
            "_dom_classes": [],
            "_model_module": "@jupyter-widgets/controls",
            "_model_module_version": "1.5.0",
            "_model_name": "HTMLModel",
            "_view_count": null,
            "_view_module": "@jupyter-widgets/controls",
            "_view_module_version": "1.5.0",
            "_view_name": "HTMLView",
            "description": "",
            "description_tooltip": null,
            "layout": "IPY_MODEL_dbc6a00a29524199a346b324f6363d04",
            "placeholder": "​",
            "style": "IPY_MODEL_82cc0040206c4254b500c660629b9f50",
            "value": " 559M/559M [00:02&lt;00:00, 202MB/s]"
          }
        },
        "39eaecbf06ea4d9b801b88695f85fcd5": {
          "model_module": "@jupyter-widgets/base",
          "model_name": "LayoutModel",
          "model_module_version": "1.2.0",
          "state": {
            "_model_module": "@jupyter-widgets/base",
            "_model_module_version": "1.2.0",
            "_model_name": "LayoutModel",
            "_view_count": null,
            "_view_module": "@jupyter-widgets/base",
            "_view_module_version": "1.2.0",
            "_view_name": "LayoutView",
            "align_content": null,
            "align_items": null,
            "align_self": null,
            "border": null,
            "bottom": null,
            "display": null,
            "flex": null,
            "flex_flow": null,
            "grid_area": null,
            "grid_auto_columns": null,
            "grid_auto_flow": null,
            "grid_auto_rows": null,
            "grid_column": null,
            "grid_gap": null,
            "grid_row": null,
            "grid_template_areas": null,
            "grid_template_columns": null,
            "grid_template_rows": null,
            "height": null,
            "justify_content": null,
            "justify_items": null,
            "left": null,
            "margin": null,
            "max_height": null,
            "max_width": null,
            "min_height": null,
            "min_width": null,
            "object_fit": null,
            "object_position": null,
            "order": null,
            "overflow": null,
            "overflow_x": null,
            "overflow_y": null,
            "padding": null,
            "right": null,
            "top": null,
            "visibility": null,
            "width": null
          }
        },
        "5be7284f58394762938f0951c3ce2c57": {
          "model_module": "@jupyter-widgets/base",
          "model_name": "LayoutModel",
          "model_module_version": "1.2.0",
          "state": {
            "_model_module": "@jupyter-widgets/base",
            "_model_module_version": "1.2.0",
            "_model_name": "LayoutModel",
            "_view_count": null,
            "_view_module": "@jupyter-widgets/base",
            "_view_module_version": "1.2.0",
            "_view_name": "LayoutView",
            "align_content": null,
            "align_items": null,
            "align_self": null,
            "border": null,
            "bottom": null,
            "display": null,
            "flex": null,
            "flex_flow": null,
            "grid_area": null,
            "grid_auto_columns": null,
            "grid_auto_flow": null,
            "grid_auto_rows": null,
            "grid_column": null,
            "grid_gap": null,
            "grid_row": null,
            "grid_template_areas": null,
            "grid_template_columns": null,
            "grid_template_rows": null,
            "height": null,
            "justify_content": null,
            "justify_items": null,
            "left": null,
            "margin": null,
            "max_height": null,
            "max_width": null,
            "min_height": null,
            "min_width": null,
            "object_fit": null,
            "object_position": null,
            "order": null,
            "overflow": null,
            "overflow_x": null,
            "overflow_y": null,
            "padding": null,
            "right": null,
            "top": null,
            "visibility": null,
            "width": null
          }
        },
        "045e46e3d87b485c94909d872961fcaf": {
          "model_module": "@jupyter-widgets/controls",
          "model_name": "DescriptionStyleModel",
          "model_module_version": "1.5.0",
          "state": {
            "_model_module": "@jupyter-widgets/controls",
            "_model_module_version": "1.5.0",
            "_model_name": "DescriptionStyleModel",
            "_view_count": null,
            "_view_module": "@jupyter-widgets/base",
            "_view_module_version": "1.2.0",
            "_view_name": "StyleView",
            "description_width": ""
          }
        },
        "72dffff958574b27a6f0fd8e8cf18ff4": {
          "model_module": "@jupyter-widgets/base",
          "model_name": "LayoutModel",
          "model_module_version": "1.2.0",
          "state": {
            "_model_module": "@jupyter-widgets/base",
            "_model_module_version": "1.2.0",
            "_model_name": "LayoutModel",
            "_view_count": null,
            "_view_module": "@jupyter-widgets/base",
            "_view_module_version": "1.2.0",
            "_view_name": "LayoutView",
            "align_content": null,
            "align_items": null,
            "align_self": null,
            "border": null,
            "bottom": null,
            "display": null,
            "flex": null,
            "flex_flow": null,
            "grid_area": null,
            "grid_auto_columns": null,
            "grid_auto_flow": null,
            "grid_auto_rows": null,
            "grid_column": null,
            "grid_gap": null,
            "grid_row": null,
            "grid_template_areas": null,
            "grid_template_columns": null,
            "grid_template_rows": null,
            "height": null,
            "justify_content": null,
            "justify_items": null,
            "left": null,
            "margin": null,
            "max_height": null,
            "max_width": null,
            "min_height": null,
            "min_width": null,
            "object_fit": null,
            "object_position": null,
            "order": null,
            "overflow": null,
            "overflow_x": null,
            "overflow_y": null,
            "padding": null,
            "right": null,
            "top": null,
            "visibility": null,
            "width": null
          }
        },
        "490708bf10f84283ac98c6bf7ae049e1": {
          "model_module": "@jupyter-widgets/controls",
          "model_name": "ProgressStyleModel",
          "model_module_version": "1.5.0",
          "state": {
            "_model_module": "@jupyter-widgets/controls",
            "_model_module_version": "1.5.0",
            "_model_name": "ProgressStyleModel",
            "_view_count": null,
            "_view_module": "@jupyter-widgets/base",
            "_view_module_version": "1.2.0",
            "_view_name": "StyleView",
            "bar_color": null,
            "description_width": ""
          }
        },
        "dbc6a00a29524199a346b324f6363d04": {
          "model_module": "@jupyter-widgets/base",
          "model_name": "LayoutModel",
          "model_module_version": "1.2.0",
          "state": {
            "_model_module": "@jupyter-widgets/base",
            "_model_module_version": "1.2.0",
            "_model_name": "LayoutModel",
            "_view_count": null,
            "_view_module": "@jupyter-widgets/base",
            "_view_module_version": "1.2.0",
            "_view_name": "LayoutView",
            "align_content": null,
            "align_items": null,
            "align_self": null,
            "border": null,
            "bottom": null,
            "display": null,
            "flex": null,
            "flex_flow": null,
            "grid_area": null,
            "grid_auto_columns": null,
            "grid_auto_flow": null,
            "grid_auto_rows": null,
            "grid_column": null,
            "grid_gap": null,
            "grid_row": null,
            "grid_template_areas": null,
            "grid_template_columns": null,
            "grid_template_rows": null,
            "height": null,
            "justify_content": null,
            "justify_items": null,
            "left": null,
            "margin": null,
            "max_height": null,
            "max_width": null,
            "min_height": null,
            "min_width": null,
            "object_fit": null,
            "object_position": null,
            "order": null,
            "overflow": null,
            "overflow_x": null,
            "overflow_y": null,
            "padding": null,
            "right": null,
            "top": null,
            "visibility": null,
            "width": null
          }
        },
        "82cc0040206c4254b500c660629b9f50": {
          "model_module": "@jupyter-widgets/controls",
          "model_name": "DescriptionStyleModel",
          "model_module_version": "1.5.0",
          "state": {
            "_model_module": "@jupyter-widgets/controls",
            "_model_module_version": "1.5.0",
            "_model_name": "DescriptionStyleModel",
            "_view_count": null,
            "_view_module": "@jupyter-widgets/base",
            "_view_module_version": "1.2.0",
            "_view_name": "StyleView",
            "description_width": ""
          }
        }
      }
    },
    "accelerator": "GPU"
  },
  "cells": [
    {
      "cell_type": "markdown",
      "source": [
        "# Introduction\n",
        "\n",
        "In this notebook, we **fine-tune and test** **pre-trained large language models on the ADEPT dataset**.\n",
        "\n",
        "ADEPT dataset: https://aclanthology.org/2021.acl-long.553/\n",
        "\n",
        "Models:\n",
        "* BERT: https://huggingface.co/docs/transformers/model_doc/bert\n",
        "* DeBERTa: https://huggingface.co/docs/transformers/model_doc/deberta\n",
        "* RoBERTa: https://huggingface.co/docs/transformers/model_doc/roberta\n",
        "* MPNet: https://huggingface.co/sentence-transformers/all-mpnet-base-v2\n",
        "\n",
        "To keep it brief, we are going to demonstrate the fine-tuning and testing process on **RoBERTa** only as it showed the best performance out of the models we tried. However, the code can also easily be run on the other models. It will be shown below how to do that."
      ],
      "metadata": {
        "id": "ycKlaincaDG0"
      }
    },
    {
      "cell_type": "markdown",
      "source": [
        "# Setup\n",
        "\n",
        "The prerequisites to running the code are as follows:\n",
        "\n",
        "1. Having all dependencies installed. This should have been achieved once you ran `pip install -r requirements.txt` and it finished successfully\n",
        "\n",
        "2. Having the `datasets` folder with its contents stored in the same directory as this notebook. This should have been achieved when you cloned the repository to your local system"
      ],
      "metadata": {
        "id": "kmcypoWk0F1s"
      }
    },
    {
      "cell_type": "markdown",
      "source": [
        "Import dependencies"
      ],
      "metadata": {
        "id": "GD5wf3KeeQVK"
      }
    },
    {
      "cell_type": "code",
      "execution_count": null,
      "metadata": {
        "id": "9lTVjC1_Tg6b"
      },
      "outputs": [],
      "source": [
        "import pandas as pd\n",
        "import numpy as np\n",
        "from tqdm import tqdm\n",
        "from typing import Tuple\n",
        "import random\n",
        "import os\n",
        "\n",
        "import matplotlib.pyplot as plt\n",
        "import seaborn as sns\n",
        "sns.set_theme()\n",
        "\n",
        "import torch\n",
        "from torch.utils.data import TensorDataset, DataLoader, RandomSampler, SequentialSampler\n",
        "from torch.nn.functional import softmax\n",
        "\n",
        "from sklearn.metrics import confusion_matrix, f1_score, roc_auc_score"
      ]
    },
    {
      "cell_type": "markdown",
      "source": [
        "Choose model name"
      ],
      "metadata": {
        "id": "jQbryrp1gSFI"
      }
    },
    {
      "cell_type": "code",
      "source": [
        "# switch model here: BERT, DeBERTa, RoBERTa, MPNet\n",
        "model_name = \"DeBERTa\"\n",
        "\n",
        "run_ID = 4  # to identify the results later"
      ],
      "metadata": {
        "id": "apK4VnIzgREJ"
      },
      "execution_count": null,
      "outputs": []
    },
    {
      "cell_type": "markdown",
      "source": [
        "Time formatting function"
      ],
      "metadata": {
        "id": "wQ5ppVxvPZ5F"
      }
    },
    {
      "cell_type": "code",
      "source": [
        "import time\n",
        "import datetime\n",
        "\n",
        "def format_time(elapsed):\n",
        "    '''\n",
        "    Takes a time in seconds and returns a string hh:mm:ss\n",
        "    '''\n",
        "    # Round to the nearest second.\n",
        "    elapsed_rounded = int(round((elapsed)))\n",
        "\n",
        "    # Format as hh:mm:ss\n",
        "    return str(datetime.timedelta(seconds=elapsed_rounded))"
      ],
      "metadata": {
        "id": "145_bvIlMo2M"
      },
      "execution_count": null,
      "outputs": []
    },
    {
      "cell_type": "markdown",
      "source": [
        "Set random seed values for reproducibility"
      ],
      "metadata": {
        "id": "xghORKo-PnW9"
      }
    },
    {
      "cell_type": "code",
      "source": [
        "seed_val = 42\n",
        "\n",
        "random.seed(seed_val)\n",
        "np.random.seed(seed_val)\n",
        "torch.manual_seed(seed_val)\n",
        "torch.cuda.manual_seed_all(seed_val)"
      ],
      "metadata": {
        "id": "iWDLeBDrPmps"
      },
      "execution_count": null,
      "outputs": []
    },
    {
      "cell_type": "markdown",
      "source": [
        "Introduce GPU"
      ],
      "metadata": {
        "id": "ISrPk7CmUEU8"
      }
    },
    {
      "cell_type": "code",
      "source": [
        "device = torch.device('cuda') if torch.cuda.is_available() else torch.device('cpu')\n",
        "device"
      ],
      "metadata": {
        "colab": {
          "base_uri": "https://localhost:8080/"
        },
        "id": "52gn07RRUGhp",
        "outputId": "c6e7e443-bab2-4755-aaf4-9d2cb8d4ed14"
      },
      "execution_count": null,
      "outputs": [
        {
          "output_type": "execute_result",
          "data": {
            "text/plain": [
              "device(type='cuda')"
            ]
          },
          "metadata": {},
          "execution_count": 5
        }
      ]
    },
    {
      "cell_type": "markdown",
      "source": [
        "# Read the data"
      ],
      "metadata": {
        "id": "hkyqsxGN0Y1Q"
      }
    },
    {
      "cell_type": "code",
      "execution_count": null,
      "metadata": {
        "id": "SE4g4J_2zsDp"
      },
      "outputs": [],
      "source": [
        "train = pd.read_json('../datasets/adept/train-dev-test-split/train.json')\n",
        "dev = pd.read_json('../datasets/adept/train-dev-test-split/val.json')\n",
        "test = pd.read_json('../datasets/adept/train-dev-test-split/test.json')\n",
        "\n",
        "train['set'] = 'train'\n",
        "dev['set'] = 'dev'\n",
        "test['set'] = 'test'\n",
        "df = pd.concat([train, dev, test])"
      ]
    },
    {
      "cell_type": "code",
      "source": [
        "df.head()"
      ],
      "metadata": {
        "colab": {
          "base_uri": "https://localhost:8080/",
          "height": 223
        },
        "id": "I4216VEZ07rT",
        "outputId": "267983d9-5879-4999-9f86-91581f6c3426"
      },
      "execution_count": null,
      "outputs": [
        {
          "output_type": "execute_result",
          "data": {
            "text/plain": [
              "                                 sentence1  \\\n",
              "0  The effect of sleeping is rejuvenation.   \n",
              "1        A toothbrush is for fresh breath.   \n",
              "2                      A scene is painted.   \n",
              "3                   A bone breaks a tooth.   \n",
              "4               A trip causes a happening.   \n",
              "\n",
              "                                           sentence2    modifier        noun  \\\n",
              "0  The effect of additional sleeping is rejuvenat...  additional    sleeping   \n",
              "1          A regular toothbrush is for fresh breath.     regular  toothbrush   \n",
              "2                       A negative scene is painted.    negative       scene   \n",
              "3                    An alleged bone breaks a tooth.     alleged        bone   \n",
              "4                A fabulous trip causes a happening.    fabulous        trip   \n",
              "\n",
              "   label    idx    set  \n",
              "0      3  13484  train  \n",
              "1      2   2620  train  \n",
              "2      2   3324  train  \n",
              "3      2  10610  train  \n",
              "4      2  14917  train  "
            ],
            "text/html": [
              "\n",
              "  <div id=\"df-fed02a76-79de-46c6-b27f-15943d20379b\" class=\"colab-df-container\">\n",
              "    <div>\n",
              "<style scoped>\n",
              "    .dataframe tbody tr th:only-of-type {\n",
              "        vertical-align: middle;\n",
              "    }\n",
              "\n",
              "    .dataframe tbody tr th {\n",
              "        vertical-align: top;\n",
              "    }\n",
              "\n",
              "    .dataframe thead th {\n",
              "        text-align: right;\n",
              "    }\n",
              "</style>\n",
              "<table border=\"1\" class=\"dataframe\">\n",
              "  <thead>\n",
              "    <tr style=\"text-align: right;\">\n",
              "      <th></th>\n",
              "      <th>sentence1</th>\n",
              "      <th>sentence2</th>\n",
              "      <th>modifier</th>\n",
              "      <th>noun</th>\n",
              "      <th>label</th>\n",
              "      <th>idx</th>\n",
              "      <th>set</th>\n",
              "    </tr>\n",
              "  </thead>\n",
              "  <tbody>\n",
              "    <tr>\n",
              "      <th>0</th>\n",
              "      <td>The effect of sleeping is rejuvenation.</td>\n",
              "      <td>The effect of additional sleeping is rejuvenat...</td>\n",
              "      <td>additional</td>\n",
              "      <td>sleeping</td>\n",
              "      <td>3</td>\n",
              "      <td>13484</td>\n",
              "      <td>train</td>\n",
              "    </tr>\n",
              "    <tr>\n",
              "      <th>1</th>\n",
              "      <td>A toothbrush is for fresh breath.</td>\n",
              "      <td>A regular toothbrush is for fresh breath.</td>\n",
              "      <td>regular</td>\n",
              "      <td>toothbrush</td>\n",
              "      <td>2</td>\n",
              "      <td>2620</td>\n",
              "      <td>train</td>\n",
              "    </tr>\n",
              "    <tr>\n",
              "      <th>2</th>\n",
              "      <td>A scene is painted.</td>\n",
              "      <td>A negative scene is painted.</td>\n",
              "      <td>negative</td>\n",
              "      <td>scene</td>\n",
              "      <td>2</td>\n",
              "      <td>3324</td>\n",
              "      <td>train</td>\n",
              "    </tr>\n",
              "    <tr>\n",
              "      <th>3</th>\n",
              "      <td>A bone breaks a tooth.</td>\n",
              "      <td>An alleged bone breaks a tooth.</td>\n",
              "      <td>alleged</td>\n",
              "      <td>bone</td>\n",
              "      <td>2</td>\n",
              "      <td>10610</td>\n",
              "      <td>train</td>\n",
              "    </tr>\n",
              "    <tr>\n",
              "      <th>4</th>\n",
              "      <td>A trip causes a happening.</td>\n",
              "      <td>A fabulous trip causes a happening.</td>\n",
              "      <td>fabulous</td>\n",
              "      <td>trip</td>\n",
              "      <td>2</td>\n",
              "      <td>14917</td>\n",
              "      <td>train</td>\n",
              "    </tr>\n",
              "  </tbody>\n",
              "</table>\n",
              "</div>\n",
              "    <div class=\"colab-df-buttons\">\n",
              "\n",
              "  <div class=\"colab-df-container\">\n",
              "    <button class=\"colab-df-convert\" onclick=\"convertToInteractive('df-fed02a76-79de-46c6-b27f-15943d20379b')\"\n",
              "            title=\"Convert this dataframe to an interactive table.\"\n",
              "            style=\"display:none;\">\n",
              "\n",
              "  <svg xmlns=\"http://www.w3.org/2000/svg\" height=\"24px\" viewBox=\"0 -960 960 960\">\n",
              "    <path d=\"M120-120v-720h720v720H120Zm60-500h600v-160H180v160Zm220 220h160v-160H400v160Zm0 220h160v-160H400v160ZM180-400h160v-160H180v160Zm440 0h160v-160H620v160ZM180-180h160v-160H180v160Zm440 0h160v-160H620v160Z\"/>\n",
              "  </svg>\n",
              "    </button>\n",
              "\n",
              "  <style>\n",
              "    .colab-df-container {\n",
              "      display:flex;\n",
              "      gap: 12px;\n",
              "    }\n",
              "\n",
              "    .colab-df-convert {\n",
              "      background-color: #E8F0FE;\n",
              "      border: none;\n",
              "      border-radius: 50%;\n",
              "      cursor: pointer;\n",
              "      display: none;\n",
              "      fill: #1967D2;\n",
              "      height: 32px;\n",
              "      padding: 0 0 0 0;\n",
              "      width: 32px;\n",
              "    }\n",
              "\n",
              "    .colab-df-convert:hover {\n",
              "      background-color: #E2EBFA;\n",
              "      box-shadow: 0px 1px 2px rgba(60, 64, 67, 0.3), 0px 1px 3px 1px rgba(60, 64, 67, 0.15);\n",
              "      fill: #174EA6;\n",
              "    }\n",
              "\n",
              "    .colab-df-buttons div {\n",
              "      margin-bottom: 4px;\n",
              "    }\n",
              "\n",
              "    [theme=dark] .colab-df-convert {\n",
              "      background-color: #3B4455;\n",
              "      fill: #D2E3FC;\n",
              "    }\n",
              "\n",
              "    [theme=dark] .colab-df-convert:hover {\n",
              "      background-color: #434B5C;\n",
              "      box-shadow: 0px 1px 3px 1px rgba(0, 0, 0, 0.15);\n",
              "      filter: drop-shadow(0px 1px 2px rgba(0, 0, 0, 0.3));\n",
              "      fill: #FFFFFF;\n",
              "    }\n",
              "  </style>\n",
              "\n",
              "    <script>\n",
              "      const buttonEl =\n",
              "        document.querySelector('#df-fed02a76-79de-46c6-b27f-15943d20379b button.colab-df-convert');\n",
              "      buttonEl.style.display =\n",
              "        google.colab.kernel.accessAllowed ? 'block' : 'none';\n",
              "\n",
              "      async function convertToInteractive(key) {\n",
              "        const element = document.querySelector('#df-fed02a76-79de-46c6-b27f-15943d20379b');\n",
              "        const dataTable =\n",
              "          await google.colab.kernel.invokeFunction('convertToInteractive',\n",
              "                                                    [key], {});\n",
              "        if (!dataTable) return;\n",
              "\n",
              "        const docLinkHtml = 'Like what you see? Visit the ' +\n",
              "          '<a target=\"_blank\" href=https://colab.research.google.com/notebooks/data_table.ipynb>data table notebook</a>'\n",
              "          + ' to learn more about interactive tables.';\n",
              "        element.innerHTML = '';\n",
              "        dataTable['output_type'] = 'display_data';\n",
              "        await google.colab.output.renderOutput(dataTable, element);\n",
              "        const docLink = document.createElement('div');\n",
              "        docLink.innerHTML = docLinkHtml;\n",
              "        element.appendChild(docLink);\n",
              "      }\n",
              "    </script>\n",
              "  </div>\n",
              "\n",
              "\n",
              "<div id=\"df-923e25ef-09cc-41a0-b9ed-b7fbc9e5247c\">\n",
              "  <button class=\"colab-df-quickchart\" onclick=\"quickchart('df-923e25ef-09cc-41a0-b9ed-b7fbc9e5247c')\"\n",
              "            title=\"Suggest charts\"\n",
              "            style=\"display:none;\">\n",
              "\n",
              "<svg xmlns=\"http://www.w3.org/2000/svg\" height=\"24px\"viewBox=\"0 0 24 24\"\n",
              "     width=\"24px\">\n",
              "    <g>\n",
              "        <path d=\"M19 3H5c-1.1 0-2 .9-2 2v14c0 1.1.9 2 2 2h14c1.1 0 2-.9 2-2V5c0-1.1-.9-2-2-2zM9 17H7v-7h2v7zm4 0h-2V7h2v10zm4 0h-2v-4h2v4z\"/>\n",
              "    </g>\n",
              "</svg>\n",
              "  </button>\n",
              "\n",
              "<style>\n",
              "  .colab-df-quickchart {\n",
              "      --bg-color: #E8F0FE;\n",
              "      --fill-color: #1967D2;\n",
              "      --hover-bg-color: #E2EBFA;\n",
              "      --hover-fill-color: #174EA6;\n",
              "      --disabled-fill-color: #AAA;\n",
              "      --disabled-bg-color: #DDD;\n",
              "  }\n",
              "\n",
              "  [theme=dark] .colab-df-quickchart {\n",
              "      --bg-color: #3B4455;\n",
              "      --fill-color: #D2E3FC;\n",
              "      --hover-bg-color: #434B5C;\n",
              "      --hover-fill-color: #FFFFFF;\n",
              "      --disabled-bg-color: #3B4455;\n",
              "      --disabled-fill-color: #666;\n",
              "  }\n",
              "\n",
              "  .colab-df-quickchart {\n",
              "    background-color: var(--bg-color);\n",
              "    border: none;\n",
              "    border-radius: 50%;\n",
              "    cursor: pointer;\n",
              "    display: none;\n",
              "    fill: var(--fill-color);\n",
              "    height: 32px;\n",
              "    padding: 0;\n",
              "    width: 32px;\n",
              "  }\n",
              "\n",
              "  .colab-df-quickchart:hover {\n",
              "    background-color: var(--hover-bg-color);\n",
              "    box-shadow: 0 1px 2px rgba(60, 64, 67, 0.3), 0 1px 3px 1px rgba(60, 64, 67, 0.15);\n",
              "    fill: var(--button-hover-fill-color);\n",
              "  }\n",
              "\n",
              "  .colab-df-quickchart-complete:disabled,\n",
              "  .colab-df-quickchart-complete:disabled:hover {\n",
              "    background-color: var(--disabled-bg-color);\n",
              "    fill: var(--disabled-fill-color);\n",
              "    box-shadow: none;\n",
              "  }\n",
              "\n",
              "  .colab-df-spinner {\n",
              "    border: 2px solid var(--fill-color);\n",
              "    border-color: transparent;\n",
              "    border-bottom-color: var(--fill-color);\n",
              "    animation:\n",
              "      spin 1s steps(1) infinite;\n",
              "  }\n",
              "\n",
              "  @keyframes spin {\n",
              "    0% {\n",
              "      border-color: transparent;\n",
              "      border-bottom-color: var(--fill-color);\n",
              "      border-left-color: var(--fill-color);\n",
              "    }\n",
              "    20% {\n",
              "      border-color: transparent;\n",
              "      border-left-color: var(--fill-color);\n",
              "      border-top-color: var(--fill-color);\n",
              "    }\n",
              "    30% {\n",
              "      border-color: transparent;\n",
              "      border-left-color: var(--fill-color);\n",
              "      border-top-color: var(--fill-color);\n",
              "      border-right-color: var(--fill-color);\n",
              "    }\n",
              "    40% {\n",
              "      border-color: transparent;\n",
              "      border-right-color: var(--fill-color);\n",
              "      border-top-color: var(--fill-color);\n",
              "    }\n",
              "    60% {\n",
              "      border-color: transparent;\n",
              "      border-right-color: var(--fill-color);\n",
              "    }\n",
              "    80% {\n",
              "      border-color: transparent;\n",
              "      border-right-color: var(--fill-color);\n",
              "      border-bottom-color: var(--fill-color);\n",
              "    }\n",
              "    90% {\n",
              "      border-color: transparent;\n",
              "      border-bottom-color: var(--fill-color);\n",
              "    }\n",
              "  }\n",
              "</style>\n",
              "\n",
              "  <script>\n",
              "    async function quickchart(key) {\n",
              "      const quickchartButtonEl =\n",
              "        document.querySelector('#' + key + ' button');\n",
              "      quickchartButtonEl.disabled = true;  // To prevent multiple clicks.\n",
              "      quickchartButtonEl.classList.add('colab-df-spinner');\n",
              "      try {\n",
              "        const charts = await google.colab.kernel.invokeFunction(\n",
              "            'suggestCharts', [key], {});\n",
              "      } catch (error) {\n",
              "        console.error('Error during call to suggestCharts:', error);\n",
              "      }\n",
              "      quickchartButtonEl.classList.remove('colab-df-spinner');\n",
              "      quickchartButtonEl.classList.add('colab-df-quickchart-complete');\n",
              "    }\n",
              "    (() => {\n",
              "      let quickchartButtonEl =\n",
              "        document.querySelector('#df-923e25ef-09cc-41a0-b9ed-b7fbc9e5247c button');\n",
              "      quickchartButtonEl.style.display =\n",
              "        google.colab.kernel.accessAllowed ? 'block' : 'none';\n",
              "    })();\n",
              "  </script>\n",
              "</div>\n",
              "    </div>\n",
              "  </div>\n"
            ]
          },
          "metadata": {},
          "execution_count": 9
        }
      ]
    },
    {
      "cell_type": "code",
      "source": [
        "df['set'].value_counts()"
      ],
      "metadata": {
        "colab": {
          "base_uri": "https://localhost:8080/"
        },
        "id": "PGylXrusOEjN",
        "outputId": "61f28b8a-acc9-4196-b7cd-85156420ceed"
      },
      "execution_count": null,
      "outputs": [
        {
          "output_type": "execute_result",
          "data": {
            "text/plain": [
              "train    12892\n",
              "test      1612\n",
              "dev       1611\n",
              "Name: set, dtype: int64"
            ]
          },
          "metadata": {},
          "execution_count": 10
        }
      ]
    },
    {
      "cell_type": "markdown",
      "source": [
        "Only keep label classes 1, 2 and 3 (comparison labels). Map them to 0, 1 and 2 for training convenience:\n",
        "\n",
        "* 1 => 0\n",
        "* 2 => 1\n",
        "* 3 => 2"
      ],
      "metadata": {
        "id": "w4oLUaj1NWXL"
      }
    },
    {
      "cell_type": "code",
      "source": [
        "df = df[df['label'].isin([1, 2, 3])]\n",
        "df['label'].value_counts()"
      ],
      "metadata": {
        "colab": {
          "base_uri": "https://localhost:8080/"
        },
        "id": "1afKI0w9NgKF",
        "outputId": "da17a0e5-f0f4-4748-fb74-5a09a1487cfd"
      },
      "execution_count": null,
      "outputs": [
        {
          "output_type": "execute_result",
          "data": {
            "text/plain": [
              "2    10805\n",
              "1     1868\n",
              "3     1132\n",
              "Name: label, dtype: int64"
            ]
          },
          "metadata": {},
          "execution_count": 11
        }
      ]
    },
    {
      "cell_type": "code",
      "source": [
        "df['label'] -= 1\n",
        "df['label'].value_counts()"
      ],
      "metadata": {
        "colab": {
          "base_uri": "https://localhost:8080/"
        },
        "id": "7X8GSft9Xurn",
        "outputId": "dc8a4b4b-9aa2-41f1-c2ec-37c39b1c0654"
      },
      "execution_count": null,
      "outputs": [
        {
          "output_type": "stream",
          "name": "stderr",
          "text": [
            "<ipython-input-12-96d3525c74d0>:1: SettingWithCopyWarning: \n",
            "A value is trying to be set on a copy of a slice from a DataFrame.\n",
            "Try using .loc[row_indexer,col_indexer] = value instead\n",
            "\n",
            "See the caveats in the documentation: https://pandas.pydata.org/pandas-docs/stable/user_guide/indexing.html#returning-a-view-versus-a-copy\n",
            "  df['label'] -= 1\n"
          ]
        },
        {
          "output_type": "execute_result",
          "data": {
            "text/plain": [
              "1    10805\n",
              "0     1868\n",
              "2     1132\n",
              "Name: label, dtype: int64"
            ]
          },
          "metadata": {},
          "execution_count": 12
        }
      ]
    },
    {
      "cell_type": "markdown",
      "source": [
        "Filter out duplicated data points"
      ],
      "metadata": {
        "id": "o9a6d1ya0i8o"
      }
    },
    {
      "cell_type": "code",
      "source": [
        "df = df.drop_duplicates(subset=['sentence2'], keep='first')\n",
        "df['label'].value_counts()"
      ],
      "metadata": {
        "colab": {
          "base_uri": "https://localhost:8080/"
        },
        "id": "5lF3RoGX0tqI",
        "outputId": "bbba4931-718d-4344-e490-79f05d46002c"
      },
      "execution_count": null,
      "outputs": [
        {
          "output_type": "execute_result",
          "data": {
            "text/plain": [
              "1    10800\n",
              "0     1866\n",
              "2     1129\n",
              "Name: label, dtype: int64"
            ]
          },
          "metadata": {},
          "execution_count": 13
        }
      ]
    },
    {
      "cell_type": "code",
      "source": [
        "train = df[df['set'] == 'train']\n",
        "dev = df[df['set'] == 'dev']\n",
        "test = df[df['set'] == 'test']"
      ],
      "metadata": {
        "id": "hGipyS5KVq6G"
      },
      "execution_count": null,
      "outputs": []
    },
    {
      "cell_type": "markdown",
      "source": [
        "# Class balance"
      ],
      "metadata": {
        "id": "mJkbaaldeu2f"
      }
    },
    {
      "cell_type": "code",
      "source": [
        "train['label'].value_counts()"
      ],
      "metadata": {
        "colab": {
          "base_uri": "https://localhost:8080/"
        },
        "id": "L8vAak_iV1-r",
        "outputId": "840b5b7c-b01f-4fba-8c6c-ef50f3159ff2"
      },
      "execution_count": null,
      "outputs": [
        {
          "output_type": "execute_result",
          "data": {
            "text/plain": [
              "1    8631\n",
              "0    1503\n",
              "2     926\n",
              "Name: label, dtype: int64"
            ]
          },
          "metadata": {},
          "execution_count": 15
        }
      ]
    },
    {
      "cell_type": "markdown",
      "source": [
        "The training data is heavily skewed towards class 1. As an option, we can balance the training data by randomly sampling 1500 examples from this class instead of using all of its samples"
      ],
      "metadata": {
        "id": "JlU8bYtXNvuW"
      }
    },
    {
      "cell_type": "code",
      "source": [
        "balance = False  # set to True to balance training data\n",
        "\n",
        "if balance:\n",
        "  train = pd.concat([\n",
        "      train[train['label'].isin([0, 2])],\n",
        "      train[train['label'] == 1].sample(1500, random_state=seed_val)\n",
        "  ])\n",
        "train['label'].value_counts()"
      ],
      "metadata": {
        "colab": {
          "base_uri": "https://localhost:8080/"
        },
        "id": "Wzxn1y6CNxL-",
        "outputId": "69a8ad4e-ba24-4451-db3d-813ef3af3a22"
      },
      "execution_count": null,
      "outputs": [
        {
          "output_type": "execute_result",
          "data": {
            "text/plain": [
              "1    8631\n",
              "0    1503\n",
              "2     926\n",
              "Name: label, dtype: int64"
            ]
          },
          "metadata": {},
          "execution_count": 16
        }
      ]
    },
    {
      "cell_type": "code",
      "source": [
        "train.shape"
      ],
      "metadata": {
        "colab": {
          "base_uri": "https://localhost:8080/"
        },
        "id": "aYHgXbm-UwC6",
        "outputId": "881e1966-8be2-4be0-f066-b8b5c412c558"
      },
      "execution_count": null,
      "outputs": [
        {
          "output_type": "execute_result",
          "data": {
            "text/plain": [
              "(11060, 7)"
            ]
          },
          "metadata": {},
          "execution_count": 17
        }
      ]
    },
    {
      "cell_type": "markdown",
      "source": [
        "Save the data frame to make the results reproducible"
      ],
      "metadata": {
        "id": "rxzp1Gb4OwEy"
      }
    },
    {
      "cell_type": "code",
      "source": [
        "train.to_csv('./datasets/adept/train_comparison_balanced.csv', index=False)"
      ],
      "metadata": {
        "id": "avmGaLmnOz_q"
      },
      "execution_count": null,
      "outputs": []
    },
    {
      "cell_type": "code",
      "source": [
        "train = pd.read_csv(f'./datasets/adept/train_comparison_balanced.csv')\n",
        "train.head()"
      ],
      "metadata": {
        "colab": {
          "base_uri": "https://localhost:8080/",
          "height": 223
        },
        "id": "-PjtIcfpVWqF",
        "outputId": "c6de9cd8-3f56-47a2-fd50-87a5690fefad"
      },
      "execution_count": null,
      "outputs": [
        {
          "output_type": "execute_result",
          "data": {
            "text/plain": [
              "                                 sentence1  \\\n",
              "0  The effect of sleeping is rejuvenation.   \n",
              "1        A toothbrush is for fresh breath.   \n",
              "2                      A scene is painted.   \n",
              "3                   A bone breaks a tooth.   \n",
              "4               A trip causes a happening.   \n",
              "\n",
              "                                           sentence2    modifier        noun  \\\n",
              "0  The effect of additional sleeping is rejuvenat...  additional    sleeping   \n",
              "1          A regular toothbrush is for fresh breath.     regular  toothbrush   \n",
              "2                       A negative scene is painted.    negative       scene   \n",
              "3                    An alleged bone breaks a tooth.     alleged        bone   \n",
              "4                A fabulous trip causes a happening.    fabulous        trip   \n",
              "\n",
              "   label    idx    set  \n",
              "0      2  13484  train  \n",
              "1      1   2620  train  \n",
              "2      1   3324  train  \n",
              "3      1  10610  train  \n",
              "4      1  14917  train  "
            ],
            "text/html": [
              "\n",
              "  <div id=\"df-3d65f4fb-efd3-4c83-af7a-0f746ee815f4\" class=\"colab-df-container\">\n",
              "    <div>\n",
              "<style scoped>\n",
              "    .dataframe tbody tr th:only-of-type {\n",
              "        vertical-align: middle;\n",
              "    }\n",
              "\n",
              "    .dataframe tbody tr th {\n",
              "        vertical-align: top;\n",
              "    }\n",
              "\n",
              "    .dataframe thead th {\n",
              "        text-align: right;\n",
              "    }\n",
              "</style>\n",
              "<table border=\"1\" class=\"dataframe\">\n",
              "  <thead>\n",
              "    <tr style=\"text-align: right;\">\n",
              "      <th></th>\n",
              "      <th>sentence1</th>\n",
              "      <th>sentence2</th>\n",
              "      <th>modifier</th>\n",
              "      <th>noun</th>\n",
              "      <th>label</th>\n",
              "      <th>idx</th>\n",
              "      <th>set</th>\n",
              "    </tr>\n",
              "  </thead>\n",
              "  <tbody>\n",
              "    <tr>\n",
              "      <th>0</th>\n",
              "      <td>The effect of sleeping is rejuvenation.</td>\n",
              "      <td>The effect of additional sleeping is rejuvenat...</td>\n",
              "      <td>additional</td>\n",
              "      <td>sleeping</td>\n",
              "      <td>2</td>\n",
              "      <td>13484</td>\n",
              "      <td>train</td>\n",
              "    </tr>\n",
              "    <tr>\n",
              "      <th>1</th>\n",
              "      <td>A toothbrush is for fresh breath.</td>\n",
              "      <td>A regular toothbrush is for fresh breath.</td>\n",
              "      <td>regular</td>\n",
              "      <td>toothbrush</td>\n",
              "      <td>1</td>\n",
              "      <td>2620</td>\n",
              "      <td>train</td>\n",
              "    </tr>\n",
              "    <tr>\n",
              "      <th>2</th>\n",
              "      <td>A scene is painted.</td>\n",
              "      <td>A negative scene is painted.</td>\n",
              "      <td>negative</td>\n",
              "      <td>scene</td>\n",
              "      <td>1</td>\n",
              "      <td>3324</td>\n",
              "      <td>train</td>\n",
              "    </tr>\n",
              "    <tr>\n",
              "      <th>3</th>\n",
              "      <td>A bone breaks a tooth.</td>\n",
              "      <td>An alleged bone breaks a tooth.</td>\n",
              "      <td>alleged</td>\n",
              "      <td>bone</td>\n",
              "      <td>1</td>\n",
              "      <td>10610</td>\n",
              "      <td>train</td>\n",
              "    </tr>\n",
              "    <tr>\n",
              "      <th>4</th>\n",
              "      <td>A trip causes a happening.</td>\n",
              "      <td>A fabulous trip causes a happening.</td>\n",
              "      <td>fabulous</td>\n",
              "      <td>trip</td>\n",
              "      <td>1</td>\n",
              "      <td>14917</td>\n",
              "      <td>train</td>\n",
              "    </tr>\n",
              "  </tbody>\n",
              "</table>\n",
              "</div>\n",
              "    <div class=\"colab-df-buttons\">\n",
              "\n",
              "  <div class=\"colab-df-container\">\n",
              "    <button class=\"colab-df-convert\" onclick=\"convertToInteractive('df-3d65f4fb-efd3-4c83-af7a-0f746ee815f4')\"\n",
              "            title=\"Convert this dataframe to an interactive table.\"\n",
              "            style=\"display:none;\">\n",
              "\n",
              "  <svg xmlns=\"http://www.w3.org/2000/svg\" height=\"24px\" viewBox=\"0 -960 960 960\">\n",
              "    <path d=\"M120-120v-720h720v720H120Zm60-500h600v-160H180v160Zm220 220h160v-160H400v160Zm0 220h160v-160H400v160ZM180-400h160v-160H180v160Zm440 0h160v-160H620v160ZM180-180h160v-160H180v160Zm440 0h160v-160H620v160Z\"/>\n",
              "  </svg>\n",
              "    </button>\n",
              "\n",
              "  <style>\n",
              "    .colab-df-container {\n",
              "      display:flex;\n",
              "      gap: 12px;\n",
              "    }\n",
              "\n",
              "    .colab-df-convert {\n",
              "      background-color: #E8F0FE;\n",
              "      border: none;\n",
              "      border-radius: 50%;\n",
              "      cursor: pointer;\n",
              "      display: none;\n",
              "      fill: #1967D2;\n",
              "      height: 32px;\n",
              "      padding: 0 0 0 0;\n",
              "      width: 32px;\n",
              "    }\n",
              "\n",
              "    .colab-df-convert:hover {\n",
              "      background-color: #E2EBFA;\n",
              "      box-shadow: 0px 1px 2px rgba(60, 64, 67, 0.3), 0px 1px 3px 1px rgba(60, 64, 67, 0.15);\n",
              "      fill: #174EA6;\n",
              "    }\n",
              "\n",
              "    .colab-df-buttons div {\n",
              "      margin-bottom: 4px;\n",
              "    }\n",
              "\n",
              "    [theme=dark] .colab-df-convert {\n",
              "      background-color: #3B4455;\n",
              "      fill: #D2E3FC;\n",
              "    }\n",
              "\n",
              "    [theme=dark] .colab-df-convert:hover {\n",
              "      background-color: #434B5C;\n",
              "      box-shadow: 0px 1px 3px 1px rgba(0, 0, 0, 0.15);\n",
              "      filter: drop-shadow(0px 1px 2px rgba(0, 0, 0, 0.3));\n",
              "      fill: #FFFFFF;\n",
              "    }\n",
              "  </style>\n",
              "\n",
              "    <script>\n",
              "      const buttonEl =\n",
              "        document.querySelector('#df-3d65f4fb-efd3-4c83-af7a-0f746ee815f4 button.colab-df-convert');\n",
              "      buttonEl.style.display =\n",
              "        google.colab.kernel.accessAllowed ? 'block' : 'none';\n",
              "\n",
              "      async function convertToInteractive(key) {\n",
              "        const element = document.querySelector('#df-3d65f4fb-efd3-4c83-af7a-0f746ee815f4');\n",
              "        const dataTable =\n",
              "          await google.colab.kernel.invokeFunction('convertToInteractive',\n",
              "                                                    [key], {});\n",
              "        if (!dataTable) return;\n",
              "\n",
              "        const docLinkHtml = 'Like what you see? Visit the ' +\n",
              "          '<a target=\"_blank\" href=https://colab.research.google.com/notebooks/data_table.ipynb>data table notebook</a>'\n",
              "          + ' to learn more about interactive tables.';\n",
              "        element.innerHTML = '';\n",
              "        dataTable['output_type'] = 'display_data';\n",
              "        await google.colab.output.renderOutput(dataTable, element);\n",
              "        const docLink = document.createElement('div');\n",
              "        docLink.innerHTML = docLinkHtml;\n",
              "        element.appendChild(docLink);\n",
              "      }\n",
              "    </script>\n",
              "  </div>\n",
              "\n",
              "\n",
              "<div id=\"df-fd22b030-59d9-4020-89b9-6dacc6275cb2\">\n",
              "  <button class=\"colab-df-quickchart\" onclick=\"quickchart('df-fd22b030-59d9-4020-89b9-6dacc6275cb2')\"\n",
              "            title=\"Suggest charts\"\n",
              "            style=\"display:none;\">\n",
              "\n",
              "<svg xmlns=\"http://www.w3.org/2000/svg\" height=\"24px\"viewBox=\"0 0 24 24\"\n",
              "     width=\"24px\">\n",
              "    <g>\n",
              "        <path d=\"M19 3H5c-1.1 0-2 .9-2 2v14c0 1.1.9 2 2 2h14c1.1 0 2-.9 2-2V5c0-1.1-.9-2-2-2zM9 17H7v-7h2v7zm4 0h-2V7h2v10zm4 0h-2v-4h2v4z\"/>\n",
              "    </g>\n",
              "</svg>\n",
              "  </button>\n",
              "\n",
              "<style>\n",
              "  .colab-df-quickchart {\n",
              "      --bg-color: #E8F0FE;\n",
              "      --fill-color: #1967D2;\n",
              "      --hover-bg-color: #E2EBFA;\n",
              "      --hover-fill-color: #174EA6;\n",
              "      --disabled-fill-color: #AAA;\n",
              "      --disabled-bg-color: #DDD;\n",
              "  }\n",
              "\n",
              "  [theme=dark] .colab-df-quickchart {\n",
              "      --bg-color: #3B4455;\n",
              "      --fill-color: #D2E3FC;\n",
              "      --hover-bg-color: #434B5C;\n",
              "      --hover-fill-color: #FFFFFF;\n",
              "      --disabled-bg-color: #3B4455;\n",
              "      --disabled-fill-color: #666;\n",
              "  }\n",
              "\n",
              "  .colab-df-quickchart {\n",
              "    background-color: var(--bg-color);\n",
              "    border: none;\n",
              "    border-radius: 50%;\n",
              "    cursor: pointer;\n",
              "    display: none;\n",
              "    fill: var(--fill-color);\n",
              "    height: 32px;\n",
              "    padding: 0;\n",
              "    width: 32px;\n",
              "  }\n",
              "\n",
              "  .colab-df-quickchart:hover {\n",
              "    background-color: var(--hover-bg-color);\n",
              "    box-shadow: 0 1px 2px rgba(60, 64, 67, 0.3), 0 1px 3px 1px rgba(60, 64, 67, 0.15);\n",
              "    fill: var(--button-hover-fill-color);\n",
              "  }\n",
              "\n",
              "  .colab-df-quickchart-complete:disabled,\n",
              "  .colab-df-quickchart-complete:disabled:hover {\n",
              "    background-color: var(--disabled-bg-color);\n",
              "    fill: var(--disabled-fill-color);\n",
              "    box-shadow: none;\n",
              "  }\n",
              "\n",
              "  .colab-df-spinner {\n",
              "    border: 2px solid var(--fill-color);\n",
              "    border-color: transparent;\n",
              "    border-bottom-color: var(--fill-color);\n",
              "    animation:\n",
              "      spin 1s steps(1) infinite;\n",
              "  }\n",
              "\n",
              "  @keyframes spin {\n",
              "    0% {\n",
              "      border-color: transparent;\n",
              "      border-bottom-color: var(--fill-color);\n",
              "      border-left-color: var(--fill-color);\n",
              "    }\n",
              "    20% {\n",
              "      border-color: transparent;\n",
              "      border-left-color: var(--fill-color);\n",
              "      border-top-color: var(--fill-color);\n",
              "    }\n",
              "    30% {\n",
              "      border-color: transparent;\n",
              "      border-left-color: var(--fill-color);\n",
              "      border-top-color: var(--fill-color);\n",
              "      border-right-color: var(--fill-color);\n",
              "    }\n",
              "    40% {\n",
              "      border-color: transparent;\n",
              "      border-right-color: var(--fill-color);\n",
              "      border-top-color: var(--fill-color);\n",
              "    }\n",
              "    60% {\n",
              "      border-color: transparent;\n",
              "      border-right-color: var(--fill-color);\n",
              "    }\n",
              "    80% {\n",
              "      border-color: transparent;\n",
              "      border-right-color: var(--fill-color);\n",
              "      border-bottom-color: var(--fill-color);\n",
              "    }\n",
              "    90% {\n",
              "      border-color: transparent;\n",
              "      border-bottom-color: var(--fill-color);\n",
              "    }\n",
              "  }\n",
              "</style>\n",
              "\n",
              "  <script>\n",
              "    async function quickchart(key) {\n",
              "      const quickchartButtonEl =\n",
              "        document.querySelector('#' + key + ' button');\n",
              "      quickchartButtonEl.disabled = true;  // To prevent multiple clicks.\n",
              "      quickchartButtonEl.classList.add('colab-df-spinner');\n",
              "      try {\n",
              "        const charts = await google.colab.kernel.invokeFunction(\n",
              "            'suggestCharts', [key], {});\n",
              "      } catch (error) {\n",
              "        console.error('Error during call to suggestCharts:', error);\n",
              "      }\n",
              "      quickchartButtonEl.classList.remove('colab-df-spinner');\n",
              "      quickchartButtonEl.classList.add('colab-df-quickchart-complete');\n",
              "    }\n",
              "    (() => {\n",
              "      let quickchartButtonEl =\n",
              "        document.querySelector('#df-fd22b030-59d9-4020-89b9-6dacc6275cb2 button');\n",
              "      quickchartButtonEl.style.display =\n",
              "        google.colab.kernel.accessAllowed ? 'block' : 'none';\n",
              "    })();\n",
              "  </script>\n",
              "</div>\n",
              "    </div>\n",
              "  </div>\n"
            ]
          },
          "metadata": {},
          "execution_count": 19
        }
      ]
    },
    {
      "cell_type": "code",
      "source": [
        "df = pd.concat([train, dev, test])\n",
        "df.reset_index(inplace=True, drop=True)\n",
        "df.shape"
      ],
      "metadata": {
        "colab": {
          "base_uri": "https://localhost:8080/"
        },
        "id": "neCprKbTWRae",
        "outputId": "5b92dac2-597f-4c1c-9b41-2b9aca6e6c99"
      },
      "execution_count": null,
      "outputs": [
        {
          "output_type": "execute_result",
          "data": {
            "text/plain": [
              "(13795, 7)"
            ]
          },
          "metadata": {},
          "execution_count": 20
        }
      ]
    },
    {
      "cell_type": "markdown",
      "source": [
        "# Tokenization"
      ],
      "metadata": {
        "id": "3ghYHSbZ1lpH"
      }
    },
    {
      "cell_type": "markdown",
      "source": [
        "Our text input for the model will be sentence1 and sentence2 concatenated. Let's generate that input"
      ],
      "metadata": {
        "id": "NnqnutO85iXm"
      }
    },
    {
      "cell_type": "code",
      "source": [
        "df['sent_concat'] = df.apply(lambda row: row['sentence1'] + ' ' + row['sentence2'], axis=1)"
      ],
      "metadata": {
        "id": "yZ5XN78L5SzB"
      },
      "execution_count": null,
      "outputs": []
    },
    {
      "cell_type": "markdown",
      "source": [
        "Now we need to load the tokenizer to prepare the model input"
      ],
      "metadata": {
        "id": "wKnmqAsDfkFo"
      }
    },
    {
      "cell_type": "code",
      "source": [
        "match model_name:\n",
        "    case \"BERT\":\n",
        "        from transformers import BertTokenizer\n",
        "        tokenizer = BertTokenizer.from_pretrained('bert-base-uncased', do_lower_case=True)\n",
        "    case \"DeBERTa\":\n",
        "        from transformers import DebertaTokenizer\n",
        "        tokenizer = DebertaTokenizer.from_pretrained('microsoft/deberta-base')\n",
        "    case \"RoBERTa\":\n",
        "        from transformers import RobertaTokenizer\n",
        "        tokenizer = RobertaTokenizer.from_pretrained('roberta-base')\n",
        "    case \"MPNet\":\n",
        "        from transformers import MPNetTokenizer\n",
        "        tokenizer = MPNetTokenizer.from_pretrained(\"microsoft/mpnet-base\")\n",
        "    case _:\n",
        "        from transformers import BertTokenizer\n",
        "        tokenizer = BertTokenizer.from_pretrained('bert-base-uncased', do_lower_case=True)"
      ],
      "metadata": {
        "colab": {
          "base_uri": "https://localhost:8080/",
          "height": 272,
          "referenced_widgets": [
            "5d1c293384ea44e18f5b9dc6abc7b4ce",
            "e675ce04f6be46ff9d1b24c16fdc9ecf",
            "1f21645ce0e04e148d467340b3480481",
            "ad41f5e739b74d30a0ef9b6b9d3c08fc",
            "ec57ded57c5246cfbc2fa053069e8d87",
            "b8280301253b4f178e6cfaf7c8662490",
            "77cbe1f5194f4112bd58bf201a8113bd",
            "8fed457b4dd24729bfbfc74275e27b4d",
            "dfc2f3e593544a3399177c584353f5b3",
            "36224062f8544c91868a0c43ed06bc2e",
            "1ebb4d06c508450ebc434f802697e1b4",
            "5def4c0a254d4e5c9c7a908cb6074f8d",
            "958d7d5535ca4465b8380542f024ee5e",
            "5195c08a64a1488aae4cedb16ea2d440",
            "62fbdb955c104623b598698b06d5b07b",
            "a9bc0d46e8d6476589f6a013b3cc19ad",
            "4a013a090b2e48e3828b8f634e0387ff",
            "44f2a67d54664843986ab38a161471d6",
            "087bedaa5da8450eb68d00f09de53cb0",
            "8f134233611a41e1ad995e68a3700bb6",
            "216af55db1454918b7c91d4b032df9d3",
            "c88d54e3ca9144488ef9abecac03a1ab",
            "c529337440b9462d831db963e225b88b",
            "53a199726e434555b590cc535f598535",
            "cdb8ae30a94948aabf1c6e4406541149",
            "07d0ffb7e4d241e49d0a15dc8a161ca7",
            "0975597e4426442d957b9ec09c6b3540",
            "54cb4d4fed704befa522440babcf59b1",
            "5d70da18e7764349829630ed7dde42c6",
            "04de7ceb68464f7582494de7712f7274",
            "f4f4c1d8f1404dad8e1eeefc03ab95bd",
            "7f44714e6ced40c0be5fc61dd5226a5c",
            "496d78d3690e4a1d90cd81203550e852",
            "62ed804c36ca434fb22e865d821a7974",
            "13d60ccc91044247bd9218d8fe2a4e02",
            "b1e9da971d844413b4f4d7f4827862c5",
            "067ac1f81a914763a5fd3d119ee3d60c",
            "3bc70e8f48ee412795cced31e999adc8",
            "4a3f23c228904dd2a7db6becbb082ed1",
            "7c75926817274bd694769f204acc95d9",
            "b094fb2e741b44fbba2d8dcab76dfa3f",
            "1651fc931ca0402dba76f0af07f2aade",
            "7e014aab7489479d9b81e44ddd2ae590",
            "cd608003633a48b4b60eea8a9444c8bc"
          ]
        },
        "id": "xk-lFpR2fqD8",
        "outputId": "adf532f3-3fa2-44e9-874d-d2ccb81b34f6"
      },
      "execution_count": null,
      "outputs": [
        {
          "output_type": "stream",
          "name": "stderr",
          "text": [
            "/usr/local/lib/python3.10/dist-packages/huggingface_hub/utils/_token.py:88: UserWarning: \n",
            "The secret `HF_TOKEN` does not exist in your Colab secrets.\n",
            "To authenticate with the Hugging Face Hub, create a token in your settings tab (https://huggingface.co/settings/tokens), set it as secret in your Google Colab and restart your session.\n",
            "You will be able to reuse this secret in all of your notebooks.\n",
            "Please note that authentication is recommended but still optional to access public models or datasets.\n",
            "  warnings.warn(\n"
          ]
        },
        {
          "output_type": "display_data",
          "data": {
            "text/plain": [
              "tokenizer_config.json:   0%|          | 0.00/52.0 [00:00<?, ?B/s]"
            ],
            "application/vnd.jupyter.widget-view+json": {
              "version_major": 2,
              "version_minor": 0,
              "model_id": "5d1c293384ea44e18f5b9dc6abc7b4ce"
            }
          },
          "metadata": {}
        },
        {
          "output_type": "display_data",
          "data": {
            "text/plain": [
              "vocab.json:   0%|          | 0.00/899k [00:00<?, ?B/s]"
            ],
            "application/vnd.jupyter.widget-view+json": {
              "version_major": 2,
              "version_minor": 0,
              "model_id": "5def4c0a254d4e5c9c7a908cb6074f8d"
            }
          },
          "metadata": {}
        },
        {
          "output_type": "display_data",
          "data": {
            "text/plain": [
              "merges.txt:   0%|          | 0.00/456k [00:00<?, ?B/s]"
            ],
            "application/vnd.jupyter.widget-view+json": {
              "version_major": 2,
              "version_minor": 0,
              "model_id": "c529337440b9462d831db963e225b88b"
            }
          },
          "metadata": {}
        },
        {
          "output_type": "display_data",
          "data": {
            "text/plain": [
              "config.json:   0%|          | 0.00/474 [00:00<?, ?B/s]"
            ],
            "application/vnd.jupyter.widget-view+json": {
              "version_major": 2,
              "version_minor": 0,
              "model_id": "62ed804c36ca434fb22e865d821a7974"
            }
          },
          "metadata": {}
        }
      ]
    },
    {
      "cell_type": "markdown",
      "source": [
        "Now let's calculate max input document length in tokens"
      ],
      "metadata": {
        "id": "-wFpAD1Q2knP"
      }
    },
    {
      "cell_type": "code",
      "source": [
        "max_len = 0\n",
        "for doc in df['sent_concat']:\n",
        "    input_ids = tokenizer.encode(doc, add_special_tokens=True)\n",
        "    max_len = max(max_len, len(input_ids))\n",
        "max_len"
      ],
      "metadata": {
        "colab": {
          "base_uri": "https://localhost:8080/"
        },
        "id": "vf5WR1e41lAh",
        "outputId": "733648fd-203c-4869-99f4-b87992a1546e"
      },
      "execution_count": null,
      "outputs": [
        {
          "output_type": "execute_result",
          "data": {
            "text/plain": [
              "44"
            ]
          },
          "metadata": {},
          "execution_count": 25
        }
      ]
    },
    {
      "cell_type": "markdown",
      "source": [
        "Our input to the BERT model will be formatted as follows:\n",
        "> `[CLS] sentence1 [SEP] sentence2 [SEP] `\n",
        "\n",
        "Seeing that the maximum document length is 46 tokens, we will set the max length hyperparameter to 64\n",
        "\n"
      ],
      "metadata": {
        "id": "wJYYsiLx27lU"
      }
    },
    {
      "cell_type": "markdown",
      "source": [
        "Tokenization function"
      ],
      "metadata": {
        "id": "5f1Ex2_D3oCH"
      }
    },
    {
      "cell_type": "code",
      "source": [
        "def tokenize(input_text: list[str]) -> Tuple[torch.Tensor, torch.Tensor]:\n",
        "  input_ids = []\n",
        "  attention_masks = []\n",
        "\n",
        "  for doc in tqdm(input_text):\n",
        "      encoded_dict = tokenizer.encode_plus(\n",
        "                          doc,                       # Document to encode.\n",
        "                          add_special_tokens = True, # Add '[CLS]' and '[SEP]'\n",
        "                          max_length = 64,           # Pad & truncate all sentences.\n",
        "                          padding = 'max_length',\n",
        "                          return_attention_mask = True,   # Construct attention masks.\n",
        "                          return_tensors = 'pt',     # Return pytorch tensors.\n",
        "                    )\n",
        "\n",
        "      input_ids.append(encoded_dict['input_ids'])\n",
        "      attention_masks.append(encoded_dict['attention_mask'])\n",
        "\n",
        "  input_ids = torch.cat(input_ids, dim=0)\n",
        "  attention_masks = torch.cat(attention_masks, dim=0)\n",
        "  return input_ids, attention_masks"
      ],
      "metadata": {
        "id": "XdVon-sC3plD"
      },
      "execution_count": null,
      "outputs": []
    },
    {
      "cell_type": "markdown",
      "source": [
        "Apply the tokenization function to the data"
      ],
      "metadata": {
        "id": "O5cm7v8t_aFq"
      }
    },
    {
      "cell_type": "code",
      "source": [
        "# train\n",
        "train_docs = df[df['set'] == 'train']['sent_concat'].to_list()\n",
        "train_input_ids, train_attention_masks = tokenize(train_docs)\n",
        "\n",
        "# validation (dev)\n",
        "dev_docs = df[df['set'] == 'dev']['sent_concat'].to_list()\n",
        "dev_input_ids, dev_attention_masks = tokenize(dev_docs)\n",
        "\n",
        "# test\n",
        "test_docs = df[df['set'] == 'test']['sent_concat'].to_list()\n",
        "test_input_ids, test_attention_masks = tokenize(test_docs)"
      ],
      "metadata": {
        "colab": {
          "base_uri": "https://localhost:8080/"
        },
        "id": "XpX9SRIZ27CI",
        "outputId": "f9b54f35-92fd-4bae-92ae-3eebdb073d12"
      },
      "execution_count": null,
      "outputs": [
        {
          "output_type": "stream",
          "name": "stderr",
          "text": [
            "100%|██████████| 11060/11060 [00:03<00:00, 2942.70it/s]\n",
            "100%|██████████| 1355/1355 [00:00<00:00, 2335.95it/s]\n",
            "100%|██████████| 1380/1380 [00:00<00:00, 2292.04it/s]\n"
          ]
        }
      ]
    },
    {
      "cell_type": "markdown",
      "source": [
        "Create `torch` datasets and dataloaders to conveniently load the data into the model"
      ],
      "metadata": {
        "id": "kicONCsgBWGq"
      }
    },
    {
      "cell_type": "code",
      "source": [
        "# train\n",
        "train_labels = torch.tensor(df[df['set'] == 'train']['label'].to_list())\n",
        "train_dataset = TensorDataset(train_input_ids, train_attention_masks, train_labels)\n",
        "\n",
        "# validation (dev)\n",
        "dev_labels = torch.tensor(df[df['set'] == 'dev']['label'].to_list())\n",
        "validation_dataset = TensorDataset(dev_input_ids, dev_attention_masks, dev_labels)\n",
        "\n",
        "# test\n",
        "test_labels = torch.tensor(df[df['set'] == 'test']['label'].to_list())\n",
        "test_dataset = TensorDataset(test_input_ids, test_attention_masks, test_labels)"
      ],
      "metadata": {
        "id": "aD6ZZeaTBKyp"
      },
      "execution_count": null,
      "outputs": []
    },
    {
      "cell_type": "code",
      "source": [
        "batch_size = 16\n",
        "\n",
        "# train\n",
        "train_dataloader = DataLoader(\n",
        "            train_dataset,\n",
        "            sampler=RandomSampler(train_dataset),  # Select batches randomly\n",
        "            batch_size=batch_size\n",
        "        )\n",
        "\n",
        "# validation (dev)\n",
        "validation_dataloader = DataLoader(\n",
        "            validation_dataset,\n",
        "            sampler=SequentialSampler(validation_dataset),  # Pull out batches sequentially\n",
        "            batch_size=batch_size\n",
        "        )\n",
        "\n",
        "# test\n",
        "test_dataloader = DataLoader(\n",
        "            test_dataset,\n",
        "            sampler=SequentialSampler(test_dataset),  # Pull out batches sequentially\n",
        "            batch_size=batch_size\n",
        "        )\n",
        "\n",
        "print(f'train:  {len(train_dataset)} data points, {len(train_dataloader)} batches')\n",
        "print(f'validation (dev): {len(validation_dataset)} data points, {len(validation_dataloader)} batches')\n",
        "print(f'test: {len(test_dataset)} data points, {len(test_dataloader)} batches')"
      ],
      "metadata": {
        "colab": {
          "base_uri": "https://localhost:8080/"
        },
        "id": "SxpHEe-GBucZ",
        "outputId": "2a456436-a1b1-45a3-8f50-e72ac1d97932"
      },
      "execution_count": null,
      "outputs": [
        {
          "output_type": "stream",
          "name": "stdout",
          "text": [
            "train:  11060 data points, 692 batches\n",
            "validation (dev): 1355 data points, 85 batches\n",
            "test: 1380 data points, 87 batches\n"
          ]
        }
      ]
    },
    {
      "cell_type": "markdown",
      "source": [
        "# Model\n",
        "\n",
        "With the data at the ready, we load the pre-trained model of choice"
      ],
      "metadata": {
        "id": "m8R0qWGTMq7b"
      }
    },
    {
      "cell_type": "code",
      "source": [
        "match model_name:\n",
        "    case \"BERT\":\n",
        "        from transformers import BertForSequenceClassification\n",
        "    case \"DeBERTa\":\n",
        "        from transformers import DebertaForSequenceClassification\n",
        "    case \"RoBERTa\":\n",
        "        from transformers import RobertaForSequenceClassification\n",
        "    case \"MPNet\":\n",
        "        from transformers import MPNetForSequenceClassification\n",
        "    case _:\n",
        "        from transformers import BertForSequenceClassification\n",
        "\n",
        "from transformers import get_linear_schedule_with_warmup\n",
        "from torch.optim import AdamW"
      ],
      "metadata": {
        "id": "CFRe0vXPhFOh"
      },
      "execution_count": null,
      "outputs": []
    },
    {
      "cell_type": "code",
      "source": [
        "match model_name:\n",
        "    case \"BERT\":\n",
        "        model = BertForSequenceClassification.from_pretrained(\n",
        "            \"bert-base-uncased\",\n",
        "            num_labels = 3,\n",
        "            output_attentions = False,\n",
        "            output_hidden_states = False,\n",
        "        )\n",
        "    case \"DeBERTa\":\n",
        "        model = DebertaForSequenceClassification.from_pretrained(\n",
        "            \"microsoft/deberta-base\",\n",
        "            num_labels = 3,\n",
        "            output_attentions = False,\n",
        "            output_hidden_states = False,\n",
        "        )\n",
        "    case \"RoBERTa\":\n",
        "        model = RobertaForSequenceClassification.from_pretrained(\n",
        "            \"roberta-base\",\n",
        "            num_labels = 3,\n",
        "            output_attentions = False,\n",
        "            output_hidden_states = False,\n",
        "        )\n",
        "    case \"MPNet\":\n",
        "        model = MPNetForSequenceClassification.from_pretrained(\n",
        "            \"microsoft/mpnet-base\",\n",
        "            num_labels = 3,\n",
        "            output_attentions = False,\n",
        "            output_hidden_states = False,\n",
        "        )\n",
        "    case _:\n",
        "        model = BertForSequenceClassification.from_pretrained(\n",
        "            \"bert-base-uncased\",\n",
        "            num_labels = 3,\n",
        "            output_attentions = False,\n",
        "            output_hidden_states = False,\n",
        "        )\n",
        "model.to(device);"
      ],
      "metadata": {
        "colab": {
          "base_uri": "https://localhost:8080/",
          "height": 105,
          "referenced_widgets": [
            "ed7cc112428049f083d8ae4db2d9e7aa",
            "37c94b5cf4a44c3c8f78bddf9794b48e",
            "33c78b2c3b13444ea4e93b12dad46ec8",
            "ce2c3007245743b0855d51757597e7e5",
            "39eaecbf06ea4d9b801b88695f85fcd5",
            "5be7284f58394762938f0951c3ce2c57",
            "045e46e3d87b485c94909d872961fcaf",
            "72dffff958574b27a6f0fd8e8cf18ff4",
            "490708bf10f84283ac98c6bf7ae049e1",
            "dbc6a00a29524199a346b324f6363d04",
            "82cc0040206c4254b500c660629b9f50"
          ]
        },
        "id": "0QB_TDLUhHgg",
        "outputId": "72425d52-1955-40e8-aa01-5ba07207157d"
      },
      "execution_count": null,
      "outputs": [
        {
          "output_type": "display_data",
          "data": {
            "text/plain": [
              "pytorch_model.bin:   0%|          | 0.00/559M [00:00<?, ?B/s]"
            ],
            "application/vnd.jupyter.widget-view+json": {
              "version_major": 2,
              "version_minor": 0,
              "model_id": "ed7cc112428049f083d8ae4db2d9e7aa"
            }
          },
          "metadata": {}
        },
        {
          "output_type": "stream",
          "name": "stderr",
          "text": [
            "Some weights of DebertaForSequenceClassification were not initialized from the model checkpoint at microsoft/deberta-base and are newly initialized: ['classifier.bias', 'pooler.dense.weight', 'pooler.dense.bias', 'classifier.weight']\n",
            "You should probably TRAIN this model on a down-stream task to be able to use it for predictions and inference.\n"
          ]
        }
      ]
    },
    {
      "cell_type": "markdown",
      "source": [
        "Initialize `AdamW` optimizer and learning rate scheduler. We are going to train for 3 epochs"
      ],
      "metadata": {
        "id": "i2JEeLPMhbhH"
      }
    },
    {
      "cell_type": "code",
      "source": [
        "optimizer = AdamW(model.parameters(),\n",
        "                  lr = 2e-5,\n",
        "                  eps = 1e-8  # default\n",
        "                )"
      ],
      "metadata": {
        "id": "j9Kd8sZVMQ_k"
      },
      "execution_count": null,
      "outputs": []
    },
    {
      "cell_type": "code",
      "source": [
        "epochs = 3\n",
        "\n",
        "total_steps = len(train_dataloader) * epochs\n",
        "scheduler = get_linear_schedule_with_warmup(optimizer,\n",
        "                                            num_warmup_steps = 0, # Default value in run_glue.py\n",
        "                                            num_training_steps = total_steps)"
      ],
      "metadata": {
        "id": "Lq5bmoTkMcwc"
      },
      "execution_count": null,
      "outputs": []
    },
    {
      "cell_type": "markdown",
      "source": [
        "We will use macro F1 to evaluate intermediate results"
      ],
      "metadata": {
        "id": "jSAmj17mjd-r"
      }
    },
    {
      "cell_type": "code",
      "source": [
        "def flat_f1_score(y_true, y_pred, average='macro'):\n",
        "  y_pred = np.argmax(y_pred, axis=1).flatten()\n",
        "  return f1_score(y_true, y_pred, average=average)"
      ],
      "metadata": {
        "id": "X83DVxX4SZgt"
      },
      "execution_count": null,
      "outputs": []
    },
    {
      "cell_type": "markdown",
      "source": [
        "# Training\n",
        "\n",
        "And now we are ready to train. We are going to run validation on the dev set after every epoch and gather the statistics."
      ],
      "metadata": {
        "id": "6fVThWBKMwJX"
      }
    },
    {
      "cell_type": "markdown",
      "source": [
        "## Training loop"
      ],
      "metadata": {
        "id": "j1CaNSvWoVBM"
      }
    },
    {
      "cell_type": "code",
      "source": [
        "training_stats = []\n",
        "total_t0 = time.time()\n",
        "\n",
        "for epoch_i in range(0, epochs):\n",
        "    # training\n",
        "    print(\"\")\n",
        "    print('======== Epoch {:} / {:} ========'.format(epoch_i + 1, epochs))\n",
        "    print('Training...')\n",
        "\n",
        "    t0 = time.time()\n",
        "    total_train_loss = 0\n",
        "    model.train()\n",
        "\n",
        "    for step, batch in enumerate(train_dataloader):\n",
        "        # if step % 40 == 0 and not step == 0:  # progress update\n",
        "        #     elapsed = format_time(time.time() - t0)\n",
        "        #     print('  Batch {:>5,}  of  {:>5,}.    Elapsed: {:}.'.format(step, len(train_dataloader), elapsed))\n",
        "\n",
        "        b_input_ids = batch[0].to(device)\n",
        "        b_input_mask = batch[1].to(device)\n",
        "        b_labels = batch[2].to(device)\n",
        "\n",
        "        model.zero_grad()\n",
        "        output = model(b_input_ids,\n",
        "                             token_type_ids=None,\n",
        "                             attention_mask=b_input_mask,\n",
        "                             labels=b_labels)\n",
        "        loss, logits = output.loss, output.logits\n",
        "\n",
        "        total_train_loss += loss.item()\n",
        "        loss.backward()\n",
        "        torch.nn.utils.clip_grad_norm_(model.parameters(), 1.0)\n",
        "        optimizer.step()\n",
        "        scheduler.step()\n",
        "\n",
        "        del batch\n",
        "        # break  # 1 batch run for sanity checks\n",
        "\n",
        "    avg_train_loss = total_train_loss / len(train_dataloader)\n",
        "    training_time = format_time(time.time() - t0)\n",
        "\n",
        "    print(\"\")\n",
        "    print(\"  Average training loss: {0:.2f}\".format(avg_train_loss))\n",
        "    print(\"  Training epoch took: {:}\".format(training_time))\n",
        "\n",
        "    # validation\n",
        "    print(\"\")\n",
        "    print(\"Validation...\")\n",
        "\n",
        "    t0 = time.time()\n",
        "    model.eval()\n",
        "    total_eval_f1 = 0\n",
        "    total_eval_loss = 0\n",
        "    nb_eval_steps = 0\n",
        "\n",
        "    for batch in validation_dataloader:\n",
        "        b_input_ids = batch[0].to(device)\n",
        "        b_input_mask = batch[1].to(device)\n",
        "        b_labels = batch[2].to(device)\n",
        "\n",
        "        with torch.no_grad():\n",
        "            output = model(b_input_ids,\n",
        "                                   token_type_ids=None,\n",
        "                                   attention_mask=b_input_mask,\n",
        "                                   labels=b_labels)\n",
        "        loss, logits = output.loss, output.logits\n",
        "        total_eval_loss += loss.item()\n",
        "        logits = logits.detach().cpu().numpy()\n",
        "        predictions = np.argmax(logits, axis=1).flatten()\n",
        "        b_labels = b_labels.to('cpu').numpy()\n",
        "\n",
        "        total_eval_f1 += f1_score(b_labels, predictions, average='macro')\n",
        "        del batch\n",
        "        # break  # 1 batch run for sanity checks\n",
        "\n",
        "    # Report the final accuracy for this validation run.\n",
        "    avg_val_f1 = total_eval_f1 / len(validation_dataloader)\n",
        "    print(\"  Macro F1: {0:.2f}\".format(avg_val_f1))\n",
        "\n",
        "    avg_val_loss = total_eval_loss / len(validation_dataloader)\n",
        "    validation_time = format_time(time.time() - t0)\n",
        "\n",
        "    print(\"  Validation Loss: {0:.2f}\".format(avg_val_loss))\n",
        "    print(\"  Validation took: {:}\".format(validation_time))\n",
        "\n",
        "    training_stats.append(\n",
        "        {\n",
        "            'epoch': epoch_i + 1,\n",
        "            'Training Loss': avg_train_loss,\n",
        "            'Valid. Loss': avg_val_loss,\n",
        "            'Valid. Macro F1.': avg_val_f1,\n",
        "            'Training Time': training_time,\n",
        "            'Validation Time': validation_time\n",
        "        }\n",
        "    )\n",
        "\n",
        "print(\"\")\n",
        "print(\"Training complete!\")\n",
        "\n",
        "print(\"Total training took {:} (h:mm:ss)\".format(format_time(time.time()-total_t0)))"
      ],
      "metadata": {
        "colab": {
          "base_uri": "https://localhost:8080/"
        },
        "id": "4E2X5wksMxvW",
        "outputId": "3c2b6ce2-3bf0-4a99-891a-819c09c2385b"
      },
      "execution_count": null,
      "outputs": [
        {
          "output_type": "stream",
          "name": "stdout",
          "text": [
            "\n",
            "======== Epoch 1 / 3 ========\n",
            "Training...\n",
            "\n",
            "  Average training loss: 0.61\n",
            "  Training epoch took: 0:03:04\n",
            "\n",
            "Validation...\n",
            "  Macro F1: 0.45\n",
            "  Validation Loss: 0.54\n",
            "  Validation took: 0:00:06\n",
            "\n",
            "======== Epoch 2 / 3 ========\n",
            "Training...\n",
            "\n",
            "  Average training loss: 0.50\n",
            "  Training epoch took: 0:02:54\n",
            "\n",
            "Validation...\n",
            "  Macro F1: 0.53\n",
            "  Validation Loss: 0.54\n",
            "  Validation took: 0:00:06\n",
            "\n",
            "======== Epoch 3 / 3 ========\n",
            "Training...\n",
            "\n",
            "  Average training loss: 0.40\n",
            "  Training epoch took: 0:02:53\n",
            "\n",
            "Validation...\n",
            "  Macro F1: 0.54\n",
            "  Validation Loss: 0.58\n",
            "  Validation took: 0:00:06\n",
            "\n",
            "Training complete!\n",
            "Total training took 0:09:08 (h:mm:ss)\n"
          ]
        }
      ]
    },
    {
      "cell_type": "markdown",
      "source": [
        "## Training stats\n",
        "\n",
        "Let's see how the training panned out. The plot shows the average training and validation losses of a given epoch against the epoch number. In this case, we can see that the model went into overfitting after epoch 2."
      ],
      "metadata": {
        "id": "VDjJ0clMlSp5"
      }
    },
    {
      "cell_type": "code",
      "source": [
        "training_stats = pd.DataFrame(data=training_stats)\n",
        "\n",
        "sns.set(font_scale=1.5)\n",
        "plt.rcParams[\"figure.figsize\"] = (8,4)\n",
        "\n",
        "plt.plot(training_stats['epoch'], training_stats['Training Loss'], 'b-o', label=\"Training\");\n",
        "plt.plot(training_stats['epoch'], training_stats['Valid. Loss'], 'g-o', label=\"Validation\");\n",
        "\n",
        "plt.title(\"Training & Validation Loss\");\n",
        "plt.xlabel(\"Epoch\");\n",
        "plt.ylabel(\"Loss\");\n",
        "plt.legend();\n",
        "plt.xticks(range(1, epochs + 1));\n",
        "\n",
        "plt.show()"
      ],
      "metadata": {
        "colab": {
          "base_uri": "https://localhost:8080/",
          "height": 438
        },
        "id": "yt59PYoyZMp3",
        "outputId": "844035aa-5891-4d8f-e680-c85a972a5c7f"
      },
      "execution_count": null,
      "outputs": [
        {
          "output_type": "display_data",
          "data": {
            "text/plain": [
              "<Figure size 800x400 with 1 Axes>"
            ],
            "image/png": "[encoded data removed]"
          },
          "metadata": {}
        }
      ]
    },
    {
      "cell_type": "markdown",
      "source": [
        "## Save the model"
      ],
      "metadata": {
        "id": "YlbL3tW1_c_E"
      }
    },
    {
      "cell_type": "code",
      "source": [
        "os.makedirs('models', exist_ok=True)\n",
        "filename = \"models/\" + model_name + \"_\" + str(run_ID) + \"_\" + \"ep\" + str(epochs) + \"_\"\n",
        "if balance:\n",
        "    filename += \"balanced\"\n",
        "else:\n",
        "    filename += \"full\"\n",
        "filename += \".pt\"\n",
        "print(filename)\n",
        "torch.save(model, filename)"
      ],
      "metadata": {
        "colab": {
          "base_uri": "https://localhost:8080/"
        },
        "id": "ncTmQqs5_eka",
        "outputId": "cc0151b7-d76f-4925-e9c1-dea86afec48d"
      },
      "execution_count": null,
      "outputs": [
        {
          "output_type": "stream",
          "name": "stdout",
          "text": [
            "models/DeBERTa_4_ep3_full.pt\n"
          ]
        }
      ]
    },
    {
      "cell_type": "markdown",
      "source": [
        "# Validation\n",
        "\n",
        "Run validation to compare performance to the one reported in the Adept paper"
      ],
      "metadata": {
        "id": "pZNsz937oQgT"
      }
    },
    {
      "cell_type": "code",
      "source": [
        "dev_set_predictions, dev_set_proba = [], []\n",
        "\n",
        "for batch in tqdm(validation_dataloader):\n",
        "        b_input_ids = batch[0].to(device)\n",
        "        b_input_mask = batch[1].to(device)\n",
        "        b_labels = batch[2].to(device)\n",
        "\n",
        "        with torch.no_grad():\n",
        "            output = model(b_input_ids,\n",
        "                          token_type_ids=None,\n",
        "                          attention_mask=b_input_mask,\n",
        "                          labels=b_labels)\n",
        "        loss, logits = output.loss, output.logits\n",
        "\n",
        "        pred_proba = softmax(logits, dim=-1).detach().cpu().numpy()  # pred class probabilities\n",
        "        predictions = np.argmax(logits.detach().cpu().numpy(), axis=1).flatten()   # pred class labels\n",
        "        dev_set_predictions.append(predictions)\n",
        "        dev_set_proba.append(pred_proba)\n",
        "\n",
        "        del batch\n",
        "\n",
        "dev_set_predictions = np.concatenate(dev_set_predictions, axis=0)\n",
        "dev_set_proba = np.concatenate(dev_set_proba, axis=0)"
      ],
      "metadata": {
        "colab": {
          "base_uri": "https://localhost:8080/"
        },
        "id": "OnxdNtnvoZLz",
        "outputId": "95435bcc-1b00-4cab-efe4-7a1d743c9ffd"
      },
      "execution_count": null,
      "outputs": [
        {
          "output_type": "stream",
          "name": "stderr",
          "text": [
            "100%|██████████| 85/85 [00:06<00:00, 14.09it/s]\n"
          ]
        }
      ]
    },
    {
      "cell_type": "markdown",
      "source": [
        "# Testing\n",
        "\n",
        "Run the model on the test set for an final independent evaluation"
      ],
      "metadata": {
        "id": "nqNNLdi87baQ"
      }
    },
    {
      "cell_type": "code",
      "source": [
        "test_set_predictions, test_set_proba = [], []\n",
        "\n",
        "for batch in tqdm(test_dataloader):\n",
        "        b_input_ids = batch[0].to(device)\n",
        "        b_input_mask = batch[1].to(device)\n",
        "        b_labels = batch[2].to(device)\n",
        "\n",
        "        with torch.no_grad():\n",
        "            output = model(b_input_ids,\n",
        "                          token_type_ids=None,\n",
        "                          attention_mask=b_input_mask,\n",
        "                          labels=b_labels)\n",
        "        loss, logits = output.loss, output.logits\n",
        "\n",
        "        pred_proba = softmax(logits, dim=-1).detach().cpu().numpy()  # pred class probabilities\n",
        "        predictions = np.argmax(logits.detach().cpu().numpy(), axis=1).flatten()   # pred class labels\n",
        "        test_set_predictions.append(predictions)\n",
        "        test_set_proba.append(pred_proba)\n",
        "\n",
        "        del batch\n",
        "\n",
        "test_set_predictions = np.concatenate(test_set_predictions, axis=0)\n",
        "test_set_proba = np.concatenate(test_set_proba, axis=0)"
      ],
      "metadata": {
        "colab": {
          "base_uri": "https://localhost:8080/"
        },
        "outputId": "d297c037-16f9-4aa3-fe31-6023a44a0193",
        "id": "H4Eo1MW07baR"
      },
      "execution_count": null,
      "outputs": [
        {
          "output_type": "stream",
          "name": "stderr",
          "text": [
            "100%|██████████| 87/87 [00:06<00:00, 13.80it/s]\n"
          ]
        }
      ]
    },
    {
      "cell_type": "markdown",
      "source": [
        "# Plots & Statistics"
      ],
      "metadata": {
        "id": "JeJ0o3fRndhK"
      }
    },
    {
      "cell_type": "markdown",
      "source": [
        "The authors of the original ADEPT paper plot the confusion matrix to illustrate the performance on the development (validation) set (see p. 7124, fig. 2 & 3). To compare our results to theirs, we will plot a confusion matrix as well"
      ],
      "metadata": {
        "id": "D_rl3DNZn2pK"
      }
    },
    {
      "cell_type": "code",
      "source": [
        "# normalize='all' -- same as in Adept paper\n",
        "# normalize='true' -- normalize along rows\n",
        "norm_setting = 'true'\n",
        "\n",
        "dev_conf_matr = confusion_matrix(df[df['set'] == 'dev']['label'].to_list(), dev_set_predictions,\n",
        "                                 normalize=norm_setting)\n",
        "dev_conf_matr = pd.DataFrame(dev_conf_matr, columns=['Less likely', 'Equally likely', 'More likely'],\n",
        "                             index=['Less likely', 'Equally likely', 'More likely'])"
      ],
      "metadata": {
        "id": "-6Ivjiahn9aF"
      },
      "execution_count": null,
      "outputs": []
    },
    {
      "cell_type": "code",
      "source": [
        "sns.heatmap(dev_conf_matr, cmap='crest', annot=True, fmt=\".1%\");\n",
        "plt.title(f\"\"\"{model_name} for sequence classification fine tuned on comparison classes\n",
        "Run ID: {run_ID}; dev set\n",
        "(conf matrix normalize={norm_setting})\"\"\");\n",
        "plt.ylabel('Actual');\n",
        "plt.xlabel('Predicted');"
      ],
      "metadata": {
        "colab": {
          "base_uri": "https://localhost:8080/",
          "height": 460
        },
        "id": "68nwnNiUpriE",
        "outputId": "3f7b71e9-78e2-40da-b464-3c437ef4422a"
      },
      "execution_count": null,
      "outputs": [
        {
          "output_type": "display_data",
          "data": {
            "text/plain": [
              "<Figure size 800x400 with 2 Axes>"
            ],
            "image/png": "[encoded data removed]"
          },
          "metadata": {}
        }
      ]
    },
    {
      "cell_type": "markdown",
      "source": [
        "To otherwise evaluate the performance, we use macro F1 score, weighted F1 score and one-vs-all class-wise F1 scores"
      ],
      "metadata": {
        "id": "TcEiNUAAt7t0"
      }
    },
    {
      "cell_type": "code",
      "source": [
        "dev_labels = df[df['set'] == 'dev']['label'].to_list()\n",
        "test_labels = df[df['set'] == 'test']['label'].to_list()"
      ],
      "metadata": {
        "id": "4iAqmxvt9q6w"
      },
      "execution_count": null,
      "outputs": []
    },
    {
      "cell_type": "code",
      "source": [
        "macro_f1_dev = f1_score(dev_labels, dev_set_predictions, average='macro')\n",
        "macro_f1_test = f1_score(test_labels, test_set_predictions, average='macro')\n",
        "print(f'Dev set: macro F1 = {macro_f1_dev:.2f}')\n",
        "print(f'Test set: macro F1 = {macro_f1_test:.2f}')"
      ],
      "metadata": {
        "colab": {
          "base_uri": "https://localhost:8080/"
        },
        "id": "MS3M7hTjt9w9",
        "outputId": "09b0101f-c6af-4ff5-e0a4-c4f8632ef4f2"
      },
      "execution_count": null,
      "outputs": [
        {
          "output_type": "stream",
          "name": "stdout",
          "text": [
            "Dev set: macro F1 = 0.58\n",
            "Test set: macro F1 = 0.54\n"
          ]
        }
      ]
    },
    {
      "cell_type": "markdown",
      "source": [
        "Weighted F1"
      ],
      "metadata": {
        "id": "vWx8oc9p3mQa"
      }
    },
    {
      "cell_type": "code",
      "source": [
        "weighted_f1_dev = f1_score(dev_labels, dev_set_predictions, average='weighted')\n",
        "weighted_f1_test = f1_score(test_labels, test_set_predictions, average='weighted')\n",
        "print(f'Dev set: weighted F1 = {weighted_f1_dev:.2f}')\n",
        "print(f'Test set: weighted F1 = {weighted_f1_test:.2f}')"
      ],
      "metadata": {
        "colab": {
          "base_uri": "https://localhost:8080/"
        },
        "id": "qGRnCUtf3FY5",
        "outputId": "56b6a091-1e45-401e-8308-3bff4729c5f2"
      },
      "execution_count": null,
      "outputs": [
        {
          "output_type": "stream",
          "name": "stdout",
          "text": [
            "Dev set: weighted F1 = 0.79\n",
            "Test set: weighted F1 = 0.77\n"
          ]
        }
      ]
    },
    {
      "cell_type": "markdown",
      "source": [
        "F1 \"one vs all\" for each class"
      ],
      "metadata": {
        "id": "kX0mnu5RpfiU"
      }
    },
    {
      "cell_type": "code",
      "source": [
        "def f1_one_vs_all(true, pred, class_label):\n",
        "  true = [0 if v != class_label else 1 for v in true]\n",
        "  pred = [0 if v != class_label else 1 for v in pred]\n",
        "  return f1_score(true, pred)"
      ],
      "metadata": {
        "id": "w4Uqo_r0ptSp"
      },
      "execution_count": null,
      "outputs": []
    },
    {
      "cell_type": "code",
      "source": [
        "f1_less, f1_eq, f1_more = f1_one_vs_all(dev_labels, dev_set_predictions, class_label=0), \\\n",
        "                          f1_one_vs_all(dev_labels, dev_set_predictions, class_label=1), \\\n",
        "                          f1_one_vs_all(dev_labels, dev_set_predictions, class_label=2)\n",
        "f1_less, f1_eq, f1_more\n",
        "print(f\"\"\"Dev set: one-vs-all F1\n",
        "1 - Less likely: {f1_less:.2f}\n",
        "2 - Equally likely: {f1_eq:.2f}\n",
        "3 - More likely: {f1_more:.2f}\n",
        "\"\"\")\n",
        "\n",
        "f1_less, f1_eq, f1_more = f1_one_vs_all(test_labels, test_set_predictions, class_label=0), \\\n",
        "                          f1_one_vs_all(test_labels, test_set_predictions, class_label=1), \\\n",
        "                          f1_one_vs_all(test_labels, test_set_predictions, class_label=2)\n",
        "f1_less, f1_eq, f1_more\n",
        "print(f\"\"\"Test set: one-vs-all F1\n",
        "1 - Less likely: {f1_less:.2f}\n",
        "2 - Equally likely: {f1_eq:.2f}\n",
        "3 - More likely: {f1_more:.2f}\"\"\")"
      ],
      "metadata": {
        "colab": {
          "base_uri": "https://localhost:8080/"
        },
        "id": "xbbDHmR6pi6J",
        "outputId": "f855d58e-4606-4bd9-b880-289deb0ab7ed"
      },
      "execution_count": null,
      "outputs": [
        {
          "output_type": "stream",
          "name": "stdout",
          "text": [
            "Dev set: one-vs-all F1\n",
            "1 - Less likely: 0.50\n",
            "2 - Equally likely: 0.88\n",
            "3 - More likely: 0.35\n",
            "\n",
            "Test set: one-vs-all F1\n",
            "1 - Less likely: 0.42\n",
            "2 - Equally likely: 0.87\n",
            "3 - More likely: 0.32\n"
          ]
        }
      ]
    },
    {
      "cell_type": "markdown",
      "source": [
        "ROC-AUC One-Vs-One"
      ],
      "metadata": {
        "id": "YN7Cm_EoT7P0"
      }
    },
    {
      "cell_type": "code",
      "source": [
        "roc_auc_dev = roc_auc_score(dev_labels, dev_set_proba, average='macro', multi_class='ovo')\n",
        "roc_auc_test = roc_auc_score(test_labels, test_set_proba, average='macro', multi_class='ovo')\n",
        "\n",
        "print(f'Dev set: ROC-AUC = {roc_auc_dev:.2f}')\n",
        "print(f'Test set: ROC-AUC = {roc_auc_test:.2f}')"
      ],
      "metadata": {
        "colab": {
          "base_uri": "https://localhost:8080/"
        },
        "id": "ywOVrT4AUFy4",
        "outputId": "236699bf-9973-441d-e0ab-58ff5e81701c"
      },
      "execution_count": null,
      "outputs": [
        {
          "output_type": "stream",
          "name": "stdout",
          "text": [
            "Dev set: ROC-AUC = 0.80\n",
            "Test set: ROC-AUC = 0.77\n"
          ]
        }
      ]
    },
    {
      "cell_type": "markdown",
      "source": [
        "We will report and compare results obtained from different models in the final project documentaion"
      ],
      "metadata": {
        "id": "c0nSQGmT-Xeb"
      }
    }
  ]
}