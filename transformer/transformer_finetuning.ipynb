{
  "nbformat": 4,
  "nbformat_minor": 0,
  "metadata": {
    "colab": {
      "provenance": [],
      "toc_visible": true,
      "gpuType": "T4",
      "collapsed_sections": [
        "hkyqsxGN0Y1Q",
        "mJkbaaldeu2f",
        "3ghYHSbZ1lpH",
        "pZNsz937oQgT",
        "nqNNLdi87baQ",
        "JeJ0o3fRndhK",
        "RkGnOFFr0ysN"
      ]
    },
    "kernelspec": {
      "name": "python3",
      "display_name": "Python 3"
    },
    "language_info": {
      "name": "python"
    },
    "accelerator": "GPU"
  },
  "cells": [
    {
      "cell_type": "markdown",
      "source": [
        "# Introduction\n",
        "\n",
        "In this notebook, we **fine-tune and test** **pre-trained large language models on the ADEPT dataset**.\n",
        "\n",
        "ADEPT dataset: https://aclanthology.org/2021.acl-long.553/\n",
        "\n",
        "Models:\n",
        "* BERT: https://huggingface.co/docs/transformers/model_doc/bert\n",
        "* DeBERTa: https://huggingface.co/docs/transformers/model_doc/deberta\n",
        "* RoBERTa: https://huggingface.co/docs/transformers/model_doc/roberta\n",
        "* MPNet: https://huggingface.co/sentence-transformers/all-mpnet-base-v2\n",
        "\n",
        "To keep it brief, we are going to demonstrate the fine-tuning and testing process on **RoBERTa** only as it showed the best performance out of the models we tried. However, the code can also easily be run on the other models. It will be shown below how to do that."
      ],
      "metadata": {
        "id": "ycKlaincaDG0"
      }
    },
    {
      "cell_type": "markdown",
      "source": [
        "# Setup\n",
        "\n",
        "The prerequisites to running the code are as follows:\n",
        "\n",
        "1. Having all dependencies installed. This should have been achieved once you ran `pip install -r requirements.txt` and it finished successfully\n",
        "\n",
        "2. Having the `datasets` folder with its contents stored in the same directory as this notebook. This should have been achieved when you cloned the repository to your local system"
      ],
      "metadata": {
        "id": "kmcypoWk0F1s"
      }
    },
    {
      "cell_type": "markdown",
      "source": [
        "Import dependencies"
      ],
      "metadata": {
        "id": "GD5wf3KeeQVK"
      }
    },
    {
      "cell_type": "code",
      "execution_count": null,
      "metadata": {
        "id": "9lTVjC1_Tg6b"
      },
      "outputs": [],
      "source": [
        "import pandas as pd\n",
        "import numpy as np\n",
        "from tqdm import tqdm\n",
        "from typing import Tuple\n",
        "import random\n",
        "import os\n",
        "\n",
        "import matplotlib.pyplot as plt\n",
        "import seaborn as sns\n",
        "sns.set_theme()\n",
        "\n",
        "import torch\n",
        "from torch.utils.data import TensorDataset, DataLoader, RandomSampler, SequentialSampler\n",
        "from torch.nn.functional import softmax\n",
        "\n",
        "from sklearn.metrics import confusion_matrix, f1_score, roc_auc_score"
      ]
    },
    {
      "cell_type": "markdown",
      "source": [
        "Choose model name"
      ],
      "metadata": {
        "id": "jQbryrp1gSFI"
      }
    },
    {
      "cell_type": "code",
      "source": [
        "# switch model here: BERT, DeBERTa, RoBERTa, MPNet\n",
        "model_name = \"MPNet\"\n",
        "\n",
        "run_ID = 18  # to identify the results later"
      ],
      "metadata": {
        "id": "apK4VnIzgREJ"
      },
      "execution_count": null,
      "outputs": []
    },
    {
      "cell_type": "markdown",
      "source": [
        "Set random seed values for reproducibility"
      ],
      "metadata": {
        "id": "xghORKo-PnW9"
      }
    },
    {
      "cell_type": "code",
      "source": [
        "seed_val = 17  # 42, 17, 6\n",
        "\n",
        "random.seed(seed_val)\n",
        "np.random.seed(seed_val)\n",
        "torch.manual_seed(seed_val)\n",
        "torch.cuda.manual_seed_all(seed_val)"
      ],
      "metadata": {
        "id": "iWDLeBDrPmps"
      },
      "execution_count": null,
      "outputs": []
    },
    {
      "cell_type": "markdown",
      "source": [
        "Time formatting function"
      ],
      "metadata": {
        "id": "wQ5ppVxvPZ5F"
      }
    },
    {
      "cell_type": "code",
      "source": [
        "import time\n",
        "import datetime\n",
        "\n",
        "def format_time(elapsed):\n",
        "    '''\n",
        "    Takes a time in seconds and returns a string hh:mm:ss\n",
        "    '''\n",
        "    # Round to the nearest second.\n",
        "    elapsed_rounded = int(round((elapsed)))\n",
        "\n",
        "    # Format as hh:mm:ss\n",
        "    return str(datetime.timedelta(seconds=elapsed_rounded))"
      ],
      "metadata": {
        "id": "145_bvIlMo2M"
      },
      "execution_count": null,
      "outputs": []
    },
    {
      "cell_type": "markdown",
      "source": [
        "Introduce GPU"
      ],
      "metadata": {
        "id": "ISrPk7CmUEU8"
      }
    },
    {
      "cell_type": "code",
      "source": [
        "device = torch.device('cuda') if torch.cuda.is_available() else torch.device('cpu')\n",
        "device"
      ],
      "metadata": {
        "colab": {
          "base_uri": "https://localhost:8080/"
        },
        "id": "52gn07RRUGhp",
        "outputId": "776b72bd-9286-456a-f25c-b7cd7d8118f5"
      },
      "execution_count": null,
      "outputs": [
        {
          "output_type": "execute_result",
          "data": {
            "text/plain": [
              "device(type='cuda')"
            ]
          },
          "metadata": {},
          "execution_count": 5
        }
      ]
    },
    {
      "cell_type": "code",
      "source": [
        "from google.colab import drive\n",
        "drive.mount('/content/drive')"
      ],
      "metadata": {
        "colab": {
          "base_uri": "https://localhost:8080/"
        },
        "id": "fsKduiJqeH9t",
        "outputId": "9b9c0f05-7968-4e23-f739-236df704ff32"
      },
      "execution_count": null,
      "outputs": [
        {
          "output_type": "stream",
          "name": "stdout",
          "text": [
            "Mounted at /content/drive\n"
          ]
        }
      ]
    },
    {
      "cell_type": "code",
      "source": [
        "# mount = '/content/drive/MyDrive/Uni Stuttgart/Plausibility'\n",
        "mount = '..'"
      ],
      "metadata": {
        "id": "BuLv5gKSeR-H"
      },
      "execution_count": null,
      "outputs": []
    },
    {
      "cell_type": "markdown",
      "source": [
        "# Read the data"
      ],
      "metadata": {
        "id": "hkyqsxGN0Y1Q"
      }
    },
    {
      "cell_type": "code",
      "execution_count": null,
      "metadata": {
        "id": "SE4g4J_2zsDp"
      },
      "outputs": [],
      "source": [
        "train = pd.read_json(f'{mount}/datasets/adept/train-dev-test-split/train.json')\n",
        "dev = pd.read_json(f'{mount}/datasets/adept/train-dev-test-split/val.json')\n",
        "test = pd.read_json(f'{mount}/datasets/adept/train-dev-test-split/test.json')\n",
        "\n",
        "train['set'] = 'train'\n",
        "dev['set'] = 'dev'\n",
        "test['set'] = 'test'\n",
        "df = pd.concat([train, dev, test])"
      ]
    },
    {
      "cell_type": "code",
      "source": [
        "df.head()"
      ],
      "metadata": {
        "colab": {
          "base_uri": "https://localhost:8080/"
        },
        "id": "I4216VEZ07rT",
        "outputId": "d33a43f3-2823-435a-e160-30dd1d9e1bee"
      },
      "execution_count": null,
      "outputs": [
        {
          "output_type": "execute_result",
          "data": {
            "text/plain": [
              "                                 sentence1  \\\n",
              "0  The effect of sleeping is rejuvenation.   \n",
              "1        A toothbrush is for fresh breath.   \n",
              "2                      A scene is painted.   \n",
              "3                   A bone breaks a tooth.   \n",
              "4               A trip causes a happening.   \n",
              "\n",
              "                                           sentence2    modifier        noun  \\\n",
              "0  The effect of additional sleeping is rejuvenat...  additional    sleeping   \n",
              "1          A regular toothbrush is for fresh breath.     regular  toothbrush   \n",
              "2                       A negative scene is painted.    negative       scene   \n",
              "3                    An alleged bone breaks a tooth.     alleged        bone   \n",
              "4                A fabulous trip causes a happening.    fabulous        trip   \n",
              "\n",
              "   label    idx    set  \n",
              "0      3  13484  train  \n",
              "1      2   2620  train  \n",
              "2      2   3324  train  \n",
              "3      2  10610  train  \n",
              "4      2  14917  train  "
            ],
            "text/html": [
              "\n",
              "  <div id=\"df-d2827986-f2ab-40c3-b479-9180498d66dd\" class=\"colab-df-container\">\n",
              "    <div>\n",
              "<style scoped>\n",
              "    .dataframe tbody tr th:only-of-type {\n",
              "        vertical-align: middle;\n",
              "    }\n",
              "\n",
              "    .dataframe tbody tr th {\n",
              "        vertical-align: top;\n",
              "    }\n",
              "\n",
              "    .dataframe thead th {\n",
              "        text-align: right;\n",
              "    }\n",
              "</style>\n",
              "<table border=\"1\" class=\"dataframe\">\n",
              "  <thead>\n",
              "    <tr style=\"text-align: right;\">\n",
              "      <th></th>\n",
              "      <th>sentence1</th>\n",
              "      <th>sentence2</th>\n",
              "      <th>modifier</th>\n",
              "      <th>noun</th>\n",
              "      <th>label</th>\n",
              "      <th>idx</th>\n",
              "      <th>set</th>\n",
              "    </tr>\n",
              "  </thead>\n",
              "  <tbody>\n",
              "    <tr>\n",
              "      <th>0</th>\n",
              "      <td>The effect of sleeping is rejuvenation.</td>\n",
              "      <td>The effect of additional sleeping is rejuvenat...</td>\n",
              "      <td>additional</td>\n",
              "      <td>sleeping</td>\n",
              "      <td>3</td>\n",
              "      <td>13484</td>\n",
              "      <td>train</td>\n",
              "    </tr>\n",
              "    <tr>\n",
              "      <th>1</th>\n",
              "      <td>A toothbrush is for fresh breath.</td>\n",
              "      <td>A regular toothbrush is for fresh breath.</td>\n",
              "      <td>regular</td>\n",
              "      <td>toothbrush</td>\n",
              "      <td>2</td>\n",
              "      <td>2620</td>\n",
              "      <td>train</td>\n",
              "    </tr>\n",
              "    <tr>\n",
              "      <th>2</th>\n",
              "      <td>A scene is painted.</td>\n",
              "      <td>A negative scene is painted.</td>\n",
              "      <td>negative</td>\n",
              "      <td>scene</td>\n",
              "      <td>2</td>\n",
              "      <td>3324</td>\n",
              "      <td>train</td>\n",
              "    </tr>\n",
              "    <tr>\n",
              "      <th>3</th>\n",
              "      <td>A bone breaks a tooth.</td>\n",
              "      <td>An alleged bone breaks a tooth.</td>\n",
              "      <td>alleged</td>\n",
              "      <td>bone</td>\n",
              "      <td>2</td>\n",
              "      <td>10610</td>\n",
              "      <td>train</td>\n",
              "    </tr>\n",
              "    <tr>\n",
              "      <th>4</th>\n",
              "      <td>A trip causes a happening.</td>\n",
              "      <td>A fabulous trip causes a happening.</td>\n",
              "      <td>fabulous</td>\n",
              "      <td>trip</td>\n",
              "      <td>2</td>\n",
              "      <td>14917</td>\n",
              "      <td>train</td>\n",
              "    </tr>\n",
              "  </tbody>\n",
              "</table>\n",
              "</div>\n",
              "    <div class=\"colab-df-buttons\">\n",
              "\n",
              "  <div class=\"colab-df-container\">\n",
              "    <button class=\"colab-df-convert\" onclick=\"convertToInteractive('df-d2827986-f2ab-40c3-b479-9180498d66dd')\"\n",
              "            title=\"Convert this dataframe to an interactive table.\"\n",
              "            style=\"display:none;\">\n",
              "\n",
              "  <svg xmlns=\"http://www.w3.org/2000/svg\" height=\"24px\" viewBox=\"0 -960 960 960\">\n",
              "    <path d=\"M120-120v-720h720v720H120Zm60-500h600v-160H180v160Zm220 220h160v-160H400v160Zm0 220h160v-160H400v160ZM180-400h160v-160H180v160Zm440 0h160v-160H620v160ZM180-180h160v-160H180v160Zm440 0h160v-160H620v160Z\"/>\n",
              "  </svg>\n",
              "    </button>\n",
              "\n",
              "  <style>\n",
              "    .colab-df-container {\n",
              "      display:flex;\n",
              "      gap: 12px;\n",
              "    }\n",
              "\n",
              "    .colab-df-convert {\n",
              "      background-color: #E8F0FE;\n",
              "      border: none;\n",
              "      border-radius: 50%;\n",
              "      cursor: pointer;\n",
              "      display: none;\n",
              "      fill: #1967D2;\n",
              "      height: 32px;\n",
              "      padding: 0 0 0 0;\n",
              "      width: 32px;\n",
              "    }\n",
              "\n",
              "    .colab-df-convert:hover {\n",
              "      background-color: #E2EBFA;\n",
              "      box-shadow: 0px 1px 2px rgba(60, 64, 67, 0.3), 0px 1px 3px 1px rgba(60, 64, 67, 0.15);\n",
              "      fill: #174EA6;\n",
              "    }\n",
              "\n",
              "    .colab-df-buttons div {\n",
              "      margin-bottom: 4px;\n",
              "    }\n",
              "\n",
              "    [theme=dark] .colab-df-convert {\n",
              "      background-color: #3B4455;\n",
              "      fill: #D2E3FC;\n",
              "    }\n",
              "\n",
              "    [theme=dark] .colab-df-convert:hover {\n",
              "      background-color: #434B5C;\n",
              "      box-shadow: 0px 1px 3px 1px rgba(0, 0, 0, 0.15);\n",
              "      filter: drop-shadow(0px 1px 2px rgba(0, 0, 0, 0.3));\n",
              "      fill: #FFFFFF;\n",
              "    }\n",
              "  </style>\n",
              "\n",
              "    <script>\n",
              "      const buttonEl =\n",
              "        document.querySelector('#df-d2827986-f2ab-40c3-b479-9180498d66dd button.colab-df-convert');\n",
              "      buttonEl.style.display =\n",
              "        google.colab.kernel.accessAllowed ? 'block' : 'none';\n",
              "\n",
              "      async function convertToInteractive(key) {\n",
              "        const element = document.querySelector('#df-d2827986-f2ab-40c3-b479-9180498d66dd');\n",
              "        const dataTable =\n",
              "          await google.colab.kernel.invokeFunction('convertToInteractive',\n",
              "                                                    [key], {});\n",
              "        if (!dataTable) return;\n",
              "\n",
              "        const docLinkHtml = 'Like what you see? Visit the ' +\n",
              "          '<a target=\"_blank\" href=https://colab.research.google.com/notebooks/data_table.ipynb>data table notebook</a>'\n",
              "          + ' to learn more about interactive tables.';\n",
              "        element.innerHTML = '';\n",
              "        dataTable['output_type'] = 'display_data';\n",
              "        await google.colab.output.renderOutput(dataTable, element);\n",
              "        const docLink = document.createElement('div');\n",
              "        docLink.innerHTML = docLinkHtml;\n",
              "        element.appendChild(docLink);\n",
              "      }\n",
              "    </script>\n",
              "  </div>\n",
              "\n",
              "\n",
              "<div id=\"df-0a99be2a-2232-4b88-a166-7739d73b36bd\">\n",
              "  <button class=\"colab-df-quickchart\" onclick=\"quickchart('df-0a99be2a-2232-4b88-a166-7739d73b36bd')\"\n",
              "            title=\"Suggest charts\"\n",
              "            style=\"display:none;\">\n",
              "\n",
              "<svg xmlns=\"http://www.w3.org/2000/svg\" height=\"24px\"viewBox=\"0 0 24 24\"\n",
              "     width=\"24px\">\n",
              "    <g>\n",
              "        <path d=\"M19 3H5c-1.1 0-2 .9-2 2v14c0 1.1.9 2 2 2h14c1.1 0 2-.9 2-2V5c0-1.1-.9-2-2-2zM9 17H7v-7h2v7zm4 0h-2V7h2v10zm4 0h-2v-4h2v4z\"/>\n",
              "    </g>\n",
              "</svg>\n",
              "  </button>\n",
              "\n",
              "<style>\n",
              "  .colab-df-quickchart {\n",
              "      --bg-color: #E8F0FE;\n",
              "      --fill-color: #1967D2;\n",
              "      --hover-bg-color: #E2EBFA;\n",
              "      --hover-fill-color: #174EA6;\n",
              "      --disabled-fill-color: #AAA;\n",
              "      --disabled-bg-color: #DDD;\n",
              "  }\n",
              "\n",
              "  [theme=dark] .colab-df-quickchart {\n",
              "      --bg-color: #3B4455;\n",
              "      --fill-color: #D2E3FC;\n",
              "      --hover-bg-color: #434B5C;\n",
              "      --hover-fill-color: #FFFFFF;\n",
              "      --disabled-bg-color: #3B4455;\n",
              "      --disabled-fill-color: #666;\n",
              "  }\n",
              "\n",
              "  .colab-df-quickchart {\n",
              "    background-color: var(--bg-color);\n",
              "    border: none;\n",
              "    border-radius: 50%;\n",
              "    cursor: pointer;\n",
              "    display: none;\n",
              "    fill: var(--fill-color);\n",
              "    height: 32px;\n",
              "    padding: 0;\n",
              "    width: 32px;\n",
              "  }\n",
              "\n",
              "  .colab-df-quickchart:hover {\n",
              "    background-color: var(--hover-bg-color);\n",
              "    box-shadow: 0 1px 2px rgba(60, 64, 67, 0.3), 0 1px 3px 1px rgba(60, 64, 67, 0.15);\n",
              "    fill: var(--button-hover-fill-color);\n",
              "  }\n",
              "\n",
              "  .colab-df-quickchart-complete:disabled,\n",
              "  .colab-df-quickchart-complete:disabled:hover {\n",
              "    background-color: var(--disabled-bg-color);\n",
              "    fill: var(--disabled-fill-color);\n",
              "    box-shadow: none;\n",
              "  }\n",
              "\n",
              "  .colab-df-spinner {\n",
              "    border: 2px solid var(--fill-color);\n",
              "    border-color: transparent;\n",
              "    border-bottom-color: var(--fill-color);\n",
              "    animation:\n",
              "      spin 1s steps(1) infinite;\n",
              "  }\n",
              "\n",
              "  @keyframes spin {\n",
              "    0% {\n",
              "      border-color: transparent;\n",
              "      border-bottom-color: var(--fill-color);\n",
              "      border-left-color: var(--fill-color);\n",
              "    }\n",
              "    20% {\n",
              "      border-color: transparent;\n",
              "      border-left-color: var(--fill-color);\n",
              "      border-top-color: var(--fill-color);\n",
              "    }\n",
              "    30% {\n",
              "      border-color: transparent;\n",
              "      border-left-color: var(--fill-color);\n",
              "      border-top-color: var(--fill-color);\n",
              "      border-right-color: var(--fill-color);\n",
              "    }\n",
              "    40% {\n",
              "      border-color: transparent;\n",
              "      border-right-color: var(--fill-color);\n",
              "      border-top-color: var(--fill-color);\n",
              "    }\n",
              "    60% {\n",
              "      border-color: transparent;\n",
              "      border-right-color: var(--fill-color);\n",
              "    }\n",
              "    80% {\n",
              "      border-color: transparent;\n",
              "      border-right-color: var(--fill-color);\n",
              "      border-bottom-color: var(--fill-color);\n",
              "    }\n",
              "    90% {\n",
              "      border-color: transparent;\n",
              "      border-bottom-color: var(--fill-color);\n",
              "    }\n",
              "  }\n",
              "</style>\n",
              "\n",
              "  <script>\n",
              "    async function quickchart(key) {\n",
              "      const quickchartButtonEl =\n",
              "        document.querySelector('#' + key + ' button');\n",
              "      quickchartButtonEl.disabled = true;  // To prevent multiple clicks.\n",
              "      quickchartButtonEl.classList.add('colab-df-spinner');\n",
              "      try {\n",
              "        const charts = await google.colab.kernel.invokeFunction(\n",
              "            'suggestCharts', [key], {});\n",
              "      } catch (error) {\n",
              "        console.error('Error during call to suggestCharts:', error);\n",
              "      }\n",
              "      quickchartButtonEl.classList.remove('colab-df-spinner');\n",
              "      quickchartButtonEl.classList.add('colab-df-quickchart-complete');\n",
              "    }\n",
              "    (() => {\n",
              "      let quickchartButtonEl =\n",
              "        document.querySelector('#df-0a99be2a-2232-4b88-a166-7739d73b36bd button');\n",
              "      quickchartButtonEl.style.display =\n",
              "        google.colab.kernel.accessAllowed ? 'block' : 'none';\n",
              "    })();\n",
              "  </script>\n",
              "</div>\n",
              "    </div>\n",
              "  </div>\n"
            ],
            "application/vnd.google.colaboratory.intrinsic+json": {
              "type": "dataframe",
              "variable_name": "df",
              "summary": "{\n  \"name\": \"df\",\n  \"rows\": 16115,\n  \"fields\": [\n    {\n      \"column\": \"sentence1\",\n      \"properties\": {\n        \"dtype\": \"string\",\n        \"num_unique_values\": 14853,\n        \"samples\": [\n          \"A mug has a handle.\",\n          \"A bidet is found in expensive hotel rooms.\",\n          \"Everyone is afraid of something.\"\n        ],\n        \"semantic_type\": \"\",\n        \"description\": \"\"\n      }\n    },\n    {\n      \"column\": \"sentence2\",\n      \"properties\": {\n        \"dtype\": \"string\",\n        \"num_unique_values\": 16102,\n        \"samples\": [\n          \"Basic lettuce is made of water.\",\n          \"Financial infidelity divides spouses.\",\n          \"That potential win evens up the score.\"\n        ],\n        \"semantic_type\": \"\",\n        \"description\": \"\"\n      }\n    },\n    {\n      \"column\": \"modifier\",\n      \"properties\": {\n        \"dtype\": \"category\",\n        \"num_unique_values\": 3151,\n        \"samples\": [\n          \"textile\",\n          \"deranged\",\n          \"glacial\"\n        ],\n        \"semantic_type\": \"\",\n        \"description\": \"\"\n      }\n    },\n    {\n      \"column\": \"noun\",\n      \"properties\": {\n        \"dtype\": \"category\",\n        \"num_unique_values\": 2942,\n        \"samples\": [\n          \"switch\",\n          \"village\",\n          \"neon\"\n        ],\n        \"semantic_type\": \"\",\n        \"description\": \"\"\n      }\n    },\n    {\n      \"column\": \"label\",\n      \"properties\": {\n        \"dtype\": \"number\",\n        \"std\": 0,\n        \"min\": 0,\n        \"max\": 4,\n        \"num_unique_values\": 5,\n        \"samples\": [\n          2,\n          4,\n          1\n        ],\n        \"semantic_type\": \"\",\n        \"description\": \"\"\n      }\n    },\n    {\n      \"column\": \"idx\",\n      \"properties\": {\n        \"dtype\": \"number\",\n        \"std\": 4652,\n        \"min\": 0,\n        \"max\": 16114,\n        \"num_unique_values\": 16115,\n        \"samples\": [\n          6684,\n          14416,\n          3751\n        ],\n        \"semantic_type\": \"\",\n        \"description\": \"\"\n      }\n    },\n    {\n      \"column\": \"set\",\n      \"properties\": {\n        \"dtype\": \"category\",\n        \"num_unique_values\": 3,\n        \"samples\": [\n          \"train\",\n          \"dev\",\n          \"test\"\n        ],\n        \"semantic_type\": \"\",\n        \"description\": \"\"\n      }\n    }\n  ]\n}"
            }
          },
          "metadata": {},
          "execution_count": 161
        }
      ]
    },
    {
      "cell_type": "code",
      "source": [
        "df['set'].value_counts()"
      ],
      "metadata": {
        "colab": {
          "base_uri": "https://localhost:8080/"
        },
        "id": "PGylXrusOEjN",
        "outputId": "310721d5-b0b6-4547-9231-99b9098ea152"
      },
      "execution_count": null,
      "outputs": [
        {
          "output_type": "execute_result",
          "data": {
            "text/plain": [
              "train    12892\n",
              "test      1612\n",
              "dev       1611\n",
              "Name: set, dtype: int64"
            ]
          },
          "metadata": {},
          "execution_count": 162
        }
      ]
    },
    {
      "cell_type": "markdown",
      "source": [
        "Only keep label classes 1, 2 and 3 (comparison labels). Map them to 0, 1 and 2 for training convenience:\n",
        "\n",
        "* 1 => 0\n",
        "* 2 => 1\n",
        "* 3 => 2"
      ],
      "metadata": {
        "id": "w4oLUaj1NWXL"
      }
    },
    {
      "cell_type": "code",
      "source": [
        "df = df[df['label'].isin([1, 2, 3])]\n",
        "df['label'].value_counts()"
      ],
      "metadata": {
        "colab": {
          "base_uri": "https://localhost:8080/"
        },
        "id": "1afKI0w9NgKF",
        "outputId": "c54632bf-54d8-41c2-bb48-578ce0ab96b3"
      },
      "execution_count": null,
      "outputs": [
        {
          "output_type": "execute_result",
          "data": {
            "text/plain": [
              "2    10805\n",
              "1     1868\n",
              "3     1132\n",
              "Name: label, dtype: int64"
            ]
          },
          "metadata": {},
          "execution_count": 163
        }
      ]
    },
    {
      "cell_type": "code",
      "source": [
        "df['label'] -= 1\n",
        "df['label'].value_counts()"
      ],
      "metadata": {
        "colab": {
          "base_uri": "https://localhost:8080/"
        },
        "id": "7X8GSft9Xurn",
        "outputId": "7e8324d8-a92f-4f8b-d006-a51ba9b25165"
      },
      "execution_count": null,
      "outputs": [
        {
          "output_type": "stream",
          "name": "stderr",
          "text": [
            "<ipython-input-164-96d3525c74d0>:1: SettingWithCopyWarning: \n",
            "A value is trying to be set on a copy of a slice from a DataFrame.\n",
            "Try using .loc[row_indexer,col_indexer] = value instead\n",
            "\n",
            "See the caveats in the documentation: https://pandas.pydata.org/pandas-docs/stable/user_guide/indexing.html#returning-a-view-versus-a-copy\n",
            "  df['label'] -= 1\n"
          ]
        },
        {
          "output_type": "execute_result",
          "data": {
            "text/plain": [
              "1    10805\n",
              "0     1868\n",
              "2     1132\n",
              "Name: label, dtype: int64"
            ]
          },
          "metadata": {},
          "execution_count": 164
        }
      ]
    },
    {
      "cell_type": "markdown",
      "source": [
        "Filter out duplicated data points"
      ],
      "metadata": {
        "id": "o9a6d1ya0i8o"
      }
    },
    {
      "cell_type": "code",
      "source": [
        "df = df.drop_duplicates(subset=['sentence2'], keep='first')\n",
        "df['label'].value_counts()"
      ],
      "metadata": {
        "colab": {
          "base_uri": "https://localhost:8080/"
        },
        "id": "5lF3RoGX0tqI",
        "outputId": "a6f48dd5-1830-457b-d023-5a378c670bd7"
      },
      "execution_count": null,
      "outputs": [
        {
          "output_type": "execute_result",
          "data": {
            "text/plain": [
              "1    10800\n",
              "0     1866\n",
              "2     1129\n",
              "Name: label, dtype: int64"
            ]
          },
          "metadata": {},
          "execution_count": 165
        }
      ]
    },
    {
      "cell_type": "code",
      "source": [
        "train = df[df['set'] == 'train']\n",
        "dev = df[df['set'] == 'dev']\n",
        "test = df[df['set'] == 'test']"
      ],
      "metadata": {
        "id": "hGipyS5KVq6G"
      },
      "execution_count": null,
      "outputs": []
    },
    {
      "cell_type": "markdown",
      "source": [
        "# Class balance"
      ],
      "metadata": {
        "id": "mJkbaaldeu2f"
      }
    },
    {
      "cell_type": "code",
      "source": [
        "train['label'].value_counts()"
      ],
      "metadata": {
        "colab": {
          "base_uri": "https://localhost:8080/"
        },
        "id": "L8vAak_iV1-r",
        "outputId": "cb00c5a5-ad15-4f05-ab89-28c2e4d456ba"
      },
      "execution_count": null,
      "outputs": [
        {
          "output_type": "execute_result",
          "data": {
            "text/plain": [
              "1    8631\n",
              "0    1503\n",
              "2     926\n",
              "Name: label, dtype: int64"
            ]
          },
          "metadata": {},
          "execution_count": 167
        }
      ]
    },
    {
      "cell_type": "markdown",
      "source": [
        "The training data is heavily skewed towards class 1. As an option, we can balance the training data by randomly sampling 1500 examples from this class instead of using all of its samples"
      ],
      "metadata": {
        "id": "JlU8bYtXNvuW"
      }
    },
    {
      "cell_type": "code",
      "source": [
        "balance = False  # set to True to balance training data\n",
        "\n",
        "if balance:\n",
        "  train = pd.concat([\n",
        "      train[train['label'].isin([0, 2])],\n",
        "      train[train['label'] == 1].sample(1500, random_state=seed_val)\n",
        "  ])\n",
        "train['label'].value_counts()"
      ],
      "metadata": {
        "colab": {
          "base_uri": "https://localhost:8080/"
        },
        "id": "Wzxn1y6CNxL-",
        "outputId": "bcd767a5-7474-4aa1-ad6f-869763f069e3"
      },
      "execution_count": null,
      "outputs": [
        {
          "output_type": "execute_result",
          "data": {
            "text/plain": [
              "1    8631\n",
              "0    1503\n",
              "2     926\n",
              "Name: label, dtype: int64"
            ]
          },
          "metadata": {},
          "execution_count": 168
        }
      ]
    },
    {
      "cell_type": "code",
      "source": [
        "train.shape"
      ],
      "metadata": {
        "colab": {
          "base_uri": "https://localhost:8080/"
        },
        "id": "aYHgXbm-UwC6",
        "outputId": "78a78e3a-bd54-4ce2-bac9-0031859df4bf"
      },
      "execution_count": null,
      "outputs": [
        {
          "output_type": "execute_result",
          "data": {
            "text/plain": [
              "(11060, 7)"
            ]
          },
          "metadata": {},
          "execution_count": 169
        }
      ]
    },
    {
      "cell_type": "code",
      "source": [
        "df = pd.concat([train, dev, test])\n",
        "df.reset_index(inplace=True, drop=True)\n",
        "df.shape"
      ],
      "metadata": {
        "colab": {
          "base_uri": "https://localhost:8080/"
        },
        "id": "neCprKbTWRae",
        "outputId": "1cea74ed-e2f1-4775-d1e2-b8e46f199d00"
      },
      "execution_count": null,
      "outputs": [
        {
          "output_type": "execute_result",
          "data": {
            "text/plain": [
              "(13795, 7)"
            ]
          },
          "metadata": {},
          "execution_count": 170
        }
      ]
    },
    {
      "cell_type": "markdown",
      "source": [
        "# Tokenization"
      ],
      "metadata": {
        "id": "3ghYHSbZ1lpH"
      }
    },
    {
      "cell_type": "markdown",
      "source": [
        "Our text input for the model will be sentence1 and sentence2 concatenated. Let's generate that input"
      ],
      "metadata": {
        "id": "NnqnutO85iXm"
      }
    },
    {
      "cell_type": "code",
      "source": [
        "df['sent_concat'] = df.apply(lambda row: row['sentence1'] + ' ' + row['sentence2'], axis=1)"
      ],
      "metadata": {
        "id": "yZ5XN78L5SzB"
      },
      "execution_count": null,
      "outputs": []
    },
    {
      "cell_type": "markdown",
      "source": [
        "Now we need to load the tokenizer to prepare the model input"
      ],
      "metadata": {
        "id": "wKnmqAsDfkFo"
      }
    },
    {
      "cell_type": "code",
      "source": [
        "match model_name:\n",
        "    case \"BERT\":\n",
        "        from transformers import BertTokenizer\n",
        "        tokenizer = BertTokenizer.from_pretrained('bert-base-uncased', do_lower_case=True)\n",
        "    case \"DeBERTa\":\n",
        "        from transformers import DebertaTokenizer\n",
        "        tokenizer = DebertaTokenizer.from_pretrained('microsoft/deberta-base')\n",
        "    case \"RoBERTa\":\n",
        "        from transformers import RobertaTokenizer\n",
        "        tokenizer = RobertaTokenizer.from_pretrained('roberta-base')\n",
        "    case \"MPNet\":\n",
        "        from transformers import MPNetTokenizer\n",
        "        tokenizer = MPNetTokenizer.from_pretrained(\"microsoft/mpnet-base\")\n",
        "    case _:\n",
        "        from transformers import BertTokenizer\n",
        "        tokenizer = BertTokenizer.from_pretrained('bert-base-uncased', do_lower_case=True)"
      ],
      "metadata": {
        "id": "xk-lFpR2fqD8"
      },
      "execution_count": null,
      "outputs": []
    },
    {
      "cell_type": "markdown",
      "source": [
        "Now let's calculate max input document length in tokens"
      ],
      "metadata": {
        "id": "-wFpAD1Q2knP"
      }
    },
    {
      "cell_type": "code",
      "source": [
        "max_len = 0\n",
        "for doc in df['sent_concat']:\n",
        "    input_ids = tokenizer.encode(doc, add_special_tokens=True)\n",
        "    max_len = max(max_len, len(input_ids))\n",
        "max_len"
      ],
      "metadata": {
        "id": "vf5WR1e41lAh"
      },
      "execution_count": null,
      "outputs": []
    },
    {
      "cell_type": "markdown",
      "source": [
        "Our input to the BERT model will be formatted as follows:\n",
        "> `[CLS] sentence1 [SEP] sentence2 [SEP] `\n",
        "\n",
        "Seeing that the maximum document length is 46 tokens, we will set the max length hyperparameter to 64\n",
        "\n"
      ],
      "metadata": {
        "id": "wJYYsiLx27lU"
      }
    },
    {
      "cell_type": "markdown",
      "source": [
        "Tokenization function"
      ],
      "metadata": {
        "id": "5f1Ex2_D3oCH"
      }
    },
    {
      "cell_type": "code",
      "source": [
        "def tokenize(input_text: list[str], with_tqdm=True) -> Tuple[torch.Tensor, torch.Tensor]:\n",
        "  input_ids = []\n",
        "  attention_masks = []\n",
        "\n",
        "  iterator = tqdm(input_text) if with_tqdm else input_text\n",
        "  for doc in iterator:\n",
        "      encoded_dict = tokenizer.encode_plus(\n",
        "                          doc,                       # Document to encode.\n",
        "                          add_special_tokens = True, # Add '[CLS]' and '[SEP]'\n",
        "                          max_length = 64,           # Pad & truncate all sentences.\n",
        "                          padding = 'max_length',\n",
        "                          return_attention_mask = True,   # Construct attention masks.\n",
        "                          return_tensors = 'pt',     # Return pytorch tensors.\n",
        "                    )\n",
        "\n",
        "      input_ids.append(encoded_dict['input_ids'])\n",
        "      attention_masks.append(encoded_dict['attention_mask'])\n",
        "\n",
        "  input_ids = torch.cat(input_ids, dim=0)\n",
        "  attention_masks = torch.cat(attention_masks, dim=0)\n",
        "  return input_ids, attention_masks"
      ],
      "metadata": {
        "id": "XdVon-sC3plD"
      },
      "execution_count": null,
      "outputs": []
    },
    {
      "cell_type": "markdown",
      "source": [
        "Apply the tokenization function to the data"
      ],
      "metadata": {
        "id": "O5cm7v8t_aFq"
      }
    },
    {
      "cell_type": "code",
      "source": [
        "# train\n",
        "train_docs = df[df['set'] == 'train']['sent_concat'].to_list()\n",
        "train_input_ids, train_attention_masks = tokenize(train_docs)\n",
        "\n",
        "# validation (dev)\n",
        "dev_docs = df[df['set'] == 'dev']['sent_concat'].to_list()\n",
        "dev_input_ids, dev_attention_masks = tokenize(dev_docs)\n",
        "\n",
        "# test\n",
        "test_docs = df[df['set'] == 'test']['sent_concat'].to_list()\n",
        "test_input_ids, test_attention_masks = tokenize(test_docs)"
      ],
      "metadata": {
        "colab": {
          "base_uri": "https://localhost:8080/"
        },
        "id": "XpX9SRIZ27CI",
        "outputId": "eab26cf7-3a18-4ba2-c4f9-b17557efa18e"
      },
      "execution_count": null,
      "outputs": [
        {
          "output_type": "stream",
          "name": "stderr",
          "text": [
            "100%|██████████| 11060/11060 [00:05<00:00, 2014.31it/s]\n",
            "100%|██████████| 1355/1355 [00:00<00:00, 1942.66it/s]\n",
            "100%|██████████| 1380/1380 [00:00<00:00, 2069.65it/s]\n"
          ]
        }
      ]
    },
    {
      "cell_type": "markdown",
      "source": [
        "Create `torch` datasets and dataloaders to conveniently load the data into the model"
      ],
      "metadata": {
        "id": "kicONCsgBWGq"
      }
    },
    {
      "cell_type": "code",
      "source": [
        "# train\n",
        "train_labels = torch.tensor(df[df['set'] == 'train']['label'].to_list())\n",
        "train_dataset = TensorDataset(train_input_ids, train_attention_masks, train_labels)\n",
        "\n",
        "# validation (dev)\n",
        "dev_labels = torch.tensor(df[df['set'] == 'dev']['label'].to_list())\n",
        "validation_dataset = TensorDataset(dev_input_ids, dev_attention_masks, dev_labels)\n",
        "\n",
        "# test\n",
        "test_labels = torch.tensor(df[df['set'] == 'test']['label'].to_list())\n",
        "test_dataset = TensorDataset(test_input_ids, test_attention_masks, test_labels)"
      ],
      "metadata": {
        "id": "aD6ZZeaTBKyp"
      },
      "execution_count": null,
      "outputs": []
    },
    {
      "cell_type": "code",
      "source": [
        "batch_size = 16\n",
        "\n",
        "# train\n",
        "train_dataloader = DataLoader(\n",
        "            train_dataset,\n",
        "            sampler=RandomSampler(train_dataset),  # Select batches randomly\n",
        "            batch_size=batch_size\n",
        "        )\n",
        "\n",
        "# validation (dev)\n",
        "validation_dataloader = DataLoader(\n",
        "            validation_dataset,\n",
        "            sampler=SequentialSampler(validation_dataset),  # Pull out batches sequentially\n",
        "            batch_size=batch_size\n",
        "        )\n",
        "\n",
        "# test\n",
        "test_dataloader = DataLoader(\n",
        "            test_dataset,\n",
        "            sampler=SequentialSampler(test_dataset),  # Pull out batches sequentially\n",
        "            batch_size=batch_size\n",
        "        )\n",
        "\n",
        "print(f'train:  {len(train_dataset)} data points, {len(train_dataloader)} batches')\n",
        "print(f'validation (dev): {len(validation_dataset)} data points, {len(validation_dataloader)} batches')\n",
        "print(f'test: {len(test_dataset)} data points, {len(test_dataloader)} batches')"
      ],
      "metadata": {
        "colab": {
          "base_uri": "https://localhost:8080/"
        },
        "id": "SxpHEe-GBucZ",
        "outputId": "a54a2f44-b8fa-4d05-b4a0-d8366388bf52"
      },
      "execution_count": null,
      "outputs": [
        {
          "output_type": "stream",
          "name": "stdout",
          "text": [
            "train:  11060 data points, 692 batches\n",
            "validation (dev): 1355 data points, 85 batches\n",
            "test: 1380 data points, 87 batches\n"
          ]
        }
      ]
    },
    {
      "cell_type": "markdown",
      "source": [
        "# Model\n",
        "\n",
        "With the data at the ready, we load the pre-trained model of choice"
      ],
      "metadata": {
        "id": "m8R0qWGTMq7b"
      }
    },
    {
      "cell_type": "code",
      "source": [
        "match model_name:\n",
        "    case \"BERT\":\n",
        "        from transformers import BertForSequenceClassification\n",
        "    case \"DeBERTa\":\n",
        "        from transformers import DebertaForSequenceClassification\n",
        "    case \"RoBERTa\":\n",
        "        from transformers import RobertaForSequenceClassification\n",
        "    case \"MPNet\":\n",
        "        from transformers import MPNetForSequenceClassification\n",
        "    case _:\n",
        "        from transformers import BertForSequenceClassification\n",
        "\n",
        "from transformers import get_linear_schedule_with_warmup\n",
        "from torch.optim import AdamW"
      ],
      "metadata": {
        "id": "CFRe0vXPhFOh"
      },
      "execution_count": null,
      "outputs": []
    },
    {
      "cell_type": "code",
      "source": [
        "match model_name:\n",
        "    case \"BERT\":\n",
        "        model = BertForSequenceClassification.from_pretrained(\n",
        "            \"bert-base-uncased\",\n",
        "            num_labels = 3,\n",
        "            output_attentions = False,\n",
        "            output_hidden_states = False,\n",
        "        )\n",
        "    case \"DeBERTa\":\n",
        "        model = DebertaForSequenceClassification.from_pretrained(\n",
        "            \"microsoft/deberta-base\",\n",
        "            num_labels = 3,\n",
        "            output_attentions = False,\n",
        "            output_hidden_states = False,\n",
        "        )\n",
        "    case \"RoBERTa\":\n",
        "        model = RobertaForSequenceClassification.from_pretrained(\n",
        "            \"roberta-base\",\n",
        "            num_labels = 3,\n",
        "            output_attentions = False,\n",
        "            output_hidden_states = False,\n",
        "        )\n",
        "    case \"MPNet\":\n",
        "        model = MPNetForSequenceClassification.from_pretrained(\n",
        "            \"microsoft/mpnet-base\",\n",
        "            num_labels = 3,\n",
        "            output_attentions = False,\n",
        "            output_hidden_states = False,\n",
        "        )\n",
        "    case _:\n",
        "        model = BertForSequenceClassification.from_pretrained(\n",
        "            \"bert-base-uncased\",\n",
        "            num_labels = 3,\n",
        "            output_attentions = False,\n",
        "            output_hidden_states = False,\n",
        "        )\n",
        "model.to(device);"
      ],
      "metadata": {
        "id": "0QB_TDLUhHgg",
        "colab": {
          "base_uri": "https://localhost:8080/"
        },
        "outputId": "5d09daf5-dab8-4ed5-8e48-21cbce37193b"
      },
      "execution_count": null,
      "outputs": [
        {
          "output_type": "stream",
          "name": "stderr",
          "text": [
            "Some weights of MPNetForSequenceClassification were not initialized from the model checkpoint at microsoft/mpnet-base and are newly initialized: ['classifier.dense.bias', 'classifier.dense.weight', 'classifier.out_proj.bias', 'classifier.out_proj.weight']\n",
            "You should probably TRAIN this model on a down-stream task to be able to use it for predictions and inference.\n"
          ]
        }
      ]
    },
    {
      "cell_type": "markdown",
      "source": [
        "Or load one of our fine-tuned models for testing"
      ],
      "metadata": {
        "id": "vIZKy8_I6DIo"
      }
    },
    {
      "cell_type": "code",
      "source": [
        "base_filename = 'MPNet_18_ep3_full_seed42'\n",
        "model = torch.load(f'{mount}/models/{model_name}/{base_filename}.pt')\n",
        "model.to(device)\n",
        "model.eval();"
      ],
      "metadata": {
        "id": "lochVL1O5Vzc"
      },
      "execution_count": null,
      "outputs": []
    },
    {
      "cell_type": "markdown",
      "source": [
        "Initialize `AdamW` optimizer and learning rate scheduler. We are going to train for 3 epochs"
      ],
      "metadata": {
        "id": "i2JEeLPMhbhH"
      }
    },
    {
      "cell_type": "code",
      "source": [
        "optimizer = AdamW(model.parameters(),\n",
        "                  lr = 2e-5,\n",
        "                  eps = 1e-8  # default\n",
        "                )"
      ],
      "metadata": {
        "id": "j9Kd8sZVMQ_k"
      },
      "execution_count": null,
      "outputs": []
    },
    {
      "cell_type": "code",
      "source": [
        "epochs = 3\n",
        "\n",
        "total_steps = len(train_dataloader) * epochs\n",
        "scheduler = get_linear_schedule_with_warmup(optimizer,\n",
        "                                            num_warmup_steps = 0, # Default value in run_glue.py\n",
        "                                            num_training_steps = total_steps)"
      ],
      "metadata": {
        "id": "Lq5bmoTkMcwc"
      },
      "execution_count": null,
      "outputs": []
    },
    {
      "cell_type": "markdown",
      "source": [
        "We will use macro F1 to evaluate intermediate results"
      ],
      "metadata": {
        "id": "jSAmj17mjd-r"
      }
    },
    {
      "cell_type": "code",
      "source": [
        "def flat_f1_score(y_true, y_pred, average='macro'):\n",
        "  y_pred = np.argmax(y_pred, axis=1).flatten()\n",
        "  return f1_score(y_true, y_pred, average=average)"
      ],
      "metadata": {
        "id": "X83DVxX4SZgt"
      },
      "execution_count": null,
      "outputs": []
    },
    {
      "cell_type": "markdown",
      "source": [
        "# Training\n",
        "\n",
        "And now we are ready to train. We are going to run validation on the dev set after every epoch and gather the statistics."
      ],
      "metadata": {
        "id": "6fVThWBKMwJX"
      }
    },
    {
      "cell_type": "markdown",
      "source": [
        "## Training loop"
      ],
      "metadata": {
        "id": "j1CaNSvWoVBM"
      }
    },
    {
      "cell_type": "code",
      "source": [
        "training_stats = []\n",
        "total_t0 = time.time()\n",
        "\n",
        "for epoch_i in range(0, epochs):\n",
        "    # training\n",
        "    print(\"\")\n",
        "    print('======== Epoch {:} / {:} ========'.format(epoch_i + 1, epochs))\n",
        "    print('Training...')\n",
        "\n",
        "    t0 = time.time()\n",
        "    total_train_loss = 0\n",
        "    model.train()\n",
        "\n",
        "    for step, batch in enumerate(train_dataloader):\n",
        "        b_input_ids = batch[0].to(device)\n",
        "        b_input_mask = batch[1].to(device)\n",
        "        b_labels = batch[2].to(device)\n",
        "\n",
        "        model.zero_grad()\n",
        "        output = model(b_input_ids,\n",
        "                        attention_mask=b_input_mask,\n",
        "                         labels=b_labels)\n",
        "        loss, logits = output.loss, output.logits\n",
        "\n",
        "        total_train_loss += loss.item()\n",
        "        loss.backward()\n",
        "        torch.nn.utils.clip_grad_norm_(model.parameters(), 1.0)\n",
        "        optimizer.step()\n",
        "        scheduler.step()\n",
        "\n",
        "        del batch\n",
        "        # break  # 1 batch run for sanity checks\n",
        "\n",
        "    avg_train_loss = total_train_loss / len(train_dataloader)\n",
        "    training_time = format_time(time.time() - t0)\n",
        "\n",
        "    print(\"\")\n",
        "    print(\"  Average training loss: {0:.2f}\".format(avg_train_loss))\n",
        "    print(\"  Training epoch took: {:}\".format(training_time))\n",
        "\n",
        "    # validation\n",
        "    print(\"\")\n",
        "    print(\"Validation...\")\n",
        "\n",
        "    t0 = time.time()\n",
        "    model.eval()\n",
        "    total_eval_f1 = 0\n",
        "    total_eval_loss = 0\n",
        "    nb_eval_steps = 0\n",
        "\n",
        "    for batch in validation_dataloader:\n",
        "        b_input_ids = batch[0].to(device)\n",
        "        b_input_mask = batch[1].to(device)\n",
        "        b_labels = batch[2].to(device)\n",
        "\n",
        "        with torch.no_grad():\n",
        "            output = model(b_input_ids,\n",
        "                                   attention_mask=b_input_mask,\n",
        "                                   labels=b_labels)\n",
        "        loss, logits = output.loss, output.logits\n",
        "        total_eval_loss += loss.item()\n",
        "        logits = logits.detach().cpu().numpy()\n",
        "        predictions = np.argmax(logits, axis=1).flatten()\n",
        "        b_labels = b_labels.to('cpu').numpy()\n",
        "\n",
        "        total_eval_f1 += f1_score(b_labels, predictions, average='macro')\n",
        "        del batch\n",
        "        # break  # 1 batch run for sanity checks\n",
        "\n",
        "    # Report the final accuracy for this validation run.\n",
        "    avg_val_f1 = total_eval_f1 / len(validation_dataloader)\n",
        "    print(\"  Macro F1: {0:.2f}\".format(avg_val_f1))\n",
        "\n",
        "    avg_val_loss = total_eval_loss / len(validation_dataloader)\n",
        "    validation_time = format_time(time.time() - t0)\n",
        "\n",
        "    print(\"  Validation Loss: {0:.2f}\".format(avg_val_loss))\n",
        "    print(\"  Validation took: {:}\".format(validation_time))\n",
        "\n",
        "    training_stats.append(\n",
        "        {\n",
        "            'epoch': epoch_i + 1,\n",
        "            'Training Loss': avg_train_loss,\n",
        "            'Valid. Loss': avg_val_loss,\n",
        "            'Valid. Macro F1.': avg_val_f1,\n",
        "            'Training Time': training_time,\n",
        "            'Validation Time': validation_time\n",
        "        }\n",
        "    )\n",
        "\n",
        "print(\"\")\n",
        "print(\"Training complete!\")\n",
        "\n",
        "print(\"Total training took {:} (h:mm:ss)\".format(format_time(time.time()-total_t0)))"
      ],
      "metadata": {
        "colab": {
          "base_uri": "https://localhost:8080/"
        },
        "id": "4E2X5wksMxvW",
        "outputId": "d26a9e07-6a19-41d2-a342-4b1fb821ae52"
      },
      "execution_count": null,
      "outputs": [
        {
          "output_type": "stream",
          "name": "stdout",
          "text": [
            "\n",
            "======== Epoch 1 / 3 ========\n",
            "Training...\n",
            "\n",
            "  Average training loss: 0.67\n",
            "  Training epoch took: 0:02:09\n",
            "\n",
            "Validation...\n",
            "  Macro F1: 0.43\n",
            "  Validation Loss: 0.59\n",
            "  Validation took: 0:00:05\n",
            "\n",
            "======== Epoch 2 / 3 ========\n",
            "Training...\n",
            "\n",
            "  Average training loss: 0.57\n",
            "  Training epoch took: 0:02:12\n",
            "\n",
            "Validation...\n",
            "  Macro F1: 0.50\n",
            "  Validation Loss: 0.56\n",
            "  Validation took: 0:00:05\n",
            "\n",
            "======== Epoch 3 / 3 ========\n",
            "Training...\n",
            "\n",
            "  Average training loss: 0.51\n",
            "  Training epoch took: 0:02:12\n",
            "\n",
            "Validation...\n",
            "  Macro F1: 0.50\n",
            "  Validation Loss: 0.55\n",
            "  Validation took: 0:00:05\n",
            "\n",
            "Training complete!\n",
            "Total training took 0:06:48 (h:mm:ss)\n"
          ]
        }
      ]
    },
    {
      "cell_type": "markdown",
      "source": [
        "## Training stats\n",
        "\n",
        "Let's see how the training panned out. The plot shows the average training and validation losses of a given epoch against the epoch number. In this case, we can see that the model went into overfitting after epoch 2."
      ],
      "metadata": {
        "id": "VDjJ0clMlSp5"
      }
    },
    {
      "cell_type": "code",
      "source": [
        "training_stats = pd.DataFrame(data=training_stats)\n",
        "\n",
        "sns.set(font_scale=1.5)\n",
        "plt.rcParams[\"figure.figsize\"] = (8,4)\n",
        "\n",
        "plt.plot(training_stats['epoch'], training_stats['Training Loss'], 'b-o', label=\"Training\");\n",
        "plt.plot(training_stats['epoch'], training_stats['Valid. Loss'], 'g-o', label=\"Validation\");\n",
        "\n",
        "plt.title(\"Training & Validation Loss\");\n",
        "plt.xlabel(\"Epoch\");\n",
        "plt.ylabel(\"Loss\");\n",
        "plt.legend();\n",
        "plt.xticks(range(1, epochs + 1));\n",
        "\n",
        "plt.show()"
      ],
      "metadata": {
        "colab": {
          "base_uri": "https://localhost:8080/",
          "height": 438
        },
        "id": "yt59PYoyZMp3",
        "outputId": "fa34902d-7332-426a-cebf-bf7ddc8cf6b1"
      },
      "execution_count": null,
      "outputs": [
        {
          "output_type": "display_data",
          "data": {
            "text/plain": [
              "<Figure size 800x400 with 1 Axes>"
            ],
            "image/png": "[encoded data removed]"
          },
          "metadata": {}
        }
      ]
    },
    {
      "cell_type": "markdown",
      "source": [
        "## Save the model"
      ],
      "metadata": {
        "id": "YlbL3tW1_c_E"
      }
    },
    {
      "cell_type": "code",
      "source": [
        "os.makedirs(f'{mount}/models/{model_name}', exist_ok=True)\n",
        "base_filename = f\"{model_name}_{run_ID}_ep{epochs}_\"\n",
        "if balance:\n",
        "    base_filename += \"balanced\"\n",
        "else:\n",
        "    base_filename += \"full\"\n",
        "base_filename += f\"_seed{seed_val}\"\n",
        "print(base_filename)"
      ],
      "metadata": {
        "colab": {
          "base_uri": "https://localhost:8080/"
        },
        "id": "TirCtDA8tIKH",
        "outputId": "b9586b3c-eb96-40d2-cdc2-80f526319216"
      },
      "execution_count": null,
      "outputs": [
        {
          "output_type": "stream",
          "name": "stdout",
          "text": [
            "MPNet_18_ep3_full_seed42\n"
          ]
        }
      ]
    },
    {
      "cell_type": "code",
      "source": [
        "filename = f'{mount}/models/{model_name}/{base_filename}.pt'\n",
        "print(filename)\n",
        "torch.save(model, filename)"
      ],
      "metadata": {
        "colab": {
          "base_uri": "https://localhost:8080/"
        },
        "id": "ncTmQqs5_eka",
        "outputId": "265abd41-96bf-44ba-c492-479a41cac0c5"
      },
      "execution_count": null,
      "outputs": [
        {
          "output_type": "stream",
          "name": "stdout",
          "text": [
            "/content/drive/MyDrive/Uni Stuttgart/Plausibility/models/MPNet/MPNet_18_ep3_full_seed42.pt\n"
          ]
        }
      ]
    },
    {
      "cell_type": "markdown",
      "source": [
        "# Validation\n",
        "\n",
        "Run validation to compare performance to the one reported in the Adept paper"
      ],
      "metadata": {
        "id": "pZNsz937oQgT"
      }
    },
    {
      "cell_type": "code",
      "source": [
        "dev_set_predictions, dev_set_proba = [], []\n",
        "\n",
        "for batch in tqdm(validation_dataloader):\n",
        "        b_input_ids = batch[0].to(device)\n",
        "        b_input_mask = batch[1].to(device)\n",
        "        b_labels = batch[2].to(device)\n",
        "\n",
        "        with torch.no_grad():\n",
        "            output = model(b_input_ids,\n",
        "                          attention_mask=b_input_mask,\n",
        "                          labels=b_labels)\n",
        "        loss, logits = output.loss, output.logits\n",
        "\n",
        "        pred_proba = softmax(logits, dim=-1).detach().cpu().numpy()  # pred class probabilities\n",
        "        predictions = np.argmax(logits.detach().cpu().numpy(), axis=1).flatten()   # pred class labels\n",
        "        dev_set_predictions.append(predictions)\n",
        "        dev_set_proba.append(pred_proba)\n",
        "\n",
        "        del batch\n",
        "\n",
        "dev_set_predictions = np.concatenate(dev_set_predictions, axis=0)\n",
        "dev_set_proba = np.concatenate(dev_set_proba, axis=0)"
      ],
      "metadata": {
        "colab": {
          "base_uri": "https://localhost:8080/"
        },
        "id": "OnxdNtnvoZLz",
        "outputId": "cdb68e05-d98b-47d9-b9b5-5c6026f0a41d"
      },
      "execution_count": null,
      "outputs": [
        {
          "output_type": "stream",
          "name": "stderr",
          "text": [
            "100%|██████████| 85/85 [00:04<00:00, 17.05it/s]\n"
          ]
        }
      ]
    },
    {
      "cell_type": "markdown",
      "source": [
        "# Testing\n",
        "\n",
        "Run the model on the test set for an final independent evaluation"
      ],
      "metadata": {
        "id": "nqNNLdi87baQ"
      }
    },
    {
      "cell_type": "code",
      "source": [
        "test_set_predictions, test_set_proba = [], []\n",
        "\n",
        "for batch in tqdm(test_dataloader):\n",
        "        b_input_ids = batch[0].to(device)\n",
        "        b_input_mask = batch[1].to(device)\n",
        "        b_labels = batch[2].to(device)\n",
        "\n",
        "        with torch.no_grad():\n",
        "            output = model(b_input_ids,\n",
        "                          attention_mask=b_input_mask,\n",
        "                          labels=b_labels)\n",
        "        loss, logits = output.loss, output.logits\n",
        "\n",
        "        pred_proba = softmax(logits, dim=-1).detach().cpu().numpy()  # pred class probabilities\n",
        "        predictions = np.argmax(logits.detach().cpu().numpy(), axis=1).flatten()   # pred class labels\n",
        "        test_set_predictions.append(predictions)\n",
        "        test_set_proba.append(pred_proba)\n",
        "\n",
        "        del batch\n",
        "\n",
        "test_set_predictions = np.concatenate(test_set_predictions, axis=0)\n",
        "test_set_proba = np.concatenate(test_set_proba, axis=0)"
      ],
      "metadata": {
        "colab": {
          "base_uri": "https://localhost:8080/"
        },
        "outputId": "c99a6490-b84e-4954-eaa8-c192398ebdf0",
        "id": "H4Eo1MW07baR"
      },
      "execution_count": null,
      "outputs": [
        {
          "output_type": "stream",
          "name": "stderr",
          "text": [
            "100%|██████████| 87/87 [00:05<00:00, 15.00it/s]\n"
          ]
        }
      ]
    },
    {
      "cell_type": "code",
      "source": [
        "os.makedirs(f'{mount}/test_results', exist_ok=True)"
      ],
      "metadata": {
        "id": "avM8eNJ2gkfj"
      },
      "execution_count": null,
      "outputs": []
    },
    {
      "cell_type": "code",
      "source": [
        "label_proba_df = pd.DataFrame(test_set_proba, columns=[f'proba_{i}' for i in range(3)])\n",
        "label_proba_df['label'] = pd.Series(df[df['set'] == 'test']['label'].to_list())\n",
        "label_proba_df.to_csv(f'{mount}/test_results/{base_filename}_test_set_results.csv', index=False)"
      ],
      "metadata": {
        "id": "Rg6-fJVJf8Kp"
      },
      "execution_count": null,
      "outputs": []
    },
    {
      "cell_type": "markdown",
      "source": [
        "# Plots & Statistics"
      ],
      "metadata": {
        "id": "JeJ0o3fRndhK"
      }
    },
    {
      "cell_type": "markdown",
      "source": [
        "## Heatmap"
      ],
      "metadata": {
        "id": "8QCj866f_bQO"
      }
    },
    {
      "cell_type": "markdown",
      "source": [
        "The authors of the original ADEPT paper plot the confusion matrix to illustrate the performance on the development (validation) set (see p. 7124, fig. 2 & 3). To compare our results to theirs, we will plot a confusion matrix as well"
      ],
      "metadata": {
        "id": "D_rl3DNZn2pK"
      }
    },
    {
      "cell_type": "code",
      "source": [
        "# normalize='all' -- same as in Adept paper\n",
        "# normalize='true' -- normalize along rows\n",
        "norm_setting = 'true'\n",
        "\n",
        "dev_conf_matr = confusion_matrix(df[df['set'] == 'dev']['label'].to_list(), dev_set_predictions,\n",
        "                                 normalize=norm_setting)\n",
        "dev_conf_matr = pd.DataFrame(dev_conf_matr, columns=['Less likely', 'Equally likely', 'More likely'],\n",
        "                             index=['Less likely', 'Equally likely', 'More likely'])"
      ],
      "metadata": {
        "id": "-6Ivjiahn9aF"
      },
      "execution_count": null,
      "outputs": []
    },
    {
      "cell_type": "code",
      "source": [
        "sns.heatmap(dev_conf_matr, cmap='crest', annot=True, fmt=\".1%\");\n",
        "plt.title(f\"\"\"{model_name} for sequence classification fine tuned on comparison classes\n",
        "Run ID: {run_ID}; dev set\n",
        "(conf matrix normalize={norm_setting})\"\"\");\n",
        "plt.ylabel('Actual');\n",
        "plt.xlabel('Predicted');"
      ],
      "metadata": {
        "colab": {
          "base_uri": "https://localhost:8080/",
          "height": 513
        },
        "id": "68nwnNiUpriE",
        "outputId": "2b80b214-172d-468c-e883-ce32aeba7653"
      },
      "execution_count": null,
      "outputs": [
        {
          "output_type": "display_data",
          "data": {
            "text/plain": [
              "<Figure size 800x400 with 2 Axes>"
            ],
            "image/png": "[encoded data removed]"
          },
          "metadata": {}
        }
      ]
    },
    {
      "cell_type": "markdown",
      "source": [
        "## F1"
      ],
      "metadata": {
        "id": "uPYaqEIa_dmu"
      }
    },
    {
      "cell_type": "markdown",
      "source": [
        "To otherwise evaluate the performance, we use macro F1 score, weighted F1 score and one-vs-all class-wise F1 scores"
      ],
      "metadata": {
        "id": "TcEiNUAAt7t0"
      }
    },
    {
      "cell_type": "code",
      "source": [
        "dev_labels = df[df['set'] == 'dev']['label'].to_list()\n",
        "test_labels = df[df['set'] == 'test']['label'].to_list()"
      ],
      "metadata": {
        "id": "4iAqmxvt9q6w"
      },
      "execution_count": null,
      "outputs": []
    },
    {
      "cell_type": "code",
      "source": [
        "macro_f1_dev = f1_score(dev_labels, dev_set_predictions, average='macro')\n",
        "macro_f1_test = f1_score(test_labels, test_set_predictions, average='macro')\n",
        "print(f'Dev set: macro F1 = {macro_f1_dev:.2f}')\n",
        "print(f'Test set: macro F1 = {macro_f1_test:.2f}')"
      ],
      "metadata": {
        "colab": {
          "base_uri": "https://localhost:8080/"
        },
        "id": "MS3M7hTjt9w9",
        "outputId": "6479d3a7-c4a2-4a20-91e4-0f9b956457b2"
      },
      "execution_count": null,
      "outputs": [
        {
          "output_type": "stream",
          "name": "stdout",
          "text": [
            "Dev set: macro F1 = 0.55\n",
            "Test set: macro F1 = 0.57\n"
          ]
        }
      ]
    },
    {
      "cell_type": "markdown",
      "source": [
        "Weighted F1 --- better avoid"
      ],
      "metadata": {
        "id": "vWx8oc9p3mQa"
      }
    },
    {
      "cell_type": "code",
      "source": [
        "weighted_f1_dev = f1_score(dev_labels, dev_set_predictions, average='weighted')\n",
        "weighted_f1_test = f1_score(test_labels, test_set_predictions, average='weighted')\n",
        "print(f'Dev set: weighted F1 = {weighted_f1_dev:.2f}')\n",
        "print(f'Test set: weighted F1 = {weighted_f1_test:.2f}')"
      ],
      "metadata": {
        "colab": {
          "base_uri": "https://localhost:8080/"
        },
        "id": "qGRnCUtf3FY5",
        "outputId": "033c49f8-3895-489e-d141-1a7c422a98a0"
      },
      "execution_count": null,
      "outputs": [
        {
          "output_type": "stream",
          "name": "stdout",
          "text": [
            "Dev set: weighted F1 = 0.61\n",
            "Test set: weighted F1 = 0.61\n"
          ]
        }
      ]
    },
    {
      "cell_type": "markdown",
      "source": [
        "F1 \"one vs all\" for each class"
      ],
      "metadata": {
        "id": "kX0mnu5RpfiU"
      }
    },
    {
      "cell_type": "code",
      "source": [
        "def f1_one_vs_all(true, pred, class_label):\n",
        "  true = [0 if v != class_label else 1 for v in true]\n",
        "  pred = [0 if v != class_label else 1 for v in pred]\n",
        "  return f1_score(true, pred)"
      ],
      "metadata": {
        "id": "w4Uqo_r0ptSp"
      },
      "execution_count": null,
      "outputs": []
    },
    {
      "cell_type": "code",
      "source": [
        "f1_less, f1_eq, f1_more = f1_one_vs_all(dev_labels, dev_set_predictions, class_label=0), \\\n",
        "                          f1_one_vs_all(dev_labels, dev_set_predictions, class_label=1), \\\n",
        "                          f1_one_vs_all(dev_labels, dev_set_predictions, class_label=2)\n",
        "f1_less, f1_eq, f1_more\n",
        "print(f\"\"\"Dev set: one-vs-all F1\n",
        "1: {f1_less:.2f}\n",
        "2: {f1_eq:.2f}\n",
        "3: {f1_more:.2f}\n",
        "\"\"\")\n",
        "\n",
        "f1_less, f1_eq, f1_more = f1_one_vs_all(test_labels, test_set_predictions, class_label=0), \\\n",
        "                          f1_one_vs_all(test_labels, test_set_predictions, class_label=1), \\\n",
        "                          f1_one_vs_all(test_labels, test_set_predictions, class_label=2)\n",
        "f1_less, f1_eq, f1_more\n",
        "print(f\"\"\"Test set: one-vs-all F1\n",
        "1: {f1_less:.2f}\n",
        "2: {f1_eq:.2f}\n",
        "3: {f1_more:.2f}\"\"\")"
      ],
      "metadata": {
        "colab": {
          "base_uri": "https://localhost:8080/"
        },
        "id": "xbbDHmR6pi6J",
        "outputId": "b6ad02c8-79db-4ec3-eb86-886218a8b22a"
      },
      "execution_count": null,
      "outputs": [
        {
          "output_type": "stream",
          "name": "stdout",
          "text": [
            "Dev set: one-vs-all F1\n",
            "1: 0.51\n",
            "2: 0.88\n",
            "3: 0.27\n",
            "\n",
            "Test set: one-vs-all F1\n",
            "1: 0.47\n",
            "2: 0.88\n",
            "3: 0.35\n"
          ]
        }
      ]
    },
    {
      "cell_type": "markdown",
      "source": [
        "## ROC AUC"
      ],
      "metadata": {
        "id": "8pQHBTGt62Kr"
      }
    },
    {
      "cell_type": "markdown",
      "source": [
        "ROC-AUC One-Vs-One"
      ],
      "metadata": {
        "id": "YN7Cm_EoT7P0"
      }
    },
    {
      "cell_type": "code",
      "source": [
        "roc_auc_dev = roc_auc_score(dev_labels, dev_set_proba, average='macro', multi_class='ovo')\n",
        "roc_auc_test = roc_auc_score(test_labels, test_set_proba, average='macro', multi_class='ovo')\n",
        "\n",
        "print(f'Dev set: ROC-AUC = {roc_auc_dev:.2f}')\n",
        "print(f'Test set: ROC-AUC = {roc_auc_test:.2f}')"
      ],
      "metadata": {
        "colab": {
          "base_uri": "https://localhost:8080/"
        },
        "id": "ywOVrT4AUFy4",
        "outputId": "78308749-d81a-4a47-dc1f-dad1d21728ea"
      },
      "execution_count": null,
      "outputs": [
        {
          "output_type": "stream",
          "name": "stdout",
          "text": [
            "Dev set: ROC-AUC = 0.77\n",
            "Test set: ROC-AUC = 0.75\n"
          ]
        }
      ]
    },
    {
      "cell_type": "markdown",
      "source": [
        "ROC curve"
      ],
      "metadata": {
        "id": "qcw_pCY87A0x"
      }
    },
    {
      "cell_type": "code",
      "source": [
        "!pip freeze | grep scikit-learn"
      ],
      "metadata": {
        "colab": {
          "base_uri": "https://localhost:8080/"
        },
        "id": "Rf2bsfwlKMXD",
        "outputId": "171ade4e-f175-4097-cf40-a56a4d4d8e9d"
      },
      "execution_count": null,
      "outputs": [
        {
          "output_type": "stream",
          "name": "stdout",
          "text": [
            "scikit-learn==1.2.2\n"
          ]
        }
      ]
    },
    {
      "cell_type": "code",
      "source": [
        "!pip install scikit-learn -U"
      ],
      "metadata": {
        "colab": {
          "base_uri": "https://localhost:8080/",
          "height": 384
        },
        "id": "APHts0AEHvVu",
        "outputId": "e09902ae-21ae-4595-887a-2159f769463d"
      },
      "execution_count": null,
      "outputs": [
        {
          "output_type": "stream",
          "name": "stdout",
          "text": [
            "Requirement already satisfied: scikit-learn in /usr/local/lib/python3.10/dist-packages (1.2.2)\n",
            "Collecting scikit-learn\n",
            "  Downloading scikit_learn-1.4.0-1-cp310-cp310-manylinux_2_17_x86_64.manylinux2014_x86_64.whl (12.1 MB)\n",
            "\u001b[2K     \u001b[90m━━━━━━━━━━━━━━━━━━━━━━━━━━━━━━━━━━━━━━━━\u001b[0m \u001b[32m12.1/12.1 MB\u001b[0m \u001b[31m31.9 MB/s\u001b[0m eta \u001b[36m0:00:00\u001b[0m\n",
            "\u001b[?25hRequirement already satisfied: numpy<2.0,>=1.19.5 in /usr/local/lib/python3.10/dist-packages (from scikit-learn) (1.23.5)\n",
            "Requirement already satisfied: scipy>=1.6.0 in /usr/local/lib/python3.10/dist-packages (from scikit-learn) (1.11.4)\n",
            "Requirement already satisfied: joblib>=1.2.0 in /usr/local/lib/python3.10/dist-packages (from scikit-learn) (1.3.2)\n",
            "Requirement already satisfied: threadpoolctl>=2.0.0 in /usr/local/lib/python3.10/dist-packages (from scikit-learn) (3.2.0)\n",
            "Installing collected packages: scikit-learn\n",
            "  Attempting uninstall: scikit-learn\n",
            "    Found existing installation: scikit-learn 1.2.2\n",
            "    Uninstalling scikit-learn-1.2.2:\n",
            "      Successfully uninstalled scikit-learn-1.2.2\n",
            "Successfully installed scikit-learn-1.4.0\n"
          ]
        },
        {
          "output_type": "display_data",
          "data": {
            "application/vnd.colab-display-data+json": {
              "pip_warning": {
                "packages": [
                  "sklearn"
                ]
              }
            }
          },
          "metadata": {}
        }
      ]
    },
    {
      "cell_type": "code",
      "source": [
        "del sns\n",
        "import matplotlib.pyplot as plt\n",
        "from sklearn.metrics import RocCurveDisplay, roc_curve, auc, roc_auc_score"
      ],
      "metadata": {
        "id": "eI0tMsBh7CmF"
      },
      "execution_count": null,
      "outputs": []
    },
    {
      "cell_type": "code",
      "source": [
        "import warnings\n",
        "warnings.simplefilter(action='ignore', category=FutureWarning)\n",
        "\n",
        "import numpy as np\n",
        "import pandas as pd\n",
        "import os"
      ],
      "metadata": {
        "id": "Xad9gG3eQaBq"
      },
      "execution_count": null,
      "outputs": []
    },
    {
      "cell_type": "code",
      "source": [
        "def get_ovo_predictions(label_proba_df, c1, c2):\n",
        "  label_proba_df = label_proba_df[label_proba_df['label'].isin([c1, c2])]\n",
        "  label_proba_df['label'] = label_proba_df['label'].replace({c1: 1, c2: 0})\n",
        "\n",
        "  label_proba_df = label_proba_df[['label', f'proba_{c1}']]\n",
        "  label_proba_df = label_proba_df.rename(columns={\n",
        "      f'proba_{c1}': 'proba'\n",
        "  })\n",
        "\n",
        "  fpr, tpr, thresholds = roc_curve(label_proba_df['label'], label_proba_df['proba'])\n",
        "  return fpr, tpr"
      ],
      "metadata": {
        "id": "5kyYtNwCQ73m"
      },
      "execution_count": null,
      "outputs": []
    },
    {
      "cell_type": "code",
      "source": [
        "ovo_fpr, ovo_tpr = dict(), dict()\n",
        "fpr_grid = np.linspace(0.0, 1.0, 1000)\n",
        "\n",
        "for filename in os.listdir(test_res_dir):\n",
        "  df = pd.read_csv(f'{test_res_dir}/{filename}')\n",
        "  model_name = filename.split('_')\n",
        "  model_name = model_name[0] + ' ' + model_name[3]\n",
        "\n",
        "  ovo_fpr[model_name] = []\n",
        "  ovo_tpr[model_name] = []\n",
        "\n",
        "  for c1 in [0, 1, 2]:\n",
        "    for c2 in [0, 1, 2]:\n",
        "      if c1 == c2:\n",
        "        continue\n",
        "      fpr_c1_c2, tpr_c1_c2 = get_ovo_predictions(df, c1, c2)\n",
        "      ovo_fpr[model_name].append(fpr_c1_c2)\n",
        "      ovo_tpr[model_name].append(tpr_c1_c2)\n",
        "\n",
        "  mean_tpr = np.zeros_like(fpr_grid)\n",
        "  for i in range(6):\n",
        "    mean_tpr += np.interp(fpr_grid, ovo_fpr[model_name][i], ovo_tpr[model_name][i])\n",
        "  mean_tpr /= 6\n",
        "\n",
        "  ovo_fpr[model_name] = fpr_grid\n",
        "  ovo_tpr[model_name] = mean_tpr\n"
      ],
      "metadata": {
        "id": "lYqdnzNGt7Za"
      },
      "execution_count": null,
      "outputs": []
    },
    {
      "cell_type": "code",
      "source": [
        "fig, ax = plt.subplots(figsize=(6, 6))\n",
        "\n",
        "for model_name in ovo_fpr:\n",
        "  plt.plot(\n",
        "    ovo_fpr[model_name],\n",
        "    ovo_tpr[model_name],\n",
        "    label=f\"{model_name}\",\n",
        ")\n",
        "plt.plot([0, 1], [0, 1], '--', color='black');\n",
        "ax.legend();\n",
        "ax.set(\n",
        "        xlabel=\"False Positive Rate\",\n",
        "        ylabel=\"True Positive Rate\",\n",
        "        title=f\"Transformer models test set ROC curves (ovo macro average)\",\n",
        "        aspect='equal'\n",
        "    );"
      ],
      "metadata": {
        "colab": {
          "base_uri": "https://localhost:8080/",
          "height": 573
        },
        "id": "LIaocKc50bcH",
        "outputId": "5c098920-f040-4867-e7e8-444f28669805"
      },
      "execution_count": null,
      "outputs": [
        {
          "output_type": "display_data",
          "data": {
            "text/plain": [
              "<Figure size 600x600 with 1 Axes>"
            ],
            "image/png": "[encoded data removed]"
          },
          "metadata": {}
        }
      ]
    },
    {
      "cell_type": "code",
      "source": [
        "display = RocCurveDisplay.from_predictions(\n",
        "    ovo_labels,\n",
        "    ovo_proba,\n",
        "    name=f\"OVO ROC curve concatenated\",\n",
        "    color=\"darkorange\",\n",
        "    plot_chance_level=True,\n",
        ")\n",
        "_ = display.ax_.set(\n",
        "    xlabel=\"False Positive Rate\",\n",
        "    ylabel=\"True Positive Rate\",\n",
        "    title=\"OVO ROC curve concatenated\",\n",
        "    aspect=\"equal\",\n",
        ")"
      ],
      "metadata": {
        "colab": {
          "base_uri": "https://localhost:8080/",
          "height": 472
        },
        "id": "TLEzVQoZ66SE",
        "outputId": "2f22a4fa-44cd-4d12-dd82-f048891cbd18"
      },
      "execution_count": null,
      "outputs": [
        {
          "output_type": "display_data",
          "data": {
            "text/plain": [
              "<Figure size 640x480 with 1 Axes>"
            ],
            "image/png": "[encoded data removed]"
          },
          "metadata": {}
        }
      ]
    },
    {
      "cell_type": "markdown",
      "source": [
        "We will report and compare results obtained from different models in the final project documentation"
      ],
      "metadata": {
        "id": "c0nSQGmT-Xeb"
      }
    },
    {
      "cell_type": "markdown",
      "source": [
        "# Cross-balanced evaluation\n"
      ],
      "metadata": {
        "id": "Lp-_tLYKNFQq"
      }
    },
    {
      "cell_type": "markdown",
      "source": [
        "## Functions"
      ],
      "metadata": {
        "id": "RkGnOFFr0ysN"
      }
    },
    {
      "cell_type": "markdown",
      "source": [
        "Here we perform evaluation on the whole test set in chunks that contain the number of instances for each class.\n",
        "\n",
        "* The step is the number of intances for each class per iteration, equal to the smallest class\n",
        "\n",
        "* The method iterates over the instances in the three classes until all instances of the biggest class were seen.\n",
        "\n",
        "* This way, every instance in the test set is part of the evaluation.\n",
        "\n",
        "* An evaluation is done on each chunk, the resulting values are averaged to achieve results that are representative\n",
        "of the models performance on the whole test set without any bias caused by class imbalance."
      ],
      "metadata": {
        "id": "Z1PpWFFysGZn"
      }
    },
    {
      "cell_type": "code",
      "source": [
        "from sklearn.metrics import accuracy_score"
      ],
      "metadata": {
        "id": "G-Xann0RuWIH"
      },
      "execution_count": null,
      "outputs": []
    },
    {
      "cell_type": "code",
      "source": [
        "def evaluation(test_dataloader, device, model_name, model):\n",
        "    test_set_predictions, test_set_proba = [], []\n",
        "    for batch in test_dataloader:\n",
        "            b_input_ids = batch[0].to(device)\n",
        "            b_input_mask = batch[1].to(device)\n",
        "            b_labels = batch[2].to(device)\n",
        "\n",
        "            with torch.no_grad():\n",
        "                if 'MPNet' in model_name:\n",
        "                    output = model(b_input_ids,\n",
        "                                    attention_mask=b_input_mask,\n",
        "                                    labels=b_labels)\n",
        "                else:\n",
        "                    output = model(b_input_ids,\n",
        "                                    token_type_ids=None,\n",
        "                                    attention_mask=b_input_mask,\n",
        "                                    labels=b_labels)\n",
        "            loss, logits = output.loss, output.logits\n",
        "            pred_proba = softmax(logits, dim=-1).detach().cpu().numpy()  # pred class probabilities\n",
        "            predictions = np.argmax(logits.detach().cpu().numpy(), axis=1).flatten()   # pred class labels\n",
        "            test_set_predictions.append(predictions)\n",
        "            test_set_proba.append(pred_proba)\n",
        "\n",
        "            del batch\n",
        "\n",
        "    test_set_predictions = np.concatenate(test_set_predictions, axis=0)\n",
        "    test_set_proba = np.concatenate(test_set_proba, axis=0)\n",
        "    return test_set_predictions, test_set_proba"
      ],
      "metadata": {
        "id": "KqGW0eEGNM1k"
      },
      "execution_count": null,
      "outputs": []
    },
    {
      "cell_type": "markdown",
      "source": [
        "The crossvalidation function works on both sets (dev/ test), as specified in the dev_or_test variable"
      ],
      "metadata": {
        "id": "SRJJTKl2Nen4"
      }
    },
    {
      "cell_type": "code",
      "source": [
        "def crossvalidation(df, device, model_name, model, dev_or_test='test'):\n",
        "    if dev_or_test == 'test':\n",
        "        step = 101 # equal to the number of instances in the smallest class\n",
        "    else:\n",
        "        dev_or_test = 'dev'\n",
        "        step = 102\n",
        "    full_test_y_true = []\n",
        "    full_test_y_pred = []\n",
        "    all_macroF1 = 0\n",
        "    all_roc_auc = 0\n",
        "    all_label1_F1 = 0\n",
        "    all_label2_F2 = 0\n",
        "    all_label3_F3 = 0\n",
        "    all_accuracy = 0\n",
        "    iterations = 0\n",
        "    for i in tqdm(range(\n",
        "        1, len(df[df['set'] == dev_or_test].loc[(df['label'] == 1)]['label'].to_list())+1, step)):\n",
        "        # get df slices containing 101 entries for each label\n",
        "        new_df = df[df['set'] == dev_or_test].loc[(df['label'] == 0)][i:i+step]\n",
        "        new_df = pd.concat([new_df, df[df['set'] == dev_or_test].loc[(df['label'] == 1)][i:i+step]])\n",
        "        new_df = pd.concat([new_df, df[df['set'] == dev_or_test].loc[(df['label'] == 2)][i:i+step]])\n",
        "        for i in [0, 1, 2]:\n",
        "            if len(new_df.loc[(new_df['label'] == i)]['label'].to_list()) < step:\n",
        "                wrap_around = step - len(new_df.loc[(new_df['label'] == i)]['label'].to_list())\n",
        "                new_df = pd.concat([new_df, df[df['set'] == dev_or_test].loc[(df['label'] == i)][:wrap_around]])\n",
        "\n",
        "        # evaluation\n",
        "        test_docs = new_df['sent_concat'].to_list()\n",
        "        test_input_ids, test_attention_masks = tokenize(test_docs, with_tqdm=False)\n",
        "\n",
        "        test_labels = torch.tensor(new_df['label'].to_list())\n",
        "        test_dataset = TensorDataset(test_input_ids, test_attention_masks, test_labels)\n",
        "        test_dataloader = DataLoader(\n",
        "                    test_dataset,\n",
        "                    sampler=SequentialSampler(test_dataset),  # Pull out batches sequentially\n",
        "                    batch_size=batch_size\n",
        "                )\n",
        "\n",
        "        test_set_predictions, test_set_proba = evaluation(test_dataloader, device, model_name, model)\n",
        "        test_labels = new_df['label'].to_list()\n",
        "\n",
        "        full_test_y_true.extend(test_set_predictions)\n",
        "        full_test_y_pred.extend(test_labels)\n",
        "\n",
        "        macro_f1 = f1_score(test_labels, test_set_predictions, average='macro')\n",
        "        all_macroF1 += macro_f1\n",
        "        roc_auc_test = roc_auc_score(test_labels, test_set_proba, average='macro', multi_class='ovo')\n",
        "        all_roc_auc += roc_auc_test\n",
        "\n",
        "        f1_less, f1_eq, f1_more = f1_one_vs_all(test_labels, test_set_predictions, class_label=0), \\\n",
        "                                f1_one_vs_all(test_labels, test_set_predictions, class_label=1), \\\n",
        "                                f1_one_vs_all(test_labels, test_set_predictions, class_label=2)\n",
        "        all_label1_F1 += f1_less\n",
        "        all_label2_F2 += f1_eq\n",
        "        all_label3_F3 += f1_more\n",
        "\n",
        "        accuracy = accuracy_score(test_labels, test_set_predictions)\n",
        "        all_accuracy += accuracy\n",
        "\n",
        "        iterations += 1\n",
        "\n",
        "    print(\"\")\n",
        "    print(f\"{model_name} - {dev_or_test} set: average stats\")\n",
        "    avr_MacroF1 = all_macroF1 / iterations\n",
        "    avr_roc_auc = all_roc_auc / iterations\n",
        "    print(f\"macro F1: {avr_MacroF1:.3}\")\n",
        "    print(f\"auc-roc-score: {avr_roc_auc:.3}\")\n",
        "    avr_accuracy = all_accuracy / iterations\n",
        "    print(f'Accuracy: {avr_accuracy:.3f}')\n",
        "\n",
        "    avr_label1_F1 = all_label1_F1 / iterations\n",
        "    avr_label2_F2 = all_label2_F2 / iterations\n",
        "    avr_label3_F3 = all_label3_F3 / iterations\n",
        "    print(f'\\nclass-wise F1 scores')\n",
        "    print(f'1: {avr_label1_F1:.2f}\\n2: {avr_label2_F2:.2f}\\n3: {avr_label3_F3:.2f}')\n",
        "\n",
        "    # create confusion matrix\n",
        "    norm_setting = 'true'\n",
        "    test_conf_matr = confusion_matrix(full_test_y_true, full_test_y_pred, normalize=norm_setting)\n",
        "    test_conf_matr = pd.DataFrame(test_conf_matr, columns=['Less likely', 'Equally likely', 'More likely'],\n",
        "                                index=['Less likely', 'Equally likely', 'More likely'])\n",
        "    print(\"\")\n",
        "    print(\"True\\\\Predicted:\")\n",
        "    print(test_conf_matr)"
      ],
      "metadata": {
        "id": "44384NQZNtHT"
      },
      "execution_count": null,
      "outputs": []
    },
    {
      "cell_type": "markdown",
      "source": [
        "## Run cross validation"
      ],
      "metadata": {
        "id": "mhq1PRyf01As"
      }
    },
    {
      "cell_type": "markdown",
      "source": [
        "The fuction assumes the dataframe df includes the separator tokens (i.e. that tokenization has finished) and is not altered further afterwards. It also assumes that df includes the full test-/ devset, so no balancing should be applied before executing this function."
      ],
      "metadata": {
        "id": "MQVJ6W3cOTUd"
      }
    },
    {
      "cell_type": "code",
      "source": [
        "crossvalidation(df, device, model_name=base_filename, model=model, dev_or_test='dev')"
      ],
      "metadata": {
        "id": "kJ6tOA4AN0on",
        "colab": {
          "base_uri": "https://localhost:8080/"
        },
        "outputId": "a41e559e-b912-476c-89ab-8fc5827587de"
      },
      "execution_count": null,
      "outputs": [
        {
          "output_type": "stream",
          "name": "stderr",
          "text": [
            "100%|██████████| 11/11 [00:13<00:00,  1.27s/it]"
          ]
        },
        {
          "output_type": "stream",
          "name": "stdout",
          "text": [
            "\n",
            "MPNet_18_ep3_full_seed42 - dev set: average stats\n",
            "macro F1: 0.496\n",
            "auc-roc-score: 0.753\n",
            "Accuracy: 0.526\n",
            "\n",
            "class-wise F1 scores\n",
            "1: 0.61\n",
            "2: 0.57\n",
            "3: 0.31\n",
            "\n",
            "True\\Predicted:\n",
            "                Less likely  Equally likely  More likely\n",
            "Less likely        0.810164        0.107623     0.082212\n",
            "Equally likely     0.231566        0.417564     0.350870\n",
            "More likely        0.074205        0.148410     0.777385\n"
          ]
        },
        {
          "output_type": "stream",
          "name": "stderr",
          "text": [
            "\n"
          ]
        }
      ]
    }
  ]
}